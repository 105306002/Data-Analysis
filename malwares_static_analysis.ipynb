{
  "nbformat": 4,
  "nbformat_minor": 0,
  "metadata": {
    "colab": {
      "name": "HW04_105306002.ipynb",
      "provenance": [],
      "collapsed_sections": []
    },
    "kernelspec": {
      "name": "python3",
      "display_name": "Python 3"
    },
    "accelerator": "GPU"
  },
  "cells": [
    {
      "cell_type": "markdown",
      "metadata": {
        "id": "2H9wQu_0NlEu",
        "colab_type": "text"
      },
      "source": [
        "### HW04 Static Analysis\n",
        "\n",
        "Since we cannot share real malware binary with you. We give you the pefile analysis result (by calling pefile_dump() ) and save the result in a dictionary. You have to practice writing a parser before analyzing the given pefile dump file."
      ]
    },
    {
      "cell_type": "code",
      "metadata": {
        "id": "rznJAa_3_HN9",
        "colab_type": "code",
        "colab": {}
      },
      "source": [
        "import matplotlib.pyplot as plt\n",
        "import seaborn as sns"
      ],
      "execution_count": 0,
      "outputs": []
    },
    {
      "cell_type": "markdown",
      "metadata": {
        "id": "Up2lU-B8RRfE",
        "colab_type": "text"
      },
      "source": [
        "### Download data\n"
      ]
    },
    {
      "cell_type": "code",
      "metadata": {
        "id": "KaUYwIFuMPmc",
        "colab_type": "code",
        "outputId": "61db8412-1790-48ba-a50c-385f6e1adb9f",
        "colab": {
          "base_uri": "https://localhost:8080/",
          "height": 326
        }
      },
      "source": [
        "# Here is the dump dictionary.\n",
        "!wget https://drive.google.com/uc?id=1BTr1IDPhRF9WnFjXFwJWiqJ31qa-EWL9 -O pef_dumpdict_40.pickle"
      ],
      "execution_count": 2,
      "outputs": [
        {
          "output_type": "stream",
          "text": [
            "--2020-04-12 20:12:32--  https://drive.google.com/uc?id=1BTr1IDPhRF9WnFjXFwJWiqJ31qa-EWL9\n",
            "Resolving drive.google.com (drive.google.com)... 74.125.200.139, 74.125.200.113, 74.125.200.100, ...\n",
            "Connecting to drive.google.com (drive.google.com)|74.125.200.139|:443... connected.\n",
            "HTTP request sent, awaiting response... 302 Moved Temporarily\n",
            "Location: https://doc-08-38-docs.googleusercontent.com/docs/securesc/ha0ro937gcuc7l7deffksulhg5h7mbp1/jps8jc87ll11arnmja6dbt9doabthgg2/1586722350000/17174434063503717705/*/1BTr1IDPhRF9WnFjXFwJWiqJ31qa-EWL9 [following]\n",
            "Warning: wildcards not supported in HTTP.\n",
            "--2020-04-12 20:12:32--  https://doc-08-38-docs.googleusercontent.com/docs/securesc/ha0ro937gcuc7l7deffksulhg5h7mbp1/jps8jc87ll11arnmja6dbt9doabthgg2/1586722350000/17174434063503717705/*/1BTr1IDPhRF9WnFjXFwJWiqJ31qa-EWL9\n",
            "Resolving doc-08-38-docs.googleusercontent.com (doc-08-38-docs.googleusercontent.com)... 74.125.24.132, 2404:6800:4003:c03::84\n",
            "Connecting to doc-08-38-docs.googleusercontent.com (doc-08-38-docs.googleusercontent.com)|74.125.24.132|:443... connected.\n",
            "HTTP request sent, awaiting response... 200 OK\n",
            "Length: 414677 (405K) [application/octet-stream]\n",
            "Saving to: ‘pef_dumpdict_40.pickle’\n",
            "\n",
            "\rpef_dumpdict_40.pic   0%[                    ]       0  --.-KB/s               \rpef_dumpdict_40.pic 100%[===================>] 404.96K  --.-KB/s    in 0.003s  \n",
            "\n",
            "2020-04-12 20:12:33 (152 MB/s) - ‘pef_dumpdict_40.pickle’ saved [414677/414677]\n",
            "\n"
          ],
          "name": "stdout"
        }
      ]
    },
    {
      "cell_type": "code",
      "metadata": {
        "id": "VNGAPlU8MnJP",
        "colab_type": "code",
        "outputId": "0bb0ec7d-a71c-46b4-d4e9-86ccbae69415",
        "colab": {
          "base_uri": "https://localhost:8080/",
          "height": 136
        }
      },
      "source": [
        "# The size should be 414677 bytes.\n",
        "!ls -al"
      ],
      "execution_count": 3,
      "outputs": [
        {
          "output_type": "stream",
          "text": [
            "total 1496\n",
            "drwxr-xr-x 1 root root    4096 Apr 12 16:08 .\n",
            "drwxr-xr-x 1 root root    4096 Apr 12 16:06 ..\n",
            "drwxr-xr-x 1 root root    4096 Apr  9 16:10 .config\n",
            "-rw-r--r-- 1 root root  414677 Apr 12 20:12 pef_dumpdict_40.pickle\n",
            "-rw-r--r-- 1 root root 1096080 Sep 22  2019 putty32.exe\n",
            "drwxr-xr-x 1 root root    4096 Apr  3 16:24 sample_data\n"
          ],
          "name": "stdout"
        }
      ]
    },
    {
      "cell_type": "code",
      "metadata": {
        "id": "MovFVjB5M-RR",
        "colab_type": "code",
        "colab": {}
      },
      "source": [
        "# It is stored in a pickle file.\n",
        "# You can retrive it by using the following code.\n",
        "\n",
        "import pickle\n",
        "import os\n",
        "import json  \n",
        "\n",
        "with open(\"/content/pef_dumpdict_40.pickle\", 'rb') as fd:\n",
        "  pef_dumpdicts = pickle.load(fd)"
      ],
      "execution_count": 0,
      "outputs": []
    },
    {
      "cell_type": "code",
      "metadata": {
        "id": "9hhm-m_uvRIC",
        "colab_type": "code",
        "colab": {}
      },
      "source": [
        "import json\n",
        "with open(\"/content/pef_dumpdict_40.pickle\", 'rb') as fd:\n",
        "  pef_dumpdicts = pickle.load(fd)\n"
      ],
      "execution_count": 0,
      "outputs": []
    },
    {
      "cell_type": "code",
      "metadata": {
        "id": "I4hOkkvvzqD-",
        "colab_type": "code",
        "colab": {}
      },
      "source": [
        "def default(self, obj):\n",
        "  if isinstance(obj, bytes):\n",
        "    return obj.decode()\n",
        "  return json.JSONEncoder.default(self, obj)"
      ],
      "execution_count": 0,
      "outputs": []
    },
    {
      "cell_type": "code",
      "metadata": {
        "id": "AMMvg-h6zvoS",
        "colab_type": "code",
        "colab": {}
      },
      "source": [
        ""
      ],
      "execution_count": 0,
      "outputs": []
    },
    {
      "cell_type": "markdown",
      "metadata": {
        "id": "IMAk98E9NkTt",
        "colab_type": "text"
      },
      "source": [
        "### A dump file example\n"
      ]
    },
    {
      "cell_type": "code",
      "metadata": {
        "id": "xJ-CMLDDOaF4",
        "colab_type": "code",
        "outputId": "92cece4d-8b4a-4be0-b1a2-0256f6181f47",
        "colab": {
          "base_uri": "https://localhost:8080/",
          "height": 272
        }
      },
      "source": [
        "# Get a 32-bit putty pe file\n",
        "!wget https://the.earth.li/~sgtatham/putty/latest/w32/putty.exe -O putty32.exe"
      ],
      "execution_count": 7,
      "outputs": [
        {
          "output_type": "stream",
          "text": [
            "--2020-04-12 20:12:44--  https://the.earth.li/~sgtatham/putty/latest/w32/putty.exe\n",
            "Resolving the.earth.li (the.earth.li)... 93.93.131.124, 2a00:1098:86:4d:c0ff:ee:15:900d\n",
            "Connecting to the.earth.li (the.earth.li)|93.93.131.124|:443... connected.\n",
            "HTTP request sent, awaiting response... 302 Found\n",
            "Location: https://the.earth.li/~sgtatham/putty/0.73/w32/putty.exe [following]\n",
            "--2020-04-12 20:12:45--  https://the.earth.li/~sgtatham/putty/0.73/w32/putty.exe\n",
            "Reusing existing connection to the.earth.li:443.\n",
            "HTTP request sent, awaiting response... 200 OK\n",
            "Length: 1096080 (1.0M) [application/x-msdos-program]\n",
            "Saving to: ‘putty32.exe’\n",
            "\n",
            "putty32.exe         100%[===================>]   1.04M   627KB/s    in 1.7s    \n",
            "\n",
            "2020-04-12 20:12:47 (627 KB/s) - ‘putty32.exe’ saved [1096080/1096080]\n",
            "\n"
          ],
          "name": "stdout"
        }
      ]
    },
    {
      "cell_type": "code",
      "metadata": {
        "id": "UqhEYpAZOsUa",
        "colab_type": "code",
        "outputId": "3c39d15e-56c1-4aaa-c08d-f222a944c49b",
        "colab": {
          "base_uri": "https://localhost:8080/",
          "height": 51
        }
      },
      "source": [
        "!pip install pefile"
      ],
      "execution_count": 8,
      "outputs": [
        {
          "output_type": "stream",
          "text": [
            "Requirement already satisfied: pefile in /usr/local/lib/python3.6/dist-packages (2019.4.18)\n",
            "Requirement already satisfied: future in /usr/local/lib/python3.6/dist-packages (from pefile) (0.16.0)\n"
          ],
          "name": "stdout"
        }
      ]
    },
    {
      "cell_type": "code",
      "metadata": {
        "id": "fs6HbaIWOg4s",
        "colab_type": "code",
        "colab": {}
      },
      "source": [
        "import pefile\n",
        "\n",
        "pef = pefile.PE(\"/content/putty32.exe\", True)\n",
        "dump_dict = pef.dump_dict()"
      ],
      "execution_count": 0,
      "outputs": []
    },
    {
      "cell_type": "code",
      "metadata": {
        "id": "xIK5so31OxFe",
        "colab_type": "code",
        "outputId": "4b0eb578-0e21-4a0b-a098-da5ce82e0bac",
        "colab": {
          "base_uri": "https://localhost:8080/",
          "height": 54
        }
      },
      "source": [
        "# a pefile dump dictionary has some information\n",
        "# they are stored in different \"keys\"\n",
        "print(dump_dict.keys())"
      ],
      "execution_count": 10,
      "outputs": [
        {
          "output_type": "stream",
          "text": [
            "dict_keys(['DOS_HEADER', 'NT_HEADERS', 'FILE_HEADER', 'Flags', 'OPTIONAL_HEADER', 'DllCharacteristics', 'PE Sections', 'Directories', 'Version Information', 'Imported symbols', 'Resource directory', 'LOAD_CONFIG', 'Base relocations'])\n"
          ],
          "name": "stdout"
        }
      ]
    },
    {
      "cell_type": "code",
      "metadata": {
        "id": "PsIBxI-3O-3n",
        "colab_type": "code",
        "outputId": "026bc4b6-a49c-4b97-ac9b-77c4124b8839",
        "colab": {
          "base_uri": "https://localhost:8080/",
          "height": 54
        }
      },
      "source": [
        "# show one of the data in 'DOS_HEADER' key\n",
        "# and it looks like a python dictionary\n",
        "# you can put this data in a json or a dictionaary structure for further analysis\n",
        "print(dump_dict['DOS_HEADER'])"
      ],
      "execution_count": 11,
      "outputs": [
        {
          "output_type": "stream",
          "text": [
            "{'Structure': 'IMAGE_DOS_HEADER', 'e_magic': {'FileOffset': 0, 'Offset': 0, 'Value': 23117}, 'e_cblp': {'FileOffset': 2, 'Offset': 2, 'Value': 120}, 'e_cp': {'FileOffset': 4, 'Offset': 4, 'Value': 1}, 'e_crlc': {'FileOffset': 6, 'Offset': 6, 'Value': 0}, 'e_cparhdr': {'FileOffset': 8, 'Offset': 8, 'Value': 4}, 'e_minalloc': {'FileOffset': 10, 'Offset': 10, 'Value': 0}, 'e_maxalloc': {'FileOffset': 12, 'Offset': 12, 'Value': 0}, 'e_ss': {'FileOffset': 14, 'Offset': 14, 'Value': 0}, 'e_sp': {'FileOffset': 16, 'Offset': 16, 'Value': 0}, 'e_csum': {'FileOffset': 18, 'Offset': 18, 'Value': 0}, 'e_ip': {'FileOffset': 20, 'Offset': 20, 'Value': 0}, 'e_cs': {'FileOffset': 22, 'Offset': 22, 'Value': 0}, 'e_lfarlc': {'FileOffset': 24, 'Offset': 24, 'Value': 64}, 'e_ovno': {'FileOffset': 26, 'Offset': 26, 'Value': 0}, 'e_res': {'FileOffset': 28, 'Offset': 28, 'Value': '\\\\x00\\\\x00\\\\x00\\\\x00\\\\x00\\\\x00\\\\x00\\\\x00'}, 'e_oemid': {'FileOffset': 36, 'Offset': 36, 'Value': 0}, 'e_oeminfo': {'FileOffset': 38, 'Offset': 38, 'Value': 0}, 'e_res2': {'FileOffset': 40, 'Offset': 40, 'Value': '\\\\x00\\\\x00\\\\x00\\\\x00\\\\x00\\\\x00\\\\x00\\\\x00\\\\x00\\\\x00\\\\x00\\\\x00\\\\x00\\\\x00\\\\x00\\\\x00\\\\x00\\\\x00\\\\x00\\\\x00'}, 'e_lfanew': {'FileOffset': 60, 'Offset': 60, 'Value': 120}}\n"
          ],
          "name": "stdout"
        }
      ]
    },
    {
      "cell_type": "code",
      "metadata": {
        "id": "A3lL3vNQPeBB",
        "colab_type": "code",
        "outputId": "0dfc51cf-de02-4d7a-9374-2f1fbb17f87e",
        "colab": {
          "base_uri": "https://localhost:8080/",
          "height": 88
        }
      },
      "source": [
        "# for eample, I put it in a dictionaty\n",
        "# now I can easily retrive the info stored in it by keys\n",
        "dos_header_dict = dict(dump_dict['DOS_HEADER'])\n",
        "print(dos_header_dict.keys())\n",
        "\n",
        "print(dos_header_dict['Structure'])  # name\n",
        "print(dos_header_dict['e_magic'])  # e_magic"
      ],
      "execution_count": 12,
      "outputs": [
        {
          "output_type": "stream",
          "text": [
            "dict_keys(['Structure', 'e_magic', 'e_cblp', 'e_cp', 'e_crlc', 'e_cparhdr', 'e_minalloc', 'e_maxalloc', 'e_ss', 'e_sp', 'e_csum', 'e_ip', 'e_cs', 'e_lfarlc', 'e_ovno', 'e_res', 'e_oemid', 'e_oeminfo', 'e_res2', 'e_lfanew'])\n",
            "IMAGE_DOS_HEADER\n",
            "{'FileOffset': 0, 'Offset': 0, 'Value': 23117}\n"
          ],
          "name": "stdout"
        }
      ]
    },
    {
      "cell_type": "code",
      "metadata": {
        "id": "WXydAcNCPwpJ",
        "colab_type": "code",
        "outputId": "db83a0e1-5d99-4266-b51a-f9d064b2c40a",
        "colab": {
          "base_uri": "https://localhost:8080/",
          "height": 105
        }
      },
      "source": [
        "# another example\n",
        "\n",
        "file_header_dict = dict(dump_dict['FILE_HEADER'])\n",
        "print(file_header_dict.keys())\n",
        "\n",
        "print(file_header_dict['Machine'])\n",
        "print(file_header_dict['NumberOfSections'])\n",
        "print(file_header_dict['TimeDateStamp'])"
      ],
      "execution_count": 13,
      "outputs": [
        {
          "output_type": "stream",
          "text": [
            "dict_keys(['Structure', 'Machine', 'NumberOfSections', 'TimeDateStamp', 'PointerToSymbolTable', 'NumberOfSymbols', 'SizeOfOptionalHeader', 'Characteristics'])\n",
            "{'FileOffset': 124, 'Offset': 0, 'Value': 332}\n",
            "{'FileOffset': 126, 'Offset': 2, 'Value': 7}\n",
            "{'FileOffset': 128, 'Offset': 4, 'Value': '0x5D873EBE [Sun Sep 22 09:28:30 2019 UTC]'}\n"
          ],
          "name": "stdout"
        }
      ]
    },
    {
      "cell_type": "code",
      "metadata": {
        "id": "PSrMhYFlQhgb",
        "colab_type": "code",
        "outputId": "b2f70c66-c151-49ea-b228-392f0c2524cf",
        "colab": {
          "base_uri": "https://localhost:8080/",
          "height": 1000
        }
      },
      "source": [
        "# You can even print all dump_dict to find some valueable infomation.\n",
        "# pprint stands for pretty print, which makes you easier to view the data\n",
        "import pprint\n",
        "pprint.pprint(dump_dict['Imported symbols']) # change this to other keys"
      ],
      "execution_count": 14,
      "outputs": [
        {
          "output_type": "stream",
          "text": [
            "[[{'Characteristics': {'FileOffset': 729424, 'Offset': 0, 'Value': 734724},\n",
            "   'FirstThunk': {'FileOffset': 729440, 'Offset': 16, 'Value': 736044},\n",
            "   'ForwarderChain': {'FileOffset': 729432, 'Offset': 8, 'Value': 0},\n",
            "   'Name': {'FileOffset': 729436, 'Offset': 12, 'Value': 743028},\n",
            "   'OriginalFirstThunk': {'FileOffset': 729424, 'Offset': 0, 'Value': 734724},\n",
            "   'Structure': 'IMAGE_IMPORT_DESCRIPTOR',\n",
            "   'TimeDateStamp': {'FileOffset': 729428,\n",
            "                     'Offset': 4,\n",
            "                     'Value': '0x0        [Thu Jan  1 00:00:00 1970 UTC]'}},\n",
            "  {'DLL': b'GDI32.dll', 'Hint': 41, 'Name': b'CreateBitmap'},\n",
            "  {'DLL': b'GDI32.dll', 'Hint': 48, 'Name': b'CreateCompatibleBitmap'},\n",
            "  {'DLL': b'GDI32.dll', 'Hint': 49, 'Name': b'CreateCompatibleDC'},\n",
            "  {'DLL': b'GDI32.dll', 'Hint': 61, 'Name': b'CreateFontA'},\n",
            "  {'DLL': b'GDI32.dll', 'Hint': 62, 'Name': b'CreateFontIndirectA'},\n",
            "  {'DLL': b'GDI32.dll', 'Hint': 74, 'Name': b'CreatePalette'},\n",
            "  {'DLL': b'GDI32.dll', 'Hint': 76, 'Name': b'CreatePen'},\n",
            "  {'DLL': b'GDI32.dll', 'Hint': 86, 'Name': b'CreateSolidBrush'},\n",
            "  {'DLL': b'GDI32.dll', 'Hint': 268, 'Name': b'DeleteDC'},\n",
            "  {'DLL': b'GDI32.dll', 'Hint': 271, 'Name': b'DeleteObject'},\n",
            "  {'DLL': b'GDI32.dll', 'Hint': 346, 'Name': b'ExcludeClipRect'},\n",
            "  {'DLL': b'GDI32.dll', 'Hint': 352, 'Name': b'ExtTextOutA'},\n",
            "  {'DLL': b'GDI32.dll', 'Hint': 353, 'Name': b'ExtTextOutW'},\n",
            "  {'DLL': b'GDI32.dll', 'Hint': 469, 'Name': b'GetBkMode'},\n",
            "  {'DLL': b'GDI32.dll', 'Hint': 477, 'Name': b'GetCharABCWidthsFloatA'},\n",
            "  {'DLL': b'GDI32.dll', 'Hint': 481, 'Name': b'GetCharWidth32A'},\n",
            "  {'DLL': b'GDI32.dll', 'Hint': 482, 'Name': b'GetCharWidth32W'},\n",
            "  {'DLL': b'GDI32.dll', 'Hint': 483, 'Name': b'GetCharWidthA'},\n",
            "  {'DLL': b'GDI32.dll', 'Hint': 488, 'Name': b'GetCharWidthW'},\n",
            "  {'DLL': b'GDI32.dll', 'Hint': 490, 'Name': b'GetCharacterPlacementW'},\n",
            "  {'DLL': b'GDI32.dll', 'Hint': 503, 'Name': b'GetDeviceCaps'},\n",
            "  {'DLL': b'GDI32.dll', 'Hint': 551, 'Name': b'GetObjectA'},\n",
            "  {'DLL': b'GDI32.dll', 'Hint': 560, 'Name': b'GetPixel'},\n",
            "  {'DLL': b'GDI32.dll', 'Hint': 569, 'Name': b'GetStockObject'},\n",
            "  {'DLL': b'GDI32.dll', 'Hint': 581, 'Name': b'GetTextExtentExPointA'},\n",
            "  {'DLL': b'GDI32.dll', 'Hint': 585, 'Name': b'GetTextExtentPoint32A'},\n",
            "  {'DLL': b'GDI32.dll', 'Hint': 593, 'Name': b'GetTextMetricsA'},\n",
            "  {'DLL': b'GDI32.dll', 'Hint': 604, 'Name': b'IntersectClipRect'},\n",
            "  {'DLL': b'GDI32.dll', 'Hint': 610, 'Name': b'LineTo'},\n",
            "  {'DLL': b'GDI32.dll', 'Hint': 624, 'Name': b'MoveToEx'},\n",
            "  {'DLL': b'GDI32.dll', 'Hint': 653, 'Name': b'Polyline'},\n",
            "  {'DLL': b'GDI32.dll', 'Hint': 658, 'Name': b'RealizePalette'},\n",
            "  {'DLL': b'GDI32.dll', 'Hint': 661, 'Name': b'Rectangle'},\n",
            "  {'DLL': b'GDI32.dll', 'Hint': 725, 'Name': b'SelectObject'},\n",
            "  {'DLL': b'GDI32.dll', 'Hint': 726, 'Name': b'SelectPalette'},\n",
            "  {'DLL': b'GDI32.dll', 'Hint': 732, 'Name': b'SetBkColor'},\n",
            "  {'DLL': b'GDI32.dll', 'Hint': 733, 'Name': b'SetBkMode'},\n",
            "  {'DLL': b'GDI32.dll', 'Hint': 754, 'Name': b'SetMapMode'},\n",
            "  {'DLL': b'GDI32.dll', 'Hint': 760, 'Name': b'SetPaletteEntries'},\n",
            "  {'DLL': b'GDI32.dll', 'Hint': 761, 'Name': b'SetPixel'},\n",
            "  {'DLL': b'GDI32.dll', 'Hint': 770, 'Name': b'SetTextAlign'},\n",
            "  {'DLL': b'GDI32.dll', 'Hint': 772, 'Name': b'SetTextColor'},\n",
            "  {'DLL': b'GDI32.dll', 'Hint': 790, 'Name': b'TextOutA'},\n",
            "  {'DLL': b'GDI32.dll', 'Hint': 792, 'Name': b'TranslateCharsetInfo'},\n",
            "  {'DLL': b'GDI32.dll', 'Hint': 794, 'Name': b'UnrealizeObject'},\n",
            "  {'DLL': b'GDI32.dll', 'Hint': 795, 'Name': b'UpdateColors'}],\n",
            " [{'Characteristics': {'FileOffset': 729444, 'Offset': 0, 'Value': 734912},\n",
            "   'FirstThunk': {'FileOffset': 729460, 'Offset': 16, 'Value': 736232},\n",
            "   'ForwarderChain': {'FileOffset': 729452, 'Offset': 8, 'Value': 0},\n",
            "   'Name': {'FileOffset': 729456, 'Offset': 12, 'Value': 743038},\n",
            "   'OriginalFirstThunk': {'FileOffset': 729444, 'Offset': 0, 'Value': 734912},\n",
            "   'Structure': 'IMAGE_IMPORT_DESCRIPTOR',\n",
            "   'TimeDateStamp': {'FileOffset': 729448,\n",
            "                     'Offset': 4,\n",
            "                     'Value': '0x0        [Thu Jan  1 00:00:00 1970 UTC]'}},\n",
            "  {'DLL': b'USER32.dll', 'Hint': 9, 'Name': b'AppendMenuA'},\n",
            "  {'DLL': b'USER32.dll', 'Hint': 14, 'Name': b'BeginPaint'},\n",
            "  {'DLL': b'USER32.dll', 'Hint': 62, 'Name': b'CheckDlgButton'},\n",
            "  {'DLL': b'USER32.dll', 'Hint': 63, 'Name': b'CheckMenuItem'},\n",
            "  {'DLL': b'USER32.dll', 'Hint': 67, 'Name': b'CheckRadioButton'},\n",
            "  {'DLL': b'USER32.dll', 'Hint': 75, 'Name': b'CloseClipboard'},\n",
            "  {'DLL': b'USER32.dll', 'Hint': 91, 'Name': b'CreateCaret'},\n",
            "  {'DLL': b'USER32.dll', 'Hint': 101, 'Name': b'CreateDialogParamA'},\n",
            "  {'DLL': b'USER32.dll', 'Hint': 109, 'Name': b'CreateMenu'},\n",
            "  {'DLL': b'USER32.dll', 'Hint': 110, 'Name': b'CreatePopupMenu'},\n",
            "  {'DLL': b'USER32.dll', 'Hint': 112, 'Name': b'CreateWindowExA'},\n",
            "  {'DLL': b'USER32.dll', 'Hint': 113, 'Name': b'CreateWindowExW'},\n",
            "  {'DLL': b'USER32.dll', 'Hint': 153, 'Name': b'DefDlgProcA'},\n",
            "  {'DLL': b'USER32.dll', 'Hint': 160, 'Name': b'DefWindowProcA'},\n",
            "  {'DLL': b'USER32.dll', 'Hint': 161, 'Name': b'DefWindowProcW'},\n",
            "  {'DLL': b'USER32.dll', 'Hint': 164, 'Name': b'DeleteMenu'},\n",
            "  {'DLL': b'USER32.dll', 'Hint': 167, 'Name': b'DestroyCaret'},\n",
            "  {'DLL': b'USER32.dll', 'Hint': 170, 'Name': b'DestroyIcon'},\n",
            "  {'DLL': b'USER32.dll', 'Hint': 173, 'Name': b'DestroyWindow'},\n",
            "  {'DLL': b'USER32.dll', 'Hint': 177, 'Name': b'DialogBoxParamA'},\n",
            "  {'DLL': b'USER32.dll', 'Hint': 180, 'Name': b'DispatchMessageA'},\n",
            "  {'DLL': b'USER32.dll', 'Hint': 181, 'Name': b'DispatchMessageW'},\n",
            "  {'DLL': b'USER32.dll', 'Hint': 201, 'Name': b'DrawEdge'},\n",
            "  {'DLL': b'USER32.dll', 'Hint': 206, 'Name': b'DrawIconEx'},\n",
            "  {'DLL': b'USER32.dll', 'Hint': 223, 'Name': b'EmptyClipboard'},\n",
            "  {'DLL': b'USER32.dll', 'Hint': 224, 'Name': b'EnableMenuItem'},\n",
            "  {'DLL': b'USER32.dll', 'Hint': 228, 'Name': b'EnableWindow'},\n",
            "  {'DLL': b'USER32.dll', 'Hint': 231, 'Name': b'EndDialog'},\n",
            "  {'DLL': b'USER32.dll', 'Hint': 233, 'Name': b'EndPaint'},\n",
            "  {'DLL': b'USER32.dll', 'Hint': 262, 'Name': b'FindWindowA'},\n",
            "  {'DLL': b'USER32.dll', 'Hint': 266, 'Name': b'FlashWindow'},\n",
            "  {'DLL': b'USER32.dll', 'Hint': 281, 'Name': b'GetCapture'},\n",
            "  {'DLL': b'USER32.dll', 'Hint': 282, 'Name': b'GetCaretBlinkTime'},\n",
            "  {'DLL': b'USER32.dll', 'Hint': 293, 'Name': b'GetClientRect'},\n",
            "  {'DLL': b'USER32.dll', 'Hint': 296, 'Name': b'GetClipboardData'},\n",
            "  {'DLL': b'USER32.dll', 'Hint': 299, 'Name': b'GetClipboardOwner'},\n",
            "  {'DLL': b'USER32.dll', 'Hint': 307, 'Name': b'GetCursorPos'},\n",
            "  {'DLL': b'USER32.dll', 'Hint': 308, 'Name': b'GetDC'},\n",
            "  {'DLL': b'USER32.dll', 'Hint': 311, 'Name': b'GetDesktopWindow'},\n",
            "  {'DLL': b'USER32.dll', 'Hint': 316, 'Name': b'GetDlgItem'},\n",
            "  {'DLL': b'USER32.dll', 'Hint': 318, 'Name': b'GetDlgItemTextA'},\n",
            "  {'DLL': b'USER32.dll', 'Hint': 320, 'Name': b'GetDoubleClickTime'},\n",
            "  {'DLL': b'USER32.dll', 'Hint': 323, 'Name': b'GetForegroundWindow'},\n",
            "  {'DLL': b'USER32.dll', 'Hint': 340, 'Name': b'GetKeyboardLayout'},\n",
            "  {'DLL': b'USER32.dll', 'Hint': 344, 'Name': b'GetKeyboardState'},\n",
            "  {'DLL': b'USER32.dll', 'Hint': 367, 'Name': b'GetMessageA'},\n",
            "  {'DLL': b'USER32.dll', 'Hint': 370, 'Name': b'GetMessageTime'},\n",
            "  {'DLL': b'USER32.dll', 'Hint': 378, 'Name': b'GetParent'},\n",
            "  {'DLL': b'USER32.dll', 'Hint': 407, 'Name': b'GetQueueStatus'},\n",
            "  {'DLL': b'USER32.dll', 'Hint': 417, 'Name': b'GetScrollInfo'},\n",
            "  {'DLL': b'USER32.dll', 'Hint': 423, 'Name': b'GetSysColor'},\n",
            "  {'DLL': b'USER32.dll', 'Hint': 425, 'Name': b'GetSystemMenu'},\n",
            "  {'DLL': b'USER32.dll', 'Hint': 426, 'Name': b'GetSystemMetrics'},\n",
            "  {'DLL': b'USER32.dll', 'Hint': 452, 'Name': b'GetWindowLongA'},\n",
            "  {'DLL': b'USER32.dll', 'Hint': 458, 'Name': b'GetWindowPlacement'},\n",
            "  {'DLL': b'USER32.dll', 'Hint': 459, 'Name': b'GetWindowRect'},\n",
            "  {'DLL': b'USER32.dll', 'Hint': 463, 'Name': b'GetWindowTextA'},\n",
            "  {'DLL': b'USER32.dll', 'Hint': 464, 'Name': b'GetWindowTextLengthA'},\n",
            "  {'DLL': b'USER32.dll', 'Hint': 472, 'Name': b'HideCaret'},\n",
            "  {'DLL': b'USER32.dll', 'Hint': 488, 'Name': b'InsertMenuA'},\n",
            "  {'DLL': b'USER32.dll', 'Hint': 495, 'Name': b'InvalidateRect'},\n",
            "  {'DLL': b'USER32.dll', 'Hint': 509, 'Name': b'IsDialogMessageA'},\n",
            "  {'DLL': b'USER32.dll', 'Hint': 511, 'Name': b'IsDlgButtonChecked'},\n",
            "  {'DLL': b'USER32.dll', 'Hint': 514, 'Name': b'IsIconic'},\n",
            "  {'DLL': b'USER32.dll', 'Hint': 529, 'Name': b'IsWindow'},\n",
            "  {'DLL': b'USER32.dll', 'Hint': 536, 'Name': b'IsZoomed'},\n",
            "  {'DLL': b'USER32.dll', 'Hint': 537, 'Name': b'KillTimer'},\n",
            "  {'DLL': b'USER32.dll', 'Hint': 542, 'Name': b'LoadCursorA'},\n",
            "  {'DLL': b'USER32.dll', 'Hint': 546, 'Name': b'LoadIconA'},\n",
            "  {'DLL': b'USER32.dll', 'Hint': 548, 'Name': b'LoadImageA'},\n",
            "  {'DLL': b'USER32.dll', 'Hint': 572, 'Name': b'MapDialogRect'},\n",
            "  {'DLL': b'USER32.dll', 'Hint': 581, 'Name': b'MessageBeep'},\n",
            "  {'DLL': b'USER32.dll', 'Hint': 582, 'Name': b'MessageBoxA'},\n",
            "  {'DLL': b'USER32.dll', 'Hint': 585, 'Name': b'MessageBoxIndirectA'},\n",
            "  {'DLL': b'USER32.dll', 'Hint': 595, 'Name': b'MoveWindow'},\n",
            "  {'DLL': b'USER32.dll', 'Hint': 596, 'Name': b'MsgWaitForMultipleObjects'},\n",
            "  {'DLL': b'USER32.dll', 'Hint': 606, 'Name': b'OpenClipboard'},\n",
            "  {'DLL': b'USER32.dll', 'Hint': 619, 'Name': b'PeekMessageA'},\n",
            "  {'DLL': b'USER32.dll', 'Hint': 620, 'Name': b'PeekMessageW'},\n",
            "  {'DLL': b'USER32.dll', 'Hint': 623, 'Name': b'PostMessageA'},\n",
            "  {'DLL': b'USER32.dll', 'Hint': 625, 'Name': b'PostQuitMessage'},\n",
            "  {'DLL': b'USER32.dll', 'Hint': 647, 'Name': b'RegisterClassA'},\n",
            "  {'DLL': b'USER32.dll', 'Hint': 650, 'Name': b'RegisterClassW'},\n",
            "  {'DLL': b'USER32.dll', 'Hint': 651, 'Name': b'RegisterClipboardFormatA'},\n",
            "  {'DLL': b'USER32.dll', 'Hint': 674, 'Name': b'RegisterWindowMessageA'},\n",
            "  {'DLL': b'USER32.dll', 'Hint': 676, 'Name': b'ReleaseCapture'},\n",
            "  {'DLL': b'USER32.dll', 'Hint': 677, 'Name': b'ReleaseDC'},\n",
            "  {'DLL': b'USER32.dll', 'Hint': 685, 'Name': b'ScreenToClient'},\n",
            "  {'DLL': b'USER32.dll', 'Hint': 690, 'Name': b'SendDlgItemMessageA'},\n",
            "  {'DLL': b'USER32.dll', 'Hint': 695, 'Name': b'SendMessageA'},\n",
            "  {'DLL': b'USER32.dll', 'Hint': 703, 'Name': b'SetActiveWindow'},\n",
            "  {'DLL': b'USER32.dll', 'Hint': 704, 'Name': b'SetCapture'},\n",
            "  {'DLL': b'USER32.dll', 'Hint': 706, 'Name': b'SetCaretPos'},\n",
            "  {'DLL': b'USER32.dll', 'Hint': 707, 'Name': b'SetClassLongA'},\n",
            "  {'DLL': b'USER32.dll', 'Hint': 710, 'Name': b'SetClipboardData'},\n",
            "  {'DLL': b'USER32.dll', 'Hint': 713, 'Name': b'SetCursor'},\n",
            "  {'DLL': b'USER32.dll', 'Hint': 721, 'Name': b'SetDlgItemTextA'},\n",
            "  {'DLL': b'USER32.dll', 'Hint': 724, 'Name': b'SetFocus'},\n",
            "  {'DLL': b'USER32.dll', 'Hint': 725, 'Name': b'SetForegroundWindow'},\n",
            "  {'DLL': b'USER32.dll', 'Hint': 729, 'Name': b'SetKeyboardState'},\n",
            "  {'DLL': b'USER32.dll', 'Hint': 757, 'Name': b'SetScrollInfo'},\n",
            "  {'DLL': b'USER32.dll', 'Hint': 769, 'Name': b'SetTimer'},\n",
            "  {'DLL': b'USER32.dll', 'Hint': 780, 'Name': b'SetWindowLongA'},\n",
            "  {'DLL': b'USER32.dll', 'Hint': 782, 'Name': b'SetWindowPlacement'},\n",
            "  {'DLL': b'USER32.dll', 'Hint': 783, 'Name': b'SetWindowPos'},\n",
            "  {'DLL': b'USER32.dll', 'Hint': 787, 'Name': b'SetWindowTextA'},\n",
            "  {'DLL': b'USER32.dll', 'Hint': 794, 'Name': b'ShowCaret'},\n",
            "  {'DLL': b'USER32.dll', 'Hint': 795, 'Name': b'ShowCursor'},\n",
            "  {'DLL': b'USER32.dll', 'Hint': 800, 'Name': b'ShowWindow'},\n",
            "  {'DLL': b'USER32.dll', 'Hint': 814, 'Name': b'SystemParametersInfoA'},\n",
            "  {'DLL': b'USER32.dll', 'Hint': 821, 'Name': b'ToAsciiEx'},\n",
            "  {'DLL': b'USER32.dll', 'Hint': 825, 'Name': b'TrackPopupMenu'},\n",
            "  {'DLL': b'USER32.dll', 'Hint': 831, 'Name': b'TranslateMessage'},\n",
            "  {'DLL': b'USER32.dll', 'Hint': 855, 'Name': b'UpdateWindow'}],\n",
            " [{'Characteristics': {'FileOffset': 729464, 'Offset': 0, 'Value': 735372},\n",
            "   'FirstThunk': {'FileOffset': 729480, 'Offset': 16, 'Value': 736692},\n",
            "   'ForwarderChain': {'FileOffset': 729472, 'Offset': 8, 'Value': 0},\n",
            "   'Name': {'FileOffset': 729476, 'Offset': 12, 'Value': 743049},\n",
            "   'OriginalFirstThunk': {'FileOffset': 729464, 'Offset': 0, 'Value': 735372},\n",
            "   'Structure': 'IMAGE_IMPORT_DESCRIPTOR',\n",
            "   'TimeDateStamp': {'FileOffset': 729468,\n",
            "                     'Offset': 4,\n",
            "                     'Value': '0x0        [Thu Jan  1 00:00:00 1970 UTC]'}},\n",
            "  {'DLL': b'COMDLG32.dll', 'Hint': 0, 'Name': b'ChooseColorA'},\n",
            "  {'DLL': b'COMDLG32.dll', 'Hint': 2, 'Name': b'ChooseFontA'},\n",
            "  {'DLL': b'COMDLG32.dll', 'Hint': 11, 'Name': b'GetOpenFileNameA'},\n",
            "  {'DLL': b'COMDLG32.dll', 'Hint': 13, 'Name': b'GetSaveFileNameA'}],\n",
            " [{'Characteristics': {'FileOffset': 729484, 'Offset': 0, 'Value': 735392},\n",
            "   'FirstThunk': {'FileOffset': 729500, 'Offset': 16, 'Value': 736712},\n",
            "   'ForwarderChain': {'FileOffset': 729492, 'Offset': 8, 'Value': 0},\n",
            "   'Name': {'FileOffset': 729496, 'Offset': 12, 'Value': 743062},\n",
            "   'OriginalFirstThunk': {'FileOffset': 729484, 'Offset': 0, 'Value': 735392},\n",
            "   'Structure': 'IMAGE_IMPORT_DESCRIPTOR',\n",
            "   'TimeDateStamp': {'FileOffset': 729488,\n",
            "                     'Offset': 4,\n",
            "                     'Value': '0x0        [Thu Jan  1 00:00:00 1970 UTC]'}},\n",
            "  {'DLL': b'SHELL32.dll', 'Hint': 307, 'Name': b'ShellExecuteA'}],\n",
            " [{'Characteristics': {'FileOffset': 729504, 'Offset': 0, 'Value': 735400},\n",
            "   'FirstThunk': {'FileOffset': 729520, 'Offset': 16, 'Value': 736720},\n",
            "   'ForwarderChain': {'FileOffset': 729512, 'Offset': 8, 'Value': 0},\n",
            "   'Name': {'FileOffset': 729516, 'Offset': 12, 'Value': 743074},\n",
            "   'OriginalFirstThunk': {'FileOffset': 729504, 'Offset': 0, 'Value': 735400},\n",
            "   'Structure': 'IMAGE_IMPORT_DESCRIPTOR',\n",
            "   'TimeDateStamp': {'FileOffset': 729508,\n",
            "                     'Offset': 4,\n",
            "                     'Value': '0x0        [Thu Jan  1 00:00:00 1970 UTC]'}},\n",
            "  {'DLL': b'ole32.dll', 'Hint': 26, 'Name': b'CoCreateInstance'},\n",
            "  {'DLL': b'ole32.dll', 'Hint': 79, 'Name': b'CoInitialize'},\n",
            "  {'DLL': b'ole32.dll', 'Hint': 127, 'Name': b'CoUninitialize'}],\n",
            " [{'Characteristics': {'FileOffset': 729524, 'Offset': 0, 'Value': 735416},\n",
            "   'FirstThunk': {'FileOffset': 729540, 'Offset': 16, 'Value': 736736},\n",
            "   'ForwarderChain': {'FileOffset': 729532, 'Offset': 8, 'Value': 0},\n",
            "   'Name': {'FileOffset': 729536, 'Offset': 12, 'Value': 743084},\n",
            "   'OriginalFirstThunk': {'FileOffset': 729524, 'Offset': 0, 'Value': 735416},\n",
            "   'Structure': 'IMAGE_IMPORT_DESCRIPTOR',\n",
            "   'TimeDateStamp': {'FileOffset': 729528,\n",
            "                     'Offset': 4,\n",
            "                     'Value': '0x0        [Thu Jan  1 00:00:00 1970 UTC]'}},\n",
            "  {'DLL': b'IMM32.dll', 'Hint': 57, 'Name': b'ImmGetCompositionStringW'},\n",
            "  {'DLL': b'IMM32.dll', 'Hint': 59, 'Name': b'ImmGetContext'},\n",
            "  {'DLL': b'IMM32.dll', 'Hint': 107, 'Name': b'ImmReleaseContext'},\n",
            "  {'DLL': b'IMM32.dll', 'Hint': 115, 'Name': b'ImmSetCompositionFontA'},\n",
            "  {'DLL': b'IMM32.dll', 'Hint': 119, 'Name': b'ImmSetCompositionWindow'}],\n",
            " [{'Characteristics': {'FileOffset': 729544, 'Offset': 0, 'Value': 735440},\n",
            "   'FirstThunk': {'FileOffset': 729560, 'Offset': 16, 'Value': 736760},\n",
            "   'ForwarderChain': {'FileOffset': 729552, 'Offset': 8, 'Value': 0},\n",
            "   'Name': {'FileOffset': 729556, 'Offset': 12, 'Value': 743094},\n",
            "   'OriginalFirstThunk': {'FileOffset': 729544, 'Offset': 0, 'Value': 735440},\n",
            "   'Structure': 'IMAGE_IMPORT_DESCRIPTOR',\n",
            "   'TimeDateStamp': {'FileOffset': 729548,\n",
            "                     'Offset': 4,\n",
            "                     'Value': '0x0        [Thu Jan  1 00:00:00 1970 UTC]'}},\n",
            "  {'DLL': b'ADVAPI32.dll', 'Hint': 32, 'Name': b'AllocateAndInitializeSid'},\n",
            "  {'DLL': b'ADVAPI32.dll', 'Hint': 133, 'Name': b'CopySid'},\n",
            "  {'DLL': b'ADVAPI32.dll', 'Hint': 280, 'Name': b'EqualSid'},\n",
            "  {'DLL': b'ADVAPI32.dll', 'Hint': 330, 'Name': b'GetLengthSid'},\n",
            "  {'DLL': b'ADVAPI32.dll', 'Hint': 377, 'Name': b'GetUserNameA'},\n",
            "  {'DLL': b'ADVAPI32.dll',\n",
            "   'Hint': 397,\n",
            "   'Name': b'InitializeSecurityDescriptor'},\n",
            "  {'DLL': b'ADVAPI32.dll', 'Hint': 596, 'Name': b'RegCloseKey'},\n",
            "  {'DLL': b'ADVAPI32.dll', 'Hint': 603, 'Name': b'RegCreateKeyA'},\n",
            "  {'DLL': b'ADVAPI32.dll', 'Hint': 604, 'Name': b'RegCreateKeyExA'},\n",
            "  {'DLL': b'ADVAPI32.dll', 'Hint': 609, 'Name': b'RegDeleteKeyA'},\n",
            "  {'DLL': b'ADVAPI32.dll', 'Hint': 619, 'Name': b'RegDeleteValueA'},\n",
            "  {'DLL': b'ADVAPI32.dll', 'Hint': 625, 'Name': b'RegEnumKeyA'},\n",
            "  {'DLL': b'ADVAPI32.dll', 'Hint': 643, 'Name': b'RegOpenKeyA'},\n",
            "  {'DLL': b'ADVAPI32.dll', 'Hint': 657, 'Name': b'RegQueryValueExA'},\n",
            "  {'DLL': b'ADVAPI32.dll', 'Hint': 673, 'Name': b'RegSetValueExA'},\n",
            "  {'DLL': b'ADVAPI32.dll', 'Hint': 735, 'Name': b'SetSecurityDescriptorDacl'},\n",
            "  {'DLL': b'ADVAPI32.dll', 'Hint': 737, 'Name': b'SetSecurityDescriptorOwner'}],\n",
            " [{'Characteristics': {'FileOffset': 729564, 'Offset': 0, 'Value': 735512},\n",
            "   'FirstThunk': {'FileOffset': 729580, 'Offset': 16, 'Value': 736832},\n",
            "   'ForwarderChain': {'FileOffset': 729572, 'Offset': 8, 'Value': 0},\n",
            "   'Name': {'FileOffset': 729576, 'Offset': 12, 'Value': 743107},\n",
            "   'OriginalFirstThunk': {'FileOffset': 729564, 'Offset': 0, 'Value': 735512},\n",
            "   'Structure': 'IMAGE_IMPORT_DESCRIPTOR',\n",
            "   'TimeDateStamp': {'FileOffset': 729568,\n",
            "                     'Offset': 4,\n",
            "                     'Value': '0x0        [Thu Jan  1 00:00:00 1970 UTC]'}},\n",
            "  {'DLL': b'KERNEL32.dll', 'Hint': 93, 'Name': b'Beep'},\n",
            "  {'DLL': b'KERNEL32.dll', 'Hint': 124, 'Name': b'ClearCommBreak'},\n",
            "  {'DLL': b'KERNEL32.dll', 'Hint': 127, 'Name': b'CloseHandle'},\n",
            "  {'DLL': b'KERNEL32.dll', 'Hint': 147, 'Name': b'CompareStringW'},\n",
            "  {'DLL': b'KERNEL32.dll', 'Hint': 148, 'Name': b'ConnectNamedPipe'},\n",
            "  {'DLL': b'KERNEL32.dll', 'Hint': 179, 'Name': b'CreateEventA'},\n",
            "  {'DLL': b'KERNEL32.dll', 'Hint': 186, 'Name': b'CreateFileA'},\n",
            "  {'DLL': b'KERNEL32.dll', 'Hint': 187, 'Name': b'CreateFileMappingA'},\n",
            "  {'DLL': b'KERNEL32.dll', 'Hint': 194, 'Name': b'CreateFileW'},\n",
            "  {'DLL': b'KERNEL32.dll', 'Hint': 206, 'Name': b'CreateMutexA'},\n",
            "  {'DLL': b'KERNEL32.dll', 'Hint': 210, 'Name': b'CreateNamedPipeA'},\n",
            "  {'DLL': b'KERNEL32.dll', 'Hint': 212, 'Name': b'CreatePipe'},\n",
            "  {'DLL': b'KERNEL32.dll', 'Hint': 215, 'Name': b'CreateProcessA'},\n",
            "  {'DLL': b'KERNEL32.dll', 'Hint': 232, 'Name': b'CreateThread'},\n",
            "  {'DLL': b'KERNEL32.dll', 'Hint': 254, 'Name': b'DecodePointer'},\n",
            "  {'DLL': b'KERNEL32.dll', 'Hint': 261, 'Name': b'DeleteCriticalSection'},\n",
            "  {'DLL': b'KERNEL32.dll', 'Hint': 263, 'Name': b'DeleteFileA'},\n",
            "  {'DLL': b'KERNEL32.dll', 'Hint': 293, 'Name': b'EnterCriticalSection'},\n",
            "  {'DLL': b'KERNEL32.dll', 'Hint': 337, 'Name': b'ExitProcess'},\n",
            "  {'DLL': b'KERNEL32.dll', 'Hint': 360, 'Name': b'FindClose'},\n",
            "  {'DLL': b'KERNEL32.dll', 'Hint': 364, 'Name': b'FindFirstFileA'},\n",
            "  {'DLL': b'KERNEL32.dll', 'Hint': 365, 'Name': b'FindFirstFileExA'},\n",
            "  {'DLL': b'KERNEL32.dll', 'Hint': 381, 'Name': b'FindNextFileA'},\n",
            "  {'DLL': b'KERNEL32.dll', 'Hint': 390, 'Name': b'FindResourceA'},\n",
            "  {'DLL': b'KERNEL32.dll', 'Hint': 402, 'Name': b'FlushFileBuffers'},\n",
            "  {'DLL': b'KERNEL32.dll', 'Hint': 409, 'Name': b'FormatMessageA'},\n",
            "  {'DLL': b'KERNEL32.dll', 'Hint': 413, 'Name': b'FreeEnvironmentStringsW'},\n",
            "  {'DLL': b'KERNEL32.dll', 'Hint': 414, 'Name': b'FreeLibrary'},\n",
            "  {'DLL': b'KERNEL32.dll', 'Hint': 420, 'Name': b'GetACP'},\n",
            "  {'DLL': b'KERNEL32.dll', 'Hint': 435, 'Name': b'GetCPInfo'},\n",
            "  {'DLL': b'KERNEL32.dll', 'Hint': 454, 'Name': b'GetCommState'},\n",
            "  {'DLL': b'KERNEL32.dll', 'Hint': 456, 'Name': b'GetCommandLineA'},\n",
            "  {'DLL': b'KERNEL32.dll', 'Hint': 457, 'Name': b'GetCommandLineW'},\n",
            "  {'DLL': b'KERNEL32.dll', 'Hint': 476, 'Name': b'GetConsoleCP'},\n",
            "  {'DLL': b'KERNEL32.dll', 'Hint': 494, 'Name': b'GetConsoleMode'},\n",
            "  {'DLL': b'KERNEL32.dll', 'Hint': 514, 'Name': b'GetCurrentDirectoryA'},\n",
            "  {'DLL': b'KERNEL32.dll', 'Hint': 521, 'Name': b'GetCurrentProcess'},\n",
            "  {'DLL': b'KERNEL32.dll', 'Hint': 522, 'Name': b'GetCurrentProcessId'},\n",
            "  {'DLL': b'KERNEL32.dll', 'Hint': 525, 'Name': b'GetCurrentThread'},\n",
            "  {'DLL': b'KERNEL32.dll', 'Hint': 526, 'Name': b'GetCurrentThreadId'},\n",
            "  {'DLL': b'KERNEL32.dll', 'Hint': 531, 'Name': b'GetDateFormatW'},\n",
            "  {'DLL': b'KERNEL32.dll', 'Hint': 551, 'Name': b'GetEnvironmentStringsW'},\n",
            "  {'DLL': b'KERNEL32.dll', 'Hint': 552, 'Name': b'GetEnvironmentVariableA'},\n",
            "  {'DLL': b'KERNEL32.dll', 'Hint': 561, 'Name': b'GetFileAttributesExA'},\n",
            "  {'DLL': b'KERNEL32.dll', 'Hint': 574, 'Name': b'GetFileType'},\n",
            "  {'DLL': b'KERNEL32.dll', 'Hint': 592, 'Name': b'GetLastError'},\n",
            "  {'DLL': b'KERNEL32.dll', 'Hint': 593, 'Name': b'GetLocalTime'},\n",
            "  {'DLL': b'KERNEL32.dll', 'Hint': 594, 'Name': b'GetLocaleInfoA'},\n",
            "  {'DLL': b'KERNEL32.dll', 'Hint': 610, 'Name': b'GetModuleFileNameA'},\n",
            "  {'DLL': b'KERNEL32.dll', 'Hint': 611, 'Name': b'GetModuleFileNameW'},\n",
            "  {'DLL': b'KERNEL32.dll', 'Hint': 612, 'Name': b'GetModuleHandleA'},\n",
            "  {'DLL': b'KERNEL32.dll', 'Hint': 614, 'Name': b'GetModuleHandleExW'},\n",
            "  {'DLL': b'KERNEL32.dll', 'Hint': 615, 'Name': b'GetModuleHandleW'},\n",
            "  {'DLL': b'KERNEL32.dll', 'Hint': 646, 'Name': b'GetOEMCP'},\n",
            "  {'DLL': b'KERNEL32.dll', 'Hint': 647, 'Name': b'GetOverlappedResult'},\n",
            "  {'DLL': b'KERNEL32.dll', 'Hint': 669, 'Name': b'GetProcAddress'},\n",
            "  {'DLL': b'KERNEL32.dll', 'Hint': 674, 'Name': b'GetProcessHeap'},\n",
            "  {'DLL': b'KERNEL32.dll', 'Hint': 684, 'Name': b'GetProcessTimes'},\n",
            "  {'DLL': b'KERNEL32.dll', 'Hint': 702, 'Name': b'GetStartupInfoW'},\n",
            "  {'DLL': b'KERNEL32.dll', 'Hint': 704, 'Name': b'GetStdHandle'},\n",
            "  {'DLL': b'KERNEL32.dll', 'Hint': 709, 'Name': b'GetStringTypeW'},\n",
            "  {'DLL': b'KERNEL32.dll', 'Hint': 716, 'Name': b'GetSystemDirectoryA'},\n",
            "  {'DLL': b'KERNEL32.dll', 'Hint': 726, 'Name': b'GetSystemTimeAsFileTime'},\n",
            "  {'DLL': b'KERNEL32.dll', 'Hint': 738, 'Name': b'GetTempPathA'},\n",
            "  {'DLL': b'KERNEL32.dll', 'Hint': 752, 'Name': b'GetThreadTimes'},\n",
            "  {'DLL': b'KERNEL32.dll', 'Hint': 754, 'Name': b'GetTickCount'},\n",
            "  {'DLL': b'KERNEL32.dll', 'Hint': 759, 'Name': b'GetTimeFormatW'},\n",
            "  {'DLL': b'KERNEL32.dll', 'Hint': 761, 'Name': b'GetTimeZoneInformation'},\n",
            "  {'DLL': b'KERNEL32.dll', 'Hint': 772, 'Name': b'GetVersionExA'},\n",
            "  {'DLL': b'KERNEL32.dll', 'Hint': 783, 'Name': b'GetWindowsDirectoryA'},\n",
            "  {'DLL': b'KERNEL32.dll', 'Hint': 791, 'Name': b'GlobalAlloc'},\n",
            "  {'DLL': b'KERNEL32.dll', 'Hint': 798, 'Name': b'GlobalFree'},\n",
            "  {'DLL': b'KERNEL32.dll', 'Hint': 802, 'Name': b'GlobalLock'},\n",
            "  {'DLL': b'KERNEL32.dll', 'Hint': 803, 'Name': b'GlobalMemoryStatus'},\n",
            "  {'DLL': b'KERNEL32.dll', 'Hint': 809, 'Name': b'GlobalUnlock'},\n",
            "  {'DLL': b'KERNEL32.dll', 'Hint': 815, 'Name': b'HeapAlloc'},\n",
            "  {'DLL': b'KERNEL32.dll', 'Hint': 819, 'Name': b'HeapFree'},\n",
            "  {'DLL': b'KERNEL32.dll', 'Hint': 822, 'Name': b'HeapReAlloc'},\n",
            "  {'DLL': b'KERNEL32.dll', 'Hint': 824, 'Name': b'HeapSize'},\n",
            "  {'DLL': b'KERNEL32.dll',\n",
            "   'Hint': 840,\n",
            "   'Name': b'InitializeCriticalSectionAndSpinCount'},\n",
            "  {'DLL': b'KERNEL32.dll', 'Hint': 843, 'Name': b'InitializeSListHead'},\n",
            "  {'DLL': b'KERNEL32.dll', 'Hint': 870, 'Name': b'IsDBCSLeadByteEx'},\n",
            "  {'DLL': b'KERNEL32.dll', 'Hint': 871, 'Name': b'IsDebuggerPresent'},\n",
            "  {'DLL': b'KERNEL32.dll', 'Hint': 877, 'Name': b'IsProcessorFeaturePresent'},\n",
            "  {'DLL': b'KERNEL32.dll', 'Hint': 882, 'Name': b'IsValidCodePage'},\n",
            "  {'DLL': b'KERNEL32.dll', 'Hint': 918, 'Name': b'LCMapStringW'},\n",
            "  {'DLL': b'KERNEL32.dll', 'Hint': 930, 'Name': b'LeaveCriticalSection'},\n",
            "  {'DLL': b'KERNEL32.dll', 'Hint': 933, 'Name': b'LoadLibraryA'},\n",
            "  {'DLL': b'KERNEL32.dll', 'Hint': 934, 'Name': b'LoadLibraryExA'},\n",
            "  {'DLL': b'KERNEL32.dll', 'Hint': 935, 'Name': b'LoadLibraryExW'},\n",
            "  {'DLL': b'KERNEL32.dll', 'Hint': 939, 'Name': b'LoadResource'},\n",
            "  {'DLL': b'KERNEL32.dll', 'Hint': 942, 'Name': b'LocalAlloc'},\n",
            "  {'DLL': b'KERNEL32.dll', 'Hint': 944, 'Name': b'LocalFileTimeToFileTime'},\n",
            "  {'DLL': b'KERNEL32.dll', 'Hint': 946, 'Name': b'LocalFree'},\n",
            "  {'DLL': b'KERNEL32.dll', 'Hint': 957, 'Name': b'LockResource'},\n",
            "  {'DLL': b'KERNEL32.dll', 'Hint': 960, 'Name': b'MapViewOfFile'},\n",
            "  {'DLL': b'KERNEL32.dll', 'Hint': 976, 'Name': b'MulDiv'},\n",
            "  {'DLL': b'KERNEL32.dll', 'Hint': 977, 'Name': b'MultiByteToWideChar'},\n",
            "  {'DLL': b'KERNEL32.dll', 'Hint': 1006, 'Name': b'OpenProcess'},\n",
            "  {'DLL': b'KERNEL32.dll', 'Hint': 1018, 'Name': b'OutputDebugStringW'},\n",
            "  {'DLL': b'KERNEL32.dll', 'Hint': 1069, 'Name': b'QueryPerformanceCounter'},\n",
            "  {'DLL': b'KERNEL32.dll', 'Hint': 1088, 'Name': b'RaiseException'},\n",
            "  {'DLL': b'KERNEL32.dll', 'Hint': 1102, 'Name': b'ReadConsoleW'},\n",
            "  {'DLL': b'KERNEL32.dll', 'Hint': 1104, 'Name': b'ReadFile'},\n",
            "  {'DLL': b'KERNEL32.dll', 'Hint': 1164, 'Name': b'ReleaseMutex'},\n",
            "  {'DLL': b'KERNEL32.dll', 'Hint': 1197, 'Name': b'RtlUnwind'},\n",
            "  {'DLL': b'KERNEL32.dll', 'Hint': 1207, 'Name': b'SetCommBreak'},\n",
            "  {'DLL': b'KERNEL32.dll', 'Hint': 1210, 'Name': b'SetCommState'},\n",
            "  {'DLL': b'KERNEL32.dll', 'Hint': 1211, 'Name': b'SetCommTimeouts'},\n",
            "  {'DLL': b'KERNEL32.dll', 'Hint': 1250, 'Name': b'SetCurrentDirectoryA'},\n",
            "  {'DLL': b'KERNEL32.dll', 'Hint': 1258, 'Name': b'SetEndOfFile'},\n",
            "  {'DLL': b'KERNEL32.dll', 'Hint': 1261, 'Name': b'SetEnvironmentVariableA'},\n",
            "  {'DLL': b'KERNEL32.dll', 'Hint': 1264, 'Name': b'SetEvent'},\n",
            "  {'DLL': b'KERNEL32.dll', 'Hint': 1277, 'Name': b'SetFilePointerEx'},\n",
            "  {'DLL': b'KERNEL32.dll', 'Hint': 1288, 'Name': b'SetHandleInformation'},\n",
            "  {'DLL': b'KERNEL32.dll', 'Hint': 1291, 'Name': b'SetLastError'},\n",
            "  {'DLL': b'KERNEL32.dll', 'Hint': 1314, 'Name': b'SetStdHandle'},\n",
            "  {'DLL': b'KERNEL32.dll',\n",
            "   'Hint': 1347,\n",
            "   'Name': b'SetUnhandledExceptionFilter'},\n",
            "  {'DLL': b'KERNEL32.dll', 'Hint': 1361, 'Name': b'SizeofResource'},\n",
            "  {'DLL': b'KERNEL32.dll', 'Hint': 1377, 'Name': b'TerminateProcess'},\n",
            "  {'DLL': b'KERNEL32.dll', 'Hint': 1395, 'Name': b'TlsAlloc'},\n",
            "  {'DLL': b'KERNEL32.dll', 'Hint': 1396, 'Name': b'TlsFree'},\n",
            "  {'DLL': b'KERNEL32.dll', 'Hint': 1397, 'Name': b'TlsGetValue'},\n",
            "  {'DLL': b'KERNEL32.dll', 'Hint': 1398, 'Name': b'TlsSetValue'},\n",
            "  {'DLL': b'KERNEL32.dll', 'Hint': 1410, 'Name': b'UnhandledExceptionFilter'},\n",
            "  {'DLL': b'KERNEL32.dll', 'Hint': 1413, 'Name': b'UnmapViewOfFile'},\n",
            "  {'DLL': b'KERNEL32.dll', 'Hint': 1451, 'Name': b'WaitForSingleObject'},\n",
            "  {'DLL': b'KERNEL32.dll', 'Hint': 1452, 'Name': b'WaitForSingleObjectEx'},\n",
            "  {'DLL': b'KERNEL32.dll', 'Hint': 1457, 'Name': b'WaitNamedPipeA'},\n",
            "  {'DLL': b'KERNEL32.dll', 'Hint': 1485, 'Name': b'WideCharToMultiByte'},\n",
            "  {'DLL': b'KERNEL32.dll', 'Hint': 1504, 'Name': b'WriteConsoleW'},\n",
            "  {'DLL': b'KERNEL32.dll', 'Hint': 1505, 'Name': b'WriteFile'}]]\n"
          ],
          "name": "stdout"
        }
      ]
    },
    {
      "cell_type": "markdown",
      "metadata": {
        "id": "sqW1y5EdRVyR",
        "colab_type": "text"
      },
      "source": [
        "### Analyze the downloaded data"
      ]
    },
    {
      "cell_type": "code",
      "metadata": {
        "id": "V9z5APWLRaKu",
        "colab_type": "code",
        "outputId": "579ed186-3568-456d-d6b9-df882f4fc615",
        "colab": {
          "base_uri": "https://localhost:8080/",
          "height": 34
        }
      },
      "source": [
        "# Now pef_dumpdict is what we want you to analyze.\n",
        "# It combines 40 malware's pefile.dump_dict().\n",
        "\n",
        "print(len(pef_dumpdicts))"
      ],
      "execution_count": 15,
      "outputs": [
        {
          "output_type": "stream",
          "text": [
            "40\n"
          ],
          "name": "stdout"
        }
      ]
    },
    {
      "cell_type": "code",
      "metadata": {
        "id": "UOOJPk9URpTI",
        "colab_type": "code",
        "outputId": "a537f609-7467-43b3-ec8d-bafcabe22866",
        "colab": {
          "base_uri": "https://localhost:8080/",
          "height": 697
        }
      },
      "source": [
        "# The id of the 40 malwares are\n",
        "for key in pef_dumpdicts.keys():\n",
        "  print(key)"
      ],
      "execution_count": 16,
      "outputs": [
        {
          "output_type": "stream",
          "text": [
            "07edeebc14b053fffdfb4dcc08959360\n",
            "0cfab9961285ab6e04f449c6d09cec37\n",
            "2c1e90810ca30865cbf4440118c4aa0f\n",
            "412c8d4d6afc88391e6dad508106681a\n",
            "656f628856a62f1dc14748bff4cee2e5\n",
            "8595c554539a172534c95222260650e5\n",
            "88b666fd4ef1c21f4051ad3f859ee5bd\n",
            "8aa66c2a430c3545c542e8419de13385\n",
            "e776d8d8d187bdb68f41dc9ccfc86444\n",
            "ed1304342c5794cb0a55840253793b45\n",
            "2650e58a609438ba18706f539b49a6af\n",
            "2a5932a800123709eff21dbd2310e090\n",
            "4271ba51876b1e931dd55b2ccff25789\n",
            "52cae62ada8b02adae128e35686cbc16\n",
            "774b71a232568ca7ea09c0a26b82f8e5\n",
            "7b57508defc0934c69b98544b4bac185\n",
            "8081b6b58cc3372ad62a5d8b6ce09c0b\n",
            "8e6d8d46e4a7482b9475e6c5b211dc61\n",
            "b4e89348aa9b635b8edce746f8231303\n",
            "e0ad769d1bd2b9b6444796f99b52a43f\n",
            "0c6e68a34804df907df26d7139b1f052\n",
            "0e751a5b6db31895c283ddd9757477de\n",
            "0f74a58af435599ec94eff2b72d5e55e\n",
            "1d0ce31c6d7129a74e2921e8d161c752\n",
            "2cceeae738cae520544e9d9fda9ca30e\n",
            "2ea5285f04bc9a0b3008165779a382ec\n",
            "2f45c7132f623cd7caea6d7965d53a0f\n",
            "3b569cd1c63b83446420dd798a8622b7\n",
            "3f07e530430d1d450bfeaf0a595109b1\n",
            "4aa9b2104ac7c7602c4258a0f7ce2b44\n",
            "17af47cdfd7c327ebfc2ab21221fee03\n",
            "1f6bcbaaefaec970de211d47c7c57854\n",
            "573054f5a9b74edc86ede736876bcb57\n",
            "60c4a8055b75c25d60932d1e6c34e05a\n",
            "6a3943016197db960f00e27f1b154093\n",
            "6db56b93657419ea946b2db489d88908\n",
            "91e8fe3c2623eaea8ec8027564a857d5\n",
            "bc28e599e69d23edcb60b0dd5b428f6f\n",
            "d32c82e4632a1e6656b05678ae5560fd\n",
            "ec34196b53dd111997b88eaa2920b7f4\n"
          ],
          "name": "stdout"
        }
      ]
    },
    {
      "cell_type": "code",
      "metadata": {
        "id": "tOT-d-X_R2G6",
        "colab_type": "code",
        "outputId": "5a16310b-9dc6-418d-d8fe-1ae2cb8af06d",
        "colab": {
          "base_uri": "https://localhost:8080/",
          "height": 173
        }
      },
      "source": [
        "# so the fist dump_dict is\n",
        "first_dict = pef_dumpdicts['07edeebc14b053fffdfb4dcc08959360']\n",
        "\n",
        "# you can now access the data you want\n",
        "# for example print all sections and their info.\n",
        "for sec in first_dict['PE Sections']:\n",
        "  print(sec)\n",
        "\n",
        "# or like this (as what we see in pefile demonstration)\n",
        "print(\"\\nName, Misc_VirtualSize, SizeOfRawData, Entropy, MD5\")\n",
        "for sec in first_dict['PE Sections']:\n",
        "  print(sec['Name']['Value'], sec['Misc_VirtualSize']['Value'], sec['SizeOfRawData']['Value'], sec['Entropy'], sec['MD5'])"
      ],
      "execution_count": 17,
      "outputs": [
        {
          "output_type": "stream",
          "text": [
            "{'Structure': 'IMAGE_SECTION_HEADER', 'Name': {'FileOffset': 464, 'Offset': 0, 'Value': 'UPX0\\\\x00\\\\x00\\\\x00\\\\x00'}, 'Misc': {'FileOffset': 472, 'Offset': 8, 'Value': 20480}, 'Misc_PhysicalAddress': {'FileOffset': 472, 'Offset': 8, 'Value': 20480}, 'Misc_VirtualSize': {'FileOffset': 472, 'Offset': 8, 'Value': 20480}, 'VirtualAddress': {'FileOffset': 476, 'Offset': 12, 'Value': 4096}, 'SizeOfRawData': {'FileOffset': 480, 'Offset': 16, 'Value': 0}, 'PointerToRawData': {'FileOffset': 484, 'Offset': 20, 'Value': 1024}, 'PointerToRelocations': {'FileOffset': 488, 'Offset': 24, 'Value': 0}, 'PointerToLinenumbers': {'FileOffset': 492, 'Offset': 28, 'Value': 0}, 'NumberOfRelocations': {'FileOffset': 496, 'Offset': 32, 'Value': 0}, 'NumberOfLinenumbers': {'FileOffset': 498, 'Offset': 34, 'Value': 0}, 'Characteristics': {'FileOffset': 500, 'Offset': 36, 'Value': 3758096512}, 'Flags': ['IMAGE_SCN_CNT_UNINITIALIZED_DATA', 'IMAGE_SCN_MEM_EXECUTE', 'IMAGE_SCN_MEM_READ', 'IMAGE_SCN_MEM_WRITE'], 'Entropy': 0.0, 'MD5': 'd41d8cd98f00b204e9800998ecf8427e', 'SHA1': 'da39a3ee5e6b4b0d3255bfef95601890afd80709', 'SHA256': 'e3b0c44298fc1c149afbf4c8996fb92427ae41e4649b934ca495991b7852b855', 'SHA512': 'cf83e1357eefb8bdf1542850d66d8007d620e4050b5715dc83f4a921d36ce9ce47d0d13c5d85f2b0ff8318d2877eec2f63b931bd47417a81a538327af927da3e'}\n",
            "{'Structure': 'IMAGE_SECTION_HEADER', 'Name': {'FileOffset': 504, 'Offset': 0, 'Value': 'UPX1\\\\x00\\\\x00\\\\x00\\\\x00'}, 'Misc': {'FileOffset': 512, 'Offset': 8, 'Value': 8192}, 'Misc_PhysicalAddress': {'FileOffset': 512, 'Offset': 8, 'Value': 8192}, 'Misc_VirtualSize': {'FileOffset': 512, 'Offset': 8, 'Value': 8192}, 'VirtualAddress': {'FileOffset': 516, 'Offset': 12, 'Value': 24576}, 'SizeOfRawData': {'FileOffset': 520, 'Offset': 16, 'Value': 7680}, 'PointerToRawData': {'FileOffset': 524, 'Offset': 20, 'Value': 1024}, 'PointerToRelocations': {'FileOffset': 528, 'Offset': 24, 'Value': 0}, 'PointerToLinenumbers': {'FileOffset': 532, 'Offset': 28, 'Value': 0}, 'NumberOfRelocations': {'FileOffset': 536, 'Offset': 32, 'Value': 0}, 'NumberOfLinenumbers': {'FileOffset': 538, 'Offset': 34, 'Value': 0}, 'Characteristics': {'FileOffset': 540, 'Offset': 36, 'Value': 3758096480}, 'Flags': ['IMAGE_SCN_CNT_CODE', 'IMAGE_SCN_CNT_INITIALIZED_DATA', 'IMAGE_SCN_MEM_EXECUTE', 'IMAGE_SCN_MEM_READ', 'IMAGE_SCN_MEM_WRITE'], 'Entropy': 7.902853096944673, 'MD5': '99b34761df700a7b4dbdcb53733675af', 'SHA1': '31ac1e3b861f35375e93afcefbf5ee8f834ec07c', 'SHA256': 'dfc82f58da6e8c5a88910a50aaf2b7f9fbb3dcaa1b07379ea809438efdc1cc9d', 'SHA512': '308a94d7ff014068b8701828979859c6a56363051b5f74a049bbf73d2e6d663c0ab511a4fe3a62444e16d9f69524c8df4d1968f6d18cfa5367ac4bd7187c6956'}\n",
            "{'Structure': 'IMAGE_SECTION_HEADER', 'Name': {'FileOffset': 544, 'Offset': 0, 'Value': 'UPX2\\\\x00\\\\x00\\\\x00\\\\x00'}, 'Misc': {'FileOffset': 552, 'Offset': 8, 'Value': 8192}, 'Misc_PhysicalAddress': {'FileOffset': 552, 'Offset': 8, 'Value': 8192}, 'Misc_VirtualSize': {'FileOffset': 552, 'Offset': 8, 'Value': 8192}, 'VirtualAddress': {'FileOffset': 556, 'Offset': 12, 'Value': 32768}, 'SizeOfRawData': {'FileOffset': 560, 'Offset': 16, 'Value': 1024}, 'PointerToRawData': {'FileOffset': 564, 'Offset': 20, 'Value': 8704}, 'PointerToRelocations': {'FileOffset': 568, 'Offset': 24, 'Value': 0}, 'PointerToLinenumbers': {'FileOffset': 572, 'Offset': 28, 'Value': 0}, 'NumberOfRelocations': {'FileOffset': 576, 'Offset': 32, 'Value': 0}, 'NumberOfLinenumbers': {'FileOffset': 578, 'Offset': 34, 'Value': 0}, 'Characteristics': {'FileOffset': 580, 'Offset': 36, 'Value': 3758096480}, 'Flags': ['IMAGE_SCN_CNT_CODE', 'IMAGE_SCN_CNT_INITIALIZED_DATA', 'IMAGE_SCN_MEM_EXECUTE', 'IMAGE_SCN_MEM_READ', 'IMAGE_SCN_MEM_WRITE'], 'Entropy': 2.6755684369499013, 'MD5': '1139f90a792caa1154e9908f13fe19ef', 'SHA1': '494983fe50ae27c98f7edfda300e73833e2f9fc6', 'SHA256': '132782397e571aa500143cd152e28c7b4927ac23545f5cfc15f2b864fd7850c0', 'SHA512': '28c524834ee6b1de70067ba4664768834174694107646df40bd9283b5fbd742e127908d4434bd9a80886030f687efad19fd4963165b3b04b47e265cbdbfa3b3a'}\n",
            "\n",
            "Name, Misc_VirtualSize, SizeOfRawData, Entropy, MD5\n",
            "UPX0\\x00\\x00\\x00\\x00 20480 0 0.0 d41d8cd98f00b204e9800998ecf8427e\n",
            "UPX1\\x00\\x00\\x00\\x00 8192 7680 7.902853096944673 99b34761df700a7b4dbdcb53733675af\n",
            "UPX2\\x00\\x00\\x00\\x00 8192 1024 2.6755684369499013 1139f90a792caa1154e9908f13fe19ef\n"
          ],
          "name": "stdout"
        }
      ]
    },
    {
      "cell_type": "code",
      "metadata": {
        "id": "91l0xXqYTfbJ",
        "colab_type": "code",
        "outputId": "ffe5467c-618a-4b5a-ba4e-b329490b29d5",
        "colab": {
          "base_uri": "https://localhost:8080/",
          "height": 187
        }
      },
      "source": [
        "# Here you can output the dll and windows api used by a pe file\n",
        "# You may print dump_dict['Imported symbols'] first\n",
        "# and try to locate the info you want to retrive.\n",
        "\n",
        "api_dict = dict()\n",
        "for records in first_dict['Imported symbols']:\n",
        "  for record in records:\n",
        "    if 'Name' in record:\n",
        "      if isinstance(record['Name'], bytes):\n",
        "        dll = record['DLL'].decode(\"ascii\")\n",
        "        name = record['Name'].decode(\"ascii\")\n",
        "        if dll not in api_dict:\n",
        "          api_dict[dll] = set()\n",
        "        api_dict[dll].add(name)\n",
        "\n",
        "for dll in api_dict:\n",
        "  print(dll)\n",
        "  print(\"\", api_dict[dll])"
      ],
      "execution_count": 18,
      "outputs": [
        {
          "output_type": "stream",
          "text": [
            "KERNEL32.DLL\n",
            " {'GetProcAddress', 'ExitProcess', 'LoadLibraryA'}\n",
            "ADVAPI32.dll\n",
            " {'RegCloseKey'}\n",
            "MSVCRT.dll\n",
            " {'rand'}\n",
            "USER32.dll\n",
            " {'wsprintfA'}\n",
            "WININET.dll\n",
            " {'InternetOpenA'}\n"
          ],
          "name": "stdout"
        }
      ]
    },
    {
      "cell_type": "markdown",
      "metadata": {
        "id": "wO_ubYtCWcer",
        "colab_type": "text"
      },
      "source": [
        "### Extract more information\n",
        "\n",
        "Now its your turn.\n",
        "Try to buld a feature table for these 40 malwares.\n",
        "Here is an example for api call."
      ]
    },
    {
      "cell_type": "code",
      "metadata": {
        "id": "fm8pQyFrWuB6",
        "colab_type": "code",
        "colab": {}
      },
      "source": [
        "api_set = set()\n",
        "for key in pef_dumpdicts.keys(): # iter 40 malwares\n",
        "  pef_dump_dict = pef_dumpdicts[key]\n",
        "  for records in pef_dump_dict['Imported symbols']:\n",
        "    for record in records:\n",
        "      if 'Name' in record:\n",
        "        if isinstance(record['Name'], bytes):\n",
        "          name = record['Name'].decode(\"ascii\")\n",
        "          api_set.add(name)\n",
        "\n",
        "api_list = list(api_set) "
      ],
      "execution_count": 0,
      "outputs": []
    },
    {
      "cell_type": "code",
      "metadata": {
        "id": "V_mcz6G5jRlZ",
        "colab_type": "code",
        "outputId": "d13520f0-811f-4a6f-f892-9d19baaf0da8",
        "colab": {
          "base_uri": "https://localhost:8080/",
          "height": 136
        }
      },
      "source": [
        "api_list"
      ],
      "execution_count": 20,
      "outputs": [
        {
          "output_type": "execute_result",
          "data": {
            "text/plain": [
              "['ExitProcess',\n",
              " 'LoadLibraryA',\n",
              " 'InternetOpenA',\n",
              " 'wsprintfA',\n",
              " 'rand',\n",
              " 'RegCloseKey',\n",
              " 'GetProcAddress']"
            ]
          },
          "metadata": {
            "tags": []
          },
          "execution_count": 20
        }
      ]
    },
    {
      "cell_type": "markdown",
      "metadata": {
        "id": "8PpRf7Jnj4UI",
        "colab_type": "text"
      },
      "source": [
        "Now you find an interesting thing, that all 40 malwares calls these 7 APIs. So it is impossible to distinguish them by using these 7 APIs. So please try to use some other features."
      ]
    },
    {
      "cell_type": "markdown",
      "metadata": {
        "id": "fi5esIstkNBe",
        "colab_type": "text"
      },
      "source": [
        "Hint #1: these malwares are packed. UPX may unpacked them.\n",
        "\n",
        "Hint #2: these 40 malware samples are from 4 families. Can you classify or cluster them into 4 groups?"
      ]
    },
    {
      "cell_type": "markdown",
      "metadata": {
        "id": "ET51zJ2MkLKo",
        "colab_type": "text"
      },
      "source": [
        "### Your solution"
      ]
    },
    {
      "cell_type": "code",
      "metadata": {
        "id": "FtkV-RSzeY6A",
        "colab_type": "code",
        "colab": {}
      },
      "source": [
        "import pandas as pd\n",
        "data = pd.DataFrame(pef_dumpdicts).T\n",
        "data.index.name = 'id'"
      ],
      "execution_count": 0,
      "outputs": []
    },
    {
      "cell_type": "code",
      "metadata": {
        "id": "KGLZtZMLeY9p",
        "colab_type": "code",
        "colab": {
          "base_uri": "https://localhost:8080/",
          "height": 216
        },
        "outputId": "33b7d7cd-8d48-49ef-d74a-84ef2907e909"
      },
      "source": [
        "data.head(1)"
      ],
      "execution_count": 22,
      "outputs": [
        {
          "output_type": "execute_result",
          "data": {
            "text/html": [
              "<div>\n",
              "<style scoped>\n",
              "    .dataframe tbody tr th:only-of-type {\n",
              "        vertical-align: middle;\n",
              "    }\n",
              "\n",
              "    .dataframe tbody tr th {\n",
              "        vertical-align: top;\n",
              "    }\n",
              "\n",
              "    .dataframe thead th {\n",
              "        text-align: right;\n",
              "    }\n",
              "</style>\n",
              "<table border=\"1\" class=\"dataframe\">\n",
              "  <thead>\n",
              "    <tr style=\"text-align: right;\">\n",
              "      <th></th>\n",
              "      <th>Parsing Warnings</th>\n",
              "      <th>DOS_HEADER</th>\n",
              "      <th>NT_HEADERS</th>\n",
              "      <th>FILE_HEADER</th>\n",
              "      <th>Flags</th>\n",
              "      <th>OPTIONAL_HEADER</th>\n",
              "      <th>DllCharacteristics</th>\n",
              "      <th>PE Sections</th>\n",
              "      <th>Directories</th>\n",
              "      <th>Imported symbols</th>\n",
              "    </tr>\n",
              "    <tr>\n",
              "      <th>id</th>\n",
              "      <th></th>\n",
              "      <th></th>\n",
              "      <th></th>\n",
              "      <th></th>\n",
              "      <th></th>\n",
              "      <th></th>\n",
              "      <th></th>\n",
              "      <th></th>\n",
              "      <th></th>\n",
              "      <th></th>\n",
              "    </tr>\n",
              "  </thead>\n",
              "  <tbody>\n",
              "    <tr>\n",
              "      <th>07edeebc14b053fffdfb4dcc08959360</th>\n",
              "      <td>[Suspicious flags set for section 0. Both IMAG...</td>\n",
              "      <td>{'Structure': 'IMAGE_DOS_HEADER', 'e_magic': {...</td>\n",
              "      <td>{'Structure': 'IMAGE_NT_HEADERS', 'Signature':...</td>\n",
              "      <td>{'Structure': 'IMAGE_FILE_HEADER', 'Machine': ...</td>\n",
              "      <td>[IMAGE_FILE_RELOCS_STRIPPED, IMAGE_FILE_EXECUT...</td>\n",
              "      <td>{'Structure': 'IMAGE_OPTIONAL_HEADER', 'Magic'...</td>\n",
              "      <td>[]</td>\n",
              "      <td>[{'Structure': 'IMAGE_SECTION_HEADER', 'Name':...</td>\n",
              "      <td>[{'Structure': 'IMAGE_DIRECTORY_ENTRY_EXPORT',...</td>\n",
              "      <td>[[{'Structure': 'IMAGE_IMPORT_DESCRIPTOR', 'Or...</td>\n",
              "    </tr>\n",
              "  </tbody>\n",
              "</table>\n",
              "</div>"
            ],
            "text/plain": [
              "                                                                   Parsing Warnings  ...                                   Imported symbols\n",
              "id                                                                                   ...                                                   \n",
              "07edeebc14b053fffdfb4dcc08959360  [Suspicious flags set for section 0. Both IMAG...  ...  [[{'Structure': 'IMAGE_IMPORT_DESCRIPTOR', 'Or...\n",
              "\n",
              "[1 rows x 10 columns]"
            ]
          },
          "metadata": {
            "tags": []
          },
          "execution_count": 22
        }
      ]
    },
    {
      "cell_type": "code",
      "metadata": {
        "id": "liJeRN-u0lmm",
        "colab_type": "code",
        "colab": {}
      },
      "source": [
        "data.drop('DOS_HEADER',axis = 1, inplace=True)\n",
        "data.drop('NT_HEADERS',axis = 1, inplace=True)\n",
        "data.drop('FILE_HEADER',axis = 1, inplace=True)\n",
        "data.drop('Flags',axis = 1, inplace=True)\n",
        "data.drop('OPTIONAL_HEADER',axis = 1, inplace=True)\n",
        "data.drop('DllCharacteristics',axis = 1, inplace=True)\n",
        "data.drop('PE Sections',axis = 1, inplace=True)\n",
        "data.drop('Imported symbols',axis = 1, inplace=True)\n",
        "data.drop('Parsing Warnings',axis = 1, inplace=True)\n",
        "data.drop('Directories',axis = 1, inplace=True)"
      ],
      "execution_count": 0,
      "outputs": []
    },
    {
      "cell_type": "code",
      "metadata": {
        "id": "PvdQuh3F0dIw",
        "colab_type": "code",
        "colab": {
          "base_uri": "https://localhost:8080/",
          "height": 156
        },
        "outputId": "6611a92f-c080-432a-aca5-0bcb7f5bb58f"
      },
      "source": [
        "data.head(3)"
      ],
      "execution_count": 24,
      "outputs": [
        {
          "output_type": "execute_result",
          "data": {
            "text/html": [
              "<div>\n",
              "<style scoped>\n",
              "    .dataframe tbody tr th:only-of-type {\n",
              "        vertical-align: middle;\n",
              "    }\n",
              "\n",
              "    .dataframe tbody tr th {\n",
              "        vertical-align: top;\n",
              "    }\n",
              "\n",
              "    .dataframe thead th {\n",
              "        text-align: right;\n",
              "    }\n",
              "</style>\n",
              "<table border=\"1\" class=\"dataframe\">\n",
              "  <thead>\n",
              "    <tr style=\"text-align: right;\">\n",
              "      <th></th>\n",
              "    </tr>\n",
              "    <tr>\n",
              "      <th>id</th>\n",
              "    </tr>\n",
              "  </thead>\n",
              "  <tbody>\n",
              "    <tr>\n",
              "      <th>07edeebc14b053fffdfb4dcc08959360</th>\n",
              "    </tr>\n",
              "    <tr>\n",
              "      <th>0cfab9961285ab6e04f449c6d09cec37</th>\n",
              "    </tr>\n",
              "    <tr>\n",
              "      <th>2c1e90810ca30865cbf4440118c4aa0f</th>\n",
              "    </tr>\n",
              "  </tbody>\n",
              "</table>\n",
              "</div>"
            ],
            "text/plain": [
              "Empty DataFrame\n",
              "Columns: []\n",
              "Index: [07edeebc14b053fffdfb4dcc08959360, 0cfab9961285ab6e04f449c6d09cec37, 2c1e90810ca30865cbf4440118c4aa0f]"
            ]
          },
          "metadata": {
            "tags": []
          },
          "execution_count": 24
        }
      ]
    },
    {
      "cell_type": "code",
      "metadata": {
        "id": "27pnSOzJ2IeJ",
        "colab_type": "code",
        "colab": {
          "base_uri": "https://localhost:8080/",
          "height": 94
        },
        "outputId": "cc96c8fc-fa00-4dbf-9e0f-467d01a63aa7"
      },
      "source": [
        "dataCopy = data.copy()\n",
        "dataCopy.head(1)"
      ],
      "execution_count": 25,
      "outputs": [
        {
          "output_type": "execute_result",
          "data": {
            "text/html": [
              "<div>\n",
              "<style scoped>\n",
              "    .dataframe tbody tr th:only-of-type {\n",
              "        vertical-align: middle;\n",
              "    }\n",
              "\n",
              "    .dataframe tbody tr th {\n",
              "        vertical-align: top;\n",
              "    }\n",
              "\n",
              "    .dataframe thead th {\n",
              "        text-align: right;\n",
              "    }\n",
              "</style>\n",
              "<table border=\"1\" class=\"dataframe\">\n",
              "  <thead>\n",
              "    <tr style=\"text-align: right;\">\n",
              "      <th></th>\n",
              "    </tr>\n",
              "    <tr>\n",
              "      <th>id</th>\n",
              "    </tr>\n",
              "  </thead>\n",
              "  <tbody>\n",
              "    <tr>\n",
              "      <th>07edeebc14b053fffdfb4dcc08959360</th>\n",
              "    </tr>\n",
              "  </tbody>\n",
              "</table>\n",
              "</div>"
            ],
            "text/plain": [
              "Empty DataFrame\n",
              "Columns: []\n",
              "Index: [07edeebc14b053fffdfb4dcc08959360]"
            ]
          },
          "metadata": {
            "tags": []
          },
          "execution_count": 25
        }
      ]
    },
    {
      "cell_type": "markdown",
      "metadata": {
        "id": "reT0AiCkS4eD",
        "colab_type": "text"
      },
      "source": [
        "# **file header**"
      ]
    },
    {
      "cell_type": "code",
      "metadata": {
        "id": "3fTGp4L7eZWK",
        "colab_type": "code",
        "colab": {
          "base_uri": "https://localhost:8080/",
          "height": 697
        },
        "outputId": "ba97b3d2-e08a-4349-9b8a-b68f67d59810"
      },
      "source": [
        "for key in pef_dumpdicts:\n",
        "  print(pef_dumpdicts[key]['FILE_HEADER']['NumberOfSections'])\n",
        "  dataCopy.loc[key, 'NumberOfSections_value'] = pef_dumpdicts[key]['FILE_HEADER']['NumberOfSections']['Value']"
      ],
      "execution_count": 26,
      "outputs": [
        {
          "output_type": "stream",
          "text": [
            "{'FileOffset': 222, 'Offset': 2, 'Value': 3}\n",
            "{'FileOffset': 222, 'Offset': 2, 'Value': 3}\n",
            "{'FileOffset': 222, 'Offset': 2, 'Value': 3}\n",
            "{'FileOffset': 222, 'Offset': 2, 'Value': 3}\n",
            "{'FileOffset': 222, 'Offset': 2, 'Value': 3}\n",
            "{'FileOffset': 222, 'Offset': 2, 'Value': 3}\n",
            "{'FileOffset': 222, 'Offset': 2, 'Value': 3}\n",
            "{'FileOffset': 222, 'Offset': 2, 'Value': 3}\n",
            "{'FileOffset': 222, 'Offset': 2, 'Value': 3}\n",
            "{'FileOffset': 222, 'Offset': 2, 'Value': 3}\n",
            "{'FileOffset': 222, 'Offset': 2, 'Value': 4}\n",
            "{'FileOffset': 222, 'Offset': 2, 'Value': 4}\n",
            "{'FileOffset': 222, 'Offset': 2, 'Value': 4}\n",
            "{'FileOffset': 222, 'Offset': 2, 'Value': 4}\n",
            "{'FileOffset': 222, 'Offset': 2, 'Value': 4}\n",
            "{'FileOffset': 222, 'Offset': 2, 'Value': 4}\n",
            "{'FileOffset': 222, 'Offset': 2, 'Value': 4}\n",
            "{'FileOffset': 222, 'Offset': 2, 'Value': 4}\n",
            "{'FileOffset': 222, 'Offset': 2, 'Value': 4}\n",
            "{'FileOffset': 222, 'Offset': 2, 'Value': 4}\n",
            "{'FileOffset': 222, 'Offset': 2, 'Value': 3}\n",
            "{'FileOffset': 222, 'Offset': 2, 'Value': 3}\n",
            "{'FileOffset': 222, 'Offset': 2, 'Value': 3}\n",
            "{'FileOffset': 222, 'Offset': 2, 'Value': 3}\n",
            "{'FileOffset': 222, 'Offset': 2, 'Value': 3}\n",
            "{'FileOffset': 222, 'Offset': 2, 'Value': 3}\n",
            "{'FileOffset': 222, 'Offset': 2, 'Value': 3}\n",
            "{'FileOffset': 222, 'Offset': 2, 'Value': 3}\n",
            "{'FileOffset': 222, 'Offset': 2, 'Value': 3}\n",
            "{'FileOffset': 222, 'Offset': 2, 'Value': 3}\n",
            "{'FileOffset': 222, 'Offset': 2, 'Value': 3}\n",
            "{'FileOffset': 222, 'Offset': 2, 'Value': 3}\n",
            "{'FileOffset': 222, 'Offset': 2, 'Value': 3}\n",
            "{'FileOffset': 222, 'Offset': 2, 'Value': 3}\n",
            "{'FileOffset': 222, 'Offset': 2, 'Value': 3}\n",
            "{'FileOffset': 214, 'Offset': 2, 'Value': 3}\n",
            "{'FileOffset': 222, 'Offset': 2, 'Value': 3}\n",
            "{'FileOffset': 222, 'Offset': 2, 'Value': 3}\n",
            "{'FileOffset': 222, 'Offset': 2, 'Value': 3}\n",
            "{'FileOffset': 222, 'Offset': 2, 'Value': 3}\n"
          ],
          "name": "stdout"
        }
      ]
    },
    {
      "cell_type": "code",
      "metadata": {
        "id": "PttcFvVV2jLn",
        "colab_type": "code",
        "colab": {
          "base_uri": "https://localhost:8080/",
          "height": 111
        },
        "outputId": "f7931a4b-bfd6-43eb-af0d-7506421c950f"
      },
      "source": [
        "dataCopy.head(1)"
      ],
      "execution_count": 27,
      "outputs": [
        {
          "output_type": "execute_result",
          "data": {
            "text/html": [
              "<div>\n",
              "<style scoped>\n",
              "    .dataframe tbody tr th:only-of-type {\n",
              "        vertical-align: middle;\n",
              "    }\n",
              "\n",
              "    .dataframe tbody tr th {\n",
              "        vertical-align: top;\n",
              "    }\n",
              "\n",
              "    .dataframe thead th {\n",
              "        text-align: right;\n",
              "    }\n",
              "</style>\n",
              "<table border=\"1\" class=\"dataframe\">\n",
              "  <thead>\n",
              "    <tr style=\"text-align: right;\">\n",
              "      <th></th>\n",
              "      <th>NumberOfSections_value</th>\n",
              "    </tr>\n",
              "    <tr>\n",
              "      <th>id</th>\n",
              "      <th></th>\n",
              "    </tr>\n",
              "  </thead>\n",
              "  <tbody>\n",
              "    <tr>\n",
              "      <th>07edeebc14b053fffdfb4dcc08959360</th>\n",
              "      <td>3.0</td>\n",
              "    </tr>\n",
              "  </tbody>\n",
              "</table>\n",
              "</div>"
            ],
            "text/plain": [
              "                                  NumberOfSections_value\n",
              "id                                                      \n",
              "07edeebc14b053fffdfb4dcc08959360                     3.0"
            ]
          },
          "metadata": {
            "tags": []
          },
          "execution_count": 27
        }
      ]
    },
    {
      "cell_type": "code",
      "metadata": {
        "id": "HYlZNm7ceZO8",
        "colab_type": "code",
        "colab": {}
      },
      "source": [
        "# for key in pef_dumpdicts:\n",
        "#   print(pef_dumpdicts[key]['FILE_HEADER']['TimeDateStamp'])\n",
        "#   dataCopy['FILE_HEADER_TimeDateStamp']"
      ],
      "execution_count": 0,
      "outputs": []
    },
    {
      "cell_type": "markdown",
      "metadata": {
        "id": "4WpT2ZC6Tsnq",
        "colab_type": "text"
      },
      "source": [
        "# **DOS_HEADER**"
      ]
    },
    {
      "cell_type": "code",
      "metadata": {
        "id": "nJqRn2kHTDBU",
        "colab_type": "code",
        "colab": {
          "base_uri": "https://localhost:8080/",
          "height": 697
        },
        "outputId": "be9d9e34-90ac-4da0-ca4c-933ed540ad0b"
      },
      "source": [
        "for key in pef_dumpdicts:\n",
        "  print(pef_dumpdicts[key]['DOS_HEADER']['e_res'])\n",
        "  dataCopy.loc[key,'DOS_HEADER_e_res_value'] = pef_dumpdicts[key]['DOS_HEADER']['e_res']['Value']"
      ],
      "execution_count": 29,
      "outputs": [
        {
          "output_type": "stream",
          "text": [
            "{'FileOffset': 28, 'Offset': 28, 'Value': '\\\\x00\\\\x00\\\\x00\\\\x00\\\\x00\\\\x00\\\\x00\\\\x00'}\n",
            "{'FileOffset': 28, 'Offset': 28, 'Value': '\\\\x00\\\\x00\\\\x00\\\\x00\\\\x00\\\\x00\\\\x00\\\\x00'}\n",
            "{'FileOffset': 28, 'Offset': 28, 'Value': '\\\\x00\\\\x00\\\\x00\\\\x00\\\\x00\\\\x00\\\\x00\\\\x00'}\n",
            "{'FileOffset': 28, 'Offset': 28, 'Value': '\\\\x00\\\\x00\\\\x00\\\\x00\\\\x00\\\\x00\\\\x00\\\\x00'}\n",
            "{'FileOffset': 28, 'Offset': 28, 'Value': '\\\\x00\\\\x00\\\\x00\\\\x00\\\\x00\\\\x00\\\\x00\\\\x00'}\n",
            "{'FileOffset': 28, 'Offset': 28, 'Value': '\\\\x00\\\\x00\\\\x00\\\\x00\\\\x00\\\\x00\\\\x00\\\\x00'}\n",
            "{'FileOffset': 28, 'Offset': 28, 'Value': '\\\\x00\\\\x00\\\\x00\\\\x00\\\\x00\\\\x00\\\\x00\\\\x00'}\n",
            "{'FileOffset': 28, 'Offset': 28, 'Value': '\\\\x00\\\\x00\\\\x00\\\\x00\\\\x00\\\\x00\\\\x00\\\\x00'}\n",
            "{'FileOffset': 28, 'Offset': 28, 'Value': '\\\\x00\\\\x00\\\\x00\\\\x00\\\\x00\\\\x00\\\\x00\\\\x00'}\n",
            "{'FileOffset': 28, 'Offset': 28, 'Value': '\\\\x00\\\\x00\\\\x00\\\\x00\\\\x00\\\\x00\\\\x00\\\\x00'}\n",
            "{'FileOffset': 28, 'Offset': 28, 'Value': '\\\\x00\\\\x00\\\\x00\\\\x00\\\\x00\\\\x00\\\\x00\\\\x00'}\n",
            "{'FileOffset': 28, 'Offset': 28, 'Value': '\\\\x00\\\\x00\\\\x00\\\\x00\\\\x00\\\\x00\\\\x00\\\\x00'}\n",
            "{'FileOffset': 28, 'Offset': 28, 'Value': '\\\\x00\\\\x00\\\\x00\\\\x00\\\\x00\\\\x00\\\\x00\\\\x00'}\n",
            "{'FileOffset': 28, 'Offset': 28, 'Value': '\\\\x00\\\\x00\\\\x00\\\\x00\\\\x00\\\\x00\\\\x00\\\\x00'}\n",
            "{'FileOffset': 28, 'Offset': 28, 'Value': '\\\\x00\\\\x00\\\\x00\\\\x00\\\\x00\\\\x00\\\\x00\\\\x00'}\n",
            "{'FileOffset': 28, 'Offset': 28, 'Value': '\\\\x00\\\\x00\\\\x00\\\\x00\\\\x00\\\\x00\\\\x00\\\\x00'}\n",
            "{'FileOffset': 28, 'Offset': 28, 'Value': '\\\\x00\\\\x00\\\\x00\\\\x00\\\\x00\\\\x00\\\\x00\\\\x00'}\n",
            "{'FileOffset': 28, 'Offset': 28, 'Value': '\\\\x00\\\\x00\\\\x00\\\\x00\\\\x00\\\\x00\\\\x00\\\\x00'}\n",
            "{'FileOffset': 28, 'Offset': 28, 'Value': '\\\\x00\\\\x00\\\\x00\\\\x00\\\\x00\\\\x00\\\\x00\\\\x00'}\n",
            "{'FileOffset': 28, 'Offset': 28, 'Value': '\\\\x00\\\\x00\\\\x00\\\\x00\\\\x00\\\\x00\\\\x00\\\\x00'}\n",
            "{'FileOffset': 28, 'Offset': 28, 'Value': '\\\\x00\\\\x00\\\\x00\\\\x00    '}\n",
            "{'FileOffset': 28, 'Offset': 28, 'Value': '\\\\x00\\\\x00\\\\x00\\\\x00    '}\n",
            "{'FileOffset': 28, 'Offset': 28, 'Value': '\\\\x00\\\\x00\\\\x00\\\\x00    '}\n",
            "{'FileOffset': 28, 'Offset': 28, 'Value': '\\\\x00\\\\x00\\\\x00\\\\x00    '}\n",
            "{'FileOffset': 28, 'Offset': 28, 'Value': '\\\\x00\\\\x00\\\\x00\\\\x00    '}\n",
            "{'FileOffset': 28, 'Offset': 28, 'Value': '\\\\x00\\\\x00\\\\x00\\\\x00    '}\n",
            "{'FileOffset': 28, 'Offset': 28, 'Value': '\\\\x00\\\\x00\\\\x00\\\\x00    '}\n",
            "{'FileOffset': 28, 'Offset': 28, 'Value': '\\\\x00\\\\x00\\\\x00\\\\x00    '}\n",
            "{'FileOffset': 28, 'Offset': 28, 'Value': '\\\\x00\\\\x00\\\\x00\\\\x00    '}\n",
            "{'FileOffset': 28, 'Offset': 28, 'Value': '\\\\x00\\\\x00\\\\x00\\\\x00    '}\n",
            "{'FileOffset': 28, 'Offset': 28, 'Value': '\\\\x00\\\\x00\\\\x00\\\\x00\\\\x00\\\\x00\\\\x00\\\\x00'}\n",
            "{'FileOffset': 28, 'Offset': 28, 'Value': '\\\\x00\\\\x00\\\\x00\\\\x00\\\\x00\\\\x00\\\\x00\\\\x00'}\n",
            "{'FileOffset': 28, 'Offset': 28, 'Value': '\\\\x00\\\\x00\\\\x00\\\\x00\\\\x00\\\\x00\\\\x00\\\\x00'}\n",
            "{'FileOffset': 28, 'Offset': 28, 'Value': '\\\\x00\\\\x00\\\\x00\\\\x00\\\\x00\\\\x00\\\\x00\\\\x00'}\n",
            "{'FileOffset': 28, 'Offset': 28, 'Value': '\\\\x00\\\\x00\\\\x00\\\\x00    '}\n",
            "{'FileOffset': 28, 'Offset': 28, 'Value': '\\\\x00\\\\x00\\\\x00\\\\x00\\\\x00\\\\x00\\\\x00\\\\x00'}\n",
            "{'FileOffset': 28, 'Offset': 28, 'Value': '\\\\x00\\\\x00\\\\x00\\\\x00\\\\x00\\\\x00\\\\x00\\\\x00'}\n",
            "{'FileOffset': 28, 'Offset': 28, 'Value': '\\\\x00\\\\x00\\\\x00\\\\x00\\\\x00\\\\x00\\\\x00\\\\x00'}\n",
            "{'FileOffset': 28, 'Offset': 28, 'Value': '\\\\x00\\\\x00\\\\x00\\\\x00\\\\x00\\\\x00\\\\x00\\\\x00'}\n",
            "{'FileOffset': 28, 'Offset': 28, 'Value': '\\\\x00\\\\x00\\\\x00\\\\x00\\\\x00\\\\x00\\\\x00\\\\x00'}\n"
          ],
          "name": "stdout"
        }
      ]
    },
    {
      "cell_type": "code",
      "metadata": {
        "id": "Nc-qTkcX3Mr3",
        "colab_type": "code",
        "colab": {
          "base_uri": "https://localhost:8080/",
          "height": 111
        },
        "outputId": "a5a2fb08-4ded-44a8-f891-692a8df2d6a9"
      },
      "source": [
        "dataCopy.head(1)"
      ],
      "execution_count": 30,
      "outputs": [
        {
          "output_type": "execute_result",
          "data": {
            "text/html": [
              "<div>\n",
              "<style scoped>\n",
              "    .dataframe tbody tr th:only-of-type {\n",
              "        vertical-align: middle;\n",
              "    }\n",
              "\n",
              "    .dataframe tbody tr th {\n",
              "        vertical-align: top;\n",
              "    }\n",
              "\n",
              "    .dataframe thead th {\n",
              "        text-align: right;\n",
              "    }\n",
              "</style>\n",
              "<table border=\"1\" class=\"dataframe\">\n",
              "  <thead>\n",
              "    <tr style=\"text-align: right;\">\n",
              "      <th></th>\n",
              "      <th>NumberOfSections_value</th>\n",
              "      <th>DOS_HEADER_e_res_value</th>\n",
              "    </tr>\n",
              "    <tr>\n",
              "      <th>id</th>\n",
              "      <th></th>\n",
              "      <th></th>\n",
              "    </tr>\n",
              "  </thead>\n",
              "  <tbody>\n",
              "    <tr>\n",
              "      <th>07edeebc14b053fffdfb4dcc08959360</th>\n",
              "      <td>3.0</td>\n",
              "      <td>\\x00\\x00\\x00\\x00\\x00\\x00\\x00\\x00</td>\n",
              "    </tr>\n",
              "  </tbody>\n",
              "</table>\n",
              "</div>"
            ],
            "text/plain": [
              "                                  NumberOfSections_value            DOS_HEADER_e_res_value\n",
              "id                                                                                        \n",
              "07edeebc14b053fffdfb4dcc08959360                     3.0  \\x00\\x00\\x00\\x00\\x00\\x00\\x00\\x00"
            ]
          },
          "metadata": {
            "tags": []
          },
          "execution_count": 30
        }
      ]
    },
    {
      "cell_type": "markdown",
      "metadata": {
        "id": "IUYkSKn7T-QQ",
        "colab_type": "text"
      },
      "source": [
        "# **NT_HEADERS**"
      ]
    },
    {
      "cell_type": "code",
      "metadata": {
        "id": "JqwBQP68Tc_L",
        "colab_type": "code",
        "colab": {
          "base_uri": "https://localhost:8080/",
          "height": 697
        },
        "outputId": "b9ae8002-f1fe-4786-bce5-c540b869ca36"
      },
      "source": [
        "for key in pef_dumpdicts:\n",
        "  print(pef_dumpdicts[key]['NT_HEADERS']) #沒用"
      ],
      "execution_count": 31,
      "outputs": [
        {
          "output_type": "stream",
          "text": [
            "{'Structure': 'IMAGE_NT_HEADERS', 'Signature': {'FileOffset': 216, 'Offset': 0, 'Value': 17744}}\n",
            "{'Structure': 'IMAGE_NT_HEADERS', 'Signature': {'FileOffset': 216, 'Offset': 0, 'Value': 17744}}\n",
            "{'Structure': 'IMAGE_NT_HEADERS', 'Signature': {'FileOffset': 216, 'Offset': 0, 'Value': 17744}}\n",
            "{'Structure': 'IMAGE_NT_HEADERS', 'Signature': {'FileOffset': 216, 'Offset': 0, 'Value': 17744}}\n",
            "{'Structure': 'IMAGE_NT_HEADERS', 'Signature': {'FileOffset': 216, 'Offset': 0, 'Value': 17744}}\n",
            "{'Structure': 'IMAGE_NT_HEADERS', 'Signature': {'FileOffset': 216, 'Offset': 0, 'Value': 17744}}\n",
            "{'Structure': 'IMAGE_NT_HEADERS', 'Signature': {'FileOffset': 216, 'Offset': 0, 'Value': 17744}}\n",
            "{'Structure': 'IMAGE_NT_HEADERS', 'Signature': {'FileOffset': 216, 'Offset': 0, 'Value': 17744}}\n",
            "{'Structure': 'IMAGE_NT_HEADERS', 'Signature': {'FileOffset': 216, 'Offset': 0, 'Value': 17744}}\n",
            "{'Structure': 'IMAGE_NT_HEADERS', 'Signature': {'FileOffset': 216, 'Offset': 0, 'Value': 17744}}\n",
            "{'Structure': 'IMAGE_NT_HEADERS', 'Signature': {'FileOffset': 216, 'Offset': 0, 'Value': 17744}}\n",
            "{'Structure': 'IMAGE_NT_HEADERS', 'Signature': {'FileOffset': 216, 'Offset': 0, 'Value': 17744}}\n",
            "{'Structure': 'IMAGE_NT_HEADERS', 'Signature': {'FileOffset': 216, 'Offset': 0, 'Value': 17744}}\n",
            "{'Structure': 'IMAGE_NT_HEADERS', 'Signature': {'FileOffset': 216, 'Offset': 0, 'Value': 17744}}\n",
            "{'Structure': 'IMAGE_NT_HEADERS', 'Signature': {'FileOffset': 216, 'Offset': 0, 'Value': 17744}}\n",
            "{'Structure': 'IMAGE_NT_HEADERS', 'Signature': {'FileOffset': 216, 'Offset': 0, 'Value': 17744}}\n",
            "{'Structure': 'IMAGE_NT_HEADERS', 'Signature': {'FileOffset': 216, 'Offset': 0, 'Value': 17744}}\n",
            "{'Structure': 'IMAGE_NT_HEADERS', 'Signature': {'FileOffset': 216, 'Offset': 0, 'Value': 17744}}\n",
            "{'Structure': 'IMAGE_NT_HEADERS', 'Signature': {'FileOffset': 216, 'Offset': 0, 'Value': 17744}}\n",
            "{'Structure': 'IMAGE_NT_HEADERS', 'Signature': {'FileOffset': 216, 'Offset': 0, 'Value': 17744}}\n",
            "{'Structure': 'IMAGE_NT_HEADERS', 'Signature': {'FileOffset': 216, 'Offset': 0, 'Value': 17744}}\n",
            "{'Structure': 'IMAGE_NT_HEADERS', 'Signature': {'FileOffset': 216, 'Offset': 0, 'Value': 17744}}\n",
            "{'Structure': 'IMAGE_NT_HEADERS', 'Signature': {'FileOffset': 216, 'Offset': 0, 'Value': 17744}}\n",
            "{'Structure': 'IMAGE_NT_HEADERS', 'Signature': {'FileOffset': 216, 'Offset': 0, 'Value': 17744}}\n",
            "{'Structure': 'IMAGE_NT_HEADERS', 'Signature': {'FileOffset': 216, 'Offset': 0, 'Value': 17744}}\n",
            "{'Structure': 'IMAGE_NT_HEADERS', 'Signature': {'FileOffset': 216, 'Offset': 0, 'Value': 17744}}\n",
            "{'Structure': 'IMAGE_NT_HEADERS', 'Signature': {'FileOffset': 216, 'Offset': 0, 'Value': 17744}}\n",
            "{'Structure': 'IMAGE_NT_HEADERS', 'Signature': {'FileOffset': 216, 'Offset': 0, 'Value': 17744}}\n",
            "{'Structure': 'IMAGE_NT_HEADERS', 'Signature': {'FileOffset': 216, 'Offset': 0, 'Value': 17744}}\n",
            "{'Structure': 'IMAGE_NT_HEADERS', 'Signature': {'FileOffset': 216, 'Offset': 0, 'Value': 17744}}\n",
            "{'Structure': 'IMAGE_NT_HEADERS', 'Signature': {'FileOffset': 216, 'Offset': 0, 'Value': 17744}}\n",
            "{'Structure': 'IMAGE_NT_HEADERS', 'Signature': {'FileOffset': 216, 'Offset': 0, 'Value': 17744}}\n",
            "{'Structure': 'IMAGE_NT_HEADERS', 'Signature': {'FileOffset': 216, 'Offset': 0, 'Value': 17744}}\n",
            "{'Structure': 'IMAGE_NT_HEADERS', 'Signature': {'FileOffset': 216, 'Offset': 0, 'Value': 17744}}\n",
            "{'Structure': 'IMAGE_NT_HEADERS', 'Signature': {'FileOffset': 216, 'Offset': 0, 'Value': 17744}}\n",
            "{'Structure': 'IMAGE_NT_HEADERS', 'Signature': {'FileOffset': 208, 'Offset': 0, 'Value': 17744}}\n",
            "{'Structure': 'IMAGE_NT_HEADERS', 'Signature': {'FileOffset': 216, 'Offset': 0, 'Value': 17744}}\n",
            "{'Structure': 'IMAGE_NT_HEADERS', 'Signature': {'FileOffset': 216, 'Offset': 0, 'Value': 17744}}\n",
            "{'Structure': 'IMAGE_NT_HEADERS', 'Signature': {'FileOffset': 216, 'Offset': 0, 'Value': 17744}}\n",
            "{'Structure': 'IMAGE_NT_HEADERS', 'Signature': {'FileOffset': 216, 'Offset': 0, 'Value': 17744}}\n"
          ],
          "name": "stdout"
        }
      ]
    },
    {
      "cell_type": "markdown",
      "metadata": {
        "id": "5vajlMz2UBGA",
        "colab_type": "text"
      },
      "source": [
        "## **Flags**"
      ]
    },
    {
      "cell_type": "code",
      "metadata": {
        "id": "S6kJaITeT6i5",
        "colab_type": "code",
        "colab": {
          "base_uri": "https://localhost:8080/",
          "height": 697
        },
        "outputId": "552397a7-cf07-4917-9f3d-912ab3090a8a"
      },
      "source": [
        "for key in pef_dumpdicts:\n",
        "  print(pef_dumpdicts[key]['Flags'])#沒用"
      ],
      "execution_count": 32,
      "outputs": [
        {
          "output_type": "stream",
          "text": [
            "['IMAGE_FILE_RELOCS_STRIPPED', 'IMAGE_FILE_EXECUTABLE_IMAGE', 'IMAGE_FILE_LINE_NUMS_STRIPPED', 'IMAGE_FILE_LOCAL_SYMS_STRIPPED', 'IMAGE_FILE_32BIT_MACHINE']\n",
            "['IMAGE_FILE_RELOCS_STRIPPED', 'IMAGE_FILE_EXECUTABLE_IMAGE', 'IMAGE_FILE_LINE_NUMS_STRIPPED', 'IMAGE_FILE_LOCAL_SYMS_STRIPPED', 'IMAGE_FILE_32BIT_MACHINE']\n",
            "['IMAGE_FILE_RELOCS_STRIPPED', 'IMAGE_FILE_EXECUTABLE_IMAGE', 'IMAGE_FILE_LINE_NUMS_STRIPPED', 'IMAGE_FILE_LOCAL_SYMS_STRIPPED', 'IMAGE_FILE_32BIT_MACHINE']\n",
            "['IMAGE_FILE_RELOCS_STRIPPED', 'IMAGE_FILE_EXECUTABLE_IMAGE', 'IMAGE_FILE_LINE_NUMS_STRIPPED', 'IMAGE_FILE_LOCAL_SYMS_STRIPPED', 'IMAGE_FILE_32BIT_MACHINE']\n",
            "['IMAGE_FILE_RELOCS_STRIPPED', 'IMAGE_FILE_EXECUTABLE_IMAGE', 'IMAGE_FILE_LINE_NUMS_STRIPPED', 'IMAGE_FILE_LOCAL_SYMS_STRIPPED', 'IMAGE_FILE_32BIT_MACHINE']\n",
            "['IMAGE_FILE_RELOCS_STRIPPED', 'IMAGE_FILE_EXECUTABLE_IMAGE', 'IMAGE_FILE_LINE_NUMS_STRIPPED', 'IMAGE_FILE_LOCAL_SYMS_STRIPPED', 'IMAGE_FILE_32BIT_MACHINE']\n",
            "['IMAGE_FILE_RELOCS_STRIPPED', 'IMAGE_FILE_EXECUTABLE_IMAGE', 'IMAGE_FILE_LINE_NUMS_STRIPPED', 'IMAGE_FILE_LOCAL_SYMS_STRIPPED', 'IMAGE_FILE_32BIT_MACHINE']\n",
            "['IMAGE_FILE_RELOCS_STRIPPED', 'IMAGE_FILE_EXECUTABLE_IMAGE', 'IMAGE_FILE_LINE_NUMS_STRIPPED', 'IMAGE_FILE_LOCAL_SYMS_STRIPPED', 'IMAGE_FILE_32BIT_MACHINE']\n",
            "['IMAGE_FILE_RELOCS_STRIPPED', 'IMAGE_FILE_EXECUTABLE_IMAGE', 'IMAGE_FILE_LINE_NUMS_STRIPPED', 'IMAGE_FILE_LOCAL_SYMS_STRIPPED', 'IMAGE_FILE_32BIT_MACHINE']\n",
            "['IMAGE_FILE_RELOCS_STRIPPED', 'IMAGE_FILE_EXECUTABLE_IMAGE', 'IMAGE_FILE_LINE_NUMS_STRIPPED', 'IMAGE_FILE_LOCAL_SYMS_STRIPPED', 'IMAGE_FILE_32BIT_MACHINE']\n",
            "['IMAGE_FILE_RELOCS_STRIPPED', 'IMAGE_FILE_EXECUTABLE_IMAGE', 'IMAGE_FILE_LINE_NUMS_STRIPPED', 'IMAGE_FILE_LOCAL_SYMS_STRIPPED', 'IMAGE_FILE_32BIT_MACHINE']\n",
            "['IMAGE_FILE_RELOCS_STRIPPED', 'IMAGE_FILE_EXECUTABLE_IMAGE', 'IMAGE_FILE_LINE_NUMS_STRIPPED', 'IMAGE_FILE_LOCAL_SYMS_STRIPPED', 'IMAGE_FILE_32BIT_MACHINE']\n",
            "['IMAGE_FILE_RELOCS_STRIPPED', 'IMAGE_FILE_EXECUTABLE_IMAGE', 'IMAGE_FILE_LINE_NUMS_STRIPPED', 'IMAGE_FILE_LOCAL_SYMS_STRIPPED', 'IMAGE_FILE_32BIT_MACHINE']\n",
            "['IMAGE_FILE_RELOCS_STRIPPED', 'IMAGE_FILE_EXECUTABLE_IMAGE', 'IMAGE_FILE_LINE_NUMS_STRIPPED', 'IMAGE_FILE_LOCAL_SYMS_STRIPPED', 'IMAGE_FILE_32BIT_MACHINE']\n",
            "['IMAGE_FILE_RELOCS_STRIPPED', 'IMAGE_FILE_EXECUTABLE_IMAGE', 'IMAGE_FILE_LINE_NUMS_STRIPPED', 'IMAGE_FILE_LOCAL_SYMS_STRIPPED', 'IMAGE_FILE_32BIT_MACHINE']\n",
            "['IMAGE_FILE_RELOCS_STRIPPED', 'IMAGE_FILE_EXECUTABLE_IMAGE', 'IMAGE_FILE_LINE_NUMS_STRIPPED', 'IMAGE_FILE_LOCAL_SYMS_STRIPPED', 'IMAGE_FILE_32BIT_MACHINE']\n",
            "['IMAGE_FILE_RELOCS_STRIPPED', 'IMAGE_FILE_EXECUTABLE_IMAGE', 'IMAGE_FILE_LINE_NUMS_STRIPPED', 'IMAGE_FILE_LOCAL_SYMS_STRIPPED', 'IMAGE_FILE_32BIT_MACHINE']\n",
            "['IMAGE_FILE_RELOCS_STRIPPED', 'IMAGE_FILE_EXECUTABLE_IMAGE', 'IMAGE_FILE_LINE_NUMS_STRIPPED', 'IMAGE_FILE_LOCAL_SYMS_STRIPPED', 'IMAGE_FILE_32BIT_MACHINE']\n",
            "['IMAGE_FILE_RELOCS_STRIPPED', 'IMAGE_FILE_EXECUTABLE_IMAGE', 'IMAGE_FILE_LINE_NUMS_STRIPPED', 'IMAGE_FILE_LOCAL_SYMS_STRIPPED', 'IMAGE_FILE_32BIT_MACHINE']\n",
            "['IMAGE_FILE_RELOCS_STRIPPED', 'IMAGE_FILE_EXECUTABLE_IMAGE', 'IMAGE_FILE_LINE_NUMS_STRIPPED', 'IMAGE_FILE_LOCAL_SYMS_STRIPPED', 'IMAGE_FILE_32BIT_MACHINE']\n",
            "['IMAGE_FILE_RELOCS_STRIPPED', 'IMAGE_FILE_EXECUTABLE_IMAGE', 'IMAGE_FILE_LINE_NUMS_STRIPPED', 'IMAGE_FILE_LOCAL_SYMS_STRIPPED', 'IMAGE_FILE_32BIT_MACHINE']\n",
            "['IMAGE_FILE_RELOCS_STRIPPED', 'IMAGE_FILE_EXECUTABLE_IMAGE', 'IMAGE_FILE_LINE_NUMS_STRIPPED', 'IMAGE_FILE_LOCAL_SYMS_STRIPPED', 'IMAGE_FILE_32BIT_MACHINE']\n",
            "['IMAGE_FILE_RELOCS_STRIPPED', 'IMAGE_FILE_EXECUTABLE_IMAGE', 'IMAGE_FILE_LINE_NUMS_STRIPPED', 'IMAGE_FILE_LOCAL_SYMS_STRIPPED', 'IMAGE_FILE_32BIT_MACHINE']\n",
            "['IMAGE_FILE_RELOCS_STRIPPED', 'IMAGE_FILE_EXECUTABLE_IMAGE', 'IMAGE_FILE_LINE_NUMS_STRIPPED', 'IMAGE_FILE_LOCAL_SYMS_STRIPPED', 'IMAGE_FILE_32BIT_MACHINE']\n",
            "['IMAGE_FILE_RELOCS_STRIPPED', 'IMAGE_FILE_EXECUTABLE_IMAGE', 'IMAGE_FILE_LINE_NUMS_STRIPPED', 'IMAGE_FILE_LOCAL_SYMS_STRIPPED', 'IMAGE_FILE_32BIT_MACHINE']\n",
            "['IMAGE_FILE_RELOCS_STRIPPED', 'IMAGE_FILE_EXECUTABLE_IMAGE', 'IMAGE_FILE_LINE_NUMS_STRIPPED', 'IMAGE_FILE_LOCAL_SYMS_STRIPPED', 'IMAGE_FILE_32BIT_MACHINE']\n",
            "['IMAGE_FILE_RELOCS_STRIPPED', 'IMAGE_FILE_EXECUTABLE_IMAGE', 'IMAGE_FILE_LINE_NUMS_STRIPPED', 'IMAGE_FILE_LOCAL_SYMS_STRIPPED', 'IMAGE_FILE_32BIT_MACHINE']\n",
            "['IMAGE_FILE_RELOCS_STRIPPED', 'IMAGE_FILE_EXECUTABLE_IMAGE', 'IMAGE_FILE_LINE_NUMS_STRIPPED', 'IMAGE_FILE_LOCAL_SYMS_STRIPPED', 'IMAGE_FILE_32BIT_MACHINE']\n",
            "['IMAGE_FILE_RELOCS_STRIPPED', 'IMAGE_FILE_EXECUTABLE_IMAGE', 'IMAGE_FILE_LINE_NUMS_STRIPPED', 'IMAGE_FILE_LOCAL_SYMS_STRIPPED', 'IMAGE_FILE_32BIT_MACHINE']\n",
            "['IMAGE_FILE_RELOCS_STRIPPED', 'IMAGE_FILE_EXECUTABLE_IMAGE', 'IMAGE_FILE_LINE_NUMS_STRIPPED', 'IMAGE_FILE_LOCAL_SYMS_STRIPPED', 'IMAGE_FILE_32BIT_MACHINE']\n",
            "['IMAGE_FILE_RELOCS_STRIPPED', 'IMAGE_FILE_EXECUTABLE_IMAGE', 'IMAGE_FILE_LINE_NUMS_STRIPPED', 'IMAGE_FILE_LOCAL_SYMS_STRIPPED', 'IMAGE_FILE_32BIT_MACHINE']\n",
            "['IMAGE_FILE_RELOCS_STRIPPED', 'IMAGE_FILE_EXECUTABLE_IMAGE', 'IMAGE_FILE_LINE_NUMS_STRIPPED', 'IMAGE_FILE_LOCAL_SYMS_STRIPPED', 'IMAGE_FILE_32BIT_MACHINE']\n",
            "['IMAGE_FILE_RELOCS_STRIPPED', 'IMAGE_FILE_EXECUTABLE_IMAGE', 'IMAGE_FILE_LINE_NUMS_STRIPPED', 'IMAGE_FILE_LOCAL_SYMS_STRIPPED', 'IMAGE_FILE_32BIT_MACHINE']\n",
            "['IMAGE_FILE_RELOCS_STRIPPED', 'IMAGE_FILE_EXECUTABLE_IMAGE', 'IMAGE_FILE_LINE_NUMS_STRIPPED', 'IMAGE_FILE_LOCAL_SYMS_STRIPPED', 'IMAGE_FILE_32BIT_MACHINE']\n",
            "['IMAGE_FILE_RELOCS_STRIPPED', 'IMAGE_FILE_EXECUTABLE_IMAGE', 'IMAGE_FILE_LINE_NUMS_STRIPPED', 'IMAGE_FILE_LOCAL_SYMS_STRIPPED', 'IMAGE_FILE_32BIT_MACHINE']\n",
            "['IMAGE_FILE_RELOCS_STRIPPED', 'IMAGE_FILE_EXECUTABLE_IMAGE', 'IMAGE_FILE_LINE_NUMS_STRIPPED', 'IMAGE_FILE_LOCAL_SYMS_STRIPPED', 'IMAGE_FILE_32BIT_MACHINE']\n",
            "['IMAGE_FILE_RELOCS_STRIPPED', 'IMAGE_FILE_EXECUTABLE_IMAGE', 'IMAGE_FILE_LINE_NUMS_STRIPPED', 'IMAGE_FILE_LOCAL_SYMS_STRIPPED', 'IMAGE_FILE_32BIT_MACHINE']\n",
            "['IMAGE_FILE_RELOCS_STRIPPED', 'IMAGE_FILE_EXECUTABLE_IMAGE', 'IMAGE_FILE_LINE_NUMS_STRIPPED', 'IMAGE_FILE_LOCAL_SYMS_STRIPPED', 'IMAGE_FILE_32BIT_MACHINE']\n",
            "['IMAGE_FILE_RELOCS_STRIPPED', 'IMAGE_FILE_EXECUTABLE_IMAGE', 'IMAGE_FILE_LINE_NUMS_STRIPPED', 'IMAGE_FILE_LOCAL_SYMS_STRIPPED', 'IMAGE_FILE_32BIT_MACHINE']\n",
            "['IMAGE_FILE_RELOCS_STRIPPED', 'IMAGE_FILE_EXECUTABLE_IMAGE', 'IMAGE_FILE_LINE_NUMS_STRIPPED', 'IMAGE_FILE_LOCAL_SYMS_STRIPPED', 'IMAGE_FILE_32BIT_MACHINE']\n"
          ],
          "name": "stdout"
        }
      ]
    },
    {
      "cell_type": "markdown",
      "metadata": {
        "id": "V93JzmdmUM-O",
        "colab_type": "text"
      },
      "source": [
        "## **OPTIONAL_HEADER**"
      ]
    },
    {
      "cell_type": "code",
      "metadata": {
        "id": "ejmVfPCuUGdf",
        "colab_type": "code",
        "colab": {
          "base_uri": "https://localhost:8080/",
          "height": 697
        },
        "outputId": "31b3a769-6ac4-4382-ee10-7db6f4e7c626"
      },
      "source": [
        "for key in pef_dumpdicts:\n",
        "  print(pef_dumpdicts[key]['OPTIONAL_HEADER']['AddressOfEntryPoint'])\n",
        "  dataCopy.loc[key,'OPTIONAL_HEADER_AddressOfEntryPoint_value'] = pef_dumpdicts[key]['OPTIONAL_HEADER']['AddressOfEntryPoint']['Value']"
      ],
      "execution_count": 33,
      "outputs": [
        {
          "output_type": "stream",
          "text": [
            "{'FileOffset': 256, 'Offset': 16, 'Value': 33280}\n",
            "{'FileOffset': 256, 'Offset': 16, 'Value': 33280}\n",
            "{'FileOffset': 256, 'Offset': 16, 'Value': 33280}\n",
            "{'FileOffset': 256, 'Offset': 16, 'Value': 33280}\n",
            "{'FileOffset': 256, 'Offset': 16, 'Value': 33280}\n",
            "{'FileOffset': 256, 'Offset': 16, 'Value': 33280}\n",
            "{'FileOffset': 256, 'Offset': 16, 'Value': 33280}\n",
            "{'FileOffset': 256, 'Offset': 16, 'Value': 33280}\n",
            "{'FileOffset': 256, 'Offset': 16, 'Value': 33280}\n",
            "{'FileOffset': 256, 'Offset': 16, 'Value': 33280}\n",
            "{'FileOffset': 256, 'Offset': 16, 'Value': 40960}\n",
            "{'FileOffset': 256, 'Offset': 16, 'Value': 40960}\n",
            "{'FileOffset': 256, 'Offset': 16, 'Value': 40960}\n",
            "{'FileOffset': 256, 'Offset': 16, 'Value': 40960}\n",
            "{'FileOffset': 256, 'Offset': 16, 'Value': 40960}\n",
            "{'FileOffset': 256, 'Offset': 16, 'Value': 110592}\n",
            "{'FileOffset': 256, 'Offset': 16, 'Value': 40960}\n",
            "{'FileOffset': 256, 'Offset': 16, 'Value': 40960}\n",
            "{'FileOffset': 256, 'Offset': 16, 'Value': 40960}\n",
            "{'FileOffset': 256, 'Offset': 16, 'Value': 40960}\n",
            "{'FileOffset': 256, 'Offset': 16, 'Value': 40960}\n",
            "{'FileOffset': 256, 'Offset': 16, 'Value': 40960}\n",
            "{'FileOffset': 256, 'Offset': 16, 'Value': 40960}\n",
            "{'FileOffset': 256, 'Offset': 16, 'Value': 40960}\n",
            "{'FileOffset': 256, 'Offset': 16, 'Value': 40960}\n",
            "{'FileOffset': 256, 'Offset': 16, 'Value': 40960}\n",
            "{'FileOffset': 256, 'Offset': 16, 'Value': 40960}\n",
            "{'FileOffset': 256, 'Offset': 16, 'Value': 40960}\n",
            "{'FileOffset': 256, 'Offset': 16, 'Value': 40960}\n",
            "{'FileOffset': 256, 'Offset': 16, 'Value': 40960}\n",
            "{'FileOffset': 256, 'Offset': 16, 'Value': 33280}\n",
            "{'FileOffset': 256, 'Offset': 16, 'Value': 33280}\n",
            "{'FileOffset': 256, 'Offset': 16, 'Value': 33280}\n",
            "{'FileOffset': 256, 'Offset': 16, 'Value': 33280}\n",
            "{'FileOffset': 256, 'Offset': 16, 'Value': 40960}\n",
            "{'FileOffset': 248, 'Offset': 16, 'Value': 33280}\n",
            "{'FileOffset': 256, 'Offset': 16, 'Value': 33280}\n",
            "{'FileOffset': 256, 'Offset': 16, 'Value': 33280}\n",
            "{'FileOffset': 256, 'Offset': 16, 'Value': 33280}\n",
            "{'FileOffset': 256, 'Offset': 16, 'Value': 33280}\n"
          ],
          "name": "stdout"
        }
      ]
    },
    {
      "cell_type": "code",
      "metadata": {
        "id": "lxDhSZys3xVD",
        "colab_type": "code",
        "colab": {
          "base_uri": "https://localhost:8080/",
          "height": 111
        },
        "outputId": "50fb15f2-2538-4ab5-f404-adeff6c39435"
      },
      "source": [
        "dataCopy.head(1)"
      ],
      "execution_count": 34,
      "outputs": [
        {
          "output_type": "execute_result",
          "data": {
            "text/html": [
              "<div>\n",
              "<style scoped>\n",
              "    .dataframe tbody tr th:only-of-type {\n",
              "        vertical-align: middle;\n",
              "    }\n",
              "\n",
              "    .dataframe tbody tr th {\n",
              "        vertical-align: top;\n",
              "    }\n",
              "\n",
              "    .dataframe thead th {\n",
              "        text-align: right;\n",
              "    }\n",
              "</style>\n",
              "<table border=\"1\" class=\"dataframe\">\n",
              "  <thead>\n",
              "    <tr style=\"text-align: right;\">\n",
              "      <th></th>\n",
              "      <th>NumberOfSections_value</th>\n",
              "      <th>DOS_HEADER_e_res_value</th>\n",
              "      <th>OPTIONAL_HEADER_AddressOfEntryPoint_value</th>\n",
              "    </tr>\n",
              "    <tr>\n",
              "      <th>id</th>\n",
              "      <th></th>\n",
              "      <th></th>\n",
              "      <th></th>\n",
              "    </tr>\n",
              "  </thead>\n",
              "  <tbody>\n",
              "    <tr>\n",
              "      <th>07edeebc14b053fffdfb4dcc08959360</th>\n",
              "      <td>3.0</td>\n",
              "      <td>\\x00\\x00\\x00\\x00\\x00\\x00\\x00\\x00</td>\n",
              "      <td>33280.0</td>\n",
              "    </tr>\n",
              "  </tbody>\n",
              "</table>\n",
              "</div>"
            ],
            "text/plain": [
              "                                  NumberOfSections_value  ... OPTIONAL_HEADER_AddressOfEntryPoint_value\n",
              "id                                                        ...                                          \n",
              "07edeebc14b053fffdfb4dcc08959360                     3.0  ...                                   33280.0\n",
              "\n",
              "[1 rows x 3 columns]"
            ]
          },
          "metadata": {
            "tags": []
          },
          "execution_count": 34
        }
      ]
    },
    {
      "cell_type": "code",
      "metadata": {
        "id": "tiaH8dk_USyN",
        "colab_type": "code",
        "colab": {
          "base_uri": "https://localhost:8080/",
          "height": 697
        },
        "outputId": "2bb75e98-5d09-440c-cc32-c771ae7c92ad"
      },
      "source": [
        "count = 0\n",
        "for key in pef_dumpdicts:\n",
        "  count += 1\n",
        "  print(pef_dumpdicts[key]['OPTIONAL_HEADER']['SizeOfImage'])\n",
        "  dataCopy.loc[key,'OPTIONAL_HEADER_SizeOfImage_value'] = pef_dumpdicts[key]['OPTIONAL_HEADER']['SizeOfImage']['Value']"
      ],
      "execution_count": 35,
      "outputs": [
        {
          "output_type": "stream",
          "text": [
            "{'FileOffset': 296, 'Offset': 56, 'Value': 40960}\n",
            "{'FileOffset': 296, 'Offset': 56, 'Value': 40960}\n",
            "{'FileOffset': 296, 'Offset': 56, 'Value': 40960}\n",
            "{'FileOffset': 296, 'Offset': 56, 'Value': 40960}\n",
            "{'FileOffset': 296, 'Offset': 56, 'Value': 40960}\n",
            "{'FileOffset': 296, 'Offset': 56, 'Value': 40960}\n",
            "{'FileOffset': 296, 'Offset': 56, 'Value': 40960}\n",
            "{'FileOffset': 296, 'Offset': 56, 'Value': 40960}\n",
            "{'FileOffset': 296, 'Offset': 56, 'Value': 40960}\n",
            "{'FileOffset': 296, 'Offset': 56, 'Value': 40960}\n",
            "{'FileOffset': 296, 'Offset': 56, 'Value': 45056}\n",
            "{'FileOffset': 296, 'Offset': 56, 'Value': 45056}\n",
            "{'FileOffset': 296, 'Offset': 56, 'Value': 45056}\n",
            "{'FileOffset': 296, 'Offset': 56, 'Value': 45056}\n",
            "{'FileOffset': 296, 'Offset': 56, 'Value': 45056}\n",
            "{'FileOffset': 296, 'Offset': 56, 'Value': 114688}\n",
            "{'FileOffset': 296, 'Offset': 56, 'Value': 45056}\n",
            "{'FileOffset': 296, 'Offset': 56, 'Value': 45056}\n",
            "{'FileOffset': 296, 'Offset': 56, 'Value': 45056}\n",
            "{'FileOffset': 296, 'Offset': 56, 'Value': 45056}\n",
            "{'FileOffset': 296, 'Offset': 56, 'Value': 65536}\n",
            "{'FileOffset': 296, 'Offset': 56, 'Value': 69632}\n",
            "{'FileOffset': 296, 'Offset': 56, 'Value': 69632}\n",
            "{'FileOffset': 296, 'Offset': 56, 'Value': 69632}\n",
            "{'FileOffset': 296, 'Offset': 56, 'Value': 69632}\n",
            "{'FileOffset': 296, 'Offset': 56, 'Value': 69632}\n",
            "{'FileOffset': 296, 'Offset': 56, 'Value': 69632}\n",
            "{'FileOffset': 296, 'Offset': 56, 'Value': 69632}\n",
            "{'FileOffset': 296, 'Offset': 56, 'Value': 126976}\n",
            "{'FileOffset': 296, 'Offset': 56, 'Value': 69632}\n",
            "{'FileOffset': 296, 'Offset': 56, 'Value': 118784}\n",
            "{'FileOffset': 296, 'Offset': 56, 'Value': 118784}\n",
            "{'FileOffset': 296, 'Offset': 56, 'Value': 110592}\n",
            "{'FileOffset': 296, 'Offset': 56, 'Value': 110592}\n",
            "{'FileOffset': 296, 'Offset': 56, 'Value': 143360}\n",
            "{'FileOffset': 288, 'Offset': 56, 'Value': 122880}\n",
            "{'FileOffset': 296, 'Offset': 56, 'Value': 122880}\n",
            "{'FileOffset': 296, 'Offset': 56, 'Value': 98304}\n",
            "{'FileOffset': 296, 'Offset': 56, 'Value': 110592}\n",
            "{'FileOffset': 296, 'Offset': 56, 'Value': 114688}\n"
          ],
          "name": "stdout"
        }
      ]
    },
    {
      "cell_type": "code",
      "metadata": {
        "id": "VV3-Xz1c5oN6",
        "colab_type": "code",
        "colab": {
          "base_uri": "https://localhost:8080/",
          "height": 34
        },
        "outputId": "7fa614fb-24be-484c-914a-98d2d542fc93"
      },
      "source": [
        "count"
      ],
      "execution_count": 36,
      "outputs": [
        {
          "output_type": "execute_result",
          "data": {
            "text/plain": [
              "40"
            ]
          },
          "metadata": {
            "tags": []
          },
          "execution_count": 36
        }
      ]
    },
    {
      "cell_type": "code",
      "metadata": {
        "id": "4inlb21M3-H5",
        "colab_type": "code",
        "colab": {
          "base_uri": "https://localhost:8080/",
          "height": 131
        },
        "outputId": "9b480f52-f2fd-4d8c-8797-8ed8c832299e"
      },
      "source": [
        "dataCopy.head(1)"
      ],
      "execution_count": 37,
      "outputs": [
        {
          "output_type": "execute_result",
          "data": {
            "text/html": [
              "<div>\n",
              "<style scoped>\n",
              "    .dataframe tbody tr th:only-of-type {\n",
              "        vertical-align: middle;\n",
              "    }\n",
              "\n",
              "    .dataframe tbody tr th {\n",
              "        vertical-align: top;\n",
              "    }\n",
              "\n",
              "    .dataframe thead th {\n",
              "        text-align: right;\n",
              "    }\n",
              "</style>\n",
              "<table border=\"1\" class=\"dataframe\">\n",
              "  <thead>\n",
              "    <tr style=\"text-align: right;\">\n",
              "      <th></th>\n",
              "      <th>NumberOfSections_value</th>\n",
              "      <th>DOS_HEADER_e_res_value</th>\n",
              "      <th>OPTIONAL_HEADER_AddressOfEntryPoint_value</th>\n",
              "      <th>OPTIONAL_HEADER_SizeOfImage_value</th>\n",
              "    </tr>\n",
              "    <tr>\n",
              "      <th>id</th>\n",
              "      <th></th>\n",
              "      <th></th>\n",
              "      <th></th>\n",
              "      <th></th>\n",
              "    </tr>\n",
              "  </thead>\n",
              "  <tbody>\n",
              "    <tr>\n",
              "      <th>07edeebc14b053fffdfb4dcc08959360</th>\n",
              "      <td>3.0</td>\n",
              "      <td>\\x00\\x00\\x00\\x00\\x00\\x00\\x00\\x00</td>\n",
              "      <td>33280.0</td>\n",
              "      <td>40960.0</td>\n",
              "    </tr>\n",
              "  </tbody>\n",
              "</table>\n",
              "</div>"
            ],
            "text/plain": [
              "                                  NumberOfSections_value  ... OPTIONAL_HEADER_SizeOfImage_value\n",
              "id                                                        ...                                  \n",
              "07edeebc14b053fffdfb4dcc08959360                     3.0  ...                           40960.0\n",
              "\n",
              "[1 rows x 4 columns]"
            ]
          },
          "metadata": {
            "tags": []
          },
          "execution_count": 37
        }
      ]
    },
    {
      "cell_type": "code",
      "metadata": {
        "id": "pCUToWXwVDoF",
        "colab_type": "code",
        "colab": {
          "base_uri": "https://localhost:8080/",
          "height": 697
        },
        "outputId": "af5064f7-66e1-4287-e1e1-8efb52fe9052"
      },
      "source": [
        "for key in pef_dumpdicts:\n",
        "  print(pef_dumpdicts[key]['OPTIONAL_HEADER']['CheckSum'])\n",
        "  dataCopy.loc[key,'OPTIONAL_HEADER_CheckSum_value'] = pef_dumpdicts[key]['OPTIONAL_HEADER']['CheckSum']['Value']"
      ],
      "execution_count": 38,
      "outputs": [
        {
          "output_type": "stream",
          "text": [
            "{'FileOffset': 304, 'Offset': 64, 'Value': 195901}\n",
            "{'FileOffset': 304, 'Offset': 64, 'Value': 195901}\n",
            "{'FileOffset': 304, 'Offset': 64, 'Value': 195901}\n",
            "{'FileOffset': 304, 'Offset': 64, 'Value': 195901}\n",
            "{'FileOffset': 304, 'Offset': 64, 'Value': 195901}\n",
            "{'FileOffset': 304, 'Offset': 64, 'Value': 195901}\n",
            "{'FileOffset': 304, 'Offset': 64, 'Value': 195901}\n",
            "{'FileOffset': 304, 'Offset': 64, 'Value': 195901}\n",
            "{'FileOffset': 304, 'Offset': 64, 'Value': 195901}\n",
            "{'FileOffset': 304, 'Offset': 64, 'Value': 195901}\n",
            "{'FileOffset': 304, 'Offset': 64, 'Value': 0}\n",
            "{'FileOffset': 304, 'Offset': 64, 'Value': 0}\n",
            "{'FileOffset': 304, 'Offset': 64, 'Value': 0}\n",
            "{'FileOffset': 304, 'Offset': 64, 'Value': 0}\n",
            "{'FileOffset': 304, 'Offset': 64, 'Value': 0}\n",
            "{'FileOffset': 304, 'Offset': 64, 'Value': 0}\n",
            "{'FileOffset': 304, 'Offset': 64, 'Value': 0}\n",
            "{'FileOffset': 304, 'Offset': 64, 'Value': 0}\n",
            "{'FileOffset': 304, 'Offset': 64, 'Value': 0}\n",
            "{'FileOffset': 304, 'Offset': 64, 'Value': 0}\n",
            "{'FileOffset': 304, 'Offset': 64, 'Value': 0}\n",
            "{'FileOffset': 304, 'Offset': 64, 'Value': 0}\n",
            "{'FileOffset': 304, 'Offset': 64, 'Value': 0}\n",
            "{'FileOffset': 304, 'Offset': 64, 'Value': 0}\n",
            "{'FileOffset': 304, 'Offset': 64, 'Value': 0}\n",
            "{'FileOffset': 304, 'Offset': 64, 'Value': 0}\n",
            "{'FileOffset': 304, 'Offset': 64, 'Value': 0}\n",
            "{'FileOffset': 304, 'Offset': 64, 'Value': 0}\n",
            "{'FileOffset': 304, 'Offset': 64, 'Value': 0}\n",
            "{'FileOffset': 304, 'Offset': 64, 'Value': 0}\n",
            "{'FileOffset': 304, 'Offset': 64, 'Value': 0}\n",
            "{'FileOffset': 304, 'Offset': 64, 'Value': 0}\n",
            "{'FileOffset': 304, 'Offset': 64, 'Value': 0}\n",
            "{'FileOffset': 304, 'Offset': 64, 'Value': 0}\n",
            "{'FileOffset': 304, 'Offset': 64, 'Value': 0}\n",
            "{'FileOffset': 296, 'Offset': 64, 'Value': 0}\n",
            "{'FileOffset': 304, 'Offset': 64, 'Value': 0}\n",
            "{'FileOffset': 304, 'Offset': 64, 'Value': 0}\n",
            "{'FileOffset': 304, 'Offset': 64, 'Value': 0}\n",
            "{'FileOffset': 304, 'Offset': 64, 'Value': 0}\n"
          ],
          "name": "stdout"
        }
      ]
    },
    {
      "cell_type": "code",
      "metadata": {
        "id": "s9Ve6wcB4KQD",
        "colab_type": "code",
        "colab": {
          "base_uri": "https://localhost:8080/",
          "height": 131
        },
        "outputId": "5254bb34-10a2-4c3d-fb6e-b36ae0927422"
      },
      "source": [
        "dataCopy.head(1)"
      ],
      "execution_count": 39,
      "outputs": [
        {
          "output_type": "execute_result",
          "data": {
            "text/html": [
              "<div>\n",
              "<style scoped>\n",
              "    .dataframe tbody tr th:only-of-type {\n",
              "        vertical-align: middle;\n",
              "    }\n",
              "\n",
              "    .dataframe tbody tr th {\n",
              "        vertical-align: top;\n",
              "    }\n",
              "\n",
              "    .dataframe thead th {\n",
              "        text-align: right;\n",
              "    }\n",
              "</style>\n",
              "<table border=\"1\" class=\"dataframe\">\n",
              "  <thead>\n",
              "    <tr style=\"text-align: right;\">\n",
              "      <th></th>\n",
              "      <th>NumberOfSections_value</th>\n",
              "      <th>DOS_HEADER_e_res_value</th>\n",
              "      <th>OPTIONAL_HEADER_AddressOfEntryPoint_value</th>\n",
              "      <th>OPTIONAL_HEADER_SizeOfImage_value</th>\n",
              "      <th>OPTIONAL_HEADER_CheckSum_value</th>\n",
              "    </tr>\n",
              "    <tr>\n",
              "      <th>id</th>\n",
              "      <th></th>\n",
              "      <th></th>\n",
              "      <th></th>\n",
              "      <th></th>\n",
              "      <th></th>\n",
              "    </tr>\n",
              "  </thead>\n",
              "  <tbody>\n",
              "    <tr>\n",
              "      <th>07edeebc14b053fffdfb4dcc08959360</th>\n",
              "      <td>3.0</td>\n",
              "      <td>\\x00\\x00\\x00\\x00\\x00\\x00\\x00\\x00</td>\n",
              "      <td>33280.0</td>\n",
              "      <td>40960.0</td>\n",
              "      <td>195901.0</td>\n",
              "    </tr>\n",
              "  </tbody>\n",
              "</table>\n",
              "</div>"
            ],
            "text/plain": [
              "                                  NumberOfSections_value  ... OPTIONAL_HEADER_CheckSum_value\n",
              "id                                                        ...                               \n",
              "07edeebc14b053fffdfb4dcc08959360                     3.0  ...                       195901.0\n",
              "\n",
              "[1 rows x 5 columns]"
            ]
          },
          "metadata": {
            "tags": []
          },
          "execution_count": 39
        }
      ]
    },
    {
      "cell_type": "markdown",
      "metadata": {
        "id": "n5idJ1SrVTVU",
        "colab_type": "text"
      },
      "source": [
        "# **DllCharacteristics**"
      ]
    },
    {
      "cell_type": "code",
      "metadata": {
        "id": "NbuEV-8-VJwd",
        "colab_type": "code",
        "colab": {
          "base_uri": "https://localhost:8080/",
          "height": 697
        },
        "outputId": "12cee1a0-1081-4b78-e1f3-9115646f9690"
      },
      "source": [
        "for key in pef_dumpdicts:\n",
        "  print(pef_dumpdicts[key]['DllCharacteristics'])# 沒用"
      ],
      "execution_count": 40,
      "outputs": [
        {
          "output_type": "stream",
          "text": [
            "[]\n",
            "[]\n",
            "[]\n",
            "[]\n",
            "[]\n",
            "[]\n",
            "[]\n",
            "[]\n",
            "[]\n",
            "[]\n",
            "[]\n",
            "[]\n",
            "[]\n",
            "[]\n",
            "[]\n",
            "[]\n",
            "[]\n",
            "[]\n",
            "[]\n",
            "[]\n",
            "[]\n",
            "[]\n",
            "[]\n",
            "[]\n",
            "[]\n",
            "[]\n",
            "[]\n",
            "[]\n",
            "[]\n",
            "[]\n",
            "[]\n",
            "[]\n",
            "[]\n",
            "[]\n",
            "[]\n",
            "[]\n",
            "[]\n",
            "[]\n",
            "[]\n",
            "[]\n"
          ],
          "name": "stdout"
        }
      ]
    },
    {
      "cell_type": "markdown",
      "metadata": {
        "id": "c8S0bgbPVgjC",
        "colab_type": "text"
      },
      "source": [
        "# PE **Sections**"
      ]
    },
    {
      "cell_type": "code",
      "metadata": {
        "id": "r58K-zPy8kCM",
        "colab_type": "code",
        "colab": {
          "base_uri": "https://localhost:8080/",
          "height": 697
        },
        "outputId": "405c8a5f-c439-4aa0-d5f0-3038939b9570"
      },
      "source": [
        "\n",
        "for key in pef_dumpdicts:\n",
        "  first_dict = pef_dumpdicts[key]\n",
        "  print(first_dict['PE Sections'][2]['Misc'])\n",
        "  dataCopy.loc[key,'PE Sections_Misc'] = first_dict['PE Sections'][2]['Misc']['Value']"
      ],
      "execution_count": 41,
      "outputs": [
        {
          "output_type": "stream",
          "text": [
            "{'FileOffset': 552, 'Offset': 8, 'Value': 8192}\n",
            "{'FileOffset': 552, 'Offset': 8, 'Value': 8192}\n",
            "{'FileOffset': 552, 'Offset': 8, 'Value': 8192}\n",
            "{'FileOffset': 552, 'Offset': 8, 'Value': 8192}\n",
            "{'FileOffset': 552, 'Offset': 8, 'Value': 8192}\n",
            "{'FileOffset': 552, 'Offset': 8, 'Value': 8192}\n",
            "{'FileOffset': 552, 'Offset': 8, 'Value': 8192}\n",
            "{'FileOffset': 552, 'Offset': 8, 'Value': 8192}\n",
            "{'FileOffset': 552, 'Offset': 8, 'Value': 8192}\n",
            "{'FileOffset': 552, 'Offset': 8, 'Value': 8192}\n",
            "{'FileOffset': 552, 'Offset': 8, 'Value': 8192}\n",
            "{'FileOffset': 552, 'Offset': 8, 'Value': 8192}\n",
            "{'FileOffset': 552, 'Offset': 8, 'Value': 8192}\n",
            "{'FileOffset': 552, 'Offset': 8, 'Value': 8192}\n",
            "{'FileOffset': 552, 'Offset': 8, 'Value': 8192}\n",
            "{'FileOffset': 552, 'Offset': 8, 'Value': 77824}\n",
            "{'FileOffset': 552, 'Offset': 8, 'Value': 8192}\n",
            "{'FileOffset': 552, 'Offset': 8, 'Value': 8192}\n",
            "{'FileOffset': 552, 'Offset': 8, 'Value': 8192}\n",
            "{'FileOffset': 552, 'Offset': 8, 'Value': 8192}\n",
            "{'FileOffset': 552, 'Offset': 8, 'Value': 32768}\n",
            "{'FileOffset': 552, 'Offset': 8, 'Value': 36864}\n",
            "{'FileOffset': 552, 'Offset': 8, 'Value': 36864}\n",
            "{'FileOffset': 552, 'Offset': 8, 'Value': 36864}\n",
            "{'FileOffset': 552, 'Offset': 8, 'Value': 36864}\n",
            "{'FileOffset': 552, 'Offset': 8, 'Value': 36864}\n",
            "{'FileOffset': 552, 'Offset': 8, 'Value': 36864}\n",
            "{'FileOffset': 552, 'Offset': 8, 'Value': 36864}\n",
            "{'FileOffset': 552, 'Offset': 8, 'Value': 94208}\n",
            "{'FileOffset': 552, 'Offset': 8, 'Value': 36864}\n",
            "{'FileOffset': 552, 'Offset': 8, 'Value': 86016}\n",
            "{'FileOffset': 552, 'Offset': 8, 'Value': 86016}\n",
            "{'FileOffset': 552, 'Offset': 8, 'Value': 77824}\n",
            "{'FileOffset': 552, 'Offset': 8, 'Value': 77824}\n",
            "{'FileOffset': 552, 'Offset': 8, 'Value': 110592}\n",
            "{'FileOffset': 544, 'Offset': 8, 'Value': 90112}\n",
            "{'FileOffset': 552, 'Offset': 8, 'Value': 90112}\n",
            "{'FileOffset': 552, 'Offset': 8, 'Value': 65536}\n",
            "{'FileOffset': 552, 'Offset': 8, 'Value': 77824}\n",
            "{'FileOffset': 552, 'Offset': 8, 'Value': 81920}\n"
          ],
          "name": "stdout"
        }
      ]
    },
    {
      "cell_type": "code",
      "metadata": {
        "id": "scEzfQovf6ZP",
        "colab_type": "code",
        "colab": {
          "base_uri": "https://localhost:8080/",
          "height": 697
        },
        "outputId": "6beab3db-684a-4c2b-9cda-0ccb869146ed"
      },
      "source": [
        "for key in pef_dumpdicts:\n",
        "  first_dict = pef_dumpdicts[key]\n",
        "  print(first_dict['PE Sections'][2]['SizeOfRawData'])\n",
        "  dataCopy.loc[key,'PE Sections_SizeOfRawData'] = first_dict['PE Sections'][2]['SizeOfRawData']['Value']"
      ],
      "execution_count": 50,
      "outputs": [
        {
          "output_type": "stream",
          "text": [
            "{'FileOffset': 560, 'Offset': 16, 'Value': 1024}\n",
            "{'FileOffset': 560, 'Offset': 16, 'Value': 1024}\n",
            "{'FileOffset': 560, 'Offset': 16, 'Value': 1024}\n",
            "{'FileOffset': 560, 'Offset': 16, 'Value': 1024}\n",
            "{'FileOffset': 560, 'Offset': 16, 'Value': 1024}\n",
            "{'FileOffset': 560, 'Offset': 16, 'Value': 1024}\n",
            "{'FileOffset': 560, 'Offset': 16, 'Value': 1024}\n",
            "{'FileOffset': 560, 'Offset': 16, 'Value': 1024}\n",
            "{'FileOffset': 560, 'Offset': 16, 'Value': 1024}\n",
            "{'FileOffset': 560, 'Offset': 16, 'Value': 1024}\n",
            "{'FileOffset': 560, 'Offset': 16, 'Value': 649}\n",
            "{'FileOffset': 560, 'Offset': 16, 'Value': 649}\n",
            "{'FileOffset': 560, 'Offset': 16, 'Value': 649}\n",
            "{'FileOffset': 560, 'Offset': 16, 'Value': 649}\n",
            "{'FileOffset': 560, 'Offset': 16, 'Value': 649}\n",
            "{'FileOffset': 560, 'Offset': 16, 'Value': 77824}\n",
            "{'FileOffset': 560, 'Offset': 16, 'Value': 649}\n",
            "{'FileOffset': 560, 'Offset': 16, 'Value': 649}\n",
            "{'FileOffset': 560, 'Offset': 16, 'Value': 649}\n",
            "{'FileOffset': 560, 'Offset': 16, 'Value': 649}\n",
            "{'FileOffset': 560, 'Offset': 16, 'Value': 14848}\n",
            "{'FileOffset': 560, 'Offset': 16, 'Value': 15360}\n",
            "{'FileOffset': 560, 'Offset': 16, 'Value': 15360}\n",
            "{'FileOffset': 560, 'Offset': 16, 'Value': 15360}\n",
            "{'FileOffset': 560, 'Offset': 16, 'Value': 15360}\n",
            "{'FileOffset': 560, 'Offset': 16, 'Value': 15360}\n",
            "{'FileOffset': 560, 'Offset': 16, 'Value': 15360}\n",
            "{'FileOffset': 560, 'Offset': 16, 'Value': 15360}\n",
            "{'FileOffset': 560, 'Offset': 16, 'Value': 72704}\n",
            "{'FileOffset': 560, 'Offset': 16, 'Value': 15360}\n",
            "{'FileOffset': 560, 'Offset': 16, 'Value': 86016}\n",
            "{'FileOffset': 560, 'Offset': 16, 'Value': 86016}\n",
            "{'FileOffset': 560, 'Offset': 16, 'Value': 77824}\n",
            "{'FileOffset': 560, 'Offset': 16, 'Value': 77824}\n",
            "{'FileOffset': 560, 'Offset': 16, 'Value': 110592}\n",
            "{'FileOffset': 552, 'Offset': 16, 'Value': 90112}\n",
            "{'FileOffset': 560, 'Offset': 16, 'Value': 90112}\n",
            "{'FileOffset': 560, 'Offset': 16, 'Value': 58368}\n",
            "{'FileOffset': 560, 'Offset': 16, 'Value': 77824}\n",
            "{'FileOffset': 560, 'Offset': 16, 'Value': 81920}\n"
          ],
          "name": "stdout"
        }
      ]
    },
    {
      "cell_type": "code",
      "metadata": {
        "id": "38RkxE3Cu1Lh",
        "colab_type": "code",
        "colab": {
          "base_uri": "https://localhost:8080/",
          "height": 697
        },
        "outputId": "081521d6-334b-44b8-aea6-0caa804db5e5"
      },
      "source": [
        "for key in pef_dumpdicts:\n",
        "  first_dict = pef_dumpdicts[key]\n",
        "  print(first_dict['PE Sections'][2]['NumberOfLinenumbers'])\n",
        "  dataCopy.loc[key,'PE Sections_NumberOfLinenumbers'] = first_dict['PE Sections'][2]['NumberOfLinenumbers']['Value']"
      ],
      "execution_count": 51,
      "outputs": [
        {
          "output_type": "stream",
          "text": [
            "{'FileOffset': 578, 'Offset': 34, 'Value': 0}\n",
            "{'FileOffset': 578, 'Offset': 34, 'Value': 0}\n",
            "{'FileOffset': 578, 'Offset': 34, 'Value': 0}\n",
            "{'FileOffset': 578, 'Offset': 34, 'Value': 0}\n",
            "{'FileOffset': 578, 'Offset': 34, 'Value': 0}\n",
            "{'FileOffset': 578, 'Offset': 34, 'Value': 0}\n",
            "{'FileOffset': 578, 'Offset': 34, 'Value': 0}\n",
            "{'FileOffset': 578, 'Offset': 34, 'Value': 0}\n",
            "{'FileOffset': 578, 'Offset': 34, 'Value': 0}\n",
            "{'FileOffset': 578, 'Offset': 34, 'Value': 0}\n",
            "{'FileOffset': 578, 'Offset': 34, 'Value': 0}\n",
            "{'FileOffset': 578, 'Offset': 34, 'Value': 0}\n",
            "{'FileOffset': 578, 'Offset': 34, 'Value': 0}\n",
            "{'FileOffset': 578, 'Offset': 34, 'Value': 0}\n",
            "{'FileOffset': 578, 'Offset': 34, 'Value': 0}\n",
            "{'FileOffset': 578, 'Offset': 34, 'Value': 68}\n",
            "{'FileOffset': 578, 'Offset': 34, 'Value': 0}\n",
            "{'FileOffset': 578, 'Offset': 34, 'Value': 0}\n",
            "{'FileOffset': 578, 'Offset': 34, 'Value': 0}\n",
            "{'FileOffset': 578, 'Offset': 34, 'Value': 0}\n",
            "{'FileOffset': 578, 'Offset': 34, 'Value': 0}\n",
            "{'FileOffset': 578, 'Offset': 34, 'Value': 0}\n",
            "{'FileOffset': 578, 'Offset': 34, 'Value': 0}\n",
            "{'FileOffset': 578, 'Offset': 34, 'Value': 0}\n",
            "{'FileOffset': 578, 'Offset': 34, 'Value': 0}\n",
            "{'FileOffset': 578, 'Offset': 34, 'Value': 0}\n",
            "{'FileOffset': 578, 'Offset': 34, 'Value': 0}\n",
            "{'FileOffset': 578, 'Offset': 34, 'Value': 0}\n",
            "{'FileOffset': 578, 'Offset': 34, 'Value': 0}\n",
            "{'FileOffset': 578, 'Offset': 34, 'Value': 0}\n",
            "{'FileOffset': 578, 'Offset': 34, 'Value': 32}\n",
            "{'FileOffset': 578, 'Offset': 34, 'Value': 21}\n",
            "{'FileOffset': 578, 'Offset': 34, 'Value': 38}\n",
            "{'FileOffset': 578, 'Offset': 34, 'Value': 75}\n",
            "{'FileOffset': 578, 'Offset': 34, 'Value': 20}\n",
            "{'FileOffset': 570, 'Offset': 34, 'Value': 16}\n",
            "{'FileOffset': 578, 'Offset': 34, 'Value': 101}\n",
            "{'FileOffset': 578, 'Offset': 34, 'Value': 0}\n",
            "{'FileOffset': 578, 'Offset': 34, 'Value': 79}\n",
            "{'FileOffset': 578, 'Offset': 34, 'Value': 29}\n"
          ],
          "name": "stdout"
        }
      ]
    },
    {
      "cell_type": "code",
      "metadata": {
        "id": "E3ojeI0_u7yb",
        "colab_type": "code",
        "colab": {
          "base_uri": "https://localhost:8080/",
          "height": 697
        },
        "outputId": "ec19566b-d39d-4a8a-92df-093a84bc4822"
      },
      "source": [
        "for key in pef_dumpdicts:\n",
        "  first_dict = pef_dumpdicts[key]\n",
        "  print(first_dict['PE Sections'][2]['Entropy'])\n",
        "  dataCopy.loc[key,'PE Sections_Entropy'] = first_dict['PE Sections'][2]['Entropy']"
      ],
      "execution_count": 52,
      "outputs": [
        {
          "output_type": "stream",
          "text": [
            "2.6755684369499013\n",
            "2.6755684369499013\n",
            "2.6755684369499013\n",
            "2.6755684369499013\n",
            "2.6755684369499013\n",
            "2.6755684369499013\n",
            "2.6755684369499013\n",
            "2.6755684369499013\n",
            "2.6755684369499013\n",
            "2.6755684369499013\n",
            "3.7771937603912296\n",
            "3.780275424489843\n",
            "3.7760306055342747\n",
            "3.7729489414356614\n",
            "3.7729489414356614\n",
            "7.630154310955897\n",
            "3.7729489414356614\n",
            "3.7760306055342747\n",
            "3.7771937603912296\n",
            "3.7771937603912296\n",
            "4.629202679317682\n",
            "4.812651193969368\n",
            "4.8215009355888725\n",
            "4.816069550013513\n",
            "4.801292577298207\n",
            "4.817644361012558\n",
            "4.815913449102882\n",
            "4.8125025669610455\n",
            "1.2753712649270357\n",
            "4.817074302337726\n",
            "7.668556858625145\n",
            "7.670537382359814\n",
            "7.628270676274259\n",
            "7.625368868804477\n",
            "6.678492591684486\n",
            "7.690181750766249\n",
            "7.689454097614086\n",
            "7.972944617488347\n",
            "7.622114104176553\n",
            "7.649180907423053\n"
          ],
          "name": "stdout"
        }
      ]
    },
    {
      "cell_type": "code",
      "metadata": {
        "id": "IstTGWSDvBnu",
        "colab_type": "code",
        "colab": {
          "base_uri": "https://localhost:8080/",
          "height": 697
        },
        "outputId": "b61576d9-2da9-431b-e8e0-6cbf84dc0801"
      },
      "source": [
        "for key in pef_dumpdicts:\n",
        "  first_dict = pef_dumpdicts[key]\n",
        "  print(first_dict['PE Sections'][2]['MD5'])\n",
        "  dataCopy.loc[key,'PE Sections_MD5'] = first_dict['PE Sections'][2]['MD5']"
      ],
      "execution_count": 53,
      "outputs": [
        {
          "output_type": "stream",
          "text": [
            "1139f90a792caa1154e9908f13fe19ef\n",
            "1139f90a792caa1154e9908f13fe19ef\n",
            "1139f90a792caa1154e9908f13fe19ef\n",
            "1139f90a792caa1154e9908f13fe19ef\n",
            "1139f90a792caa1154e9908f13fe19ef\n",
            "1139f90a792caa1154e9908f13fe19ef\n",
            "1139f90a792caa1154e9908f13fe19ef\n",
            "1139f90a792caa1154e9908f13fe19ef\n",
            "1139f90a792caa1154e9908f13fe19ef\n",
            "1139f90a792caa1154e9908f13fe19ef\n",
            "0cbe1138f7029205753aa3bff6338515\n",
            "80fc3af5166211a28acb96f023d3a658\n",
            "b42906f649f83be261a7a70d0632ee3b\n",
            "8f0c66d3aef72a24c5ed855a948456b3\n",
            "8f0c66d3aef72a24c5ed855a948456b3\n",
            "585ef864b2e83306723304c4eeef13be\n",
            "b00207e4f8915f12d3deff8477c38ed9\n",
            "b42906f649f83be261a7a70d0632ee3b\n",
            "0cbe1138f7029205753aa3bff6338515\n",
            "0cbe1138f7029205753aa3bff6338515\n",
            "ba6b6cee3fed2240d2906751b0f0d8b1\n",
            "3267f156fc7d22a965a7681d750d7b43\n",
            "fbf68d6332c1291baa1be58c6c5b6c6b\n",
            "1adb4782b5bda7addee81013bfff2898\n",
            "c6c8b5d1cf0d1754a4de0e73846329d2\n",
            "6159e7df69f931932e6d5dc53c57b900\n",
            "75608158522a2e45d239e172a8df32be\n",
            "6912c4d710930a80d4af1b3dfb44b41c\n",
            "8f38d125c423d4fbbf8a06ab56374934\n",
            "f7abb48fe7e8b65140bb76d28799d08f\n",
            "3b2d05e4f69cf7df3394f7f6d7dd4290\n",
            "1f059252260cd5fc05072c612a3cf3bf\n",
            "13d12caf285029cb25938fcc30b51744\n",
            "2307afa9416b6a13c30e83e6c8fff966\n",
            "a89fbda49a6310ba01124f48dffaad13\n",
            "349c84c4ce44750ad4f93d357cd26a39\n",
            "1002909457f91f0349f4ec9f5dd989c7\n",
            "f3fb06a0979dcb7b97dfa7d506d08d6e\n",
            "efb963971b97d5db8497994d640ab89d\n",
            "a403df8a18eef2d076ca6aa73ce88462\n"
          ],
          "name": "stdout"
        }
      ]
    },
    {
      "cell_type": "code",
      "metadata": {
        "id": "oH5Z01IUvGDv",
        "colab_type": "code",
        "colab": {
          "base_uri": "https://localhost:8080/",
          "height": 697
        },
        "outputId": "6c47064f-a394-4e43-d345-f9c08c75f871"
      },
      "source": [
        "for key in pef_dumpdicts:\n",
        "  first_dict = pef_dumpdicts[key]\n",
        "  print(first_dict['PE Sections'][2]['SHA1'])\n",
        "  dataCopy.loc[key,'PE Sections_SHA1'] = first_dict['PE Sections'][2]['SHA1']"
      ],
      "execution_count": 54,
      "outputs": [
        {
          "output_type": "stream",
          "text": [
            "494983fe50ae27c98f7edfda300e73833e2f9fc6\n",
            "494983fe50ae27c98f7edfda300e73833e2f9fc6\n",
            "494983fe50ae27c98f7edfda300e73833e2f9fc6\n",
            "494983fe50ae27c98f7edfda300e73833e2f9fc6\n",
            "494983fe50ae27c98f7edfda300e73833e2f9fc6\n",
            "494983fe50ae27c98f7edfda300e73833e2f9fc6\n",
            "494983fe50ae27c98f7edfda300e73833e2f9fc6\n",
            "494983fe50ae27c98f7edfda300e73833e2f9fc6\n",
            "494983fe50ae27c98f7edfda300e73833e2f9fc6\n",
            "494983fe50ae27c98f7edfda300e73833e2f9fc6\n",
            "a7c7b8abd3e9d304dd9d8d5be36b8ab265c733be\n",
            "8249ca52e672f0bfba4b0f142ecb907738425d0f\n",
            "489cc43a360fb8c17b5d40d69110c7de286f3ec0\n",
            "177097c5592ab09e572a61e30545890cebbda28b\n",
            "177097c5592ab09e572a61e30545890cebbda28b\n",
            "56e45d838b110b97973933e8c1418d4e74d4e8ec\n",
            "9605681b9624324ff108f3a888aa4543053b225b\n",
            "489cc43a360fb8c17b5d40d69110c7de286f3ec0\n",
            "a7c7b8abd3e9d304dd9d8d5be36b8ab265c733be\n",
            "a7c7b8abd3e9d304dd9d8d5be36b8ab265c733be\n",
            "8baaf5eafe8fa8201d5a53f512acab7b9c69138b\n",
            "2dcb21c24c53cfa3e8be9c58bd1a0782305771bc\n",
            "4b72ced452bc947d6e1c68908faea80d001961ec\n",
            "5c577223274927706435b1174e05ed855e80e277\n",
            "daf11fe68c952ba2f3ba2ef80d5179895e02cf6a\n",
            "e70f7fc699766c24b9d5ada960cfc35b2238c512\n",
            "caff48e1f86f195ddf0613b0de5f1f787595b82b\n",
            "c1e01a563840f89923bf4100875a4caf6b6b0ad1\n",
            "7774ab9d11bcaa47cbd186f013ad1a93f08b0052\n",
            "3c6851d96e509f7f3230e6110b2fe65a4ebe6f01\n",
            "1bbb85416726f49eeeabeb5c59d94cf90c9ffec9\n",
            "be287adc99762effb785245c6c7f1121f9c3b3f1\n",
            "9969b2747c788555efe3eb4cc06b4669edc0c9ee\n",
            "afb2ba859461c9b43c96371bbdcdc438a257fb64\n",
            "fa2d9dafd5738a99101d39bceb2fbb9ae97cf27a\n",
            "2a1f6addb19fca56bdc86982e4486634ebd4f65c\n",
            "fb46dab7cd5122c9944acd254d2e823859f8b7ae\n",
            "8a59e3557c53e85ca84395b33857f70b0c493e3e\n",
            "e3cdaec3848fadba602acc6f804c16ce18f1eac6\n",
            "c171041ff6f035ad3ea91e381c05ce4f44f00a5b\n"
          ],
          "name": "stdout"
        }
      ]
    },
    {
      "cell_type": "code",
      "metadata": {
        "id": "DcBmibaAvJtZ",
        "colab_type": "code",
        "colab": {
          "base_uri": "https://localhost:8080/",
          "height": 697
        },
        "outputId": "4ccf0cad-a72b-48b0-90f8-589170784d41"
      },
      "source": [
        "for key in pef_dumpdicts:\n",
        "  first_dict = pef_dumpdicts[key]\n",
        "  print(first_dict['PE Sections'][2]['SHA256'])\n",
        "  dataCopy.loc[key,'PE Sections_SHA256'] = first_dict['PE Sections'][2]['SHA256']"
      ],
      "execution_count": 55,
      "outputs": [
        {
          "output_type": "stream",
          "text": [
            "132782397e571aa500143cd152e28c7b4927ac23545f5cfc15f2b864fd7850c0\n",
            "132782397e571aa500143cd152e28c7b4927ac23545f5cfc15f2b864fd7850c0\n",
            "132782397e571aa500143cd152e28c7b4927ac23545f5cfc15f2b864fd7850c0\n",
            "132782397e571aa500143cd152e28c7b4927ac23545f5cfc15f2b864fd7850c0\n",
            "132782397e571aa500143cd152e28c7b4927ac23545f5cfc15f2b864fd7850c0\n",
            "132782397e571aa500143cd152e28c7b4927ac23545f5cfc15f2b864fd7850c0\n",
            "132782397e571aa500143cd152e28c7b4927ac23545f5cfc15f2b864fd7850c0\n",
            "132782397e571aa500143cd152e28c7b4927ac23545f5cfc15f2b864fd7850c0\n",
            "132782397e571aa500143cd152e28c7b4927ac23545f5cfc15f2b864fd7850c0\n",
            "132782397e571aa500143cd152e28c7b4927ac23545f5cfc15f2b864fd7850c0\n",
            "b5d100b99964bb47a909306991571d3bb95663ebf5946aacfe1263368ce5dfc3\n",
            "21b7f4faff61518e3bf5f98bee6f7e6b121a999ed0ab8aa34fcf437afc6c2420\n",
            "639e97c3abad0f662ee4daa9ab1e7579bf17f255f2263deb7f8aac96132ffef9\n",
            "1ee00d178fb97686387b38985d6eeb979286c67255db827dca4b4bc229b2eb0c\n",
            "1ee00d178fb97686387b38985d6eeb979286c67255db827dca4b4bc229b2eb0c\n",
            "b5d7d63edd173b8c0fcf37514656b44ae657a02f8531d7ac514ad0d60e01b91d\n",
            "77d496161fae6463c1c413bca653401353ead25d5e2c8f7ed0d859dd120ac608\n",
            "639e97c3abad0f662ee4daa9ab1e7579bf17f255f2263deb7f8aac96132ffef9\n",
            "b5d100b99964bb47a909306991571d3bb95663ebf5946aacfe1263368ce5dfc3\n",
            "b5d100b99964bb47a909306991571d3bb95663ebf5946aacfe1263368ce5dfc3\n",
            "e6ff6bf0b6acecaaf6239cd082f58efc13f5f2c02cda4005e39086d568d6ba9e\n",
            "ecd7e6d1059baeeb2b5f20fbb35879b19702884af95dfc2fa4456e261ee269f6\n",
            "8e0b40736d46339d6b4e59a82464930bad6a9e6b4018af227bd263f54db1033d\n",
            "5579150c6481faed5627cdf33168261f3aba4ee2009830d5e5221b04d92453c8\n",
            "062cfbc8b7ce140090e0972742df5ee2e53e3aa242c85ad1b53ea0495dcbdb8f\n",
            "11cc4ef542611be3e1c051a176ca35f09398982d176dc6336ba4f8c0605c3675\n",
            "c4e05340d89f9b77c3254d7ef657b7519516e7975085e438a56f365ab188f86f\n",
            "38c61fc3d40bf68ad863a88a61d488ab192bbea0403b0c28b7fd3a178e551fe2\n",
            "8744f702132fb9a3cbad8b0fb2e77b1ded9d235fc56442f2dccc9af394455dc0\n",
            "a3f3e15a48597af009099e709408a6b84065ca6616a9a22552672dd8e02d8f65\n",
            "abeb0a70f4354829721249587bf8860e9300dea3002e29750c6a44b389f5c6e0\n",
            "4a74e4651b4002538f02cc1867a2c239009604ec1021a48060dd06ee49c6e0ef\n",
            "4063c9b8395dfa28458ff5a0f044f6b03fcefee4c54c6720d1f1c8bd1bd58ac9\n",
            "654c68494384ecd3fbd59808033a2180274075156e85cdfa164667a936b97615\n",
            "632165f3e51367ce33e1a9024784cb8d4a246eba83e5b7f7ed336f8dc27a5f29\n",
            "862e57b2a851238f69a98ae753cabcfbee5d0c280d65f3e32ce12d6d6ce5123e\n",
            "2e99db9b5362fcb427ce9a80504aa2cd2b9cf2488b00a7acb091bf4cabba8c69\n",
            "766d636e02e8eb00141b1855d3be3d7d5882f1f958243e3778053ae5f2137989\n",
            "1ff43a328e10c3c7f20bacf810206bfa38924033f481d07fa6d4b94e347fb542\n",
            "f0c2740f7ec1e89a00b94cc0cdb633c5a0acc6d82f66f717ea13e84d4118492e\n"
          ],
          "name": "stdout"
        }
      ]
    },
    {
      "cell_type": "code",
      "metadata": {
        "id": "19H2idxfvPld",
        "colab_type": "code",
        "colab": {
          "base_uri": "https://localhost:8080/",
          "height": 697
        },
        "outputId": "2360c396-e7b5-4027-c730-9830bca7b99e"
      },
      "source": [
        "for key in pef_dumpdicts:\n",
        "  first_dict = pef_dumpdicts[key]\n",
        "  print(first_dict['PE Sections'][2]['SHA512'])\n",
        "  dataCopy.loc[key,'PE Sections_SHA512'] = first_dict['PE Sections'][2]['SHA512']"
      ],
      "execution_count": 56,
      "outputs": [
        {
          "output_type": "stream",
          "text": [
            "28c524834ee6b1de70067ba4664768834174694107646df40bd9283b5fbd742e127908d4434bd9a80886030f687efad19fd4963165b3b04b47e265cbdbfa3b3a\n",
            "28c524834ee6b1de70067ba4664768834174694107646df40bd9283b5fbd742e127908d4434bd9a80886030f687efad19fd4963165b3b04b47e265cbdbfa3b3a\n",
            "28c524834ee6b1de70067ba4664768834174694107646df40bd9283b5fbd742e127908d4434bd9a80886030f687efad19fd4963165b3b04b47e265cbdbfa3b3a\n",
            "28c524834ee6b1de70067ba4664768834174694107646df40bd9283b5fbd742e127908d4434bd9a80886030f687efad19fd4963165b3b04b47e265cbdbfa3b3a\n",
            "28c524834ee6b1de70067ba4664768834174694107646df40bd9283b5fbd742e127908d4434bd9a80886030f687efad19fd4963165b3b04b47e265cbdbfa3b3a\n",
            "28c524834ee6b1de70067ba4664768834174694107646df40bd9283b5fbd742e127908d4434bd9a80886030f687efad19fd4963165b3b04b47e265cbdbfa3b3a\n",
            "28c524834ee6b1de70067ba4664768834174694107646df40bd9283b5fbd742e127908d4434bd9a80886030f687efad19fd4963165b3b04b47e265cbdbfa3b3a\n",
            "28c524834ee6b1de70067ba4664768834174694107646df40bd9283b5fbd742e127908d4434bd9a80886030f687efad19fd4963165b3b04b47e265cbdbfa3b3a\n",
            "28c524834ee6b1de70067ba4664768834174694107646df40bd9283b5fbd742e127908d4434bd9a80886030f687efad19fd4963165b3b04b47e265cbdbfa3b3a\n",
            "28c524834ee6b1de70067ba4664768834174694107646df40bd9283b5fbd742e127908d4434bd9a80886030f687efad19fd4963165b3b04b47e265cbdbfa3b3a\n",
            "6af5bad56aa3c48c22ba107121cbdf9df94f8b05ef35bc23df8b06360d62ad61d50d448daf01c0099f38bc899ffe710f93ffaa504a9dc91caa37f318872ce492\n",
            "d9714711da3bcdfdfde2ac1e4d4ad56172ac73f87919632dac29b4620735562157bff5ee89ae43a11df159ef0ebbfeeb45d7a60db1984e09c1761255279bcee9\n",
            "98dfa9e94076cd411f8a426b10865d6999cbd18ff764eb43363e5ea0d68d9f89ffc62f935f989fac3505754e349f218f613e124aa1a5aa760a5ee6e7fc03ae87\n",
            "0cf051a2e0f1b521dcccf3f76788811c152ee1e388033e636659fecab12f897f1c925a6045f467320331ea7031ec15d121229a025c01f293b4f621ac6e2b158b\n",
            "0cf051a2e0f1b521dcccf3f76788811c152ee1e388033e636659fecab12f897f1c925a6045f467320331ea7031ec15d121229a025c01f293b4f621ac6e2b158b\n",
            "da23e6e8a5eec603df61842058e851212e77aea94cea56ca726eaf837279a14116879c134b58cb43ca1d67591d131654be431d51588c50c53c35d3ebfbb5a9f8\n",
            "2cda25375339737a588da469641f2d41e22a38d1262640f140fe46c897f4ee6ddaa78b51c294f89b189758277262b99183bb66ffd534e8c167f294bd84ec27b4\n",
            "98dfa9e94076cd411f8a426b10865d6999cbd18ff764eb43363e5ea0d68d9f89ffc62f935f989fac3505754e349f218f613e124aa1a5aa760a5ee6e7fc03ae87\n",
            "6af5bad56aa3c48c22ba107121cbdf9df94f8b05ef35bc23df8b06360d62ad61d50d448daf01c0099f38bc899ffe710f93ffaa504a9dc91caa37f318872ce492\n",
            "6af5bad56aa3c48c22ba107121cbdf9df94f8b05ef35bc23df8b06360d62ad61d50d448daf01c0099f38bc899ffe710f93ffaa504a9dc91caa37f318872ce492\n",
            "7852997847a415b5ba82fa715e273709679095147f388e5db445bcd626878ca978b6772ed8f239e5b3e8b5b9c57e9a174d65060ab59e205c9416db7f4fa0fae6\n",
            "a127a11ede6f9010052b54f63596f4523e063b773048e1625a042450944bd971e1c1bf7dc5ef6d09c294ebfdf31cf7c4ec76f807848566935c564a86b80a8085\n",
            "66fcdfc42f701b8dc3be89f106f1e9bd53e1df3acfc61eb4ffbb306e00e5da1e088b2253788f1a3cd5e3c7f37b5c3f87177789990511cda95750f82665721081\n",
            "7e62fefe3c7d057fa2219e2e9aaadb5c2e455a05e9e1c9fb8aebfb6bb0d422265ac84bf4451c55529f7f4f9108bac0443938c02089debfacf57297cadf2679a7\n",
            "580a1bdbdfeae6b150a996566579191d8cb74854dfc611cb00b973be54e0d8f9c584bc99d1fcd77542cc494e83f858268859ce3f74f08ff764122f80c8b23743\n",
            "db95e207be9fc8c17e95a6e77c8fdd580987cc2443b54b17d64255a45cebd15e5c30940589d70da4d5d700105bcf1b9541adb67e811d60da2212994e27ae8817\n",
            "e84d15964eafb2b3c45258f6de1b8e73d22298a47455d6c9b8f0732538b0ddfdfc415bd67c6e4e3eb691e7bca5b622bce82fa6ae7967d210184a2dddd74ed1b6\n",
            "603e5a2c4854ccc60cb019d16347ca78e68440ca1cf6d4990582849fee1c8914d67b3ff245545fc878d00991c42b5932099d49bd0a60dd4542c78bc28a2a430f\n",
            "c332283f0a7fc25424cb5a79deb10850c2d56043f7f3b66d30bf448f7e71b1ff7c5393ed7c135ff1a454e2954aeabf076fbe2a8b81db1e02889286d720375873\n",
            "834ce6d455afb21ca0ecc77c14b93b4cf9c11c517a8453b394e171e01e2fed7855d2a6144ac791c179b4c080ad7200459d1eda2c7596b91c551cc6ba07333c57\n",
            "f0a259b6d4cd11ca38908dd7b4ecbe9a6d5b9e7333a41fc9d57c312b8c9c8adf903b628ecd81abb6eed946ffd3819d7f87e7748325381a9d1440778c8f80d78f\n",
            "f3aff24ccc7e3da3df23cc86858f69c35af05992c04f2ba362bac779dbd659d6f1f9feea7270d80fc5a9e0e202614c780c91bc52bfd175db6618e439aca05d64\n",
            "e868202708a992fc57ec263ce0600caac33b964ec03d34d1ad2330ea54d7adb34dd7bf1e2918ce66807f9879b9bd849a137bf5a17b324201007548b171badfa0\n",
            "e85d2f9d2300f777caea8c584df0c48a2342ae57b2c91526408663a4a4b40e7b07ecaaec4bda4c37ec60ffd4cfc985e3713b3a241dd1e2c0395d4dbd3f107661\n",
            "7f0354a4ca76fe9c26fe4506a1383d41251bbf35a41f82ef2c0c8c03a7786bf7a2655e87b5ddb6757c2f312b1eb54ace866c8417f878e6054c0d8c8bef31e83b\n",
            "37e71dc94a226adc7048f1ce1f5199f6496e142b7db238ed6836ca2ebbc1198485198c6f9cad82ed7bd6af65e7877c93969fe4a1309452b2797ff11bea29e685\n",
            "62c936552db42bbcc74dddecec3f22c6029c440f334c60f6b79258980df5100227bfcb90f77e8383d88610dd6dae40acc17f6ec8b0c86195625a1971ac2509a4\n",
            "607905fa58e2232d90243de5523f1fd3f612f33e748c5acd975492c27524325d804ff7a1caf30b4a9469fa80c6971df0980d9846757b784a5c27ad3738fdb5c7\n",
            "c3ddb728e8c76c2fc479fee180a5c9e72977491b9a6379d0d4faefdbb92cb11e4e66249de4a0e3b21ff100ccbcb5e643ecc0fd642cb2cf522707470cfb02f233\n",
            "e03a4e3682ff7b620b0647c53b398e67e6928e9c97a172d5f08c954f308a4d9ddc1b66ad72760d60c3ec1000284fa0715d610a64947b59d65fb463da85b0345e\n"
          ],
          "name": "stdout"
        }
      ]
    },
    {
      "cell_type": "markdown",
      "metadata": {
        "id": "8mBLkHx2v93R",
        "colab_type": "text"
      },
      "source": [
        "# **Directories**"
      ]
    },
    {
      "cell_type": "code",
      "metadata": {
        "id": "Ql5r3j1zvFee",
        "colab_type": "code",
        "colab": {
          "base_uri": "https://localhost:8080/",
          "height": 717
        },
        "outputId": "3d316d8e-54ed-42dc-d393-ae3d06bbf90e"
      },
      "source": [
        "for key in pef_dumpdicts:\n",
        "  print(pef_dumpdicts[key]['Directories']) #沒用"
      ],
      "execution_count": 57,
      "outputs": [
        {
          "output_type": "stream",
          "text": [
            "[{'Structure': 'IMAGE_DIRECTORY_ENTRY_EXPORT', 'VirtualAddress': {'FileOffset': 336, 'Offset': 0, 'Value': 0}, 'Size': {'FileOffset': 340, 'Offset': 4, 'Value': 0}}, {'Structure': 'IMAGE_DIRECTORY_ENTRY_IMPORT', 'VirtualAddress': {'FileOffset': 344, 'Offset': 0, 'Value': 32768}, 'Size': {'FileOffset': 348, 'Offset': 4, 'Value': 360}}, {'Structure': 'IMAGE_DIRECTORY_ENTRY_RESOURCE', 'VirtualAddress': {'FileOffset': 352, 'Offset': 0, 'Value': 0}, 'Size': {'FileOffset': 356, 'Offset': 4, 'Value': 0}}, {'Structure': 'IMAGE_DIRECTORY_ENTRY_EXCEPTION', 'VirtualAddress': {'FileOffset': 360, 'Offset': 0, 'Value': 0}, 'Size': {'FileOffset': 364, 'Offset': 4, 'Value': 0}}, {'Structure': 'IMAGE_DIRECTORY_ENTRY_SECURITY', 'VirtualAddress': {'FileOffset': 368, 'Offset': 0, 'Value': 0}, 'Size': {'FileOffset': 372, 'Offset': 4, 'Value': 0}}, {'Structure': 'IMAGE_DIRECTORY_ENTRY_BASERELOC', 'VirtualAddress': {'FileOffset': 376, 'Offset': 0, 'Value': 0}, 'Size': {'FileOffset': 380, 'Offset': 4, 'Value': 0}}, {'Structure': 'IMAGE_DIRECTORY_ENTRY_DEBUG', 'VirtualAddress': {'FileOffset': 384, 'Offset': 0, 'Value': 0}, 'Size': {'FileOffset': 388, 'Offset': 4, 'Value': 0}}, {'Structure': 'IMAGE_DIRECTORY_ENTRY_COPYRIGHT', 'VirtualAddress': {'FileOffset': 392, 'Offset': 0, 'Value': 0}, 'Size': {'FileOffset': 396, 'Offset': 4, 'Value': 0}}, {'Structure': 'IMAGE_DIRECTORY_ENTRY_GLOBALPTR', 'VirtualAddress': {'FileOffset': 400, 'Offset': 0, 'Value': 0}, 'Size': {'FileOffset': 404, 'Offset': 4, 'Value': 0}}, {'Structure': 'IMAGE_DIRECTORY_ENTRY_TLS', 'VirtualAddress': {'FileOffset': 408, 'Offset': 0, 'Value': 0}, 'Size': {'FileOffset': 412, 'Offset': 4, 'Value': 0}}, {'Structure': 'IMAGE_DIRECTORY_ENTRY_LOAD_CONFIG', 'VirtualAddress': {'FileOffset': 416, 'Offset': 0, 'Value': 0}, 'Size': {'FileOffset': 420, 'Offset': 4, 'Value': 0}}, {'Structure': 'IMAGE_DIRECTORY_ENTRY_BOUND_IMPORT', 'VirtualAddress': {'FileOffset': 424, 'Offset': 0, 'Value': 0}, 'Size': {'FileOffset': 428, 'Offset': 4, 'Value': 0}}, {'Structure': 'IMAGE_DIRECTORY_ENTRY_IAT', 'VirtualAddress': {'FileOffset': 432, 'Offset': 0, 'Value': 0}, 'Size': {'FileOffset': 436, 'Offset': 4, 'Value': 0}}, {'Structure': 'IMAGE_DIRECTORY_ENTRY_DELAY_IMPORT', 'VirtualAddress': {'FileOffset': 440, 'Offset': 0, 'Value': 0}, 'Size': {'FileOffset': 444, 'Offset': 4, 'Value': 0}}, {'Structure': 'IMAGE_DIRECTORY_ENTRY_COM_DESCRIPTOR', 'VirtualAddress': {'FileOffset': 448, 'Offset': 0, 'Value': 0}, 'Size': {'FileOffset': 452, 'Offset': 4, 'Value': 0}}, {'Structure': 'IMAGE_DIRECTORY_ENTRY_RESERVED', 'VirtualAddress': {'FileOffset': 456, 'Offset': 0, 'Value': 0}, 'Size': {'FileOffset': 460, 'Offset': 4, 'Value': 0}}]\n",
            "[{'Structure': 'IMAGE_DIRECTORY_ENTRY_EXPORT', 'VirtualAddress': {'FileOffset': 336, 'Offset': 0, 'Value': 0}, 'Size': {'FileOffset': 340, 'Offset': 4, 'Value': 0}}, {'Structure': 'IMAGE_DIRECTORY_ENTRY_IMPORT', 'VirtualAddress': {'FileOffset': 344, 'Offset': 0, 'Value': 32768}, 'Size': {'FileOffset': 348, 'Offset': 4, 'Value': 360}}, {'Structure': 'IMAGE_DIRECTORY_ENTRY_RESOURCE', 'VirtualAddress': {'FileOffset': 352, 'Offset': 0, 'Value': 0}, 'Size': {'FileOffset': 356, 'Offset': 4, 'Value': 0}}, {'Structure': 'IMAGE_DIRECTORY_ENTRY_EXCEPTION', 'VirtualAddress': {'FileOffset': 360, 'Offset': 0, 'Value': 0}, 'Size': {'FileOffset': 364, 'Offset': 4, 'Value': 0}}, {'Structure': 'IMAGE_DIRECTORY_ENTRY_SECURITY', 'VirtualAddress': {'FileOffset': 368, 'Offset': 0, 'Value': 0}, 'Size': {'FileOffset': 372, 'Offset': 4, 'Value': 0}}, {'Structure': 'IMAGE_DIRECTORY_ENTRY_BASERELOC', 'VirtualAddress': {'FileOffset': 376, 'Offset': 0, 'Value': 0}, 'Size': {'FileOffset': 380, 'Offset': 4, 'Value': 0}}, {'Structure': 'IMAGE_DIRECTORY_ENTRY_DEBUG', 'VirtualAddress': {'FileOffset': 384, 'Offset': 0, 'Value': 0}, 'Size': {'FileOffset': 388, 'Offset': 4, 'Value': 0}}, {'Structure': 'IMAGE_DIRECTORY_ENTRY_COPYRIGHT', 'VirtualAddress': {'FileOffset': 392, 'Offset': 0, 'Value': 0}, 'Size': {'FileOffset': 396, 'Offset': 4, 'Value': 0}}, {'Structure': 'IMAGE_DIRECTORY_ENTRY_GLOBALPTR', 'VirtualAddress': {'FileOffset': 400, 'Offset': 0, 'Value': 0}, 'Size': {'FileOffset': 404, 'Offset': 4, 'Value': 0}}, {'Structure': 'IMAGE_DIRECTORY_ENTRY_TLS', 'VirtualAddress': {'FileOffset': 408, 'Offset': 0, 'Value': 0}, 'Size': {'FileOffset': 412, 'Offset': 4, 'Value': 0}}, {'Structure': 'IMAGE_DIRECTORY_ENTRY_LOAD_CONFIG', 'VirtualAddress': {'FileOffset': 416, 'Offset': 0, 'Value': 0}, 'Size': {'FileOffset': 420, 'Offset': 4, 'Value': 0}}, {'Structure': 'IMAGE_DIRECTORY_ENTRY_BOUND_IMPORT', 'VirtualAddress': {'FileOffset': 424, 'Offset': 0, 'Value': 0}, 'Size': {'FileOffset': 428, 'Offset': 4, 'Value': 0}}, {'Structure': 'IMAGE_DIRECTORY_ENTRY_IAT', 'VirtualAddress': {'FileOffset': 432, 'Offset': 0, 'Value': 0}, 'Size': {'FileOffset': 436, 'Offset': 4, 'Value': 0}}, {'Structure': 'IMAGE_DIRECTORY_ENTRY_DELAY_IMPORT', 'VirtualAddress': {'FileOffset': 440, 'Offset': 0, 'Value': 0}, 'Size': {'FileOffset': 444, 'Offset': 4, 'Value': 0}}, {'Structure': 'IMAGE_DIRECTORY_ENTRY_COM_DESCRIPTOR', 'VirtualAddress': {'FileOffset': 448, 'Offset': 0, 'Value': 0}, 'Size': {'FileOffset': 452, 'Offset': 4, 'Value': 0}}, {'Structure': 'IMAGE_DIRECTORY_ENTRY_RESERVED', 'VirtualAddress': {'FileOffset': 456, 'Offset': 0, 'Value': 0}, 'Size': {'FileOffset': 460, 'Offset': 4, 'Value': 0}}]\n",
            "[{'Structure': 'IMAGE_DIRECTORY_ENTRY_EXPORT', 'VirtualAddress': {'FileOffset': 336, 'Offset': 0, 'Value': 0}, 'Size': {'FileOffset': 340, 'Offset': 4, 'Value': 0}}, {'Structure': 'IMAGE_DIRECTORY_ENTRY_IMPORT', 'VirtualAddress': {'FileOffset': 344, 'Offset': 0, 'Value': 32768}, 'Size': {'FileOffset': 348, 'Offset': 4, 'Value': 360}}, {'Structure': 'IMAGE_DIRECTORY_ENTRY_RESOURCE', 'VirtualAddress': {'FileOffset': 352, 'Offset': 0, 'Value': 0}, 'Size': {'FileOffset': 356, 'Offset': 4, 'Value': 0}}, {'Structure': 'IMAGE_DIRECTORY_ENTRY_EXCEPTION', 'VirtualAddress': {'FileOffset': 360, 'Offset': 0, 'Value': 0}, 'Size': {'FileOffset': 364, 'Offset': 4, 'Value': 0}}, {'Structure': 'IMAGE_DIRECTORY_ENTRY_SECURITY', 'VirtualAddress': {'FileOffset': 368, 'Offset': 0, 'Value': 0}, 'Size': {'FileOffset': 372, 'Offset': 4, 'Value': 0}}, {'Structure': 'IMAGE_DIRECTORY_ENTRY_BASERELOC', 'VirtualAddress': {'FileOffset': 376, 'Offset': 0, 'Value': 0}, 'Size': {'FileOffset': 380, 'Offset': 4, 'Value': 0}}, {'Structure': 'IMAGE_DIRECTORY_ENTRY_DEBUG', 'VirtualAddress': {'FileOffset': 384, 'Offset': 0, 'Value': 0}, 'Size': {'FileOffset': 388, 'Offset': 4, 'Value': 0}}, {'Structure': 'IMAGE_DIRECTORY_ENTRY_COPYRIGHT', 'VirtualAddress': {'FileOffset': 392, 'Offset': 0, 'Value': 0}, 'Size': {'FileOffset': 396, 'Offset': 4, 'Value': 0}}, {'Structure': 'IMAGE_DIRECTORY_ENTRY_GLOBALPTR', 'VirtualAddress': {'FileOffset': 400, 'Offset': 0, 'Value': 0}, 'Size': {'FileOffset': 404, 'Offset': 4, 'Value': 0}}, {'Structure': 'IMAGE_DIRECTORY_ENTRY_TLS', 'VirtualAddress': {'FileOffset': 408, 'Offset': 0, 'Value': 0}, 'Size': {'FileOffset': 412, 'Offset': 4, 'Value': 0}}, {'Structure': 'IMAGE_DIRECTORY_ENTRY_LOAD_CONFIG', 'VirtualAddress': {'FileOffset': 416, 'Offset': 0, 'Value': 0}, 'Size': {'FileOffset': 420, 'Offset': 4, 'Value': 0}}, {'Structure': 'IMAGE_DIRECTORY_ENTRY_BOUND_IMPORT', 'VirtualAddress': {'FileOffset': 424, 'Offset': 0, 'Value': 0}, 'Size': {'FileOffset': 428, 'Offset': 4, 'Value': 0}}, {'Structure': 'IMAGE_DIRECTORY_ENTRY_IAT', 'VirtualAddress': {'FileOffset': 432, 'Offset': 0, 'Value': 0}, 'Size': {'FileOffset': 436, 'Offset': 4, 'Value': 0}}, {'Structure': 'IMAGE_DIRECTORY_ENTRY_DELAY_IMPORT', 'VirtualAddress': {'FileOffset': 440, 'Offset': 0, 'Value': 0}, 'Size': {'FileOffset': 444, 'Offset': 4, 'Value': 0}}, {'Structure': 'IMAGE_DIRECTORY_ENTRY_COM_DESCRIPTOR', 'VirtualAddress': {'FileOffset': 448, 'Offset': 0, 'Value': 0}, 'Size': {'FileOffset': 452, 'Offset': 4, 'Value': 0}}, {'Structure': 'IMAGE_DIRECTORY_ENTRY_RESERVED', 'VirtualAddress': {'FileOffset': 456, 'Offset': 0, 'Value': 0}, 'Size': {'FileOffset': 460, 'Offset': 4, 'Value': 0}}]\n",
            "[{'Structure': 'IMAGE_DIRECTORY_ENTRY_EXPORT', 'VirtualAddress': {'FileOffset': 336, 'Offset': 0, 'Value': 0}, 'Size': {'FileOffset': 340, 'Offset': 4, 'Value': 0}}, {'Structure': 'IMAGE_DIRECTORY_ENTRY_IMPORT', 'VirtualAddress': {'FileOffset': 344, 'Offset': 0, 'Value': 32768}, 'Size': {'FileOffset': 348, 'Offset': 4, 'Value': 360}}, {'Structure': 'IMAGE_DIRECTORY_ENTRY_RESOURCE', 'VirtualAddress': {'FileOffset': 352, 'Offset': 0, 'Value': 0}, 'Size': {'FileOffset': 356, 'Offset': 4, 'Value': 0}}, {'Structure': 'IMAGE_DIRECTORY_ENTRY_EXCEPTION', 'VirtualAddress': {'FileOffset': 360, 'Offset': 0, 'Value': 0}, 'Size': {'FileOffset': 364, 'Offset': 4, 'Value': 0}}, {'Structure': 'IMAGE_DIRECTORY_ENTRY_SECURITY', 'VirtualAddress': {'FileOffset': 368, 'Offset': 0, 'Value': 0}, 'Size': {'FileOffset': 372, 'Offset': 4, 'Value': 0}}, {'Structure': 'IMAGE_DIRECTORY_ENTRY_BASERELOC', 'VirtualAddress': {'FileOffset': 376, 'Offset': 0, 'Value': 0}, 'Size': {'FileOffset': 380, 'Offset': 4, 'Value': 0}}, {'Structure': 'IMAGE_DIRECTORY_ENTRY_DEBUG', 'VirtualAddress': {'FileOffset': 384, 'Offset': 0, 'Value': 0}, 'Size': {'FileOffset': 388, 'Offset': 4, 'Value': 0}}, {'Structure': 'IMAGE_DIRECTORY_ENTRY_COPYRIGHT', 'VirtualAddress': {'FileOffset': 392, 'Offset': 0, 'Value': 0}, 'Size': {'FileOffset': 396, 'Offset': 4, 'Value': 0}}, {'Structure': 'IMAGE_DIRECTORY_ENTRY_GLOBALPTR', 'VirtualAddress': {'FileOffset': 400, 'Offset': 0, 'Value': 0}, 'Size': {'FileOffset': 404, 'Offset': 4, 'Value': 0}}, {'Structure': 'IMAGE_DIRECTORY_ENTRY_TLS', 'VirtualAddress': {'FileOffset': 408, 'Offset': 0, 'Value': 0}, 'Size': {'FileOffset': 412, 'Offset': 4, 'Value': 0}}, {'Structure': 'IMAGE_DIRECTORY_ENTRY_LOAD_CONFIG', 'VirtualAddress': {'FileOffset': 416, 'Offset': 0, 'Value': 0}, 'Size': {'FileOffset': 420, 'Offset': 4, 'Value': 0}}, {'Structure': 'IMAGE_DIRECTORY_ENTRY_BOUND_IMPORT', 'VirtualAddress': {'FileOffset': 424, 'Offset': 0, 'Value': 0}, 'Size': {'FileOffset': 428, 'Offset': 4, 'Value': 0}}, {'Structure': 'IMAGE_DIRECTORY_ENTRY_IAT', 'VirtualAddress': {'FileOffset': 432, 'Offset': 0, 'Value': 0}, 'Size': {'FileOffset': 436, 'Offset': 4, 'Value': 0}}, {'Structure': 'IMAGE_DIRECTORY_ENTRY_DELAY_IMPORT', 'VirtualAddress': {'FileOffset': 440, 'Offset': 0, 'Value': 0}, 'Size': {'FileOffset': 444, 'Offset': 4, 'Value': 0}}, {'Structure': 'IMAGE_DIRECTORY_ENTRY_COM_DESCRIPTOR', 'VirtualAddress': {'FileOffset': 448, 'Offset': 0, 'Value': 0}, 'Size': {'FileOffset': 452, 'Offset': 4, 'Value': 0}}, {'Structure': 'IMAGE_DIRECTORY_ENTRY_RESERVED', 'VirtualAddress': {'FileOffset': 456, 'Offset': 0, 'Value': 0}, 'Size': {'FileOffset': 460, 'Offset': 4, 'Value': 0}}]\n",
            "[{'Structure': 'IMAGE_DIRECTORY_ENTRY_EXPORT', 'VirtualAddress': {'FileOffset': 336, 'Offset': 0, 'Value': 0}, 'Size': {'FileOffset': 340, 'Offset': 4, 'Value': 0}}, {'Structure': 'IMAGE_DIRECTORY_ENTRY_IMPORT', 'VirtualAddress': {'FileOffset': 344, 'Offset': 0, 'Value': 32768}, 'Size': {'FileOffset': 348, 'Offset': 4, 'Value': 360}}, {'Structure': 'IMAGE_DIRECTORY_ENTRY_RESOURCE', 'VirtualAddress': {'FileOffset': 352, 'Offset': 0, 'Value': 0}, 'Size': {'FileOffset': 356, 'Offset': 4, 'Value': 0}}, {'Structure': 'IMAGE_DIRECTORY_ENTRY_EXCEPTION', 'VirtualAddress': {'FileOffset': 360, 'Offset': 0, 'Value': 0}, 'Size': {'FileOffset': 364, 'Offset': 4, 'Value': 0}}, {'Structure': 'IMAGE_DIRECTORY_ENTRY_SECURITY', 'VirtualAddress': {'FileOffset': 368, 'Offset': 0, 'Value': 0}, 'Size': {'FileOffset': 372, 'Offset': 4, 'Value': 0}}, {'Structure': 'IMAGE_DIRECTORY_ENTRY_BASERELOC', 'VirtualAddress': {'FileOffset': 376, 'Offset': 0, 'Value': 0}, 'Size': {'FileOffset': 380, 'Offset': 4, 'Value': 0}}, {'Structure': 'IMAGE_DIRECTORY_ENTRY_DEBUG', 'VirtualAddress': {'FileOffset': 384, 'Offset': 0, 'Value': 0}, 'Size': {'FileOffset': 388, 'Offset': 4, 'Value': 0}}, {'Structure': 'IMAGE_DIRECTORY_ENTRY_COPYRIGHT', 'VirtualAddress': {'FileOffset': 392, 'Offset': 0, 'Value': 0}, 'Size': {'FileOffset': 396, 'Offset': 4, 'Value': 0}}, {'Structure': 'IMAGE_DIRECTORY_ENTRY_GLOBALPTR', 'VirtualAddress': {'FileOffset': 400, 'Offset': 0, 'Value': 0}, 'Size': {'FileOffset': 404, 'Offset': 4, 'Value': 0}}, {'Structure': 'IMAGE_DIRECTORY_ENTRY_TLS', 'VirtualAddress': {'FileOffset': 408, 'Offset': 0, 'Value': 0}, 'Size': {'FileOffset': 412, 'Offset': 4, 'Value': 0}}, {'Structure': 'IMAGE_DIRECTORY_ENTRY_LOAD_CONFIG', 'VirtualAddress': {'FileOffset': 416, 'Offset': 0, 'Value': 0}, 'Size': {'FileOffset': 420, 'Offset': 4, 'Value': 0}}, {'Structure': 'IMAGE_DIRECTORY_ENTRY_BOUND_IMPORT', 'VirtualAddress': {'FileOffset': 424, 'Offset': 0, 'Value': 0}, 'Size': {'FileOffset': 428, 'Offset': 4, 'Value': 0}}, {'Structure': 'IMAGE_DIRECTORY_ENTRY_IAT', 'VirtualAddress': {'FileOffset': 432, 'Offset': 0, 'Value': 0}, 'Size': {'FileOffset': 436, 'Offset': 4, 'Value': 0}}, {'Structure': 'IMAGE_DIRECTORY_ENTRY_DELAY_IMPORT', 'VirtualAddress': {'FileOffset': 440, 'Offset': 0, 'Value': 0}, 'Size': {'FileOffset': 444, 'Offset': 4, 'Value': 0}}, {'Structure': 'IMAGE_DIRECTORY_ENTRY_COM_DESCRIPTOR', 'VirtualAddress': {'FileOffset': 448, 'Offset': 0, 'Value': 0}, 'Size': {'FileOffset': 452, 'Offset': 4, 'Value': 0}}, {'Structure': 'IMAGE_DIRECTORY_ENTRY_RESERVED', 'VirtualAddress': {'FileOffset': 456, 'Offset': 0, 'Value': 0}, 'Size': {'FileOffset': 460, 'Offset': 4, 'Value': 0}}]\n",
            "[{'Structure': 'IMAGE_DIRECTORY_ENTRY_EXPORT', 'VirtualAddress': {'FileOffset': 336, 'Offset': 0, 'Value': 0}, 'Size': {'FileOffset': 340, 'Offset': 4, 'Value': 0}}, {'Structure': 'IMAGE_DIRECTORY_ENTRY_IMPORT', 'VirtualAddress': {'FileOffset': 344, 'Offset': 0, 'Value': 32768}, 'Size': {'FileOffset': 348, 'Offset': 4, 'Value': 360}}, {'Structure': 'IMAGE_DIRECTORY_ENTRY_RESOURCE', 'VirtualAddress': {'FileOffset': 352, 'Offset': 0, 'Value': 0}, 'Size': {'FileOffset': 356, 'Offset': 4, 'Value': 0}}, {'Structure': 'IMAGE_DIRECTORY_ENTRY_EXCEPTION', 'VirtualAddress': {'FileOffset': 360, 'Offset': 0, 'Value': 0}, 'Size': {'FileOffset': 364, 'Offset': 4, 'Value': 0}}, {'Structure': 'IMAGE_DIRECTORY_ENTRY_SECURITY', 'VirtualAddress': {'FileOffset': 368, 'Offset': 0, 'Value': 0}, 'Size': {'FileOffset': 372, 'Offset': 4, 'Value': 0}}, {'Structure': 'IMAGE_DIRECTORY_ENTRY_BASERELOC', 'VirtualAddress': {'FileOffset': 376, 'Offset': 0, 'Value': 0}, 'Size': {'FileOffset': 380, 'Offset': 4, 'Value': 0}}, {'Structure': 'IMAGE_DIRECTORY_ENTRY_DEBUG', 'VirtualAddress': {'FileOffset': 384, 'Offset': 0, 'Value': 0}, 'Size': {'FileOffset': 388, 'Offset': 4, 'Value': 0}}, {'Structure': 'IMAGE_DIRECTORY_ENTRY_COPYRIGHT', 'VirtualAddress': {'FileOffset': 392, 'Offset': 0, 'Value': 0}, 'Size': {'FileOffset': 396, 'Offset': 4, 'Value': 0}}, {'Structure': 'IMAGE_DIRECTORY_ENTRY_GLOBALPTR', 'VirtualAddress': {'FileOffset': 400, 'Offset': 0, 'Value': 0}, 'Size': {'FileOffset': 404, 'Offset': 4, 'Value': 0}}, {'Structure': 'IMAGE_DIRECTORY_ENTRY_TLS', 'VirtualAddress': {'FileOffset': 408, 'Offset': 0, 'Value': 0}, 'Size': {'FileOffset': 412, 'Offset': 4, 'Value': 0}}, {'Structure': 'IMAGE_DIRECTORY_ENTRY_LOAD_CONFIG', 'VirtualAddress': {'FileOffset': 416, 'Offset': 0, 'Value': 0}, 'Size': {'FileOffset': 420, 'Offset': 4, 'Value': 0}}, {'Structure': 'IMAGE_DIRECTORY_ENTRY_BOUND_IMPORT', 'VirtualAddress': {'FileOffset': 424, 'Offset': 0, 'Value': 0}, 'Size': {'FileOffset': 428, 'Offset': 4, 'Value': 0}}, {'Structure': 'IMAGE_DIRECTORY_ENTRY_IAT', 'VirtualAddress': {'FileOffset': 432, 'Offset': 0, 'Value': 0}, 'Size': {'FileOffset': 436, 'Offset': 4, 'Value': 0}}, {'Structure': 'IMAGE_DIRECTORY_ENTRY_DELAY_IMPORT', 'VirtualAddress': {'FileOffset': 440, 'Offset': 0, 'Value': 0}, 'Size': {'FileOffset': 444, 'Offset': 4, 'Value': 0}}, {'Structure': 'IMAGE_DIRECTORY_ENTRY_COM_DESCRIPTOR', 'VirtualAddress': {'FileOffset': 448, 'Offset': 0, 'Value': 0}, 'Size': {'FileOffset': 452, 'Offset': 4, 'Value': 0}}, {'Structure': 'IMAGE_DIRECTORY_ENTRY_RESERVED', 'VirtualAddress': {'FileOffset': 456, 'Offset': 0, 'Value': 0}, 'Size': {'FileOffset': 460, 'Offset': 4, 'Value': 0}}]\n",
            "[{'Structure': 'IMAGE_DIRECTORY_ENTRY_EXPORT', 'VirtualAddress': {'FileOffset': 336, 'Offset': 0, 'Value': 0}, 'Size': {'FileOffset': 340, 'Offset': 4, 'Value': 0}}, {'Structure': 'IMAGE_DIRECTORY_ENTRY_IMPORT', 'VirtualAddress': {'FileOffset': 344, 'Offset': 0, 'Value': 32768}, 'Size': {'FileOffset': 348, 'Offset': 4, 'Value': 360}}, {'Structure': 'IMAGE_DIRECTORY_ENTRY_RESOURCE', 'VirtualAddress': {'FileOffset': 352, 'Offset': 0, 'Value': 0}, 'Size': {'FileOffset': 356, 'Offset': 4, 'Value': 0}}, {'Structure': 'IMAGE_DIRECTORY_ENTRY_EXCEPTION', 'VirtualAddress': {'FileOffset': 360, 'Offset': 0, 'Value': 0}, 'Size': {'FileOffset': 364, 'Offset': 4, 'Value': 0}}, {'Structure': 'IMAGE_DIRECTORY_ENTRY_SECURITY', 'VirtualAddress': {'FileOffset': 368, 'Offset': 0, 'Value': 0}, 'Size': {'FileOffset': 372, 'Offset': 4, 'Value': 0}}, {'Structure': 'IMAGE_DIRECTORY_ENTRY_BASERELOC', 'VirtualAddress': {'FileOffset': 376, 'Offset': 0, 'Value': 0}, 'Size': {'FileOffset': 380, 'Offset': 4, 'Value': 0}}, {'Structure': 'IMAGE_DIRECTORY_ENTRY_DEBUG', 'VirtualAddress': {'FileOffset': 384, 'Offset': 0, 'Value': 0}, 'Size': {'FileOffset': 388, 'Offset': 4, 'Value': 0}}, {'Structure': 'IMAGE_DIRECTORY_ENTRY_COPYRIGHT', 'VirtualAddress': {'FileOffset': 392, 'Offset': 0, 'Value': 0}, 'Size': {'FileOffset': 396, 'Offset': 4, 'Value': 0}}, {'Structure': 'IMAGE_DIRECTORY_ENTRY_GLOBALPTR', 'VirtualAddress': {'FileOffset': 400, 'Offset': 0, 'Value': 0}, 'Size': {'FileOffset': 404, 'Offset': 4, 'Value': 0}}, {'Structure': 'IMAGE_DIRECTORY_ENTRY_TLS', 'VirtualAddress': {'FileOffset': 408, 'Offset': 0, 'Value': 0}, 'Size': {'FileOffset': 412, 'Offset': 4, 'Value': 0}}, {'Structure': 'IMAGE_DIRECTORY_ENTRY_LOAD_CONFIG', 'VirtualAddress': {'FileOffset': 416, 'Offset': 0, 'Value': 0}, 'Size': {'FileOffset': 420, 'Offset': 4, 'Value': 0}}, {'Structure': 'IMAGE_DIRECTORY_ENTRY_BOUND_IMPORT', 'VirtualAddress': {'FileOffset': 424, 'Offset': 0, 'Value': 0}, 'Size': {'FileOffset': 428, 'Offset': 4, 'Value': 0}}, {'Structure': 'IMAGE_DIRECTORY_ENTRY_IAT', 'VirtualAddress': {'FileOffset': 432, 'Offset': 0, 'Value': 0}, 'Size': {'FileOffset': 436, 'Offset': 4, 'Value': 0}}, {'Structure': 'IMAGE_DIRECTORY_ENTRY_DELAY_IMPORT', 'VirtualAddress': {'FileOffset': 440, 'Offset': 0, 'Value': 0}, 'Size': {'FileOffset': 444, 'Offset': 4, 'Value': 0}}, {'Structure': 'IMAGE_DIRECTORY_ENTRY_COM_DESCRIPTOR', 'VirtualAddress': {'FileOffset': 448, 'Offset': 0, 'Value': 0}, 'Size': {'FileOffset': 452, 'Offset': 4, 'Value': 0}}, {'Structure': 'IMAGE_DIRECTORY_ENTRY_RESERVED', 'VirtualAddress': {'FileOffset': 456, 'Offset': 0, 'Value': 0}, 'Size': {'FileOffset': 460, 'Offset': 4, 'Value': 0}}]\n",
            "[{'Structure': 'IMAGE_DIRECTORY_ENTRY_EXPORT', 'VirtualAddress': {'FileOffset': 336, 'Offset': 0, 'Value': 0}, 'Size': {'FileOffset': 340, 'Offset': 4, 'Value': 0}}, {'Structure': 'IMAGE_DIRECTORY_ENTRY_IMPORT', 'VirtualAddress': {'FileOffset': 344, 'Offset': 0, 'Value': 32768}, 'Size': {'FileOffset': 348, 'Offset': 4, 'Value': 360}}, {'Structure': 'IMAGE_DIRECTORY_ENTRY_RESOURCE', 'VirtualAddress': {'FileOffset': 352, 'Offset': 0, 'Value': 0}, 'Size': {'FileOffset': 356, 'Offset': 4, 'Value': 0}}, {'Structure': 'IMAGE_DIRECTORY_ENTRY_EXCEPTION', 'VirtualAddress': {'FileOffset': 360, 'Offset': 0, 'Value': 0}, 'Size': {'FileOffset': 364, 'Offset': 4, 'Value': 0}}, {'Structure': 'IMAGE_DIRECTORY_ENTRY_SECURITY', 'VirtualAddress': {'FileOffset': 368, 'Offset': 0, 'Value': 0}, 'Size': {'FileOffset': 372, 'Offset': 4, 'Value': 0}}, {'Structure': 'IMAGE_DIRECTORY_ENTRY_BASERELOC', 'VirtualAddress': {'FileOffset': 376, 'Offset': 0, 'Value': 0}, 'Size': {'FileOffset': 380, 'Offset': 4, 'Value': 0}}, {'Structure': 'IMAGE_DIRECTORY_ENTRY_DEBUG', 'VirtualAddress': {'FileOffset': 384, 'Offset': 0, 'Value': 0}, 'Size': {'FileOffset': 388, 'Offset': 4, 'Value': 0}}, {'Structure': 'IMAGE_DIRECTORY_ENTRY_COPYRIGHT', 'VirtualAddress': {'FileOffset': 392, 'Offset': 0, 'Value': 0}, 'Size': {'FileOffset': 396, 'Offset': 4, 'Value': 0}}, {'Structure': 'IMAGE_DIRECTORY_ENTRY_GLOBALPTR', 'VirtualAddress': {'FileOffset': 400, 'Offset': 0, 'Value': 0}, 'Size': {'FileOffset': 404, 'Offset': 4, 'Value': 0}}, {'Structure': 'IMAGE_DIRECTORY_ENTRY_TLS', 'VirtualAddress': {'FileOffset': 408, 'Offset': 0, 'Value': 0}, 'Size': {'FileOffset': 412, 'Offset': 4, 'Value': 0}}, {'Structure': 'IMAGE_DIRECTORY_ENTRY_LOAD_CONFIG', 'VirtualAddress': {'FileOffset': 416, 'Offset': 0, 'Value': 0}, 'Size': {'FileOffset': 420, 'Offset': 4, 'Value': 0}}, {'Structure': 'IMAGE_DIRECTORY_ENTRY_BOUND_IMPORT', 'VirtualAddress': {'FileOffset': 424, 'Offset': 0, 'Value': 0}, 'Size': {'FileOffset': 428, 'Offset': 4, 'Value': 0}}, {'Structure': 'IMAGE_DIRECTORY_ENTRY_IAT', 'VirtualAddress': {'FileOffset': 432, 'Offset': 0, 'Value': 0}, 'Size': {'FileOffset': 436, 'Offset': 4, 'Value': 0}}, {'Structure': 'IMAGE_DIRECTORY_ENTRY_DELAY_IMPORT', 'VirtualAddress': {'FileOffset': 440, 'Offset': 0, 'Value': 0}, 'Size': {'FileOffset': 444, 'Offset': 4, 'Value': 0}}, {'Structure': 'IMAGE_DIRECTORY_ENTRY_COM_DESCRIPTOR', 'VirtualAddress': {'FileOffset': 448, 'Offset': 0, 'Value': 0}, 'Size': {'FileOffset': 452, 'Offset': 4, 'Value': 0}}, {'Structure': 'IMAGE_DIRECTORY_ENTRY_RESERVED', 'VirtualAddress': {'FileOffset': 456, 'Offset': 0, 'Value': 0}, 'Size': {'FileOffset': 460, 'Offset': 4, 'Value': 0}}]\n",
            "[{'Structure': 'IMAGE_DIRECTORY_ENTRY_EXPORT', 'VirtualAddress': {'FileOffset': 336, 'Offset': 0, 'Value': 0}, 'Size': {'FileOffset': 340, 'Offset': 4, 'Value': 0}}, {'Structure': 'IMAGE_DIRECTORY_ENTRY_IMPORT', 'VirtualAddress': {'FileOffset': 344, 'Offset': 0, 'Value': 32768}, 'Size': {'FileOffset': 348, 'Offset': 4, 'Value': 360}}, {'Structure': 'IMAGE_DIRECTORY_ENTRY_RESOURCE', 'VirtualAddress': {'FileOffset': 352, 'Offset': 0, 'Value': 0}, 'Size': {'FileOffset': 356, 'Offset': 4, 'Value': 0}}, {'Structure': 'IMAGE_DIRECTORY_ENTRY_EXCEPTION', 'VirtualAddress': {'FileOffset': 360, 'Offset': 0, 'Value': 0}, 'Size': {'FileOffset': 364, 'Offset': 4, 'Value': 0}}, {'Structure': 'IMAGE_DIRECTORY_ENTRY_SECURITY', 'VirtualAddress': {'FileOffset': 368, 'Offset': 0, 'Value': 0}, 'Size': {'FileOffset': 372, 'Offset': 4, 'Value': 0}}, {'Structure': 'IMAGE_DIRECTORY_ENTRY_BASERELOC', 'VirtualAddress': {'FileOffset': 376, 'Offset': 0, 'Value': 0}, 'Size': {'FileOffset': 380, 'Offset': 4, 'Value': 0}}, {'Structure': 'IMAGE_DIRECTORY_ENTRY_DEBUG', 'VirtualAddress': {'FileOffset': 384, 'Offset': 0, 'Value': 0}, 'Size': {'FileOffset': 388, 'Offset': 4, 'Value': 0}}, {'Structure': 'IMAGE_DIRECTORY_ENTRY_COPYRIGHT', 'VirtualAddress': {'FileOffset': 392, 'Offset': 0, 'Value': 0}, 'Size': {'FileOffset': 396, 'Offset': 4, 'Value': 0}}, {'Structure': 'IMAGE_DIRECTORY_ENTRY_GLOBALPTR', 'VirtualAddress': {'FileOffset': 400, 'Offset': 0, 'Value': 0}, 'Size': {'FileOffset': 404, 'Offset': 4, 'Value': 0}}, {'Structure': 'IMAGE_DIRECTORY_ENTRY_TLS', 'VirtualAddress': {'FileOffset': 408, 'Offset': 0, 'Value': 0}, 'Size': {'FileOffset': 412, 'Offset': 4, 'Value': 0}}, {'Structure': 'IMAGE_DIRECTORY_ENTRY_LOAD_CONFIG', 'VirtualAddress': {'FileOffset': 416, 'Offset': 0, 'Value': 0}, 'Size': {'FileOffset': 420, 'Offset': 4, 'Value': 0}}, {'Structure': 'IMAGE_DIRECTORY_ENTRY_BOUND_IMPORT', 'VirtualAddress': {'FileOffset': 424, 'Offset': 0, 'Value': 0}, 'Size': {'FileOffset': 428, 'Offset': 4, 'Value': 0}}, {'Structure': 'IMAGE_DIRECTORY_ENTRY_IAT', 'VirtualAddress': {'FileOffset': 432, 'Offset': 0, 'Value': 0}, 'Size': {'FileOffset': 436, 'Offset': 4, 'Value': 0}}, {'Structure': 'IMAGE_DIRECTORY_ENTRY_DELAY_IMPORT', 'VirtualAddress': {'FileOffset': 440, 'Offset': 0, 'Value': 0}, 'Size': {'FileOffset': 444, 'Offset': 4, 'Value': 0}}, {'Structure': 'IMAGE_DIRECTORY_ENTRY_COM_DESCRIPTOR', 'VirtualAddress': {'FileOffset': 448, 'Offset': 0, 'Value': 0}, 'Size': {'FileOffset': 452, 'Offset': 4, 'Value': 0}}, {'Structure': 'IMAGE_DIRECTORY_ENTRY_RESERVED', 'VirtualAddress': {'FileOffset': 456, 'Offset': 0, 'Value': 0}, 'Size': {'FileOffset': 460, 'Offset': 4, 'Value': 0}}]\n",
            "[{'Structure': 'IMAGE_DIRECTORY_ENTRY_EXPORT', 'VirtualAddress': {'FileOffset': 336, 'Offset': 0, 'Value': 0}, 'Size': {'FileOffset': 340, 'Offset': 4, 'Value': 0}}, {'Structure': 'IMAGE_DIRECTORY_ENTRY_IMPORT', 'VirtualAddress': {'FileOffset': 344, 'Offset': 0, 'Value': 32768}, 'Size': {'FileOffset': 348, 'Offset': 4, 'Value': 360}}, {'Structure': 'IMAGE_DIRECTORY_ENTRY_RESOURCE', 'VirtualAddress': {'FileOffset': 352, 'Offset': 0, 'Value': 0}, 'Size': {'FileOffset': 356, 'Offset': 4, 'Value': 0}}, {'Structure': 'IMAGE_DIRECTORY_ENTRY_EXCEPTION', 'VirtualAddress': {'FileOffset': 360, 'Offset': 0, 'Value': 0}, 'Size': {'FileOffset': 364, 'Offset': 4, 'Value': 0}}, {'Structure': 'IMAGE_DIRECTORY_ENTRY_SECURITY', 'VirtualAddress': {'FileOffset': 368, 'Offset': 0, 'Value': 0}, 'Size': {'FileOffset': 372, 'Offset': 4, 'Value': 0}}, {'Structure': 'IMAGE_DIRECTORY_ENTRY_BASERELOC', 'VirtualAddress': {'FileOffset': 376, 'Offset': 0, 'Value': 0}, 'Size': {'FileOffset': 380, 'Offset': 4, 'Value': 0}}, {'Structure': 'IMAGE_DIRECTORY_ENTRY_DEBUG', 'VirtualAddress': {'FileOffset': 384, 'Offset': 0, 'Value': 0}, 'Size': {'FileOffset': 388, 'Offset': 4, 'Value': 0}}, {'Structure': 'IMAGE_DIRECTORY_ENTRY_COPYRIGHT', 'VirtualAddress': {'FileOffset': 392, 'Offset': 0, 'Value': 0}, 'Size': {'FileOffset': 396, 'Offset': 4, 'Value': 0}}, {'Structure': 'IMAGE_DIRECTORY_ENTRY_GLOBALPTR', 'VirtualAddress': {'FileOffset': 400, 'Offset': 0, 'Value': 0}, 'Size': {'FileOffset': 404, 'Offset': 4, 'Value': 0}}, {'Structure': 'IMAGE_DIRECTORY_ENTRY_TLS', 'VirtualAddress': {'FileOffset': 408, 'Offset': 0, 'Value': 0}, 'Size': {'FileOffset': 412, 'Offset': 4, 'Value': 0}}, {'Structure': 'IMAGE_DIRECTORY_ENTRY_LOAD_CONFIG', 'VirtualAddress': {'FileOffset': 416, 'Offset': 0, 'Value': 0}, 'Size': {'FileOffset': 420, 'Offset': 4, 'Value': 0}}, {'Structure': 'IMAGE_DIRECTORY_ENTRY_BOUND_IMPORT', 'VirtualAddress': {'FileOffset': 424, 'Offset': 0, 'Value': 0}, 'Size': {'FileOffset': 428, 'Offset': 4, 'Value': 0}}, {'Structure': 'IMAGE_DIRECTORY_ENTRY_IAT', 'VirtualAddress': {'FileOffset': 432, 'Offset': 0, 'Value': 0}, 'Size': {'FileOffset': 436, 'Offset': 4, 'Value': 0}}, {'Structure': 'IMAGE_DIRECTORY_ENTRY_DELAY_IMPORT', 'VirtualAddress': {'FileOffset': 440, 'Offset': 0, 'Value': 0}, 'Size': {'FileOffset': 444, 'Offset': 4, 'Value': 0}}, {'Structure': 'IMAGE_DIRECTORY_ENTRY_COM_DESCRIPTOR', 'VirtualAddress': {'FileOffset': 448, 'Offset': 0, 'Value': 0}, 'Size': {'FileOffset': 452, 'Offset': 4, 'Value': 0}}, {'Structure': 'IMAGE_DIRECTORY_ENTRY_RESERVED', 'VirtualAddress': {'FileOffset': 456, 'Offset': 0, 'Value': 0}, 'Size': {'FileOffset': 460, 'Offset': 4, 'Value': 0}}]\n",
            "[{'Structure': 'IMAGE_DIRECTORY_ENTRY_EXPORT', 'VirtualAddress': {'FileOffset': 336, 'Offset': 0, 'Value': 0}, 'Size': {'FileOffset': 340, 'Offset': 4, 'Value': 0}}, {'Structure': 'IMAGE_DIRECTORY_ENTRY_IMPORT', 'VirtualAddress': {'FileOffset': 344, 'Offset': 0, 'Value': 32768}, 'Size': {'FileOffset': 348, 'Offset': 4, 'Value': 360}}, {'Structure': 'IMAGE_DIRECTORY_ENTRY_RESOURCE', 'VirtualAddress': {'FileOffset': 352, 'Offset': 0, 'Value': 0}, 'Size': {'FileOffset': 356, 'Offset': 4, 'Value': 0}}, {'Structure': 'IMAGE_DIRECTORY_ENTRY_EXCEPTION', 'VirtualAddress': {'FileOffset': 360, 'Offset': 0, 'Value': 0}, 'Size': {'FileOffset': 364, 'Offset': 4, 'Value': 0}}, {'Structure': 'IMAGE_DIRECTORY_ENTRY_SECURITY', 'VirtualAddress': {'FileOffset': 368, 'Offset': 0, 'Value': 0}, 'Size': {'FileOffset': 372, 'Offset': 4, 'Value': 0}}, {'Structure': 'IMAGE_DIRECTORY_ENTRY_BASERELOC', 'VirtualAddress': {'FileOffset': 376, 'Offset': 0, 'Value': 0}, 'Size': {'FileOffset': 380, 'Offset': 4, 'Value': 0}}, {'Structure': 'IMAGE_DIRECTORY_ENTRY_DEBUG', 'VirtualAddress': {'FileOffset': 384, 'Offset': 0, 'Value': 0}, 'Size': {'FileOffset': 388, 'Offset': 4, 'Value': 0}}, {'Structure': 'IMAGE_DIRECTORY_ENTRY_COPYRIGHT', 'VirtualAddress': {'FileOffset': 392, 'Offset': 0, 'Value': 0}, 'Size': {'FileOffset': 396, 'Offset': 4, 'Value': 0}}, {'Structure': 'IMAGE_DIRECTORY_ENTRY_GLOBALPTR', 'VirtualAddress': {'FileOffset': 400, 'Offset': 0, 'Value': 0}, 'Size': {'FileOffset': 404, 'Offset': 4, 'Value': 0}}, {'Structure': 'IMAGE_DIRECTORY_ENTRY_TLS', 'VirtualAddress': {'FileOffset': 408, 'Offset': 0, 'Value': 0}, 'Size': {'FileOffset': 412, 'Offset': 4, 'Value': 0}}, {'Structure': 'IMAGE_DIRECTORY_ENTRY_LOAD_CONFIG', 'VirtualAddress': {'FileOffset': 416, 'Offset': 0, 'Value': 0}, 'Size': {'FileOffset': 420, 'Offset': 4, 'Value': 0}}, {'Structure': 'IMAGE_DIRECTORY_ENTRY_BOUND_IMPORT', 'VirtualAddress': {'FileOffset': 424, 'Offset': 0, 'Value': 0}, 'Size': {'FileOffset': 428, 'Offset': 4, 'Value': 0}}, {'Structure': 'IMAGE_DIRECTORY_ENTRY_IAT', 'VirtualAddress': {'FileOffset': 432, 'Offset': 0, 'Value': 0}, 'Size': {'FileOffset': 436, 'Offset': 4, 'Value': 0}}, {'Structure': 'IMAGE_DIRECTORY_ENTRY_DELAY_IMPORT', 'VirtualAddress': {'FileOffset': 440, 'Offset': 0, 'Value': 0}, 'Size': {'FileOffset': 444, 'Offset': 4, 'Value': 0}}, {'Structure': 'IMAGE_DIRECTORY_ENTRY_COM_DESCRIPTOR', 'VirtualAddress': {'FileOffset': 448, 'Offset': 0, 'Value': 0}, 'Size': {'FileOffset': 452, 'Offset': 4, 'Value': 0}}, {'Structure': 'IMAGE_DIRECTORY_ENTRY_RESERVED', 'VirtualAddress': {'FileOffset': 456, 'Offset': 0, 'Value': 0}, 'Size': {'FileOffset': 460, 'Offset': 4, 'Value': 0}}]\n",
            "[{'Structure': 'IMAGE_DIRECTORY_ENTRY_EXPORT', 'VirtualAddress': {'FileOffset': 336, 'Offset': 0, 'Value': 0}, 'Size': {'FileOffset': 340, 'Offset': 4, 'Value': 0}}, {'Structure': 'IMAGE_DIRECTORY_ENTRY_IMPORT', 'VirtualAddress': {'FileOffset': 344, 'Offset': 0, 'Value': 32768}, 'Size': {'FileOffset': 348, 'Offset': 4, 'Value': 360}}, {'Structure': 'IMAGE_DIRECTORY_ENTRY_RESOURCE', 'VirtualAddress': {'FileOffset': 352, 'Offset': 0, 'Value': 0}, 'Size': {'FileOffset': 356, 'Offset': 4, 'Value': 0}}, {'Structure': 'IMAGE_DIRECTORY_ENTRY_EXCEPTION', 'VirtualAddress': {'FileOffset': 360, 'Offset': 0, 'Value': 0}, 'Size': {'FileOffset': 364, 'Offset': 4, 'Value': 0}}, {'Structure': 'IMAGE_DIRECTORY_ENTRY_SECURITY', 'VirtualAddress': {'FileOffset': 368, 'Offset': 0, 'Value': 0}, 'Size': {'FileOffset': 372, 'Offset': 4, 'Value': 0}}, {'Structure': 'IMAGE_DIRECTORY_ENTRY_BASERELOC', 'VirtualAddress': {'FileOffset': 376, 'Offset': 0, 'Value': 0}, 'Size': {'FileOffset': 380, 'Offset': 4, 'Value': 0}}, {'Structure': 'IMAGE_DIRECTORY_ENTRY_DEBUG', 'VirtualAddress': {'FileOffset': 384, 'Offset': 0, 'Value': 0}, 'Size': {'FileOffset': 388, 'Offset': 4, 'Value': 0}}, {'Structure': 'IMAGE_DIRECTORY_ENTRY_COPYRIGHT', 'VirtualAddress': {'FileOffset': 392, 'Offset': 0, 'Value': 0}, 'Size': {'FileOffset': 396, 'Offset': 4, 'Value': 0}}, {'Structure': 'IMAGE_DIRECTORY_ENTRY_GLOBALPTR', 'VirtualAddress': {'FileOffset': 400, 'Offset': 0, 'Value': 0}, 'Size': {'FileOffset': 404, 'Offset': 4, 'Value': 0}}, {'Structure': 'IMAGE_DIRECTORY_ENTRY_TLS', 'VirtualAddress': {'FileOffset': 408, 'Offset': 0, 'Value': 0}, 'Size': {'FileOffset': 412, 'Offset': 4, 'Value': 0}}, {'Structure': 'IMAGE_DIRECTORY_ENTRY_LOAD_CONFIG', 'VirtualAddress': {'FileOffset': 416, 'Offset': 0, 'Value': 0}, 'Size': {'FileOffset': 420, 'Offset': 4, 'Value': 0}}, {'Structure': 'IMAGE_DIRECTORY_ENTRY_BOUND_IMPORT', 'VirtualAddress': {'FileOffset': 424, 'Offset': 0, 'Value': 0}, 'Size': {'FileOffset': 428, 'Offset': 4, 'Value': 0}}, {'Structure': 'IMAGE_DIRECTORY_ENTRY_IAT', 'VirtualAddress': {'FileOffset': 432, 'Offset': 0, 'Value': 0}, 'Size': {'FileOffset': 436, 'Offset': 4, 'Value': 0}}, {'Structure': 'IMAGE_DIRECTORY_ENTRY_DELAY_IMPORT', 'VirtualAddress': {'FileOffset': 440, 'Offset': 0, 'Value': 0}, 'Size': {'FileOffset': 444, 'Offset': 4, 'Value': 0}}, {'Structure': 'IMAGE_DIRECTORY_ENTRY_COM_DESCRIPTOR', 'VirtualAddress': {'FileOffset': 448, 'Offset': 0, 'Value': 0}, 'Size': {'FileOffset': 452, 'Offset': 4, 'Value': 0}}, {'Structure': 'IMAGE_DIRECTORY_ENTRY_RESERVED', 'VirtualAddress': {'FileOffset': 456, 'Offset': 0, 'Value': 0}, 'Size': {'FileOffset': 460, 'Offset': 4, 'Value': 0}}]\n",
            "[{'Structure': 'IMAGE_DIRECTORY_ENTRY_EXPORT', 'VirtualAddress': {'FileOffset': 336, 'Offset': 0, 'Value': 0}, 'Size': {'FileOffset': 340, 'Offset': 4, 'Value': 0}}, {'Structure': 'IMAGE_DIRECTORY_ENTRY_IMPORT', 'VirtualAddress': {'FileOffset': 344, 'Offset': 0, 'Value': 32768}, 'Size': {'FileOffset': 348, 'Offset': 4, 'Value': 360}}, {'Structure': 'IMAGE_DIRECTORY_ENTRY_RESOURCE', 'VirtualAddress': {'FileOffset': 352, 'Offset': 0, 'Value': 0}, 'Size': {'FileOffset': 356, 'Offset': 4, 'Value': 0}}, {'Structure': 'IMAGE_DIRECTORY_ENTRY_EXCEPTION', 'VirtualAddress': {'FileOffset': 360, 'Offset': 0, 'Value': 0}, 'Size': {'FileOffset': 364, 'Offset': 4, 'Value': 0}}, {'Structure': 'IMAGE_DIRECTORY_ENTRY_SECURITY', 'VirtualAddress': {'FileOffset': 368, 'Offset': 0, 'Value': 0}, 'Size': {'FileOffset': 372, 'Offset': 4, 'Value': 0}}, {'Structure': 'IMAGE_DIRECTORY_ENTRY_BASERELOC', 'VirtualAddress': {'FileOffset': 376, 'Offset': 0, 'Value': 0}, 'Size': {'FileOffset': 380, 'Offset': 4, 'Value': 0}}, {'Structure': 'IMAGE_DIRECTORY_ENTRY_DEBUG', 'VirtualAddress': {'FileOffset': 384, 'Offset': 0, 'Value': 0}, 'Size': {'FileOffset': 388, 'Offset': 4, 'Value': 0}}, {'Structure': 'IMAGE_DIRECTORY_ENTRY_COPYRIGHT', 'VirtualAddress': {'FileOffset': 392, 'Offset': 0, 'Value': 0}, 'Size': {'FileOffset': 396, 'Offset': 4, 'Value': 0}}, {'Structure': 'IMAGE_DIRECTORY_ENTRY_GLOBALPTR', 'VirtualAddress': {'FileOffset': 400, 'Offset': 0, 'Value': 0}, 'Size': {'FileOffset': 404, 'Offset': 4, 'Value': 0}}, {'Structure': 'IMAGE_DIRECTORY_ENTRY_TLS', 'VirtualAddress': {'FileOffset': 408, 'Offset': 0, 'Value': 0}, 'Size': {'FileOffset': 412, 'Offset': 4, 'Value': 0}}, {'Structure': 'IMAGE_DIRECTORY_ENTRY_LOAD_CONFIG', 'VirtualAddress': {'FileOffset': 416, 'Offset': 0, 'Value': 0}, 'Size': {'FileOffset': 420, 'Offset': 4, 'Value': 0}}, {'Structure': 'IMAGE_DIRECTORY_ENTRY_BOUND_IMPORT', 'VirtualAddress': {'FileOffset': 424, 'Offset': 0, 'Value': 0}, 'Size': {'FileOffset': 428, 'Offset': 4, 'Value': 0}}, {'Structure': 'IMAGE_DIRECTORY_ENTRY_IAT', 'VirtualAddress': {'FileOffset': 432, 'Offset': 0, 'Value': 0}, 'Size': {'FileOffset': 436, 'Offset': 4, 'Value': 0}}, {'Structure': 'IMAGE_DIRECTORY_ENTRY_DELAY_IMPORT', 'VirtualAddress': {'FileOffset': 440, 'Offset': 0, 'Value': 0}, 'Size': {'FileOffset': 444, 'Offset': 4, 'Value': 0}}, {'Structure': 'IMAGE_DIRECTORY_ENTRY_COM_DESCRIPTOR', 'VirtualAddress': {'FileOffset': 448, 'Offset': 0, 'Value': 0}, 'Size': {'FileOffset': 452, 'Offset': 4, 'Value': 0}}, {'Structure': 'IMAGE_DIRECTORY_ENTRY_RESERVED', 'VirtualAddress': {'FileOffset': 456, 'Offset': 0, 'Value': 0}, 'Size': {'FileOffset': 460, 'Offset': 4, 'Value': 0}}]\n",
            "[{'Structure': 'IMAGE_DIRECTORY_ENTRY_EXPORT', 'VirtualAddress': {'FileOffset': 336, 'Offset': 0, 'Value': 0}, 'Size': {'FileOffset': 340, 'Offset': 4, 'Value': 0}}, {'Structure': 'IMAGE_DIRECTORY_ENTRY_IMPORT', 'VirtualAddress': {'FileOffset': 344, 'Offset': 0, 'Value': 32768}, 'Size': {'FileOffset': 348, 'Offset': 4, 'Value': 360}}, {'Structure': 'IMAGE_DIRECTORY_ENTRY_RESOURCE', 'VirtualAddress': {'FileOffset': 352, 'Offset': 0, 'Value': 0}, 'Size': {'FileOffset': 356, 'Offset': 4, 'Value': 0}}, {'Structure': 'IMAGE_DIRECTORY_ENTRY_EXCEPTION', 'VirtualAddress': {'FileOffset': 360, 'Offset': 0, 'Value': 0}, 'Size': {'FileOffset': 364, 'Offset': 4, 'Value': 0}}, {'Structure': 'IMAGE_DIRECTORY_ENTRY_SECURITY', 'VirtualAddress': {'FileOffset': 368, 'Offset': 0, 'Value': 0}, 'Size': {'FileOffset': 372, 'Offset': 4, 'Value': 0}}, {'Structure': 'IMAGE_DIRECTORY_ENTRY_BASERELOC', 'VirtualAddress': {'FileOffset': 376, 'Offset': 0, 'Value': 0}, 'Size': {'FileOffset': 380, 'Offset': 4, 'Value': 0}}, {'Structure': 'IMAGE_DIRECTORY_ENTRY_DEBUG', 'VirtualAddress': {'FileOffset': 384, 'Offset': 0, 'Value': 0}, 'Size': {'FileOffset': 388, 'Offset': 4, 'Value': 0}}, {'Structure': 'IMAGE_DIRECTORY_ENTRY_COPYRIGHT', 'VirtualAddress': {'FileOffset': 392, 'Offset': 0, 'Value': 0}, 'Size': {'FileOffset': 396, 'Offset': 4, 'Value': 0}}, {'Structure': 'IMAGE_DIRECTORY_ENTRY_GLOBALPTR', 'VirtualAddress': {'FileOffset': 400, 'Offset': 0, 'Value': 0}, 'Size': {'FileOffset': 404, 'Offset': 4, 'Value': 0}}, {'Structure': 'IMAGE_DIRECTORY_ENTRY_TLS', 'VirtualAddress': {'FileOffset': 408, 'Offset': 0, 'Value': 0}, 'Size': {'FileOffset': 412, 'Offset': 4, 'Value': 0}}, {'Structure': 'IMAGE_DIRECTORY_ENTRY_LOAD_CONFIG', 'VirtualAddress': {'FileOffset': 416, 'Offset': 0, 'Value': 0}, 'Size': {'FileOffset': 420, 'Offset': 4, 'Value': 0}}, {'Structure': 'IMAGE_DIRECTORY_ENTRY_BOUND_IMPORT', 'VirtualAddress': {'FileOffset': 424, 'Offset': 0, 'Value': 0}, 'Size': {'FileOffset': 428, 'Offset': 4, 'Value': 0}}, {'Structure': 'IMAGE_DIRECTORY_ENTRY_IAT', 'VirtualAddress': {'FileOffset': 432, 'Offset': 0, 'Value': 0}, 'Size': {'FileOffset': 436, 'Offset': 4, 'Value': 0}}, {'Structure': 'IMAGE_DIRECTORY_ENTRY_DELAY_IMPORT', 'VirtualAddress': {'FileOffset': 440, 'Offset': 0, 'Value': 0}, 'Size': {'FileOffset': 444, 'Offset': 4, 'Value': 0}}, {'Structure': 'IMAGE_DIRECTORY_ENTRY_COM_DESCRIPTOR', 'VirtualAddress': {'FileOffset': 448, 'Offset': 0, 'Value': 0}, 'Size': {'FileOffset': 452, 'Offset': 4, 'Value': 0}}, {'Structure': 'IMAGE_DIRECTORY_ENTRY_RESERVED', 'VirtualAddress': {'FileOffset': 456, 'Offset': 0, 'Value': 0}, 'Size': {'FileOffset': 460, 'Offset': 4, 'Value': 0}}]\n",
            "[{'Structure': 'IMAGE_DIRECTORY_ENTRY_EXPORT', 'VirtualAddress': {'FileOffset': 336, 'Offset': 0, 'Value': 0}, 'Size': {'FileOffset': 340, 'Offset': 4, 'Value': 0}}, {'Structure': 'IMAGE_DIRECTORY_ENTRY_IMPORT', 'VirtualAddress': {'FileOffset': 344, 'Offset': 0, 'Value': 32768}, 'Size': {'FileOffset': 348, 'Offset': 4, 'Value': 360}}, {'Structure': 'IMAGE_DIRECTORY_ENTRY_RESOURCE', 'VirtualAddress': {'FileOffset': 352, 'Offset': 0, 'Value': 0}, 'Size': {'FileOffset': 356, 'Offset': 4, 'Value': 0}}, {'Structure': 'IMAGE_DIRECTORY_ENTRY_EXCEPTION', 'VirtualAddress': {'FileOffset': 360, 'Offset': 0, 'Value': 0}, 'Size': {'FileOffset': 364, 'Offset': 4, 'Value': 0}}, {'Structure': 'IMAGE_DIRECTORY_ENTRY_SECURITY', 'VirtualAddress': {'FileOffset': 368, 'Offset': 0, 'Value': 0}, 'Size': {'FileOffset': 372, 'Offset': 4, 'Value': 0}}, {'Structure': 'IMAGE_DIRECTORY_ENTRY_BASERELOC', 'VirtualAddress': {'FileOffset': 376, 'Offset': 0, 'Value': 0}, 'Size': {'FileOffset': 380, 'Offset': 4, 'Value': 0}}, {'Structure': 'IMAGE_DIRECTORY_ENTRY_DEBUG', 'VirtualAddress': {'FileOffset': 384, 'Offset': 0, 'Value': 0}, 'Size': {'FileOffset': 388, 'Offset': 4, 'Value': 0}}, {'Structure': 'IMAGE_DIRECTORY_ENTRY_COPYRIGHT', 'VirtualAddress': {'FileOffset': 392, 'Offset': 0, 'Value': 0}, 'Size': {'FileOffset': 396, 'Offset': 4, 'Value': 0}}, {'Structure': 'IMAGE_DIRECTORY_ENTRY_GLOBALPTR', 'VirtualAddress': {'FileOffset': 400, 'Offset': 0, 'Value': 0}, 'Size': {'FileOffset': 404, 'Offset': 4, 'Value': 0}}, {'Structure': 'IMAGE_DIRECTORY_ENTRY_TLS', 'VirtualAddress': {'FileOffset': 408, 'Offset': 0, 'Value': 0}, 'Size': {'FileOffset': 412, 'Offset': 4, 'Value': 0}}, {'Structure': 'IMAGE_DIRECTORY_ENTRY_LOAD_CONFIG', 'VirtualAddress': {'FileOffset': 416, 'Offset': 0, 'Value': 0}, 'Size': {'FileOffset': 420, 'Offset': 4, 'Value': 0}}, {'Structure': 'IMAGE_DIRECTORY_ENTRY_BOUND_IMPORT', 'VirtualAddress': {'FileOffset': 424, 'Offset': 0, 'Value': 0}, 'Size': {'FileOffset': 428, 'Offset': 4, 'Value': 0}}, {'Structure': 'IMAGE_DIRECTORY_ENTRY_IAT', 'VirtualAddress': {'FileOffset': 432, 'Offset': 0, 'Value': 0}, 'Size': {'FileOffset': 436, 'Offset': 4, 'Value': 0}}, {'Structure': 'IMAGE_DIRECTORY_ENTRY_DELAY_IMPORT', 'VirtualAddress': {'FileOffset': 440, 'Offset': 0, 'Value': 0}, 'Size': {'FileOffset': 444, 'Offset': 4, 'Value': 0}}, {'Structure': 'IMAGE_DIRECTORY_ENTRY_COM_DESCRIPTOR', 'VirtualAddress': {'FileOffset': 448, 'Offset': 0, 'Value': 0}, 'Size': {'FileOffset': 452, 'Offset': 4, 'Value': 0}}, {'Structure': 'IMAGE_DIRECTORY_ENTRY_RESERVED', 'VirtualAddress': {'FileOffset': 456, 'Offset': 0, 'Value': 0}, 'Size': {'FileOffset': 460, 'Offset': 4, 'Value': 0}}]\n",
            "[{'Structure': 'IMAGE_DIRECTORY_ENTRY_EXPORT', 'VirtualAddress': {'FileOffset': 336, 'Offset': 0, 'Value': 0}, 'Size': {'FileOffset': 340, 'Offset': 4, 'Value': 0}}, {'Structure': 'IMAGE_DIRECTORY_ENTRY_IMPORT', 'VirtualAddress': {'FileOffset': 344, 'Offset': 0, 'Value': 32768}, 'Size': {'FileOffset': 348, 'Offset': 4, 'Value': 360}}, {'Structure': 'IMAGE_DIRECTORY_ENTRY_RESOURCE', 'VirtualAddress': {'FileOffset': 352, 'Offset': 0, 'Value': 0}, 'Size': {'FileOffset': 356, 'Offset': 4, 'Value': 0}}, {'Structure': 'IMAGE_DIRECTORY_ENTRY_EXCEPTION', 'VirtualAddress': {'FileOffset': 360, 'Offset': 0, 'Value': 0}, 'Size': {'FileOffset': 364, 'Offset': 4, 'Value': 0}}, {'Structure': 'IMAGE_DIRECTORY_ENTRY_SECURITY', 'VirtualAddress': {'FileOffset': 368, 'Offset': 0, 'Value': 0}, 'Size': {'FileOffset': 372, 'Offset': 4, 'Value': 0}}, {'Structure': 'IMAGE_DIRECTORY_ENTRY_BASERELOC', 'VirtualAddress': {'FileOffset': 376, 'Offset': 0, 'Value': 0}, 'Size': {'FileOffset': 380, 'Offset': 4, 'Value': 0}}, {'Structure': 'IMAGE_DIRECTORY_ENTRY_DEBUG', 'VirtualAddress': {'FileOffset': 384, 'Offset': 0, 'Value': 0}, 'Size': {'FileOffset': 388, 'Offset': 4, 'Value': 0}}, {'Structure': 'IMAGE_DIRECTORY_ENTRY_COPYRIGHT', 'VirtualAddress': {'FileOffset': 392, 'Offset': 0, 'Value': 0}, 'Size': {'FileOffset': 396, 'Offset': 4, 'Value': 0}}, {'Structure': 'IMAGE_DIRECTORY_ENTRY_GLOBALPTR', 'VirtualAddress': {'FileOffset': 400, 'Offset': 0, 'Value': 0}, 'Size': {'FileOffset': 404, 'Offset': 4, 'Value': 0}}, {'Structure': 'IMAGE_DIRECTORY_ENTRY_TLS', 'VirtualAddress': {'FileOffset': 408, 'Offset': 0, 'Value': 0}, 'Size': {'FileOffset': 412, 'Offset': 4, 'Value': 0}}, {'Structure': 'IMAGE_DIRECTORY_ENTRY_LOAD_CONFIG', 'VirtualAddress': {'FileOffset': 416, 'Offset': 0, 'Value': 0}, 'Size': {'FileOffset': 420, 'Offset': 4, 'Value': 0}}, {'Structure': 'IMAGE_DIRECTORY_ENTRY_BOUND_IMPORT', 'VirtualAddress': {'FileOffset': 424, 'Offset': 0, 'Value': 0}, 'Size': {'FileOffset': 428, 'Offset': 4, 'Value': 0}}, {'Structure': 'IMAGE_DIRECTORY_ENTRY_IAT', 'VirtualAddress': {'FileOffset': 432, 'Offset': 0, 'Value': 0}, 'Size': {'FileOffset': 436, 'Offset': 4, 'Value': 0}}, {'Structure': 'IMAGE_DIRECTORY_ENTRY_DELAY_IMPORT', 'VirtualAddress': {'FileOffset': 440, 'Offset': 0, 'Value': 0}, 'Size': {'FileOffset': 444, 'Offset': 4, 'Value': 0}}, {'Structure': 'IMAGE_DIRECTORY_ENTRY_COM_DESCRIPTOR', 'VirtualAddress': {'FileOffset': 448, 'Offset': 0, 'Value': 0}, 'Size': {'FileOffset': 452, 'Offset': 4, 'Value': 0}}, {'Structure': 'IMAGE_DIRECTORY_ENTRY_RESERVED', 'VirtualAddress': {'FileOffset': 456, 'Offset': 0, 'Value': 0}, 'Size': {'FileOffset': 460, 'Offset': 4, 'Value': 0}}]\n",
            "[{'Structure': 'IMAGE_DIRECTORY_ENTRY_EXPORT', 'VirtualAddress': {'FileOffset': 336, 'Offset': 0, 'Value': 0}, 'Size': {'FileOffset': 340, 'Offset': 4, 'Value': 0}}, {'Structure': 'IMAGE_DIRECTORY_ENTRY_IMPORT', 'VirtualAddress': {'FileOffset': 344, 'Offset': 0, 'Value': 32768}, 'Size': {'FileOffset': 348, 'Offset': 4, 'Value': 360}}, {'Structure': 'IMAGE_DIRECTORY_ENTRY_RESOURCE', 'VirtualAddress': {'FileOffset': 352, 'Offset': 0, 'Value': 0}, 'Size': {'FileOffset': 356, 'Offset': 4, 'Value': 0}}, {'Structure': 'IMAGE_DIRECTORY_ENTRY_EXCEPTION', 'VirtualAddress': {'FileOffset': 360, 'Offset': 0, 'Value': 0}, 'Size': {'FileOffset': 364, 'Offset': 4, 'Value': 0}}, {'Structure': 'IMAGE_DIRECTORY_ENTRY_SECURITY', 'VirtualAddress': {'FileOffset': 368, 'Offset': 0, 'Value': 0}, 'Size': {'FileOffset': 372, 'Offset': 4, 'Value': 0}}, {'Structure': 'IMAGE_DIRECTORY_ENTRY_BASERELOC', 'VirtualAddress': {'FileOffset': 376, 'Offset': 0, 'Value': 0}, 'Size': {'FileOffset': 380, 'Offset': 4, 'Value': 0}}, {'Structure': 'IMAGE_DIRECTORY_ENTRY_DEBUG', 'VirtualAddress': {'FileOffset': 384, 'Offset': 0, 'Value': 0}, 'Size': {'FileOffset': 388, 'Offset': 4, 'Value': 0}}, {'Structure': 'IMAGE_DIRECTORY_ENTRY_COPYRIGHT', 'VirtualAddress': {'FileOffset': 392, 'Offset': 0, 'Value': 0}, 'Size': {'FileOffset': 396, 'Offset': 4, 'Value': 0}}, {'Structure': 'IMAGE_DIRECTORY_ENTRY_GLOBALPTR', 'VirtualAddress': {'FileOffset': 400, 'Offset': 0, 'Value': 0}, 'Size': {'FileOffset': 404, 'Offset': 4, 'Value': 0}}, {'Structure': 'IMAGE_DIRECTORY_ENTRY_TLS', 'VirtualAddress': {'FileOffset': 408, 'Offset': 0, 'Value': 0}, 'Size': {'FileOffset': 412, 'Offset': 4, 'Value': 0}}, {'Structure': 'IMAGE_DIRECTORY_ENTRY_LOAD_CONFIG', 'VirtualAddress': {'FileOffset': 416, 'Offset': 0, 'Value': 0}, 'Size': {'FileOffset': 420, 'Offset': 4, 'Value': 0}}, {'Structure': 'IMAGE_DIRECTORY_ENTRY_BOUND_IMPORT', 'VirtualAddress': {'FileOffset': 424, 'Offset': 0, 'Value': 0}, 'Size': {'FileOffset': 428, 'Offset': 4, 'Value': 0}}, {'Structure': 'IMAGE_DIRECTORY_ENTRY_IAT', 'VirtualAddress': {'FileOffset': 432, 'Offset': 0, 'Value': 0}, 'Size': {'FileOffset': 436, 'Offset': 4, 'Value': 0}}, {'Structure': 'IMAGE_DIRECTORY_ENTRY_DELAY_IMPORT', 'VirtualAddress': {'FileOffset': 440, 'Offset': 0, 'Value': 0}, 'Size': {'FileOffset': 444, 'Offset': 4, 'Value': 0}}, {'Structure': 'IMAGE_DIRECTORY_ENTRY_COM_DESCRIPTOR', 'VirtualAddress': {'FileOffset': 448, 'Offset': 0, 'Value': 0}, 'Size': {'FileOffset': 452, 'Offset': 4, 'Value': 0}}, {'Structure': 'IMAGE_DIRECTORY_ENTRY_RESERVED', 'VirtualAddress': {'FileOffset': 456, 'Offset': 0, 'Value': 0}, 'Size': {'FileOffset': 460, 'Offset': 4, 'Value': 0}}]\n",
            "[{'Structure': 'IMAGE_DIRECTORY_ENTRY_EXPORT', 'VirtualAddress': {'FileOffset': 336, 'Offset': 0, 'Value': 0}, 'Size': {'FileOffset': 340, 'Offset': 4, 'Value': 0}}, {'Structure': 'IMAGE_DIRECTORY_ENTRY_IMPORT', 'VirtualAddress': {'FileOffset': 344, 'Offset': 0, 'Value': 32768}, 'Size': {'FileOffset': 348, 'Offset': 4, 'Value': 360}}, {'Structure': 'IMAGE_DIRECTORY_ENTRY_RESOURCE', 'VirtualAddress': {'FileOffset': 352, 'Offset': 0, 'Value': 0}, 'Size': {'FileOffset': 356, 'Offset': 4, 'Value': 0}}, {'Structure': 'IMAGE_DIRECTORY_ENTRY_EXCEPTION', 'VirtualAddress': {'FileOffset': 360, 'Offset': 0, 'Value': 0}, 'Size': {'FileOffset': 364, 'Offset': 4, 'Value': 0}}, {'Structure': 'IMAGE_DIRECTORY_ENTRY_SECURITY', 'VirtualAddress': {'FileOffset': 368, 'Offset': 0, 'Value': 0}, 'Size': {'FileOffset': 372, 'Offset': 4, 'Value': 0}}, {'Structure': 'IMAGE_DIRECTORY_ENTRY_BASERELOC', 'VirtualAddress': {'FileOffset': 376, 'Offset': 0, 'Value': 0}, 'Size': {'FileOffset': 380, 'Offset': 4, 'Value': 0}}, {'Structure': 'IMAGE_DIRECTORY_ENTRY_DEBUG', 'VirtualAddress': {'FileOffset': 384, 'Offset': 0, 'Value': 0}, 'Size': {'FileOffset': 388, 'Offset': 4, 'Value': 0}}, {'Structure': 'IMAGE_DIRECTORY_ENTRY_COPYRIGHT', 'VirtualAddress': {'FileOffset': 392, 'Offset': 0, 'Value': 0}, 'Size': {'FileOffset': 396, 'Offset': 4, 'Value': 0}}, {'Structure': 'IMAGE_DIRECTORY_ENTRY_GLOBALPTR', 'VirtualAddress': {'FileOffset': 400, 'Offset': 0, 'Value': 0}, 'Size': {'FileOffset': 404, 'Offset': 4, 'Value': 0}}, {'Structure': 'IMAGE_DIRECTORY_ENTRY_TLS', 'VirtualAddress': {'FileOffset': 408, 'Offset': 0, 'Value': 0}, 'Size': {'FileOffset': 412, 'Offset': 4, 'Value': 0}}, {'Structure': 'IMAGE_DIRECTORY_ENTRY_LOAD_CONFIG', 'VirtualAddress': {'FileOffset': 416, 'Offset': 0, 'Value': 0}, 'Size': {'FileOffset': 420, 'Offset': 4, 'Value': 0}}, {'Structure': 'IMAGE_DIRECTORY_ENTRY_BOUND_IMPORT', 'VirtualAddress': {'FileOffset': 424, 'Offset': 0, 'Value': 0}, 'Size': {'FileOffset': 428, 'Offset': 4, 'Value': 0}}, {'Structure': 'IMAGE_DIRECTORY_ENTRY_IAT', 'VirtualAddress': {'FileOffset': 432, 'Offset': 0, 'Value': 0}, 'Size': {'FileOffset': 436, 'Offset': 4, 'Value': 0}}, {'Structure': 'IMAGE_DIRECTORY_ENTRY_DELAY_IMPORT', 'VirtualAddress': {'FileOffset': 440, 'Offset': 0, 'Value': 0}, 'Size': {'FileOffset': 444, 'Offset': 4, 'Value': 0}}, {'Structure': 'IMAGE_DIRECTORY_ENTRY_COM_DESCRIPTOR', 'VirtualAddress': {'FileOffset': 448, 'Offset': 0, 'Value': 0}, 'Size': {'FileOffset': 452, 'Offset': 4, 'Value': 0}}, {'Structure': 'IMAGE_DIRECTORY_ENTRY_RESERVED', 'VirtualAddress': {'FileOffset': 456, 'Offset': 0, 'Value': 0}, 'Size': {'FileOffset': 460, 'Offset': 4, 'Value': 0}}]\n",
            "[{'Structure': 'IMAGE_DIRECTORY_ENTRY_EXPORT', 'VirtualAddress': {'FileOffset': 336, 'Offset': 0, 'Value': 0}, 'Size': {'FileOffset': 340, 'Offset': 4, 'Value': 0}}, {'Structure': 'IMAGE_DIRECTORY_ENTRY_IMPORT', 'VirtualAddress': {'FileOffset': 344, 'Offset': 0, 'Value': 32768}, 'Size': {'FileOffset': 348, 'Offset': 4, 'Value': 360}}, {'Structure': 'IMAGE_DIRECTORY_ENTRY_RESOURCE', 'VirtualAddress': {'FileOffset': 352, 'Offset': 0, 'Value': 0}, 'Size': {'FileOffset': 356, 'Offset': 4, 'Value': 0}}, {'Structure': 'IMAGE_DIRECTORY_ENTRY_EXCEPTION', 'VirtualAddress': {'FileOffset': 360, 'Offset': 0, 'Value': 0}, 'Size': {'FileOffset': 364, 'Offset': 4, 'Value': 0}}, {'Structure': 'IMAGE_DIRECTORY_ENTRY_SECURITY', 'VirtualAddress': {'FileOffset': 368, 'Offset': 0, 'Value': 0}, 'Size': {'FileOffset': 372, 'Offset': 4, 'Value': 0}}, {'Structure': 'IMAGE_DIRECTORY_ENTRY_BASERELOC', 'VirtualAddress': {'FileOffset': 376, 'Offset': 0, 'Value': 0}, 'Size': {'FileOffset': 380, 'Offset': 4, 'Value': 0}}, {'Structure': 'IMAGE_DIRECTORY_ENTRY_DEBUG', 'VirtualAddress': {'FileOffset': 384, 'Offset': 0, 'Value': 0}, 'Size': {'FileOffset': 388, 'Offset': 4, 'Value': 0}}, {'Structure': 'IMAGE_DIRECTORY_ENTRY_COPYRIGHT', 'VirtualAddress': {'FileOffset': 392, 'Offset': 0, 'Value': 0}, 'Size': {'FileOffset': 396, 'Offset': 4, 'Value': 0}}, {'Structure': 'IMAGE_DIRECTORY_ENTRY_GLOBALPTR', 'VirtualAddress': {'FileOffset': 400, 'Offset': 0, 'Value': 0}, 'Size': {'FileOffset': 404, 'Offset': 4, 'Value': 0}}, {'Structure': 'IMAGE_DIRECTORY_ENTRY_TLS', 'VirtualAddress': {'FileOffset': 408, 'Offset': 0, 'Value': 0}, 'Size': {'FileOffset': 412, 'Offset': 4, 'Value': 0}}, {'Structure': 'IMAGE_DIRECTORY_ENTRY_LOAD_CONFIG', 'VirtualAddress': {'FileOffset': 416, 'Offset': 0, 'Value': 0}, 'Size': {'FileOffset': 420, 'Offset': 4, 'Value': 0}}, {'Structure': 'IMAGE_DIRECTORY_ENTRY_BOUND_IMPORT', 'VirtualAddress': {'FileOffset': 424, 'Offset': 0, 'Value': 0}, 'Size': {'FileOffset': 428, 'Offset': 4, 'Value': 0}}, {'Structure': 'IMAGE_DIRECTORY_ENTRY_IAT', 'VirtualAddress': {'FileOffset': 432, 'Offset': 0, 'Value': 0}, 'Size': {'FileOffset': 436, 'Offset': 4, 'Value': 0}}, {'Structure': 'IMAGE_DIRECTORY_ENTRY_DELAY_IMPORT', 'VirtualAddress': {'FileOffset': 440, 'Offset': 0, 'Value': 0}, 'Size': {'FileOffset': 444, 'Offset': 4, 'Value': 0}}, {'Structure': 'IMAGE_DIRECTORY_ENTRY_COM_DESCRIPTOR', 'VirtualAddress': {'FileOffset': 448, 'Offset': 0, 'Value': 0}, 'Size': {'FileOffset': 452, 'Offset': 4, 'Value': 0}}, {'Structure': 'IMAGE_DIRECTORY_ENTRY_RESERVED', 'VirtualAddress': {'FileOffset': 456, 'Offset': 0, 'Value': 0}, 'Size': {'FileOffset': 460, 'Offset': 4, 'Value': 0}}]\n",
            "[{'Structure': 'IMAGE_DIRECTORY_ENTRY_EXPORT', 'VirtualAddress': {'FileOffset': 336, 'Offset': 0, 'Value': 0}, 'Size': {'FileOffset': 340, 'Offset': 4, 'Value': 0}}, {'Structure': 'IMAGE_DIRECTORY_ENTRY_IMPORT', 'VirtualAddress': {'FileOffset': 344, 'Offset': 0, 'Value': 32768}, 'Size': {'FileOffset': 348, 'Offset': 4, 'Value': 360}}, {'Structure': 'IMAGE_DIRECTORY_ENTRY_RESOURCE', 'VirtualAddress': {'FileOffset': 352, 'Offset': 0, 'Value': 0}, 'Size': {'FileOffset': 356, 'Offset': 4, 'Value': 0}}, {'Structure': 'IMAGE_DIRECTORY_ENTRY_EXCEPTION', 'VirtualAddress': {'FileOffset': 360, 'Offset': 0, 'Value': 0}, 'Size': {'FileOffset': 364, 'Offset': 4, 'Value': 0}}, {'Structure': 'IMAGE_DIRECTORY_ENTRY_SECURITY', 'VirtualAddress': {'FileOffset': 368, 'Offset': 0, 'Value': 0}, 'Size': {'FileOffset': 372, 'Offset': 4, 'Value': 0}}, {'Structure': 'IMAGE_DIRECTORY_ENTRY_BASERELOC', 'VirtualAddress': {'FileOffset': 376, 'Offset': 0, 'Value': 0}, 'Size': {'FileOffset': 380, 'Offset': 4, 'Value': 0}}, {'Structure': 'IMAGE_DIRECTORY_ENTRY_DEBUG', 'VirtualAddress': {'FileOffset': 384, 'Offset': 0, 'Value': 0}, 'Size': {'FileOffset': 388, 'Offset': 4, 'Value': 0}}, {'Structure': 'IMAGE_DIRECTORY_ENTRY_COPYRIGHT', 'VirtualAddress': {'FileOffset': 392, 'Offset': 0, 'Value': 0}, 'Size': {'FileOffset': 396, 'Offset': 4, 'Value': 0}}, {'Structure': 'IMAGE_DIRECTORY_ENTRY_GLOBALPTR', 'VirtualAddress': {'FileOffset': 400, 'Offset': 0, 'Value': 0}, 'Size': {'FileOffset': 404, 'Offset': 4, 'Value': 0}}, {'Structure': 'IMAGE_DIRECTORY_ENTRY_TLS', 'VirtualAddress': {'FileOffset': 408, 'Offset': 0, 'Value': 0}, 'Size': {'FileOffset': 412, 'Offset': 4, 'Value': 0}}, {'Structure': 'IMAGE_DIRECTORY_ENTRY_LOAD_CONFIG', 'VirtualAddress': {'FileOffset': 416, 'Offset': 0, 'Value': 0}, 'Size': {'FileOffset': 420, 'Offset': 4, 'Value': 0}}, {'Structure': 'IMAGE_DIRECTORY_ENTRY_BOUND_IMPORT', 'VirtualAddress': {'FileOffset': 424, 'Offset': 0, 'Value': 0}, 'Size': {'FileOffset': 428, 'Offset': 4, 'Value': 0}}, {'Structure': 'IMAGE_DIRECTORY_ENTRY_IAT', 'VirtualAddress': {'FileOffset': 432, 'Offset': 0, 'Value': 0}, 'Size': {'FileOffset': 436, 'Offset': 4, 'Value': 0}}, {'Structure': 'IMAGE_DIRECTORY_ENTRY_DELAY_IMPORT', 'VirtualAddress': {'FileOffset': 440, 'Offset': 0, 'Value': 0}, 'Size': {'FileOffset': 444, 'Offset': 4, 'Value': 0}}, {'Structure': 'IMAGE_DIRECTORY_ENTRY_COM_DESCRIPTOR', 'VirtualAddress': {'FileOffset': 448, 'Offset': 0, 'Value': 0}, 'Size': {'FileOffset': 452, 'Offset': 4, 'Value': 0}}, {'Structure': 'IMAGE_DIRECTORY_ENTRY_RESERVED', 'VirtualAddress': {'FileOffset': 456, 'Offset': 0, 'Value': 0}, 'Size': {'FileOffset': 460, 'Offset': 4, 'Value': 0}}]\n",
            "[{'Structure': 'IMAGE_DIRECTORY_ENTRY_EXPORT', 'VirtualAddress': {'FileOffset': 336, 'Offset': 0, 'Value': 0}, 'Size': {'FileOffset': 340, 'Offset': 4, 'Value': 0}}, {'Structure': 'IMAGE_DIRECTORY_ENTRY_IMPORT', 'VirtualAddress': {'FileOffset': 344, 'Offset': 0, 'Value': 32768}, 'Size': {'FileOffset': 348, 'Offset': 4, 'Value': 360}}, {'Structure': 'IMAGE_DIRECTORY_ENTRY_RESOURCE', 'VirtualAddress': {'FileOffset': 352, 'Offset': 0, 'Value': 0}, 'Size': {'FileOffset': 356, 'Offset': 4, 'Value': 0}}, {'Structure': 'IMAGE_DIRECTORY_ENTRY_EXCEPTION', 'VirtualAddress': {'FileOffset': 360, 'Offset': 0, 'Value': 0}, 'Size': {'FileOffset': 364, 'Offset': 4, 'Value': 0}}, {'Structure': 'IMAGE_DIRECTORY_ENTRY_SECURITY', 'VirtualAddress': {'FileOffset': 368, 'Offset': 0, 'Value': 0}, 'Size': {'FileOffset': 372, 'Offset': 4, 'Value': 0}}, {'Structure': 'IMAGE_DIRECTORY_ENTRY_BASERELOC', 'VirtualAddress': {'FileOffset': 376, 'Offset': 0, 'Value': 0}, 'Size': {'FileOffset': 380, 'Offset': 4, 'Value': 0}}, {'Structure': 'IMAGE_DIRECTORY_ENTRY_DEBUG', 'VirtualAddress': {'FileOffset': 384, 'Offset': 0, 'Value': 0}, 'Size': {'FileOffset': 388, 'Offset': 4, 'Value': 0}}, {'Structure': 'IMAGE_DIRECTORY_ENTRY_COPYRIGHT', 'VirtualAddress': {'FileOffset': 392, 'Offset': 0, 'Value': 0}, 'Size': {'FileOffset': 396, 'Offset': 4, 'Value': 0}}, {'Structure': 'IMAGE_DIRECTORY_ENTRY_GLOBALPTR', 'VirtualAddress': {'FileOffset': 400, 'Offset': 0, 'Value': 0}, 'Size': {'FileOffset': 404, 'Offset': 4, 'Value': 0}}, {'Structure': 'IMAGE_DIRECTORY_ENTRY_TLS', 'VirtualAddress': {'FileOffset': 408, 'Offset': 0, 'Value': 0}, 'Size': {'FileOffset': 412, 'Offset': 4, 'Value': 0}}, {'Structure': 'IMAGE_DIRECTORY_ENTRY_LOAD_CONFIG', 'VirtualAddress': {'FileOffset': 416, 'Offset': 0, 'Value': 0}, 'Size': {'FileOffset': 420, 'Offset': 4, 'Value': 0}}, {'Structure': 'IMAGE_DIRECTORY_ENTRY_BOUND_IMPORT', 'VirtualAddress': {'FileOffset': 424, 'Offset': 0, 'Value': 0}, 'Size': {'FileOffset': 428, 'Offset': 4, 'Value': 0}}, {'Structure': 'IMAGE_DIRECTORY_ENTRY_IAT', 'VirtualAddress': {'FileOffset': 432, 'Offset': 0, 'Value': 0}, 'Size': {'FileOffset': 436, 'Offset': 4, 'Value': 0}}, {'Structure': 'IMAGE_DIRECTORY_ENTRY_DELAY_IMPORT', 'VirtualAddress': {'FileOffset': 440, 'Offset': 0, 'Value': 0}, 'Size': {'FileOffset': 444, 'Offset': 4, 'Value': 0}}, {'Structure': 'IMAGE_DIRECTORY_ENTRY_COM_DESCRIPTOR', 'VirtualAddress': {'FileOffset': 448, 'Offset': 0, 'Value': 0}, 'Size': {'FileOffset': 452, 'Offset': 4, 'Value': 0}}, {'Structure': 'IMAGE_DIRECTORY_ENTRY_RESERVED', 'VirtualAddress': {'FileOffset': 456, 'Offset': 0, 'Value': 0}, 'Size': {'FileOffset': 460, 'Offset': 4, 'Value': 0}}]\n",
            "[{'Structure': 'IMAGE_DIRECTORY_ENTRY_EXPORT', 'VirtualAddress': {'FileOffset': 336, 'Offset': 0, 'Value': 0}, 'Size': {'FileOffset': 340, 'Offset': 4, 'Value': 0}}, {'Structure': 'IMAGE_DIRECTORY_ENTRY_IMPORT', 'VirtualAddress': {'FileOffset': 344, 'Offset': 0, 'Value': 32768}, 'Size': {'FileOffset': 348, 'Offset': 4, 'Value': 360}}, {'Structure': 'IMAGE_DIRECTORY_ENTRY_RESOURCE', 'VirtualAddress': {'FileOffset': 352, 'Offset': 0, 'Value': 0}, 'Size': {'FileOffset': 356, 'Offset': 4, 'Value': 0}}, {'Structure': 'IMAGE_DIRECTORY_ENTRY_EXCEPTION', 'VirtualAddress': {'FileOffset': 360, 'Offset': 0, 'Value': 0}, 'Size': {'FileOffset': 364, 'Offset': 4, 'Value': 0}}, {'Structure': 'IMAGE_DIRECTORY_ENTRY_SECURITY', 'VirtualAddress': {'FileOffset': 368, 'Offset': 0, 'Value': 0}, 'Size': {'FileOffset': 372, 'Offset': 4, 'Value': 0}}, {'Structure': 'IMAGE_DIRECTORY_ENTRY_BASERELOC', 'VirtualAddress': {'FileOffset': 376, 'Offset': 0, 'Value': 0}, 'Size': {'FileOffset': 380, 'Offset': 4, 'Value': 0}}, {'Structure': 'IMAGE_DIRECTORY_ENTRY_DEBUG', 'VirtualAddress': {'FileOffset': 384, 'Offset': 0, 'Value': 0}, 'Size': {'FileOffset': 388, 'Offset': 4, 'Value': 0}}, {'Structure': 'IMAGE_DIRECTORY_ENTRY_COPYRIGHT', 'VirtualAddress': {'FileOffset': 392, 'Offset': 0, 'Value': 0}, 'Size': {'FileOffset': 396, 'Offset': 4, 'Value': 0}}, {'Structure': 'IMAGE_DIRECTORY_ENTRY_GLOBALPTR', 'VirtualAddress': {'FileOffset': 400, 'Offset': 0, 'Value': 0}, 'Size': {'FileOffset': 404, 'Offset': 4, 'Value': 0}}, {'Structure': 'IMAGE_DIRECTORY_ENTRY_TLS', 'VirtualAddress': {'FileOffset': 408, 'Offset': 0, 'Value': 0}, 'Size': {'FileOffset': 412, 'Offset': 4, 'Value': 0}}, {'Structure': 'IMAGE_DIRECTORY_ENTRY_LOAD_CONFIG', 'VirtualAddress': {'FileOffset': 416, 'Offset': 0, 'Value': 0}, 'Size': {'FileOffset': 420, 'Offset': 4, 'Value': 0}}, {'Structure': 'IMAGE_DIRECTORY_ENTRY_BOUND_IMPORT', 'VirtualAddress': {'FileOffset': 424, 'Offset': 0, 'Value': 0}, 'Size': {'FileOffset': 428, 'Offset': 4, 'Value': 0}}, {'Structure': 'IMAGE_DIRECTORY_ENTRY_IAT', 'VirtualAddress': {'FileOffset': 432, 'Offset': 0, 'Value': 0}, 'Size': {'FileOffset': 436, 'Offset': 4, 'Value': 0}}, {'Structure': 'IMAGE_DIRECTORY_ENTRY_DELAY_IMPORT', 'VirtualAddress': {'FileOffset': 440, 'Offset': 0, 'Value': 0}, 'Size': {'FileOffset': 444, 'Offset': 4, 'Value': 0}}, {'Structure': 'IMAGE_DIRECTORY_ENTRY_COM_DESCRIPTOR', 'VirtualAddress': {'FileOffset': 448, 'Offset': 0, 'Value': 0}, 'Size': {'FileOffset': 452, 'Offset': 4, 'Value': 0}}, {'Structure': 'IMAGE_DIRECTORY_ENTRY_RESERVED', 'VirtualAddress': {'FileOffset': 456, 'Offset': 0, 'Value': 0}, 'Size': {'FileOffset': 460, 'Offset': 4, 'Value': 0}}]\n",
            "[{'Structure': 'IMAGE_DIRECTORY_ENTRY_EXPORT', 'VirtualAddress': {'FileOffset': 336, 'Offset': 0, 'Value': 0}, 'Size': {'FileOffset': 340, 'Offset': 4, 'Value': 0}}, {'Structure': 'IMAGE_DIRECTORY_ENTRY_IMPORT', 'VirtualAddress': {'FileOffset': 344, 'Offset': 0, 'Value': 32768}, 'Size': {'FileOffset': 348, 'Offset': 4, 'Value': 360}}, {'Structure': 'IMAGE_DIRECTORY_ENTRY_RESOURCE', 'VirtualAddress': {'FileOffset': 352, 'Offset': 0, 'Value': 0}, 'Size': {'FileOffset': 356, 'Offset': 4, 'Value': 0}}, {'Structure': 'IMAGE_DIRECTORY_ENTRY_EXCEPTION', 'VirtualAddress': {'FileOffset': 360, 'Offset': 0, 'Value': 0}, 'Size': {'FileOffset': 364, 'Offset': 4, 'Value': 0}}, {'Structure': 'IMAGE_DIRECTORY_ENTRY_SECURITY', 'VirtualAddress': {'FileOffset': 368, 'Offset': 0, 'Value': 0}, 'Size': {'FileOffset': 372, 'Offset': 4, 'Value': 0}}, {'Structure': 'IMAGE_DIRECTORY_ENTRY_BASERELOC', 'VirtualAddress': {'FileOffset': 376, 'Offset': 0, 'Value': 0}, 'Size': {'FileOffset': 380, 'Offset': 4, 'Value': 0}}, {'Structure': 'IMAGE_DIRECTORY_ENTRY_DEBUG', 'VirtualAddress': {'FileOffset': 384, 'Offset': 0, 'Value': 0}, 'Size': {'FileOffset': 388, 'Offset': 4, 'Value': 0}}, {'Structure': 'IMAGE_DIRECTORY_ENTRY_COPYRIGHT', 'VirtualAddress': {'FileOffset': 392, 'Offset': 0, 'Value': 0}, 'Size': {'FileOffset': 396, 'Offset': 4, 'Value': 0}}, {'Structure': 'IMAGE_DIRECTORY_ENTRY_GLOBALPTR', 'VirtualAddress': {'FileOffset': 400, 'Offset': 0, 'Value': 0}, 'Size': {'FileOffset': 404, 'Offset': 4, 'Value': 0}}, {'Structure': 'IMAGE_DIRECTORY_ENTRY_TLS', 'VirtualAddress': {'FileOffset': 408, 'Offset': 0, 'Value': 0}, 'Size': {'FileOffset': 412, 'Offset': 4, 'Value': 0}}, {'Structure': 'IMAGE_DIRECTORY_ENTRY_LOAD_CONFIG', 'VirtualAddress': {'FileOffset': 416, 'Offset': 0, 'Value': 0}, 'Size': {'FileOffset': 420, 'Offset': 4, 'Value': 0}}, {'Structure': 'IMAGE_DIRECTORY_ENTRY_BOUND_IMPORT', 'VirtualAddress': {'FileOffset': 424, 'Offset': 0, 'Value': 0}, 'Size': {'FileOffset': 428, 'Offset': 4, 'Value': 0}}, {'Structure': 'IMAGE_DIRECTORY_ENTRY_IAT', 'VirtualAddress': {'FileOffset': 432, 'Offset': 0, 'Value': 0}, 'Size': {'FileOffset': 436, 'Offset': 4, 'Value': 0}}, {'Structure': 'IMAGE_DIRECTORY_ENTRY_DELAY_IMPORT', 'VirtualAddress': {'FileOffset': 440, 'Offset': 0, 'Value': 0}, 'Size': {'FileOffset': 444, 'Offset': 4, 'Value': 0}}, {'Structure': 'IMAGE_DIRECTORY_ENTRY_COM_DESCRIPTOR', 'VirtualAddress': {'FileOffset': 448, 'Offset': 0, 'Value': 0}, 'Size': {'FileOffset': 452, 'Offset': 4, 'Value': 0}}, {'Structure': 'IMAGE_DIRECTORY_ENTRY_RESERVED', 'VirtualAddress': {'FileOffset': 456, 'Offset': 0, 'Value': 0}, 'Size': {'FileOffset': 460, 'Offset': 4, 'Value': 0}}]\n",
            "[{'Structure': 'IMAGE_DIRECTORY_ENTRY_EXPORT', 'VirtualAddress': {'FileOffset': 336, 'Offset': 0, 'Value': 0}, 'Size': {'FileOffset': 340, 'Offset': 4, 'Value': 0}}, {'Structure': 'IMAGE_DIRECTORY_ENTRY_IMPORT', 'VirtualAddress': {'FileOffset': 344, 'Offset': 0, 'Value': 32768}, 'Size': {'FileOffset': 348, 'Offset': 4, 'Value': 360}}, {'Structure': 'IMAGE_DIRECTORY_ENTRY_RESOURCE', 'VirtualAddress': {'FileOffset': 352, 'Offset': 0, 'Value': 0}, 'Size': {'FileOffset': 356, 'Offset': 4, 'Value': 0}}, {'Structure': 'IMAGE_DIRECTORY_ENTRY_EXCEPTION', 'VirtualAddress': {'FileOffset': 360, 'Offset': 0, 'Value': 0}, 'Size': {'FileOffset': 364, 'Offset': 4, 'Value': 0}}, {'Structure': 'IMAGE_DIRECTORY_ENTRY_SECURITY', 'VirtualAddress': {'FileOffset': 368, 'Offset': 0, 'Value': 0}, 'Size': {'FileOffset': 372, 'Offset': 4, 'Value': 0}}, {'Structure': 'IMAGE_DIRECTORY_ENTRY_BASERELOC', 'VirtualAddress': {'FileOffset': 376, 'Offset': 0, 'Value': 0}, 'Size': {'FileOffset': 380, 'Offset': 4, 'Value': 0}}, {'Structure': 'IMAGE_DIRECTORY_ENTRY_DEBUG', 'VirtualAddress': {'FileOffset': 384, 'Offset': 0, 'Value': 0}, 'Size': {'FileOffset': 388, 'Offset': 4, 'Value': 0}}, {'Structure': 'IMAGE_DIRECTORY_ENTRY_COPYRIGHT', 'VirtualAddress': {'FileOffset': 392, 'Offset': 0, 'Value': 0}, 'Size': {'FileOffset': 396, 'Offset': 4, 'Value': 0}}, {'Structure': 'IMAGE_DIRECTORY_ENTRY_GLOBALPTR', 'VirtualAddress': {'FileOffset': 400, 'Offset': 0, 'Value': 0}, 'Size': {'FileOffset': 404, 'Offset': 4, 'Value': 0}}, {'Structure': 'IMAGE_DIRECTORY_ENTRY_TLS', 'VirtualAddress': {'FileOffset': 408, 'Offset': 0, 'Value': 0}, 'Size': {'FileOffset': 412, 'Offset': 4, 'Value': 0}}, {'Structure': 'IMAGE_DIRECTORY_ENTRY_LOAD_CONFIG', 'VirtualAddress': {'FileOffset': 416, 'Offset': 0, 'Value': 0}, 'Size': {'FileOffset': 420, 'Offset': 4, 'Value': 0}}, {'Structure': 'IMAGE_DIRECTORY_ENTRY_BOUND_IMPORT', 'VirtualAddress': {'FileOffset': 424, 'Offset': 0, 'Value': 0}, 'Size': {'FileOffset': 428, 'Offset': 4, 'Value': 0}}, {'Structure': 'IMAGE_DIRECTORY_ENTRY_IAT', 'VirtualAddress': {'FileOffset': 432, 'Offset': 0, 'Value': 0}, 'Size': {'FileOffset': 436, 'Offset': 4, 'Value': 0}}, {'Structure': 'IMAGE_DIRECTORY_ENTRY_DELAY_IMPORT', 'VirtualAddress': {'FileOffset': 440, 'Offset': 0, 'Value': 0}, 'Size': {'FileOffset': 444, 'Offset': 4, 'Value': 0}}, {'Structure': 'IMAGE_DIRECTORY_ENTRY_COM_DESCRIPTOR', 'VirtualAddress': {'FileOffset': 448, 'Offset': 0, 'Value': 0}, 'Size': {'FileOffset': 452, 'Offset': 4, 'Value': 0}}, {'Structure': 'IMAGE_DIRECTORY_ENTRY_RESERVED', 'VirtualAddress': {'FileOffset': 456, 'Offset': 0, 'Value': 0}, 'Size': {'FileOffset': 460, 'Offset': 4, 'Value': 0}}]\n",
            "[{'Structure': 'IMAGE_DIRECTORY_ENTRY_EXPORT', 'VirtualAddress': {'FileOffset': 336, 'Offset': 0, 'Value': 0}, 'Size': {'FileOffset': 340, 'Offset': 4, 'Value': 0}}, {'Structure': 'IMAGE_DIRECTORY_ENTRY_IMPORT', 'VirtualAddress': {'FileOffset': 344, 'Offset': 0, 'Value': 32768}, 'Size': {'FileOffset': 348, 'Offset': 4, 'Value': 360}}, {'Structure': 'IMAGE_DIRECTORY_ENTRY_RESOURCE', 'VirtualAddress': {'FileOffset': 352, 'Offset': 0, 'Value': 0}, 'Size': {'FileOffset': 356, 'Offset': 4, 'Value': 0}}, {'Structure': 'IMAGE_DIRECTORY_ENTRY_EXCEPTION', 'VirtualAddress': {'FileOffset': 360, 'Offset': 0, 'Value': 0}, 'Size': {'FileOffset': 364, 'Offset': 4, 'Value': 0}}, {'Structure': 'IMAGE_DIRECTORY_ENTRY_SECURITY', 'VirtualAddress': {'FileOffset': 368, 'Offset': 0, 'Value': 0}, 'Size': {'FileOffset': 372, 'Offset': 4, 'Value': 0}}, {'Structure': 'IMAGE_DIRECTORY_ENTRY_BASERELOC', 'VirtualAddress': {'FileOffset': 376, 'Offset': 0, 'Value': 0}, 'Size': {'FileOffset': 380, 'Offset': 4, 'Value': 0}}, {'Structure': 'IMAGE_DIRECTORY_ENTRY_DEBUG', 'VirtualAddress': {'FileOffset': 384, 'Offset': 0, 'Value': 0}, 'Size': {'FileOffset': 388, 'Offset': 4, 'Value': 0}}, {'Structure': 'IMAGE_DIRECTORY_ENTRY_COPYRIGHT', 'VirtualAddress': {'FileOffset': 392, 'Offset': 0, 'Value': 0}, 'Size': {'FileOffset': 396, 'Offset': 4, 'Value': 0}}, {'Structure': 'IMAGE_DIRECTORY_ENTRY_GLOBALPTR', 'VirtualAddress': {'FileOffset': 400, 'Offset': 0, 'Value': 0}, 'Size': {'FileOffset': 404, 'Offset': 4, 'Value': 0}}, {'Structure': 'IMAGE_DIRECTORY_ENTRY_TLS', 'VirtualAddress': {'FileOffset': 408, 'Offset': 0, 'Value': 0}, 'Size': {'FileOffset': 412, 'Offset': 4, 'Value': 0}}, {'Structure': 'IMAGE_DIRECTORY_ENTRY_LOAD_CONFIG', 'VirtualAddress': {'FileOffset': 416, 'Offset': 0, 'Value': 0}, 'Size': {'FileOffset': 420, 'Offset': 4, 'Value': 0}}, {'Structure': 'IMAGE_DIRECTORY_ENTRY_BOUND_IMPORT', 'VirtualAddress': {'FileOffset': 424, 'Offset': 0, 'Value': 0}, 'Size': {'FileOffset': 428, 'Offset': 4, 'Value': 0}}, {'Structure': 'IMAGE_DIRECTORY_ENTRY_IAT', 'VirtualAddress': {'FileOffset': 432, 'Offset': 0, 'Value': 0}, 'Size': {'FileOffset': 436, 'Offset': 4, 'Value': 0}}, {'Structure': 'IMAGE_DIRECTORY_ENTRY_DELAY_IMPORT', 'VirtualAddress': {'FileOffset': 440, 'Offset': 0, 'Value': 0}, 'Size': {'FileOffset': 444, 'Offset': 4, 'Value': 0}}, {'Structure': 'IMAGE_DIRECTORY_ENTRY_COM_DESCRIPTOR', 'VirtualAddress': {'FileOffset': 448, 'Offset': 0, 'Value': 0}, 'Size': {'FileOffset': 452, 'Offset': 4, 'Value': 0}}, {'Structure': 'IMAGE_DIRECTORY_ENTRY_RESERVED', 'VirtualAddress': {'FileOffset': 456, 'Offset': 0, 'Value': 0}, 'Size': {'FileOffset': 460, 'Offset': 4, 'Value': 0}}]\n",
            "[{'Structure': 'IMAGE_DIRECTORY_ENTRY_EXPORT', 'VirtualAddress': {'FileOffset': 336, 'Offset': 0, 'Value': 0}, 'Size': {'FileOffset': 340, 'Offset': 4, 'Value': 0}}, {'Structure': 'IMAGE_DIRECTORY_ENTRY_IMPORT', 'VirtualAddress': {'FileOffset': 344, 'Offset': 0, 'Value': 32768}, 'Size': {'FileOffset': 348, 'Offset': 4, 'Value': 360}}, {'Structure': 'IMAGE_DIRECTORY_ENTRY_RESOURCE', 'VirtualAddress': {'FileOffset': 352, 'Offset': 0, 'Value': 0}, 'Size': {'FileOffset': 356, 'Offset': 4, 'Value': 0}}, {'Structure': 'IMAGE_DIRECTORY_ENTRY_EXCEPTION', 'VirtualAddress': {'FileOffset': 360, 'Offset': 0, 'Value': 0}, 'Size': {'FileOffset': 364, 'Offset': 4, 'Value': 0}}, {'Structure': 'IMAGE_DIRECTORY_ENTRY_SECURITY', 'VirtualAddress': {'FileOffset': 368, 'Offset': 0, 'Value': 0}, 'Size': {'FileOffset': 372, 'Offset': 4, 'Value': 0}}, {'Structure': 'IMAGE_DIRECTORY_ENTRY_BASERELOC', 'VirtualAddress': {'FileOffset': 376, 'Offset': 0, 'Value': 0}, 'Size': {'FileOffset': 380, 'Offset': 4, 'Value': 0}}, {'Structure': 'IMAGE_DIRECTORY_ENTRY_DEBUG', 'VirtualAddress': {'FileOffset': 384, 'Offset': 0, 'Value': 0}, 'Size': {'FileOffset': 388, 'Offset': 4, 'Value': 0}}, {'Structure': 'IMAGE_DIRECTORY_ENTRY_COPYRIGHT', 'VirtualAddress': {'FileOffset': 392, 'Offset': 0, 'Value': 0}, 'Size': {'FileOffset': 396, 'Offset': 4, 'Value': 0}}, {'Structure': 'IMAGE_DIRECTORY_ENTRY_GLOBALPTR', 'VirtualAddress': {'FileOffset': 400, 'Offset': 0, 'Value': 0}, 'Size': {'FileOffset': 404, 'Offset': 4, 'Value': 0}}, {'Structure': 'IMAGE_DIRECTORY_ENTRY_TLS', 'VirtualAddress': {'FileOffset': 408, 'Offset': 0, 'Value': 0}, 'Size': {'FileOffset': 412, 'Offset': 4, 'Value': 0}}, {'Structure': 'IMAGE_DIRECTORY_ENTRY_LOAD_CONFIG', 'VirtualAddress': {'FileOffset': 416, 'Offset': 0, 'Value': 0}, 'Size': {'FileOffset': 420, 'Offset': 4, 'Value': 0}}, {'Structure': 'IMAGE_DIRECTORY_ENTRY_BOUND_IMPORT', 'VirtualAddress': {'FileOffset': 424, 'Offset': 0, 'Value': 0}, 'Size': {'FileOffset': 428, 'Offset': 4, 'Value': 0}}, {'Structure': 'IMAGE_DIRECTORY_ENTRY_IAT', 'VirtualAddress': {'FileOffset': 432, 'Offset': 0, 'Value': 0}, 'Size': {'FileOffset': 436, 'Offset': 4, 'Value': 0}}, {'Structure': 'IMAGE_DIRECTORY_ENTRY_DELAY_IMPORT', 'VirtualAddress': {'FileOffset': 440, 'Offset': 0, 'Value': 0}, 'Size': {'FileOffset': 444, 'Offset': 4, 'Value': 0}}, {'Structure': 'IMAGE_DIRECTORY_ENTRY_COM_DESCRIPTOR', 'VirtualAddress': {'FileOffset': 448, 'Offset': 0, 'Value': 0}, 'Size': {'FileOffset': 452, 'Offset': 4, 'Value': 0}}, {'Structure': 'IMAGE_DIRECTORY_ENTRY_RESERVED', 'VirtualAddress': {'FileOffset': 456, 'Offset': 0, 'Value': 0}, 'Size': {'FileOffset': 460, 'Offset': 4, 'Value': 0}}]\n",
            "[{'Structure': 'IMAGE_DIRECTORY_ENTRY_EXPORT', 'VirtualAddress': {'FileOffset': 336, 'Offset': 0, 'Value': 0}, 'Size': {'FileOffset': 340, 'Offset': 4, 'Value': 0}}, {'Structure': 'IMAGE_DIRECTORY_ENTRY_IMPORT', 'VirtualAddress': {'FileOffset': 344, 'Offset': 0, 'Value': 32768}, 'Size': {'FileOffset': 348, 'Offset': 4, 'Value': 360}}, {'Structure': 'IMAGE_DIRECTORY_ENTRY_RESOURCE', 'VirtualAddress': {'FileOffset': 352, 'Offset': 0, 'Value': 0}, 'Size': {'FileOffset': 356, 'Offset': 4, 'Value': 0}}, {'Structure': 'IMAGE_DIRECTORY_ENTRY_EXCEPTION', 'VirtualAddress': {'FileOffset': 360, 'Offset': 0, 'Value': 0}, 'Size': {'FileOffset': 364, 'Offset': 4, 'Value': 0}}, {'Structure': 'IMAGE_DIRECTORY_ENTRY_SECURITY', 'VirtualAddress': {'FileOffset': 368, 'Offset': 0, 'Value': 0}, 'Size': {'FileOffset': 372, 'Offset': 4, 'Value': 0}}, {'Structure': 'IMAGE_DIRECTORY_ENTRY_BASERELOC', 'VirtualAddress': {'FileOffset': 376, 'Offset': 0, 'Value': 0}, 'Size': {'FileOffset': 380, 'Offset': 4, 'Value': 0}}, {'Structure': 'IMAGE_DIRECTORY_ENTRY_DEBUG', 'VirtualAddress': {'FileOffset': 384, 'Offset': 0, 'Value': 0}, 'Size': {'FileOffset': 388, 'Offset': 4, 'Value': 0}}, {'Structure': 'IMAGE_DIRECTORY_ENTRY_COPYRIGHT', 'VirtualAddress': {'FileOffset': 392, 'Offset': 0, 'Value': 0}, 'Size': {'FileOffset': 396, 'Offset': 4, 'Value': 0}}, {'Structure': 'IMAGE_DIRECTORY_ENTRY_GLOBALPTR', 'VirtualAddress': {'FileOffset': 400, 'Offset': 0, 'Value': 0}, 'Size': {'FileOffset': 404, 'Offset': 4, 'Value': 0}}, {'Structure': 'IMAGE_DIRECTORY_ENTRY_TLS', 'VirtualAddress': {'FileOffset': 408, 'Offset': 0, 'Value': 0}, 'Size': {'FileOffset': 412, 'Offset': 4, 'Value': 0}}, {'Structure': 'IMAGE_DIRECTORY_ENTRY_LOAD_CONFIG', 'VirtualAddress': {'FileOffset': 416, 'Offset': 0, 'Value': 0}, 'Size': {'FileOffset': 420, 'Offset': 4, 'Value': 0}}, {'Structure': 'IMAGE_DIRECTORY_ENTRY_BOUND_IMPORT', 'VirtualAddress': {'FileOffset': 424, 'Offset': 0, 'Value': 0}, 'Size': {'FileOffset': 428, 'Offset': 4, 'Value': 0}}, {'Structure': 'IMAGE_DIRECTORY_ENTRY_IAT', 'VirtualAddress': {'FileOffset': 432, 'Offset': 0, 'Value': 0}, 'Size': {'FileOffset': 436, 'Offset': 4, 'Value': 0}}, {'Structure': 'IMAGE_DIRECTORY_ENTRY_DELAY_IMPORT', 'VirtualAddress': {'FileOffset': 440, 'Offset': 0, 'Value': 0}, 'Size': {'FileOffset': 444, 'Offset': 4, 'Value': 0}}, {'Structure': 'IMAGE_DIRECTORY_ENTRY_COM_DESCRIPTOR', 'VirtualAddress': {'FileOffset': 448, 'Offset': 0, 'Value': 0}, 'Size': {'FileOffset': 452, 'Offset': 4, 'Value': 0}}, {'Structure': 'IMAGE_DIRECTORY_ENTRY_RESERVED', 'VirtualAddress': {'FileOffset': 456, 'Offset': 0, 'Value': 0}, 'Size': {'FileOffset': 460, 'Offset': 4, 'Value': 0}}]\n",
            "[{'Structure': 'IMAGE_DIRECTORY_ENTRY_EXPORT', 'VirtualAddress': {'FileOffset': 336, 'Offset': 0, 'Value': 0}, 'Size': {'FileOffset': 340, 'Offset': 4, 'Value': 0}}, {'Structure': 'IMAGE_DIRECTORY_ENTRY_IMPORT', 'VirtualAddress': {'FileOffset': 344, 'Offset': 0, 'Value': 32768}, 'Size': {'FileOffset': 348, 'Offset': 4, 'Value': 360}}, {'Structure': 'IMAGE_DIRECTORY_ENTRY_RESOURCE', 'VirtualAddress': {'FileOffset': 352, 'Offset': 0, 'Value': 0}, 'Size': {'FileOffset': 356, 'Offset': 4, 'Value': 0}}, {'Structure': 'IMAGE_DIRECTORY_ENTRY_EXCEPTION', 'VirtualAddress': {'FileOffset': 360, 'Offset': 0, 'Value': 0}, 'Size': {'FileOffset': 364, 'Offset': 4, 'Value': 0}}, {'Structure': 'IMAGE_DIRECTORY_ENTRY_SECURITY', 'VirtualAddress': {'FileOffset': 368, 'Offset': 0, 'Value': 0}, 'Size': {'FileOffset': 372, 'Offset': 4, 'Value': 0}}, {'Structure': 'IMAGE_DIRECTORY_ENTRY_BASERELOC', 'VirtualAddress': {'FileOffset': 376, 'Offset': 0, 'Value': 0}, 'Size': {'FileOffset': 380, 'Offset': 4, 'Value': 0}}, {'Structure': 'IMAGE_DIRECTORY_ENTRY_DEBUG', 'VirtualAddress': {'FileOffset': 384, 'Offset': 0, 'Value': 0}, 'Size': {'FileOffset': 388, 'Offset': 4, 'Value': 0}}, {'Structure': 'IMAGE_DIRECTORY_ENTRY_COPYRIGHT', 'VirtualAddress': {'FileOffset': 392, 'Offset': 0, 'Value': 0}, 'Size': {'FileOffset': 396, 'Offset': 4, 'Value': 0}}, {'Structure': 'IMAGE_DIRECTORY_ENTRY_GLOBALPTR', 'VirtualAddress': {'FileOffset': 400, 'Offset': 0, 'Value': 0}, 'Size': {'FileOffset': 404, 'Offset': 4, 'Value': 0}}, {'Structure': 'IMAGE_DIRECTORY_ENTRY_TLS', 'VirtualAddress': {'FileOffset': 408, 'Offset': 0, 'Value': 0}, 'Size': {'FileOffset': 412, 'Offset': 4, 'Value': 0}}, {'Structure': 'IMAGE_DIRECTORY_ENTRY_LOAD_CONFIG', 'VirtualAddress': {'FileOffset': 416, 'Offset': 0, 'Value': 0}, 'Size': {'FileOffset': 420, 'Offset': 4, 'Value': 0}}, {'Structure': 'IMAGE_DIRECTORY_ENTRY_BOUND_IMPORT', 'VirtualAddress': {'FileOffset': 424, 'Offset': 0, 'Value': 0}, 'Size': {'FileOffset': 428, 'Offset': 4, 'Value': 0}}, {'Structure': 'IMAGE_DIRECTORY_ENTRY_IAT', 'VirtualAddress': {'FileOffset': 432, 'Offset': 0, 'Value': 0}, 'Size': {'FileOffset': 436, 'Offset': 4, 'Value': 0}}, {'Structure': 'IMAGE_DIRECTORY_ENTRY_DELAY_IMPORT', 'VirtualAddress': {'FileOffset': 440, 'Offset': 0, 'Value': 0}, 'Size': {'FileOffset': 444, 'Offset': 4, 'Value': 0}}, {'Structure': 'IMAGE_DIRECTORY_ENTRY_COM_DESCRIPTOR', 'VirtualAddress': {'FileOffset': 448, 'Offset': 0, 'Value': 0}, 'Size': {'FileOffset': 452, 'Offset': 4, 'Value': 0}}, {'Structure': 'IMAGE_DIRECTORY_ENTRY_RESERVED', 'VirtualAddress': {'FileOffset': 456, 'Offset': 0, 'Value': 0}, 'Size': {'FileOffset': 460, 'Offset': 4, 'Value': 0}}]\n",
            "[{'Structure': 'IMAGE_DIRECTORY_ENTRY_EXPORT', 'VirtualAddress': {'FileOffset': 336, 'Offset': 0, 'Value': 0}, 'Size': {'FileOffset': 340, 'Offset': 4, 'Value': 0}}, {'Structure': 'IMAGE_DIRECTORY_ENTRY_IMPORT', 'VirtualAddress': {'FileOffset': 344, 'Offset': 0, 'Value': 32768}, 'Size': {'FileOffset': 348, 'Offset': 4, 'Value': 360}}, {'Structure': 'IMAGE_DIRECTORY_ENTRY_RESOURCE', 'VirtualAddress': {'FileOffset': 352, 'Offset': 0, 'Value': 0}, 'Size': {'FileOffset': 356, 'Offset': 4, 'Value': 0}}, {'Structure': 'IMAGE_DIRECTORY_ENTRY_EXCEPTION', 'VirtualAddress': {'FileOffset': 360, 'Offset': 0, 'Value': 0}, 'Size': {'FileOffset': 364, 'Offset': 4, 'Value': 0}}, {'Structure': 'IMAGE_DIRECTORY_ENTRY_SECURITY', 'VirtualAddress': {'FileOffset': 368, 'Offset': 0, 'Value': 0}, 'Size': {'FileOffset': 372, 'Offset': 4, 'Value': 0}}, {'Structure': 'IMAGE_DIRECTORY_ENTRY_BASERELOC', 'VirtualAddress': {'FileOffset': 376, 'Offset': 0, 'Value': 0}, 'Size': {'FileOffset': 380, 'Offset': 4, 'Value': 0}}, {'Structure': 'IMAGE_DIRECTORY_ENTRY_DEBUG', 'VirtualAddress': {'FileOffset': 384, 'Offset': 0, 'Value': 0}, 'Size': {'FileOffset': 388, 'Offset': 4, 'Value': 0}}, {'Structure': 'IMAGE_DIRECTORY_ENTRY_COPYRIGHT', 'VirtualAddress': {'FileOffset': 392, 'Offset': 0, 'Value': 0}, 'Size': {'FileOffset': 396, 'Offset': 4, 'Value': 0}}, {'Structure': 'IMAGE_DIRECTORY_ENTRY_GLOBALPTR', 'VirtualAddress': {'FileOffset': 400, 'Offset': 0, 'Value': 0}, 'Size': {'FileOffset': 404, 'Offset': 4, 'Value': 0}}, {'Structure': 'IMAGE_DIRECTORY_ENTRY_TLS', 'VirtualAddress': {'FileOffset': 408, 'Offset': 0, 'Value': 0}, 'Size': {'FileOffset': 412, 'Offset': 4, 'Value': 0}}, {'Structure': 'IMAGE_DIRECTORY_ENTRY_LOAD_CONFIG', 'VirtualAddress': {'FileOffset': 416, 'Offset': 0, 'Value': 0}, 'Size': {'FileOffset': 420, 'Offset': 4, 'Value': 0}}, {'Structure': 'IMAGE_DIRECTORY_ENTRY_BOUND_IMPORT', 'VirtualAddress': {'FileOffset': 424, 'Offset': 0, 'Value': 0}, 'Size': {'FileOffset': 428, 'Offset': 4, 'Value': 0}}, {'Structure': 'IMAGE_DIRECTORY_ENTRY_IAT', 'VirtualAddress': {'FileOffset': 432, 'Offset': 0, 'Value': 0}, 'Size': {'FileOffset': 436, 'Offset': 4, 'Value': 0}}, {'Structure': 'IMAGE_DIRECTORY_ENTRY_DELAY_IMPORT', 'VirtualAddress': {'FileOffset': 440, 'Offset': 0, 'Value': 0}, 'Size': {'FileOffset': 444, 'Offset': 4, 'Value': 0}}, {'Structure': 'IMAGE_DIRECTORY_ENTRY_COM_DESCRIPTOR', 'VirtualAddress': {'FileOffset': 448, 'Offset': 0, 'Value': 0}, 'Size': {'FileOffset': 452, 'Offset': 4, 'Value': 0}}, {'Structure': 'IMAGE_DIRECTORY_ENTRY_RESERVED', 'VirtualAddress': {'FileOffset': 456, 'Offset': 0, 'Value': 0}, 'Size': {'FileOffset': 460, 'Offset': 4, 'Value': 0}}]\n",
            "[{'Structure': 'IMAGE_DIRECTORY_ENTRY_EXPORT', 'VirtualAddress': {'FileOffset': 336, 'Offset': 0, 'Value': 0}, 'Size': {'FileOffset': 340, 'Offset': 4, 'Value': 0}}, {'Structure': 'IMAGE_DIRECTORY_ENTRY_IMPORT', 'VirtualAddress': {'FileOffset': 344, 'Offset': 0, 'Value': 32768}, 'Size': {'FileOffset': 348, 'Offset': 4, 'Value': 360}}, {'Structure': 'IMAGE_DIRECTORY_ENTRY_RESOURCE', 'VirtualAddress': {'FileOffset': 352, 'Offset': 0, 'Value': 0}, 'Size': {'FileOffset': 356, 'Offset': 4, 'Value': 0}}, {'Structure': 'IMAGE_DIRECTORY_ENTRY_EXCEPTION', 'VirtualAddress': {'FileOffset': 360, 'Offset': 0, 'Value': 0}, 'Size': {'FileOffset': 364, 'Offset': 4, 'Value': 0}}, {'Structure': 'IMAGE_DIRECTORY_ENTRY_SECURITY', 'VirtualAddress': {'FileOffset': 368, 'Offset': 0, 'Value': 0}, 'Size': {'FileOffset': 372, 'Offset': 4, 'Value': 0}}, {'Structure': 'IMAGE_DIRECTORY_ENTRY_BASERELOC', 'VirtualAddress': {'FileOffset': 376, 'Offset': 0, 'Value': 0}, 'Size': {'FileOffset': 380, 'Offset': 4, 'Value': 0}}, {'Structure': 'IMAGE_DIRECTORY_ENTRY_DEBUG', 'VirtualAddress': {'FileOffset': 384, 'Offset': 0, 'Value': 0}, 'Size': {'FileOffset': 388, 'Offset': 4, 'Value': 0}}, {'Structure': 'IMAGE_DIRECTORY_ENTRY_COPYRIGHT', 'VirtualAddress': {'FileOffset': 392, 'Offset': 0, 'Value': 0}, 'Size': {'FileOffset': 396, 'Offset': 4, 'Value': 0}}, {'Structure': 'IMAGE_DIRECTORY_ENTRY_GLOBALPTR', 'VirtualAddress': {'FileOffset': 400, 'Offset': 0, 'Value': 0}, 'Size': {'FileOffset': 404, 'Offset': 4, 'Value': 0}}, {'Structure': 'IMAGE_DIRECTORY_ENTRY_TLS', 'VirtualAddress': {'FileOffset': 408, 'Offset': 0, 'Value': 0}, 'Size': {'FileOffset': 412, 'Offset': 4, 'Value': 0}}, {'Structure': 'IMAGE_DIRECTORY_ENTRY_LOAD_CONFIG', 'VirtualAddress': {'FileOffset': 416, 'Offset': 0, 'Value': 0}, 'Size': {'FileOffset': 420, 'Offset': 4, 'Value': 0}}, {'Structure': 'IMAGE_DIRECTORY_ENTRY_BOUND_IMPORT', 'VirtualAddress': {'FileOffset': 424, 'Offset': 0, 'Value': 0}, 'Size': {'FileOffset': 428, 'Offset': 4, 'Value': 0}}, {'Structure': 'IMAGE_DIRECTORY_ENTRY_IAT', 'VirtualAddress': {'FileOffset': 432, 'Offset': 0, 'Value': 0}, 'Size': {'FileOffset': 436, 'Offset': 4, 'Value': 0}}, {'Structure': 'IMAGE_DIRECTORY_ENTRY_DELAY_IMPORT', 'VirtualAddress': {'FileOffset': 440, 'Offset': 0, 'Value': 0}, 'Size': {'FileOffset': 444, 'Offset': 4, 'Value': 0}}, {'Structure': 'IMAGE_DIRECTORY_ENTRY_COM_DESCRIPTOR', 'VirtualAddress': {'FileOffset': 448, 'Offset': 0, 'Value': 0}, 'Size': {'FileOffset': 452, 'Offset': 4, 'Value': 0}}, {'Structure': 'IMAGE_DIRECTORY_ENTRY_RESERVED', 'VirtualAddress': {'FileOffset': 456, 'Offset': 0, 'Value': 0}, 'Size': {'FileOffset': 460, 'Offset': 4, 'Value': 0}}]\n",
            "[{'Structure': 'IMAGE_DIRECTORY_ENTRY_EXPORT', 'VirtualAddress': {'FileOffset': 336, 'Offset': 0, 'Value': 0}, 'Size': {'FileOffset': 340, 'Offset': 4, 'Value': 0}}, {'Structure': 'IMAGE_DIRECTORY_ENTRY_IMPORT', 'VirtualAddress': {'FileOffset': 344, 'Offset': 0, 'Value': 32768}, 'Size': {'FileOffset': 348, 'Offset': 4, 'Value': 360}}, {'Structure': 'IMAGE_DIRECTORY_ENTRY_RESOURCE', 'VirtualAddress': {'FileOffset': 352, 'Offset': 0, 'Value': 0}, 'Size': {'FileOffset': 356, 'Offset': 4, 'Value': 0}}, {'Structure': 'IMAGE_DIRECTORY_ENTRY_EXCEPTION', 'VirtualAddress': {'FileOffset': 360, 'Offset': 0, 'Value': 0}, 'Size': {'FileOffset': 364, 'Offset': 4, 'Value': 0}}, {'Structure': 'IMAGE_DIRECTORY_ENTRY_SECURITY', 'VirtualAddress': {'FileOffset': 368, 'Offset': 0, 'Value': 0}, 'Size': {'FileOffset': 372, 'Offset': 4, 'Value': 0}}, {'Structure': 'IMAGE_DIRECTORY_ENTRY_BASERELOC', 'VirtualAddress': {'FileOffset': 376, 'Offset': 0, 'Value': 0}, 'Size': {'FileOffset': 380, 'Offset': 4, 'Value': 0}}, {'Structure': 'IMAGE_DIRECTORY_ENTRY_DEBUG', 'VirtualAddress': {'FileOffset': 384, 'Offset': 0, 'Value': 0}, 'Size': {'FileOffset': 388, 'Offset': 4, 'Value': 0}}, {'Structure': 'IMAGE_DIRECTORY_ENTRY_COPYRIGHT', 'VirtualAddress': {'FileOffset': 392, 'Offset': 0, 'Value': 0}, 'Size': {'FileOffset': 396, 'Offset': 4, 'Value': 0}}, {'Structure': 'IMAGE_DIRECTORY_ENTRY_GLOBALPTR', 'VirtualAddress': {'FileOffset': 400, 'Offset': 0, 'Value': 0}, 'Size': {'FileOffset': 404, 'Offset': 4, 'Value': 0}}, {'Structure': 'IMAGE_DIRECTORY_ENTRY_TLS', 'VirtualAddress': {'FileOffset': 408, 'Offset': 0, 'Value': 0}, 'Size': {'FileOffset': 412, 'Offset': 4, 'Value': 0}}, {'Structure': 'IMAGE_DIRECTORY_ENTRY_LOAD_CONFIG', 'VirtualAddress': {'FileOffset': 416, 'Offset': 0, 'Value': 0}, 'Size': {'FileOffset': 420, 'Offset': 4, 'Value': 0}}, {'Structure': 'IMAGE_DIRECTORY_ENTRY_BOUND_IMPORT', 'VirtualAddress': {'FileOffset': 424, 'Offset': 0, 'Value': 0}, 'Size': {'FileOffset': 428, 'Offset': 4, 'Value': 0}}, {'Structure': 'IMAGE_DIRECTORY_ENTRY_IAT', 'VirtualAddress': {'FileOffset': 432, 'Offset': 0, 'Value': 0}, 'Size': {'FileOffset': 436, 'Offset': 4, 'Value': 0}}, {'Structure': 'IMAGE_DIRECTORY_ENTRY_DELAY_IMPORT', 'VirtualAddress': {'FileOffset': 440, 'Offset': 0, 'Value': 0}, 'Size': {'FileOffset': 444, 'Offset': 4, 'Value': 0}}, {'Structure': 'IMAGE_DIRECTORY_ENTRY_COM_DESCRIPTOR', 'VirtualAddress': {'FileOffset': 448, 'Offset': 0, 'Value': 0}, 'Size': {'FileOffset': 452, 'Offset': 4, 'Value': 0}}, {'Structure': 'IMAGE_DIRECTORY_ENTRY_RESERVED', 'VirtualAddress': {'FileOffset': 456, 'Offset': 0, 'Value': 0}, 'Size': {'FileOffset': 460, 'Offset': 4, 'Value': 0}}]\n",
            "[{'Structure': 'IMAGE_DIRECTORY_ENTRY_EXPORT', 'VirtualAddress': {'FileOffset': 336, 'Offset': 0, 'Value': 0}, 'Size': {'FileOffset': 340, 'Offset': 4, 'Value': 0}}, {'Structure': 'IMAGE_DIRECTORY_ENTRY_IMPORT', 'VirtualAddress': {'FileOffset': 344, 'Offset': 0, 'Value': 32768}, 'Size': {'FileOffset': 348, 'Offset': 4, 'Value': 360}}, {'Structure': 'IMAGE_DIRECTORY_ENTRY_RESOURCE', 'VirtualAddress': {'FileOffset': 352, 'Offset': 0, 'Value': 0}, 'Size': {'FileOffset': 356, 'Offset': 4, 'Value': 0}}, {'Structure': 'IMAGE_DIRECTORY_ENTRY_EXCEPTION', 'VirtualAddress': {'FileOffset': 360, 'Offset': 0, 'Value': 0}, 'Size': {'FileOffset': 364, 'Offset': 4, 'Value': 0}}, {'Structure': 'IMAGE_DIRECTORY_ENTRY_SECURITY', 'VirtualAddress': {'FileOffset': 368, 'Offset': 0, 'Value': 0}, 'Size': {'FileOffset': 372, 'Offset': 4, 'Value': 0}}, {'Structure': 'IMAGE_DIRECTORY_ENTRY_BASERELOC', 'VirtualAddress': {'FileOffset': 376, 'Offset': 0, 'Value': 0}, 'Size': {'FileOffset': 380, 'Offset': 4, 'Value': 0}}, {'Structure': 'IMAGE_DIRECTORY_ENTRY_DEBUG', 'VirtualAddress': {'FileOffset': 384, 'Offset': 0, 'Value': 0}, 'Size': {'FileOffset': 388, 'Offset': 4, 'Value': 0}}, {'Structure': 'IMAGE_DIRECTORY_ENTRY_COPYRIGHT', 'VirtualAddress': {'FileOffset': 392, 'Offset': 0, 'Value': 0}, 'Size': {'FileOffset': 396, 'Offset': 4, 'Value': 0}}, {'Structure': 'IMAGE_DIRECTORY_ENTRY_GLOBALPTR', 'VirtualAddress': {'FileOffset': 400, 'Offset': 0, 'Value': 0}, 'Size': {'FileOffset': 404, 'Offset': 4, 'Value': 0}}, {'Structure': 'IMAGE_DIRECTORY_ENTRY_TLS', 'VirtualAddress': {'FileOffset': 408, 'Offset': 0, 'Value': 0}, 'Size': {'FileOffset': 412, 'Offset': 4, 'Value': 0}}, {'Structure': 'IMAGE_DIRECTORY_ENTRY_LOAD_CONFIG', 'VirtualAddress': {'FileOffset': 416, 'Offset': 0, 'Value': 0}, 'Size': {'FileOffset': 420, 'Offset': 4, 'Value': 0}}, {'Structure': 'IMAGE_DIRECTORY_ENTRY_BOUND_IMPORT', 'VirtualAddress': {'FileOffset': 424, 'Offset': 0, 'Value': 0}, 'Size': {'FileOffset': 428, 'Offset': 4, 'Value': 0}}, {'Structure': 'IMAGE_DIRECTORY_ENTRY_IAT', 'VirtualAddress': {'FileOffset': 432, 'Offset': 0, 'Value': 0}, 'Size': {'FileOffset': 436, 'Offset': 4, 'Value': 0}}, {'Structure': 'IMAGE_DIRECTORY_ENTRY_DELAY_IMPORT', 'VirtualAddress': {'FileOffset': 440, 'Offset': 0, 'Value': 0}, 'Size': {'FileOffset': 444, 'Offset': 4, 'Value': 0}}, {'Structure': 'IMAGE_DIRECTORY_ENTRY_COM_DESCRIPTOR', 'VirtualAddress': {'FileOffset': 448, 'Offset': 0, 'Value': 0}, 'Size': {'FileOffset': 452, 'Offset': 4, 'Value': 0}}, {'Structure': 'IMAGE_DIRECTORY_ENTRY_RESERVED', 'VirtualAddress': {'FileOffset': 456, 'Offset': 0, 'Value': 0}, 'Size': {'FileOffset': 460, 'Offset': 4, 'Value': 0}}]\n",
            "[{'Structure': 'IMAGE_DIRECTORY_ENTRY_EXPORT', 'VirtualAddress': {'FileOffset': 336, 'Offset': 0, 'Value': 0}, 'Size': {'FileOffset': 340, 'Offset': 4, 'Value': 0}}, {'Structure': 'IMAGE_DIRECTORY_ENTRY_IMPORT', 'VirtualAddress': {'FileOffset': 344, 'Offset': 0, 'Value': 32768}, 'Size': {'FileOffset': 348, 'Offset': 4, 'Value': 360}}, {'Structure': 'IMAGE_DIRECTORY_ENTRY_RESOURCE', 'VirtualAddress': {'FileOffset': 352, 'Offset': 0, 'Value': 0}, 'Size': {'FileOffset': 356, 'Offset': 4, 'Value': 0}}, {'Structure': 'IMAGE_DIRECTORY_ENTRY_EXCEPTION', 'VirtualAddress': {'FileOffset': 360, 'Offset': 0, 'Value': 0}, 'Size': {'FileOffset': 364, 'Offset': 4, 'Value': 0}}, {'Structure': 'IMAGE_DIRECTORY_ENTRY_SECURITY', 'VirtualAddress': {'FileOffset': 368, 'Offset': 0, 'Value': 0}, 'Size': {'FileOffset': 372, 'Offset': 4, 'Value': 0}}, {'Structure': 'IMAGE_DIRECTORY_ENTRY_BASERELOC', 'VirtualAddress': {'FileOffset': 376, 'Offset': 0, 'Value': 0}, 'Size': {'FileOffset': 380, 'Offset': 4, 'Value': 0}}, {'Structure': 'IMAGE_DIRECTORY_ENTRY_DEBUG', 'VirtualAddress': {'FileOffset': 384, 'Offset': 0, 'Value': 0}, 'Size': {'FileOffset': 388, 'Offset': 4, 'Value': 0}}, {'Structure': 'IMAGE_DIRECTORY_ENTRY_COPYRIGHT', 'VirtualAddress': {'FileOffset': 392, 'Offset': 0, 'Value': 0}, 'Size': {'FileOffset': 396, 'Offset': 4, 'Value': 0}}, {'Structure': 'IMAGE_DIRECTORY_ENTRY_GLOBALPTR', 'VirtualAddress': {'FileOffset': 400, 'Offset': 0, 'Value': 0}, 'Size': {'FileOffset': 404, 'Offset': 4, 'Value': 0}}, {'Structure': 'IMAGE_DIRECTORY_ENTRY_TLS', 'VirtualAddress': {'FileOffset': 408, 'Offset': 0, 'Value': 0}, 'Size': {'FileOffset': 412, 'Offset': 4, 'Value': 0}}, {'Structure': 'IMAGE_DIRECTORY_ENTRY_LOAD_CONFIG', 'VirtualAddress': {'FileOffset': 416, 'Offset': 0, 'Value': 0}, 'Size': {'FileOffset': 420, 'Offset': 4, 'Value': 0}}, {'Structure': 'IMAGE_DIRECTORY_ENTRY_BOUND_IMPORT', 'VirtualAddress': {'FileOffset': 424, 'Offset': 0, 'Value': 0}, 'Size': {'FileOffset': 428, 'Offset': 4, 'Value': 0}}, {'Structure': 'IMAGE_DIRECTORY_ENTRY_IAT', 'VirtualAddress': {'FileOffset': 432, 'Offset': 0, 'Value': 0}, 'Size': {'FileOffset': 436, 'Offset': 4, 'Value': 0}}, {'Structure': 'IMAGE_DIRECTORY_ENTRY_DELAY_IMPORT', 'VirtualAddress': {'FileOffset': 440, 'Offset': 0, 'Value': 0}, 'Size': {'FileOffset': 444, 'Offset': 4, 'Value': 0}}, {'Structure': 'IMAGE_DIRECTORY_ENTRY_COM_DESCRIPTOR', 'VirtualAddress': {'FileOffset': 448, 'Offset': 0, 'Value': 0}, 'Size': {'FileOffset': 452, 'Offset': 4, 'Value': 0}}, {'Structure': 'IMAGE_DIRECTORY_ENTRY_RESERVED', 'VirtualAddress': {'FileOffset': 456, 'Offset': 0, 'Value': 0}, 'Size': {'FileOffset': 460, 'Offset': 4, 'Value': 0}}]\n",
            "[{'Structure': 'IMAGE_DIRECTORY_ENTRY_EXPORT', 'VirtualAddress': {'FileOffset': 336, 'Offset': 0, 'Value': 0}, 'Size': {'FileOffset': 340, 'Offset': 4, 'Value': 0}}, {'Structure': 'IMAGE_DIRECTORY_ENTRY_IMPORT', 'VirtualAddress': {'FileOffset': 344, 'Offset': 0, 'Value': 32768}, 'Size': {'FileOffset': 348, 'Offset': 4, 'Value': 360}}, {'Structure': 'IMAGE_DIRECTORY_ENTRY_RESOURCE', 'VirtualAddress': {'FileOffset': 352, 'Offset': 0, 'Value': 0}, 'Size': {'FileOffset': 356, 'Offset': 4, 'Value': 0}}, {'Structure': 'IMAGE_DIRECTORY_ENTRY_EXCEPTION', 'VirtualAddress': {'FileOffset': 360, 'Offset': 0, 'Value': 0}, 'Size': {'FileOffset': 364, 'Offset': 4, 'Value': 0}}, {'Structure': 'IMAGE_DIRECTORY_ENTRY_SECURITY', 'VirtualAddress': {'FileOffset': 368, 'Offset': 0, 'Value': 0}, 'Size': {'FileOffset': 372, 'Offset': 4, 'Value': 0}}, {'Structure': 'IMAGE_DIRECTORY_ENTRY_BASERELOC', 'VirtualAddress': {'FileOffset': 376, 'Offset': 0, 'Value': 0}, 'Size': {'FileOffset': 380, 'Offset': 4, 'Value': 0}}, {'Structure': 'IMAGE_DIRECTORY_ENTRY_DEBUG', 'VirtualAddress': {'FileOffset': 384, 'Offset': 0, 'Value': 0}, 'Size': {'FileOffset': 388, 'Offset': 4, 'Value': 0}}, {'Structure': 'IMAGE_DIRECTORY_ENTRY_COPYRIGHT', 'VirtualAddress': {'FileOffset': 392, 'Offset': 0, 'Value': 0}, 'Size': {'FileOffset': 396, 'Offset': 4, 'Value': 0}}, {'Structure': 'IMAGE_DIRECTORY_ENTRY_GLOBALPTR', 'VirtualAddress': {'FileOffset': 400, 'Offset': 0, 'Value': 0}, 'Size': {'FileOffset': 404, 'Offset': 4, 'Value': 0}}, {'Structure': 'IMAGE_DIRECTORY_ENTRY_TLS', 'VirtualAddress': {'FileOffset': 408, 'Offset': 0, 'Value': 0}, 'Size': {'FileOffset': 412, 'Offset': 4, 'Value': 0}}, {'Structure': 'IMAGE_DIRECTORY_ENTRY_LOAD_CONFIG', 'VirtualAddress': {'FileOffset': 416, 'Offset': 0, 'Value': 0}, 'Size': {'FileOffset': 420, 'Offset': 4, 'Value': 0}}, {'Structure': 'IMAGE_DIRECTORY_ENTRY_BOUND_IMPORT', 'VirtualAddress': {'FileOffset': 424, 'Offset': 0, 'Value': 0}, 'Size': {'FileOffset': 428, 'Offset': 4, 'Value': 0}}, {'Structure': 'IMAGE_DIRECTORY_ENTRY_IAT', 'VirtualAddress': {'FileOffset': 432, 'Offset': 0, 'Value': 0}, 'Size': {'FileOffset': 436, 'Offset': 4, 'Value': 0}}, {'Structure': 'IMAGE_DIRECTORY_ENTRY_DELAY_IMPORT', 'VirtualAddress': {'FileOffset': 440, 'Offset': 0, 'Value': 0}, 'Size': {'FileOffset': 444, 'Offset': 4, 'Value': 0}}, {'Structure': 'IMAGE_DIRECTORY_ENTRY_COM_DESCRIPTOR', 'VirtualAddress': {'FileOffset': 448, 'Offset': 0, 'Value': 0}, 'Size': {'FileOffset': 452, 'Offset': 4, 'Value': 0}}, {'Structure': 'IMAGE_DIRECTORY_ENTRY_RESERVED', 'VirtualAddress': {'FileOffset': 456, 'Offset': 0, 'Value': 0}, 'Size': {'FileOffset': 460, 'Offset': 4, 'Value': 0}}]\n",
            "[{'Structure': 'IMAGE_DIRECTORY_ENTRY_EXPORT', 'VirtualAddress': {'FileOffset': 336, 'Offset': 0, 'Value': 0}, 'Size': {'FileOffset': 340, 'Offset': 4, 'Value': 0}}, {'Structure': 'IMAGE_DIRECTORY_ENTRY_IMPORT', 'VirtualAddress': {'FileOffset': 344, 'Offset': 0, 'Value': 32768}, 'Size': {'FileOffset': 348, 'Offset': 4, 'Value': 360}}, {'Structure': 'IMAGE_DIRECTORY_ENTRY_RESOURCE', 'VirtualAddress': {'FileOffset': 352, 'Offset': 0, 'Value': 0}, 'Size': {'FileOffset': 356, 'Offset': 4, 'Value': 0}}, {'Structure': 'IMAGE_DIRECTORY_ENTRY_EXCEPTION', 'VirtualAddress': {'FileOffset': 360, 'Offset': 0, 'Value': 0}, 'Size': {'FileOffset': 364, 'Offset': 4, 'Value': 0}}, {'Structure': 'IMAGE_DIRECTORY_ENTRY_SECURITY', 'VirtualAddress': {'FileOffset': 368, 'Offset': 0, 'Value': 0}, 'Size': {'FileOffset': 372, 'Offset': 4, 'Value': 0}}, {'Structure': 'IMAGE_DIRECTORY_ENTRY_BASERELOC', 'VirtualAddress': {'FileOffset': 376, 'Offset': 0, 'Value': 0}, 'Size': {'FileOffset': 380, 'Offset': 4, 'Value': 0}}, {'Structure': 'IMAGE_DIRECTORY_ENTRY_DEBUG', 'VirtualAddress': {'FileOffset': 384, 'Offset': 0, 'Value': 0}, 'Size': {'FileOffset': 388, 'Offset': 4, 'Value': 0}}, {'Structure': 'IMAGE_DIRECTORY_ENTRY_COPYRIGHT', 'VirtualAddress': {'FileOffset': 392, 'Offset': 0, 'Value': 0}, 'Size': {'FileOffset': 396, 'Offset': 4, 'Value': 0}}, {'Structure': 'IMAGE_DIRECTORY_ENTRY_GLOBALPTR', 'VirtualAddress': {'FileOffset': 400, 'Offset': 0, 'Value': 0}, 'Size': {'FileOffset': 404, 'Offset': 4, 'Value': 0}}, {'Structure': 'IMAGE_DIRECTORY_ENTRY_TLS', 'VirtualAddress': {'FileOffset': 408, 'Offset': 0, 'Value': 0}, 'Size': {'FileOffset': 412, 'Offset': 4, 'Value': 0}}, {'Structure': 'IMAGE_DIRECTORY_ENTRY_LOAD_CONFIG', 'VirtualAddress': {'FileOffset': 416, 'Offset': 0, 'Value': 0}, 'Size': {'FileOffset': 420, 'Offset': 4, 'Value': 0}}, {'Structure': 'IMAGE_DIRECTORY_ENTRY_BOUND_IMPORT', 'VirtualAddress': {'FileOffset': 424, 'Offset': 0, 'Value': 0}, 'Size': {'FileOffset': 428, 'Offset': 4, 'Value': 0}}, {'Structure': 'IMAGE_DIRECTORY_ENTRY_IAT', 'VirtualAddress': {'FileOffset': 432, 'Offset': 0, 'Value': 0}, 'Size': {'FileOffset': 436, 'Offset': 4, 'Value': 0}}, {'Structure': 'IMAGE_DIRECTORY_ENTRY_DELAY_IMPORT', 'VirtualAddress': {'FileOffset': 440, 'Offset': 0, 'Value': 0}, 'Size': {'FileOffset': 444, 'Offset': 4, 'Value': 0}}, {'Structure': 'IMAGE_DIRECTORY_ENTRY_COM_DESCRIPTOR', 'VirtualAddress': {'FileOffset': 448, 'Offset': 0, 'Value': 0}, 'Size': {'FileOffset': 452, 'Offset': 4, 'Value': 0}}, {'Structure': 'IMAGE_DIRECTORY_ENTRY_RESERVED', 'VirtualAddress': {'FileOffset': 456, 'Offset': 0, 'Value': 0}, 'Size': {'FileOffset': 460, 'Offset': 4, 'Value': 0}}]\n",
            "[{'Structure': 'IMAGE_DIRECTORY_ENTRY_EXPORT', 'VirtualAddress': {'FileOffset': 328, 'Offset': 0, 'Value': 0}, 'Size': {'FileOffset': 332, 'Offset': 4, 'Value': 0}}, {'Structure': 'IMAGE_DIRECTORY_ENTRY_IMPORT', 'VirtualAddress': {'FileOffset': 336, 'Offset': 0, 'Value': 32768}, 'Size': {'FileOffset': 340, 'Offset': 4, 'Value': 360}}, {'Structure': 'IMAGE_DIRECTORY_ENTRY_RESOURCE', 'VirtualAddress': {'FileOffset': 344, 'Offset': 0, 'Value': 0}, 'Size': {'FileOffset': 348, 'Offset': 4, 'Value': 0}}, {'Structure': 'IMAGE_DIRECTORY_ENTRY_EXCEPTION', 'VirtualAddress': {'FileOffset': 352, 'Offset': 0, 'Value': 0}, 'Size': {'FileOffset': 356, 'Offset': 4, 'Value': 0}}, {'Structure': 'IMAGE_DIRECTORY_ENTRY_SECURITY', 'VirtualAddress': {'FileOffset': 360, 'Offset': 0, 'Value': 0}, 'Size': {'FileOffset': 364, 'Offset': 4, 'Value': 0}}, {'Structure': 'IMAGE_DIRECTORY_ENTRY_BASERELOC', 'VirtualAddress': {'FileOffset': 368, 'Offset': 0, 'Value': 0}, 'Size': {'FileOffset': 372, 'Offset': 4, 'Value': 0}}, {'Structure': 'IMAGE_DIRECTORY_ENTRY_DEBUG', 'VirtualAddress': {'FileOffset': 376, 'Offset': 0, 'Value': 0}, 'Size': {'FileOffset': 380, 'Offset': 4, 'Value': 0}}, {'Structure': 'IMAGE_DIRECTORY_ENTRY_COPYRIGHT', 'VirtualAddress': {'FileOffset': 384, 'Offset': 0, 'Value': 0}, 'Size': {'FileOffset': 388, 'Offset': 4, 'Value': 0}}, {'Structure': 'IMAGE_DIRECTORY_ENTRY_GLOBALPTR', 'VirtualAddress': {'FileOffset': 392, 'Offset': 0, 'Value': 0}, 'Size': {'FileOffset': 396, 'Offset': 4, 'Value': 0}}, {'Structure': 'IMAGE_DIRECTORY_ENTRY_TLS', 'VirtualAddress': {'FileOffset': 400, 'Offset': 0, 'Value': 0}, 'Size': {'FileOffset': 404, 'Offset': 4, 'Value': 0}}, {'Structure': 'IMAGE_DIRECTORY_ENTRY_LOAD_CONFIG', 'VirtualAddress': {'FileOffset': 408, 'Offset': 0, 'Value': 0}, 'Size': {'FileOffset': 412, 'Offset': 4, 'Value': 0}}, {'Structure': 'IMAGE_DIRECTORY_ENTRY_BOUND_IMPORT', 'VirtualAddress': {'FileOffset': 416, 'Offset': 0, 'Value': 0}, 'Size': {'FileOffset': 420, 'Offset': 4, 'Value': 0}}, {'Structure': 'IMAGE_DIRECTORY_ENTRY_IAT', 'VirtualAddress': {'FileOffset': 424, 'Offset': 0, 'Value': 0}, 'Size': {'FileOffset': 428, 'Offset': 4, 'Value': 0}}, {'Structure': 'IMAGE_DIRECTORY_ENTRY_DELAY_IMPORT', 'VirtualAddress': {'FileOffset': 432, 'Offset': 0, 'Value': 0}, 'Size': {'FileOffset': 436, 'Offset': 4, 'Value': 0}}, {'Structure': 'IMAGE_DIRECTORY_ENTRY_COM_DESCRIPTOR', 'VirtualAddress': {'FileOffset': 440, 'Offset': 0, 'Value': 0}, 'Size': {'FileOffset': 444, 'Offset': 4, 'Value': 0}}, {'Structure': 'IMAGE_DIRECTORY_ENTRY_RESERVED', 'VirtualAddress': {'FileOffset': 448, 'Offset': 0, 'Value': 0}, 'Size': {'FileOffset': 452, 'Offset': 4, 'Value': 0}}]\n",
            "[{'Structure': 'IMAGE_DIRECTORY_ENTRY_EXPORT', 'VirtualAddress': {'FileOffset': 336, 'Offset': 0, 'Value': 0}, 'Size': {'FileOffset': 340, 'Offset': 4, 'Value': 0}}, {'Structure': 'IMAGE_DIRECTORY_ENTRY_IMPORT', 'VirtualAddress': {'FileOffset': 344, 'Offset': 0, 'Value': 32768}, 'Size': {'FileOffset': 348, 'Offset': 4, 'Value': 360}}, {'Structure': 'IMAGE_DIRECTORY_ENTRY_RESOURCE', 'VirtualAddress': {'FileOffset': 352, 'Offset': 0, 'Value': 0}, 'Size': {'FileOffset': 356, 'Offset': 4, 'Value': 0}}, {'Structure': 'IMAGE_DIRECTORY_ENTRY_EXCEPTION', 'VirtualAddress': {'FileOffset': 360, 'Offset': 0, 'Value': 0}, 'Size': {'FileOffset': 364, 'Offset': 4, 'Value': 0}}, {'Structure': 'IMAGE_DIRECTORY_ENTRY_SECURITY', 'VirtualAddress': {'FileOffset': 368, 'Offset': 0, 'Value': 0}, 'Size': {'FileOffset': 372, 'Offset': 4, 'Value': 0}}, {'Structure': 'IMAGE_DIRECTORY_ENTRY_BASERELOC', 'VirtualAddress': {'FileOffset': 376, 'Offset': 0, 'Value': 0}, 'Size': {'FileOffset': 380, 'Offset': 4, 'Value': 0}}, {'Structure': 'IMAGE_DIRECTORY_ENTRY_DEBUG', 'VirtualAddress': {'FileOffset': 384, 'Offset': 0, 'Value': 0}, 'Size': {'FileOffset': 388, 'Offset': 4, 'Value': 0}}, {'Structure': 'IMAGE_DIRECTORY_ENTRY_COPYRIGHT', 'VirtualAddress': {'FileOffset': 392, 'Offset': 0, 'Value': 0}, 'Size': {'FileOffset': 396, 'Offset': 4, 'Value': 0}}, {'Structure': 'IMAGE_DIRECTORY_ENTRY_GLOBALPTR', 'VirtualAddress': {'FileOffset': 400, 'Offset': 0, 'Value': 0}, 'Size': {'FileOffset': 404, 'Offset': 4, 'Value': 0}}, {'Structure': 'IMAGE_DIRECTORY_ENTRY_TLS', 'VirtualAddress': {'FileOffset': 408, 'Offset': 0, 'Value': 0}, 'Size': {'FileOffset': 412, 'Offset': 4, 'Value': 0}}, {'Structure': 'IMAGE_DIRECTORY_ENTRY_LOAD_CONFIG', 'VirtualAddress': {'FileOffset': 416, 'Offset': 0, 'Value': 0}, 'Size': {'FileOffset': 420, 'Offset': 4, 'Value': 0}}, {'Structure': 'IMAGE_DIRECTORY_ENTRY_BOUND_IMPORT', 'VirtualAddress': {'FileOffset': 424, 'Offset': 0, 'Value': 0}, 'Size': {'FileOffset': 428, 'Offset': 4, 'Value': 0}}, {'Structure': 'IMAGE_DIRECTORY_ENTRY_IAT', 'VirtualAddress': {'FileOffset': 432, 'Offset': 0, 'Value': 0}, 'Size': {'FileOffset': 436, 'Offset': 4, 'Value': 0}}, {'Structure': 'IMAGE_DIRECTORY_ENTRY_DELAY_IMPORT', 'VirtualAddress': {'FileOffset': 440, 'Offset': 0, 'Value': 0}, 'Size': {'FileOffset': 444, 'Offset': 4, 'Value': 0}}, {'Structure': 'IMAGE_DIRECTORY_ENTRY_COM_DESCRIPTOR', 'VirtualAddress': {'FileOffset': 448, 'Offset': 0, 'Value': 0}, 'Size': {'FileOffset': 452, 'Offset': 4, 'Value': 0}}, {'Structure': 'IMAGE_DIRECTORY_ENTRY_RESERVED', 'VirtualAddress': {'FileOffset': 456, 'Offset': 0, 'Value': 0}, 'Size': {'FileOffset': 460, 'Offset': 4, 'Value': 0}}]\n",
            "[{'Structure': 'IMAGE_DIRECTORY_ENTRY_EXPORT', 'VirtualAddress': {'FileOffset': 336, 'Offset': 0, 'Value': 0}, 'Size': {'FileOffset': 340, 'Offset': 4, 'Value': 0}}, {'Structure': 'IMAGE_DIRECTORY_ENTRY_IMPORT', 'VirtualAddress': {'FileOffset': 344, 'Offset': 0, 'Value': 32768}, 'Size': {'FileOffset': 348, 'Offset': 4, 'Value': 360}}, {'Structure': 'IMAGE_DIRECTORY_ENTRY_RESOURCE', 'VirtualAddress': {'FileOffset': 352, 'Offset': 0, 'Value': 0}, 'Size': {'FileOffset': 356, 'Offset': 4, 'Value': 0}}, {'Structure': 'IMAGE_DIRECTORY_ENTRY_EXCEPTION', 'VirtualAddress': {'FileOffset': 360, 'Offset': 0, 'Value': 0}, 'Size': {'FileOffset': 364, 'Offset': 4, 'Value': 0}}, {'Structure': 'IMAGE_DIRECTORY_ENTRY_SECURITY', 'VirtualAddress': {'FileOffset': 368, 'Offset': 0, 'Value': 0}, 'Size': {'FileOffset': 372, 'Offset': 4, 'Value': 0}}, {'Structure': 'IMAGE_DIRECTORY_ENTRY_BASERELOC', 'VirtualAddress': {'FileOffset': 376, 'Offset': 0, 'Value': 0}, 'Size': {'FileOffset': 380, 'Offset': 4, 'Value': 0}}, {'Structure': 'IMAGE_DIRECTORY_ENTRY_DEBUG', 'VirtualAddress': {'FileOffset': 384, 'Offset': 0, 'Value': 0}, 'Size': {'FileOffset': 388, 'Offset': 4, 'Value': 0}}, {'Structure': 'IMAGE_DIRECTORY_ENTRY_COPYRIGHT', 'VirtualAddress': {'FileOffset': 392, 'Offset': 0, 'Value': 0}, 'Size': {'FileOffset': 396, 'Offset': 4, 'Value': 0}}, {'Structure': 'IMAGE_DIRECTORY_ENTRY_GLOBALPTR', 'VirtualAddress': {'FileOffset': 400, 'Offset': 0, 'Value': 0}, 'Size': {'FileOffset': 404, 'Offset': 4, 'Value': 0}}, {'Structure': 'IMAGE_DIRECTORY_ENTRY_TLS', 'VirtualAddress': {'FileOffset': 408, 'Offset': 0, 'Value': 0}, 'Size': {'FileOffset': 412, 'Offset': 4, 'Value': 0}}, {'Structure': 'IMAGE_DIRECTORY_ENTRY_LOAD_CONFIG', 'VirtualAddress': {'FileOffset': 416, 'Offset': 0, 'Value': 0}, 'Size': {'FileOffset': 420, 'Offset': 4, 'Value': 0}}, {'Structure': 'IMAGE_DIRECTORY_ENTRY_BOUND_IMPORT', 'VirtualAddress': {'FileOffset': 424, 'Offset': 0, 'Value': 0}, 'Size': {'FileOffset': 428, 'Offset': 4, 'Value': 0}}, {'Structure': 'IMAGE_DIRECTORY_ENTRY_IAT', 'VirtualAddress': {'FileOffset': 432, 'Offset': 0, 'Value': 0}, 'Size': {'FileOffset': 436, 'Offset': 4, 'Value': 0}}, {'Structure': 'IMAGE_DIRECTORY_ENTRY_DELAY_IMPORT', 'VirtualAddress': {'FileOffset': 440, 'Offset': 0, 'Value': 0}, 'Size': {'FileOffset': 444, 'Offset': 4, 'Value': 0}}, {'Structure': 'IMAGE_DIRECTORY_ENTRY_COM_DESCRIPTOR', 'VirtualAddress': {'FileOffset': 448, 'Offset': 0, 'Value': 0}, 'Size': {'FileOffset': 452, 'Offset': 4, 'Value': 0}}, {'Structure': 'IMAGE_DIRECTORY_ENTRY_RESERVED', 'VirtualAddress': {'FileOffset': 456, 'Offset': 0, 'Value': 0}, 'Size': {'FileOffset': 460, 'Offset': 4, 'Value': 0}}]\n",
            "[{'Structure': 'IMAGE_DIRECTORY_ENTRY_EXPORT', 'VirtualAddress': {'FileOffset': 336, 'Offset': 0, 'Value': 0}, 'Size': {'FileOffset': 340, 'Offset': 4, 'Value': 0}}, {'Structure': 'IMAGE_DIRECTORY_ENTRY_IMPORT', 'VirtualAddress': {'FileOffset': 344, 'Offset': 0, 'Value': 32768}, 'Size': {'FileOffset': 348, 'Offset': 4, 'Value': 360}}, {'Structure': 'IMAGE_DIRECTORY_ENTRY_RESOURCE', 'VirtualAddress': {'FileOffset': 352, 'Offset': 0, 'Value': 0}, 'Size': {'FileOffset': 356, 'Offset': 4, 'Value': 0}}, {'Structure': 'IMAGE_DIRECTORY_ENTRY_EXCEPTION', 'VirtualAddress': {'FileOffset': 360, 'Offset': 0, 'Value': 0}, 'Size': {'FileOffset': 364, 'Offset': 4, 'Value': 0}}, {'Structure': 'IMAGE_DIRECTORY_ENTRY_SECURITY', 'VirtualAddress': {'FileOffset': 368, 'Offset': 0, 'Value': 0}, 'Size': {'FileOffset': 372, 'Offset': 4, 'Value': 0}}, {'Structure': 'IMAGE_DIRECTORY_ENTRY_BASERELOC', 'VirtualAddress': {'FileOffset': 376, 'Offset': 0, 'Value': 0}, 'Size': {'FileOffset': 380, 'Offset': 4, 'Value': 0}}, {'Structure': 'IMAGE_DIRECTORY_ENTRY_DEBUG', 'VirtualAddress': {'FileOffset': 384, 'Offset': 0, 'Value': 0}, 'Size': {'FileOffset': 388, 'Offset': 4, 'Value': 0}}, {'Structure': 'IMAGE_DIRECTORY_ENTRY_COPYRIGHT', 'VirtualAddress': {'FileOffset': 392, 'Offset': 0, 'Value': 0}, 'Size': {'FileOffset': 396, 'Offset': 4, 'Value': 0}}, {'Structure': 'IMAGE_DIRECTORY_ENTRY_GLOBALPTR', 'VirtualAddress': {'FileOffset': 400, 'Offset': 0, 'Value': 0}, 'Size': {'FileOffset': 404, 'Offset': 4, 'Value': 0}}, {'Structure': 'IMAGE_DIRECTORY_ENTRY_TLS', 'VirtualAddress': {'FileOffset': 408, 'Offset': 0, 'Value': 0}, 'Size': {'FileOffset': 412, 'Offset': 4, 'Value': 0}}, {'Structure': 'IMAGE_DIRECTORY_ENTRY_LOAD_CONFIG', 'VirtualAddress': {'FileOffset': 416, 'Offset': 0, 'Value': 0}, 'Size': {'FileOffset': 420, 'Offset': 4, 'Value': 0}}, {'Structure': 'IMAGE_DIRECTORY_ENTRY_BOUND_IMPORT', 'VirtualAddress': {'FileOffset': 424, 'Offset': 0, 'Value': 0}, 'Size': {'FileOffset': 428, 'Offset': 4, 'Value': 0}}, {'Structure': 'IMAGE_DIRECTORY_ENTRY_IAT', 'VirtualAddress': {'FileOffset': 432, 'Offset': 0, 'Value': 0}, 'Size': {'FileOffset': 436, 'Offset': 4, 'Value': 0}}, {'Structure': 'IMAGE_DIRECTORY_ENTRY_DELAY_IMPORT', 'VirtualAddress': {'FileOffset': 440, 'Offset': 0, 'Value': 0}, 'Size': {'FileOffset': 444, 'Offset': 4, 'Value': 0}}, {'Structure': 'IMAGE_DIRECTORY_ENTRY_COM_DESCRIPTOR', 'VirtualAddress': {'FileOffset': 448, 'Offset': 0, 'Value': 0}, 'Size': {'FileOffset': 452, 'Offset': 4, 'Value': 0}}, {'Structure': 'IMAGE_DIRECTORY_ENTRY_RESERVED', 'VirtualAddress': {'FileOffset': 456, 'Offset': 0, 'Value': 0}, 'Size': {'FileOffset': 460, 'Offset': 4, 'Value': 0}}]\n",
            "[{'Structure': 'IMAGE_DIRECTORY_ENTRY_EXPORT', 'VirtualAddress': {'FileOffset': 336, 'Offset': 0, 'Value': 0}, 'Size': {'FileOffset': 340, 'Offset': 4, 'Value': 0}}, {'Structure': 'IMAGE_DIRECTORY_ENTRY_IMPORT', 'VirtualAddress': {'FileOffset': 344, 'Offset': 0, 'Value': 32768}, 'Size': {'FileOffset': 348, 'Offset': 4, 'Value': 360}}, {'Structure': 'IMAGE_DIRECTORY_ENTRY_RESOURCE', 'VirtualAddress': {'FileOffset': 352, 'Offset': 0, 'Value': 0}, 'Size': {'FileOffset': 356, 'Offset': 4, 'Value': 0}}, {'Structure': 'IMAGE_DIRECTORY_ENTRY_EXCEPTION', 'VirtualAddress': {'FileOffset': 360, 'Offset': 0, 'Value': 0}, 'Size': {'FileOffset': 364, 'Offset': 4, 'Value': 0}}, {'Structure': 'IMAGE_DIRECTORY_ENTRY_SECURITY', 'VirtualAddress': {'FileOffset': 368, 'Offset': 0, 'Value': 0}, 'Size': {'FileOffset': 372, 'Offset': 4, 'Value': 0}}, {'Structure': 'IMAGE_DIRECTORY_ENTRY_BASERELOC', 'VirtualAddress': {'FileOffset': 376, 'Offset': 0, 'Value': 0}, 'Size': {'FileOffset': 380, 'Offset': 4, 'Value': 0}}, {'Structure': 'IMAGE_DIRECTORY_ENTRY_DEBUG', 'VirtualAddress': {'FileOffset': 384, 'Offset': 0, 'Value': 0}, 'Size': {'FileOffset': 388, 'Offset': 4, 'Value': 0}}, {'Structure': 'IMAGE_DIRECTORY_ENTRY_COPYRIGHT', 'VirtualAddress': {'FileOffset': 392, 'Offset': 0, 'Value': 0}, 'Size': {'FileOffset': 396, 'Offset': 4, 'Value': 0}}, {'Structure': 'IMAGE_DIRECTORY_ENTRY_GLOBALPTR', 'VirtualAddress': {'FileOffset': 400, 'Offset': 0, 'Value': 0}, 'Size': {'FileOffset': 404, 'Offset': 4, 'Value': 0}}, {'Structure': 'IMAGE_DIRECTORY_ENTRY_TLS', 'VirtualAddress': {'FileOffset': 408, 'Offset': 0, 'Value': 0}, 'Size': {'FileOffset': 412, 'Offset': 4, 'Value': 0}}, {'Structure': 'IMAGE_DIRECTORY_ENTRY_LOAD_CONFIG', 'VirtualAddress': {'FileOffset': 416, 'Offset': 0, 'Value': 0}, 'Size': {'FileOffset': 420, 'Offset': 4, 'Value': 0}}, {'Structure': 'IMAGE_DIRECTORY_ENTRY_BOUND_IMPORT', 'VirtualAddress': {'FileOffset': 424, 'Offset': 0, 'Value': 0}, 'Size': {'FileOffset': 428, 'Offset': 4, 'Value': 0}}, {'Structure': 'IMAGE_DIRECTORY_ENTRY_IAT', 'VirtualAddress': {'FileOffset': 432, 'Offset': 0, 'Value': 0}, 'Size': {'FileOffset': 436, 'Offset': 4, 'Value': 0}}, {'Structure': 'IMAGE_DIRECTORY_ENTRY_DELAY_IMPORT', 'VirtualAddress': {'FileOffset': 440, 'Offset': 0, 'Value': 0}, 'Size': {'FileOffset': 444, 'Offset': 4, 'Value': 0}}, {'Structure': 'IMAGE_DIRECTORY_ENTRY_COM_DESCRIPTOR', 'VirtualAddress': {'FileOffset': 448, 'Offset': 0, 'Value': 0}, 'Size': {'FileOffset': 452, 'Offset': 4, 'Value': 0}}, {'Structure': 'IMAGE_DIRECTORY_ENTRY_RESERVED', 'VirtualAddress': {'FileOffset': 456, 'Offset': 0, 'Value': 0}, 'Size': {'FileOffset': 460, 'Offset': 4, 'Value': 0}}]\n"
          ],
          "name": "stdout"
        }
      ]
    },
    {
      "cell_type": "markdown",
      "metadata": {
        "id": "enb6rnGiyor0",
        "colab_type": "text"
      },
      "source": [
        "## Imported **symbols**"
      ]
    },
    {
      "cell_type": "code",
      "metadata": {
        "id": "K1QAjcCPw1KJ",
        "colab_type": "code",
        "colab": {
          "base_uri": "https://localhost:8080/",
          "height": 717
        },
        "outputId": "5970cdf8-53a1-40f9-fbab-9936573d7ab4"
      },
      "source": [
        "for key in pef_dumpdicts:\n",
        "  print(pef_dumpdicts[key]['Imported symbols'])#沒用"
      ],
      "execution_count": 58,
      "outputs": [
        {
          "output_type": "stream",
          "text": [
            "[[{'Structure': 'IMAGE_IMPORT_DESCRIPTOR', 'OriginalFirstThunk': {'FileOffset': 8704, 'Offset': 0, 'Value': 0}, 'Characteristics': {'FileOffset': 8704, 'Offset': 0, 'Value': 0}, 'TimeDateStamp': {'FileOffset': 8708, 'Offset': 4, 'Value': '0x0        [Thu Jan  1 00:00:00 1970 UTC]'}, 'ForwarderChain': {'FileOffset': 8712, 'Offset': 8, 'Value': 0}, 'Name': {'FileOffset': 8716, 'Offset': 12, 'Value': 32964}, 'FirstThunk': {'FileOffset': 8720, 'Offset': 16, 'Value': 32908}}, {'DLL': b'KERNEL32.DLL', 'Name': b'LoadLibraryA', 'Hint': 0}, {'DLL': b'KERNEL32.DLL', 'Name': b'GetProcAddress', 'Hint': 0}, {'DLL': b'KERNEL32.DLL', 'Name': b'ExitProcess', 'Hint': 0}], [{'Structure': 'IMAGE_IMPORT_DESCRIPTOR', 'OriginalFirstThunk': {'FileOffset': 8724, 'Offset': 0, 'Value': 0}, 'Characteristics': {'FileOffset': 8724, 'Offset': 0, 'Value': 0}, 'TimeDateStamp': {'FileOffset': 8728, 'Offset': 4, 'Value': '0x0        [Thu Jan  1 00:00:00 1970 UTC]'}, 'ForwarderChain': {'FileOffset': 8732, 'Offset': 8, 'Value': 0}, 'Name': {'FileOffset': 8736, 'Offset': 12, 'Value': 32977}, 'FirstThunk': {'FileOffset': 8740, 'Offset': 16, 'Value': 32924}}, {'DLL': b'ADVAPI32.dll', 'Name': b'RegCloseKey', 'Hint': 0}], [{'Structure': 'IMAGE_IMPORT_DESCRIPTOR', 'OriginalFirstThunk': {'FileOffset': 8744, 'Offset': 0, 'Value': 0}, 'Characteristics': {'FileOffset': 8744, 'Offset': 0, 'Value': 0}, 'TimeDateStamp': {'FileOffset': 8748, 'Offset': 4, 'Value': '0x0        [Thu Jan  1 00:00:00 1970 UTC]'}, 'ForwarderChain': {'FileOffset': 8752, 'Offset': 8, 'Value': 0}, 'Name': {'FileOffset': 8756, 'Offset': 12, 'Value': 32990}, 'FirstThunk': {'FileOffset': 8760, 'Offset': 16, 'Value': 32932}}, {'DLL': b'MSVCRT.dll', 'Name': b'rand', 'Hint': 0}], [{'Structure': 'IMAGE_IMPORT_DESCRIPTOR', 'OriginalFirstThunk': {'FileOffset': 8764, 'Offset': 0, 'Value': 0}, 'Characteristics': {'FileOffset': 8764, 'Offset': 0, 'Value': 0}, 'TimeDateStamp': {'FileOffset': 8768, 'Offset': 4, 'Value': '0x0        [Thu Jan  1 00:00:00 1970 UTC]'}, 'ForwarderChain': {'FileOffset': 8772, 'Offset': 8, 'Value': 0}, 'Name': {'FileOffset': 8776, 'Offset': 12, 'Value': 33001}, 'FirstThunk': {'FileOffset': 8780, 'Offset': 16, 'Value': 32940}}, {'DLL': b'USER32.dll', 'Name': b'wsprintfA', 'Hint': 0}], [{'Structure': 'IMAGE_IMPORT_DESCRIPTOR', 'OriginalFirstThunk': {'FileOffset': 8784, 'Offset': 0, 'Value': 0}, 'Characteristics': {'FileOffset': 8784, 'Offset': 0, 'Value': 0}, 'TimeDateStamp': {'FileOffset': 8788, 'Offset': 4, 'Value': '0x0        [Thu Jan  1 00:00:00 1970 UTC]'}, 'ForwarderChain': {'FileOffset': 8792, 'Offset': 8, 'Value': 0}, 'Name': {'FileOffset': 8796, 'Offset': 12, 'Value': 33012}, 'FirstThunk': {'FileOffset': 8800, 'Offset': 16, 'Value': 32948}}, {'DLL': b'WININET.dll', 'Name': b'InternetOpenA', 'Hint': 0}], [{'Structure': 'IMAGE_IMPORT_DESCRIPTOR', 'OriginalFirstThunk': {'FileOffset': 8804, 'Offset': 0, 'Value': 0}, 'Characteristics': {'FileOffset': 8804, 'Offset': 0, 'Value': 0}, 'TimeDateStamp': {'FileOffset': 8808, 'Offset': 4, 'Value': '0x0        [Thu Jan  1 00:00:00 1970 UTC]'}, 'ForwarderChain': {'FileOffset': 8812, 'Offset': 8, 'Value': 0}, 'Name': {'FileOffset': 8816, 'Offset': 12, 'Value': 33024}, 'FirstThunk': {'FileOffset': 8820, 'Offset': 16, 'Value': 32956}}, {'DLL': b'WS2_32.dll', 'Ordinal': 3}]]\n",
            "[[{'Structure': 'IMAGE_IMPORT_DESCRIPTOR', 'OriginalFirstThunk': {'FileOffset': 8704, 'Offset': 0, 'Value': 0}, 'Characteristics': {'FileOffset': 8704, 'Offset': 0, 'Value': 0}, 'TimeDateStamp': {'FileOffset': 8708, 'Offset': 4, 'Value': '0x0        [Thu Jan  1 00:00:00 1970 UTC]'}, 'ForwarderChain': {'FileOffset': 8712, 'Offset': 8, 'Value': 0}, 'Name': {'FileOffset': 8716, 'Offset': 12, 'Value': 32964}, 'FirstThunk': {'FileOffset': 8720, 'Offset': 16, 'Value': 32908}}, {'DLL': b'KERNEL32.DLL', 'Name': b'LoadLibraryA', 'Hint': 0}, {'DLL': b'KERNEL32.DLL', 'Name': b'GetProcAddress', 'Hint': 0}, {'DLL': b'KERNEL32.DLL', 'Name': b'ExitProcess', 'Hint': 0}], [{'Structure': 'IMAGE_IMPORT_DESCRIPTOR', 'OriginalFirstThunk': {'FileOffset': 8724, 'Offset': 0, 'Value': 0}, 'Characteristics': {'FileOffset': 8724, 'Offset': 0, 'Value': 0}, 'TimeDateStamp': {'FileOffset': 8728, 'Offset': 4, 'Value': '0x0        [Thu Jan  1 00:00:00 1970 UTC]'}, 'ForwarderChain': {'FileOffset': 8732, 'Offset': 8, 'Value': 0}, 'Name': {'FileOffset': 8736, 'Offset': 12, 'Value': 32977}, 'FirstThunk': {'FileOffset': 8740, 'Offset': 16, 'Value': 32924}}, {'DLL': b'ADVAPI32.dll', 'Name': b'RegCloseKey', 'Hint': 0}], [{'Structure': 'IMAGE_IMPORT_DESCRIPTOR', 'OriginalFirstThunk': {'FileOffset': 8744, 'Offset': 0, 'Value': 0}, 'Characteristics': {'FileOffset': 8744, 'Offset': 0, 'Value': 0}, 'TimeDateStamp': {'FileOffset': 8748, 'Offset': 4, 'Value': '0x0        [Thu Jan  1 00:00:00 1970 UTC]'}, 'ForwarderChain': {'FileOffset': 8752, 'Offset': 8, 'Value': 0}, 'Name': {'FileOffset': 8756, 'Offset': 12, 'Value': 32990}, 'FirstThunk': {'FileOffset': 8760, 'Offset': 16, 'Value': 32932}}, {'DLL': b'MSVCRT.dll', 'Name': b'rand', 'Hint': 0}], [{'Structure': 'IMAGE_IMPORT_DESCRIPTOR', 'OriginalFirstThunk': {'FileOffset': 8764, 'Offset': 0, 'Value': 0}, 'Characteristics': {'FileOffset': 8764, 'Offset': 0, 'Value': 0}, 'TimeDateStamp': {'FileOffset': 8768, 'Offset': 4, 'Value': '0x0        [Thu Jan  1 00:00:00 1970 UTC]'}, 'ForwarderChain': {'FileOffset': 8772, 'Offset': 8, 'Value': 0}, 'Name': {'FileOffset': 8776, 'Offset': 12, 'Value': 33001}, 'FirstThunk': {'FileOffset': 8780, 'Offset': 16, 'Value': 32940}}, {'DLL': b'USER32.dll', 'Name': b'wsprintfA', 'Hint': 0}], [{'Structure': 'IMAGE_IMPORT_DESCRIPTOR', 'OriginalFirstThunk': {'FileOffset': 8784, 'Offset': 0, 'Value': 0}, 'Characteristics': {'FileOffset': 8784, 'Offset': 0, 'Value': 0}, 'TimeDateStamp': {'FileOffset': 8788, 'Offset': 4, 'Value': '0x0        [Thu Jan  1 00:00:00 1970 UTC]'}, 'ForwarderChain': {'FileOffset': 8792, 'Offset': 8, 'Value': 0}, 'Name': {'FileOffset': 8796, 'Offset': 12, 'Value': 33012}, 'FirstThunk': {'FileOffset': 8800, 'Offset': 16, 'Value': 32948}}, {'DLL': b'WININET.dll', 'Name': b'InternetOpenA', 'Hint': 0}], [{'Structure': 'IMAGE_IMPORT_DESCRIPTOR', 'OriginalFirstThunk': {'FileOffset': 8804, 'Offset': 0, 'Value': 0}, 'Characteristics': {'FileOffset': 8804, 'Offset': 0, 'Value': 0}, 'TimeDateStamp': {'FileOffset': 8808, 'Offset': 4, 'Value': '0x0        [Thu Jan  1 00:00:00 1970 UTC]'}, 'ForwarderChain': {'FileOffset': 8812, 'Offset': 8, 'Value': 0}, 'Name': {'FileOffset': 8816, 'Offset': 12, 'Value': 33024}, 'FirstThunk': {'FileOffset': 8820, 'Offset': 16, 'Value': 32956}}, {'DLL': b'WS2_32.dll', 'Ordinal': 3}]]\n",
            "[[{'Structure': 'IMAGE_IMPORT_DESCRIPTOR', 'OriginalFirstThunk': {'FileOffset': 8704, 'Offset': 0, 'Value': 0}, 'Characteristics': {'FileOffset': 8704, 'Offset': 0, 'Value': 0}, 'TimeDateStamp': {'FileOffset': 8708, 'Offset': 4, 'Value': '0x0        [Thu Jan  1 00:00:00 1970 UTC]'}, 'ForwarderChain': {'FileOffset': 8712, 'Offset': 8, 'Value': 0}, 'Name': {'FileOffset': 8716, 'Offset': 12, 'Value': 32964}, 'FirstThunk': {'FileOffset': 8720, 'Offset': 16, 'Value': 32908}}, {'DLL': b'KERNEL32.DLL', 'Name': b'LoadLibraryA', 'Hint': 0}, {'DLL': b'KERNEL32.DLL', 'Name': b'GetProcAddress', 'Hint': 0}, {'DLL': b'KERNEL32.DLL', 'Name': b'ExitProcess', 'Hint': 0}], [{'Structure': 'IMAGE_IMPORT_DESCRIPTOR', 'OriginalFirstThunk': {'FileOffset': 8724, 'Offset': 0, 'Value': 0}, 'Characteristics': {'FileOffset': 8724, 'Offset': 0, 'Value': 0}, 'TimeDateStamp': {'FileOffset': 8728, 'Offset': 4, 'Value': '0x0        [Thu Jan  1 00:00:00 1970 UTC]'}, 'ForwarderChain': {'FileOffset': 8732, 'Offset': 8, 'Value': 0}, 'Name': {'FileOffset': 8736, 'Offset': 12, 'Value': 32977}, 'FirstThunk': {'FileOffset': 8740, 'Offset': 16, 'Value': 32924}}, {'DLL': b'ADVAPI32.dll', 'Name': b'RegCloseKey', 'Hint': 0}], [{'Structure': 'IMAGE_IMPORT_DESCRIPTOR', 'OriginalFirstThunk': {'FileOffset': 8744, 'Offset': 0, 'Value': 0}, 'Characteristics': {'FileOffset': 8744, 'Offset': 0, 'Value': 0}, 'TimeDateStamp': {'FileOffset': 8748, 'Offset': 4, 'Value': '0x0        [Thu Jan  1 00:00:00 1970 UTC]'}, 'ForwarderChain': {'FileOffset': 8752, 'Offset': 8, 'Value': 0}, 'Name': {'FileOffset': 8756, 'Offset': 12, 'Value': 32990}, 'FirstThunk': {'FileOffset': 8760, 'Offset': 16, 'Value': 32932}}, {'DLL': b'MSVCRT.dll', 'Name': b'rand', 'Hint': 0}], [{'Structure': 'IMAGE_IMPORT_DESCRIPTOR', 'OriginalFirstThunk': {'FileOffset': 8764, 'Offset': 0, 'Value': 0}, 'Characteristics': {'FileOffset': 8764, 'Offset': 0, 'Value': 0}, 'TimeDateStamp': {'FileOffset': 8768, 'Offset': 4, 'Value': '0x0        [Thu Jan  1 00:00:00 1970 UTC]'}, 'ForwarderChain': {'FileOffset': 8772, 'Offset': 8, 'Value': 0}, 'Name': {'FileOffset': 8776, 'Offset': 12, 'Value': 33001}, 'FirstThunk': {'FileOffset': 8780, 'Offset': 16, 'Value': 32940}}, {'DLL': b'USER32.dll', 'Name': b'wsprintfA', 'Hint': 0}], [{'Structure': 'IMAGE_IMPORT_DESCRIPTOR', 'OriginalFirstThunk': {'FileOffset': 8784, 'Offset': 0, 'Value': 0}, 'Characteristics': {'FileOffset': 8784, 'Offset': 0, 'Value': 0}, 'TimeDateStamp': {'FileOffset': 8788, 'Offset': 4, 'Value': '0x0        [Thu Jan  1 00:00:00 1970 UTC]'}, 'ForwarderChain': {'FileOffset': 8792, 'Offset': 8, 'Value': 0}, 'Name': {'FileOffset': 8796, 'Offset': 12, 'Value': 33012}, 'FirstThunk': {'FileOffset': 8800, 'Offset': 16, 'Value': 32948}}, {'DLL': b'WININET.dll', 'Name': b'InternetOpenA', 'Hint': 0}], [{'Structure': 'IMAGE_IMPORT_DESCRIPTOR', 'OriginalFirstThunk': {'FileOffset': 8804, 'Offset': 0, 'Value': 0}, 'Characteristics': {'FileOffset': 8804, 'Offset': 0, 'Value': 0}, 'TimeDateStamp': {'FileOffset': 8808, 'Offset': 4, 'Value': '0x0        [Thu Jan  1 00:00:00 1970 UTC]'}, 'ForwarderChain': {'FileOffset': 8812, 'Offset': 8, 'Value': 0}, 'Name': {'FileOffset': 8816, 'Offset': 12, 'Value': 33024}, 'FirstThunk': {'FileOffset': 8820, 'Offset': 16, 'Value': 32956}}, {'DLL': b'WS2_32.dll', 'Ordinal': 3}]]\n",
            "[[{'Structure': 'IMAGE_IMPORT_DESCRIPTOR', 'OriginalFirstThunk': {'FileOffset': 8704, 'Offset': 0, 'Value': 0}, 'Characteristics': {'FileOffset': 8704, 'Offset': 0, 'Value': 0}, 'TimeDateStamp': {'FileOffset': 8708, 'Offset': 4, 'Value': '0x0        [Thu Jan  1 00:00:00 1970 UTC]'}, 'ForwarderChain': {'FileOffset': 8712, 'Offset': 8, 'Value': 0}, 'Name': {'FileOffset': 8716, 'Offset': 12, 'Value': 32964}, 'FirstThunk': {'FileOffset': 8720, 'Offset': 16, 'Value': 32908}}, {'DLL': b'KERNEL32.DLL', 'Name': b'LoadLibraryA', 'Hint': 0}, {'DLL': b'KERNEL32.DLL', 'Name': b'GetProcAddress', 'Hint': 0}, {'DLL': b'KERNEL32.DLL', 'Name': b'ExitProcess', 'Hint': 0}], [{'Structure': 'IMAGE_IMPORT_DESCRIPTOR', 'OriginalFirstThunk': {'FileOffset': 8724, 'Offset': 0, 'Value': 0}, 'Characteristics': {'FileOffset': 8724, 'Offset': 0, 'Value': 0}, 'TimeDateStamp': {'FileOffset': 8728, 'Offset': 4, 'Value': '0x0        [Thu Jan  1 00:00:00 1970 UTC]'}, 'ForwarderChain': {'FileOffset': 8732, 'Offset': 8, 'Value': 0}, 'Name': {'FileOffset': 8736, 'Offset': 12, 'Value': 32977}, 'FirstThunk': {'FileOffset': 8740, 'Offset': 16, 'Value': 32924}}, {'DLL': b'ADVAPI32.dll', 'Name': b'RegCloseKey', 'Hint': 0}], [{'Structure': 'IMAGE_IMPORT_DESCRIPTOR', 'OriginalFirstThunk': {'FileOffset': 8744, 'Offset': 0, 'Value': 0}, 'Characteristics': {'FileOffset': 8744, 'Offset': 0, 'Value': 0}, 'TimeDateStamp': {'FileOffset': 8748, 'Offset': 4, 'Value': '0x0        [Thu Jan  1 00:00:00 1970 UTC]'}, 'ForwarderChain': {'FileOffset': 8752, 'Offset': 8, 'Value': 0}, 'Name': {'FileOffset': 8756, 'Offset': 12, 'Value': 32990}, 'FirstThunk': {'FileOffset': 8760, 'Offset': 16, 'Value': 32932}}, {'DLL': b'MSVCRT.dll', 'Name': b'rand', 'Hint': 0}], [{'Structure': 'IMAGE_IMPORT_DESCRIPTOR', 'OriginalFirstThunk': {'FileOffset': 8764, 'Offset': 0, 'Value': 0}, 'Characteristics': {'FileOffset': 8764, 'Offset': 0, 'Value': 0}, 'TimeDateStamp': {'FileOffset': 8768, 'Offset': 4, 'Value': '0x0        [Thu Jan  1 00:00:00 1970 UTC]'}, 'ForwarderChain': {'FileOffset': 8772, 'Offset': 8, 'Value': 0}, 'Name': {'FileOffset': 8776, 'Offset': 12, 'Value': 33001}, 'FirstThunk': {'FileOffset': 8780, 'Offset': 16, 'Value': 32940}}, {'DLL': b'USER32.dll', 'Name': b'wsprintfA', 'Hint': 0}], [{'Structure': 'IMAGE_IMPORT_DESCRIPTOR', 'OriginalFirstThunk': {'FileOffset': 8784, 'Offset': 0, 'Value': 0}, 'Characteristics': {'FileOffset': 8784, 'Offset': 0, 'Value': 0}, 'TimeDateStamp': {'FileOffset': 8788, 'Offset': 4, 'Value': '0x0        [Thu Jan  1 00:00:00 1970 UTC]'}, 'ForwarderChain': {'FileOffset': 8792, 'Offset': 8, 'Value': 0}, 'Name': {'FileOffset': 8796, 'Offset': 12, 'Value': 33012}, 'FirstThunk': {'FileOffset': 8800, 'Offset': 16, 'Value': 32948}}, {'DLL': b'WININET.dll', 'Name': b'InternetOpenA', 'Hint': 0}], [{'Structure': 'IMAGE_IMPORT_DESCRIPTOR', 'OriginalFirstThunk': {'FileOffset': 8804, 'Offset': 0, 'Value': 0}, 'Characteristics': {'FileOffset': 8804, 'Offset': 0, 'Value': 0}, 'TimeDateStamp': {'FileOffset': 8808, 'Offset': 4, 'Value': '0x0        [Thu Jan  1 00:00:00 1970 UTC]'}, 'ForwarderChain': {'FileOffset': 8812, 'Offset': 8, 'Value': 0}, 'Name': {'FileOffset': 8816, 'Offset': 12, 'Value': 33024}, 'FirstThunk': {'FileOffset': 8820, 'Offset': 16, 'Value': 32956}}, {'DLL': b'WS2_32.dll', 'Ordinal': 3}]]\n",
            "[[{'Structure': 'IMAGE_IMPORT_DESCRIPTOR', 'OriginalFirstThunk': {'FileOffset': 8704, 'Offset': 0, 'Value': 0}, 'Characteristics': {'FileOffset': 8704, 'Offset': 0, 'Value': 0}, 'TimeDateStamp': {'FileOffset': 8708, 'Offset': 4, 'Value': '0x0        [Thu Jan  1 00:00:00 1970 UTC]'}, 'ForwarderChain': {'FileOffset': 8712, 'Offset': 8, 'Value': 0}, 'Name': {'FileOffset': 8716, 'Offset': 12, 'Value': 32964}, 'FirstThunk': {'FileOffset': 8720, 'Offset': 16, 'Value': 32908}}, {'DLL': b'KERNEL32.DLL', 'Name': b'LoadLibraryA', 'Hint': 0}, {'DLL': b'KERNEL32.DLL', 'Name': b'GetProcAddress', 'Hint': 0}, {'DLL': b'KERNEL32.DLL', 'Name': b'ExitProcess', 'Hint': 0}], [{'Structure': 'IMAGE_IMPORT_DESCRIPTOR', 'OriginalFirstThunk': {'FileOffset': 8724, 'Offset': 0, 'Value': 0}, 'Characteristics': {'FileOffset': 8724, 'Offset': 0, 'Value': 0}, 'TimeDateStamp': {'FileOffset': 8728, 'Offset': 4, 'Value': '0x0        [Thu Jan  1 00:00:00 1970 UTC]'}, 'ForwarderChain': {'FileOffset': 8732, 'Offset': 8, 'Value': 0}, 'Name': {'FileOffset': 8736, 'Offset': 12, 'Value': 32977}, 'FirstThunk': {'FileOffset': 8740, 'Offset': 16, 'Value': 32924}}, {'DLL': b'ADVAPI32.dll', 'Name': b'RegCloseKey', 'Hint': 0}], [{'Structure': 'IMAGE_IMPORT_DESCRIPTOR', 'OriginalFirstThunk': {'FileOffset': 8744, 'Offset': 0, 'Value': 0}, 'Characteristics': {'FileOffset': 8744, 'Offset': 0, 'Value': 0}, 'TimeDateStamp': {'FileOffset': 8748, 'Offset': 4, 'Value': '0x0        [Thu Jan  1 00:00:00 1970 UTC]'}, 'ForwarderChain': {'FileOffset': 8752, 'Offset': 8, 'Value': 0}, 'Name': {'FileOffset': 8756, 'Offset': 12, 'Value': 32990}, 'FirstThunk': {'FileOffset': 8760, 'Offset': 16, 'Value': 32932}}, {'DLL': b'MSVCRT.dll', 'Name': b'rand', 'Hint': 0}], [{'Structure': 'IMAGE_IMPORT_DESCRIPTOR', 'OriginalFirstThunk': {'FileOffset': 8764, 'Offset': 0, 'Value': 0}, 'Characteristics': {'FileOffset': 8764, 'Offset': 0, 'Value': 0}, 'TimeDateStamp': {'FileOffset': 8768, 'Offset': 4, 'Value': '0x0        [Thu Jan  1 00:00:00 1970 UTC]'}, 'ForwarderChain': {'FileOffset': 8772, 'Offset': 8, 'Value': 0}, 'Name': {'FileOffset': 8776, 'Offset': 12, 'Value': 33001}, 'FirstThunk': {'FileOffset': 8780, 'Offset': 16, 'Value': 32940}}, {'DLL': b'USER32.dll', 'Name': b'wsprintfA', 'Hint': 0}], [{'Structure': 'IMAGE_IMPORT_DESCRIPTOR', 'OriginalFirstThunk': {'FileOffset': 8784, 'Offset': 0, 'Value': 0}, 'Characteristics': {'FileOffset': 8784, 'Offset': 0, 'Value': 0}, 'TimeDateStamp': {'FileOffset': 8788, 'Offset': 4, 'Value': '0x0        [Thu Jan  1 00:00:00 1970 UTC]'}, 'ForwarderChain': {'FileOffset': 8792, 'Offset': 8, 'Value': 0}, 'Name': {'FileOffset': 8796, 'Offset': 12, 'Value': 33012}, 'FirstThunk': {'FileOffset': 8800, 'Offset': 16, 'Value': 32948}}, {'DLL': b'WININET.dll', 'Name': b'InternetOpenA', 'Hint': 0}], [{'Structure': 'IMAGE_IMPORT_DESCRIPTOR', 'OriginalFirstThunk': {'FileOffset': 8804, 'Offset': 0, 'Value': 0}, 'Characteristics': {'FileOffset': 8804, 'Offset': 0, 'Value': 0}, 'TimeDateStamp': {'FileOffset': 8808, 'Offset': 4, 'Value': '0x0        [Thu Jan  1 00:00:00 1970 UTC]'}, 'ForwarderChain': {'FileOffset': 8812, 'Offset': 8, 'Value': 0}, 'Name': {'FileOffset': 8816, 'Offset': 12, 'Value': 33024}, 'FirstThunk': {'FileOffset': 8820, 'Offset': 16, 'Value': 32956}}, {'DLL': b'WS2_32.dll', 'Ordinal': 3}]]\n",
            "[[{'Structure': 'IMAGE_IMPORT_DESCRIPTOR', 'OriginalFirstThunk': {'FileOffset': 8704, 'Offset': 0, 'Value': 0}, 'Characteristics': {'FileOffset': 8704, 'Offset': 0, 'Value': 0}, 'TimeDateStamp': {'FileOffset': 8708, 'Offset': 4, 'Value': '0x0        [Thu Jan  1 00:00:00 1970 UTC]'}, 'ForwarderChain': {'FileOffset': 8712, 'Offset': 8, 'Value': 0}, 'Name': {'FileOffset': 8716, 'Offset': 12, 'Value': 32964}, 'FirstThunk': {'FileOffset': 8720, 'Offset': 16, 'Value': 32908}}, {'DLL': b'KERNEL32.DLL', 'Name': b'LoadLibraryA', 'Hint': 0}, {'DLL': b'KERNEL32.DLL', 'Name': b'GetProcAddress', 'Hint': 0}, {'DLL': b'KERNEL32.DLL', 'Name': b'ExitProcess', 'Hint': 0}], [{'Structure': 'IMAGE_IMPORT_DESCRIPTOR', 'OriginalFirstThunk': {'FileOffset': 8724, 'Offset': 0, 'Value': 0}, 'Characteristics': {'FileOffset': 8724, 'Offset': 0, 'Value': 0}, 'TimeDateStamp': {'FileOffset': 8728, 'Offset': 4, 'Value': '0x0        [Thu Jan  1 00:00:00 1970 UTC]'}, 'ForwarderChain': {'FileOffset': 8732, 'Offset': 8, 'Value': 0}, 'Name': {'FileOffset': 8736, 'Offset': 12, 'Value': 32977}, 'FirstThunk': {'FileOffset': 8740, 'Offset': 16, 'Value': 32924}}, {'DLL': b'ADVAPI32.dll', 'Name': b'RegCloseKey', 'Hint': 0}], [{'Structure': 'IMAGE_IMPORT_DESCRIPTOR', 'OriginalFirstThunk': {'FileOffset': 8744, 'Offset': 0, 'Value': 0}, 'Characteristics': {'FileOffset': 8744, 'Offset': 0, 'Value': 0}, 'TimeDateStamp': {'FileOffset': 8748, 'Offset': 4, 'Value': '0x0        [Thu Jan  1 00:00:00 1970 UTC]'}, 'ForwarderChain': {'FileOffset': 8752, 'Offset': 8, 'Value': 0}, 'Name': {'FileOffset': 8756, 'Offset': 12, 'Value': 32990}, 'FirstThunk': {'FileOffset': 8760, 'Offset': 16, 'Value': 32932}}, {'DLL': b'MSVCRT.dll', 'Name': b'rand', 'Hint': 0}], [{'Structure': 'IMAGE_IMPORT_DESCRIPTOR', 'OriginalFirstThunk': {'FileOffset': 8764, 'Offset': 0, 'Value': 0}, 'Characteristics': {'FileOffset': 8764, 'Offset': 0, 'Value': 0}, 'TimeDateStamp': {'FileOffset': 8768, 'Offset': 4, 'Value': '0x0        [Thu Jan  1 00:00:00 1970 UTC]'}, 'ForwarderChain': {'FileOffset': 8772, 'Offset': 8, 'Value': 0}, 'Name': {'FileOffset': 8776, 'Offset': 12, 'Value': 33001}, 'FirstThunk': {'FileOffset': 8780, 'Offset': 16, 'Value': 32940}}, {'DLL': b'USER32.dll', 'Name': b'wsprintfA', 'Hint': 0}], [{'Structure': 'IMAGE_IMPORT_DESCRIPTOR', 'OriginalFirstThunk': {'FileOffset': 8784, 'Offset': 0, 'Value': 0}, 'Characteristics': {'FileOffset': 8784, 'Offset': 0, 'Value': 0}, 'TimeDateStamp': {'FileOffset': 8788, 'Offset': 4, 'Value': '0x0        [Thu Jan  1 00:00:00 1970 UTC]'}, 'ForwarderChain': {'FileOffset': 8792, 'Offset': 8, 'Value': 0}, 'Name': {'FileOffset': 8796, 'Offset': 12, 'Value': 33012}, 'FirstThunk': {'FileOffset': 8800, 'Offset': 16, 'Value': 32948}}, {'DLL': b'WININET.dll', 'Name': b'InternetOpenA', 'Hint': 0}], [{'Structure': 'IMAGE_IMPORT_DESCRIPTOR', 'OriginalFirstThunk': {'FileOffset': 8804, 'Offset': 0, 'Value': 0}, 'Characteristics': {'FileOffset': 8804, 'Offset': 0, 'Value': 0}, 'TimeDateStamp': {'FileOffset': 8808, 'Offset': 4, 'Value': '0x0        [Thu Jan  1 00:00:00 1970 UTC]'}, 'ForwarderChain': {'FileOffset': 8812, 'Offset': 8, 'Value': 0}, 'Name': {'FileOffset': 8816, 'Offset': 12, 'Value': 33024}, 'FirstThunk': {'FileOffset': 8820, 'Offset': 16, 'Value': 32956}}, {'DLL': b'WS2_32.dll', 'Ordinal': 3}]]\n",
            "[[{'Structure': 'IMAGE_IMPORT_DESCRIPTOR', 'OriginalFirstThunk': {'FileOffset': 8704, 'Offset': 0, 'Value': 0}, 'Characteristics': {'FileOffset': 8704, 'Offset': 0, 'Value': 0}, 'TimeDateStamp': {'FileOffset': 8708, 'Offset': 4, 'Value': '0x0        [Thu Jan  1 00:00:00 1970 UTC]'}, 'ForwarderChain': {'FileOffset': 8712, 'Offset': 8, 'Value': 0}, 'Name': {'FileOffset': 8716, 'Offset': 12, 'Value': 32964}, 'FirstThunk': {'FileOffset': 8720, 'Offset': 16, 'Value': 32908}}, {'DLL': b'KERNEL32.DLL', 'Name': b'LoadLibraryA', 'Hint': 0}, {'DLL': b'KERNEL32.DLL', 'Name': b'GetProcAddress', 'Hint': 0}, {'DLL': b'KERNEL32.DLL', 'Name': b'ExitProcess', 'Hint': 0}], [{'Structure': 'IMAGE_IMPORT_DESCRIPTOR', 'OriginalFirstThunk': {'FileOffset': 8724, 'Offset': 0, 'Value': 0}, 'Characteristics': {'FileOffset': 8724, 'Offset': 0, 'Value': 0}, 'TimeDateStamp': {'FileOffset': 8728, 'Offset': 4, 'Value': '0x0        [Thu Jan  1 00:00:00 1970 UTC]'}, 'ForwarderChain': {'FileOffset': 8732, 'Offset': 8, 'Value': 0}, 'Name': {'FileOffset': 8736, 'Offset': 12, 'Value': 32977}, 'FirstThunk': {'FileOffset': 8740, 'Offset': 16, 'Value': 32924}}, {'DLL': b'ADVAPI32.dll', 'Name': b'RegCloseKey', 'Hint': 0}], [{'Structure': 'IMAGE_IMPORT_DESCRIPTOR', 'OriginalFirstThunk': {'FileOffset': 8744, 'Offset': 0, 'Value': 0}, 'Characteristics': {'FileOffset': 8744, 'Offset': 0, 'Value': 0}, 'TimeDateStamp': {'FileOffset': 8748, 'Offset': 4, 'Value': '0x0        [Thu Jan  1 00:00:00 1970 UTC]'}, 'ForwarderChain': {'FileOffset': 8752, 'Offset': 8, 'Value': 0}, 'Name': {'FileOffset': 8756, 'Offset': 12, 'Value': 32990}, 'FirstThunk': {'FileOffset': 8760, 'Offset': 16, 'Value': 32932}}, {'DLL': b'MSVCRT.dll', 'Name': b'rand', 'Hint': 0}], [{'Structure': 'IMAGE_IMPORT_DESCRIPTOR', 'OriginalFirstThunk': {'FileOffset': 8764, 'Offset': 0, 'Value': 0}, 'Characteristics': {'FileOffset': 8764, 'Offset': 0, 'Value': 0}, 'TimeDateStamp': {'FileOffset': 8768, 'Offset': 4, 'Value': '0x0        [Thu Jan  1 00:00:00 1970 UTC]'}, 'ForwarderChain': {'FileOffset': 8772, 'Offset': 8, 'Value': 0}, 'Name': {'FileOffset': 8776, 'Offset': 12, 'Value': 33001}, 'FirstThunk': {'FileOffset': 8780, 'Offset': 16, 'Value': 32940}}, {'DLL': b'USER32.dll', 'Name': b'wsprintfA', 'Hint': 0}], [{'Structure': 'IMAGE_IMPORT_DESCRIPTOR', 'OriginalFirstThunk': {'FileOffset': 8784, 'Offset': 0, 'Value': 0}, 'Characteristics': {'FileOffset': 8784, 'Offset': 0, 'Value': 0}, 'TimeDateStamp': {'FileOffset': 8788, 'Offset': 4, 'Value': '0x0        [Thu Jan  1 00:00:00 1970 UTC]'}, 'ForwarderChain': {'FileOffset': 8792, 'Offset': 8, 'Value': 0}, 'Name': {'FileOffset': 8796, 'Offset': 12, 'Value': 33012}, 'FirstThunk': {'FileOffset': 8800, 'Offset': 16, 'Value': 32948}}, {'DLL': b'WININET.dll', 'Name': b'InternetOpenA', 'Hint': 0}], [{'Structure': 'IMAGE_IMPORT_DESCRIPTOR', 'OriginalFirstThunk': {'FileOffset': 8804, 'Offset': 0, 'Value': 0}, 'Characteristics': {'FileOffset': 8804, 'Offset': 0, 'Value': 0}, 'TimeDateStamp': {'FileOffset': 8808, 'Offset': 4, 'Value': '0x0        [Thu Jan  1 00:00:00 1970 UTC]'}, 'ForwarderChain': {'FileOffset': 8812, 'Offset': 8, 'Value': 0}, 'Name': {'FileOffset': 8816, 'Offset': 12, 'Value': 33024}, 'FirstThunk': {'FileOffset': 8820, 'Offset': 16, 'Value': 32956}}, {'DLL': b'WS2_32.dll', 'Ordinal': 3}]]\n",
            "[[{'Structure': 'IMAGE_IMPORT_DESCRIPTOR', 'OriginalFirstThunk': {'FileOffset': 8704, 'Offset': 0, 'Value': 0}, 'Characteristics': {'FileOffset': 8704, 'Offset': 0, 'Value': 0}, 'TimeDateStamp': {'FileOffset': 8708, 'Offset': 4, 'Value': '0x0        [Thu Jan  1 00:00:00 1970 UTC]'}, 'ForwarderChain': {'FileOffset': 8712, 'Offset': 8, 'Value': 0}, 'Name': {'FileOffset': 8716, 'Offset': 12, 'Value': 32964}, 'FirstThunk': {'FileOffset': 8720, 'Offset': 16, 'Value': 32908}}, {'DLL': b'KERNEL32.DLL', 'Name': b'LoadLibraryA', 'Hint': 0}, {'DLL': b'KERNEL32.DLL', 'Name': b'GetProcAddress', 'Hint': 0}, {'DLL': b'KERNEL32.DLL', 'Name': b'ExitProcess', 'Hint': 0}], [{'Structure': 'IMAGE_IMPORT_DESCRIPTOR', 'OriginalFirstThunk': {'FileOffset': 8724, 'Offset': 0, 'Value': 0}, 'Characteristics': {'FileOffset': 8724, 'Offset': 0, 'Value': 0}, 'TimeDateStamp': {'FileOffset': 8728, 'Offset': 4, 'Value': '0x0        [Thu Jan  1 00:00:00 1970 UTC]'}, 'ForwarderChain': {'FileOffset': 8732, 'Offset': 8, 'Value': 0}, 'Name': {'FileOffset': 8736, 'Offset': 12, 'Value': 32977}, 'FirstThunk': {'FileOffset': 8740, 'Offset': 16, 'Value': 32924}}, {'DLL': b'ADVAPI32.dll', 'Name': b'RegCloseKey', 'Hint': 0}], [{'Structure': 'IMAGE_IMPORT_DESCRIPTOR', 'OriginalFirstThunk': {'FileOffset': 8744, 'Offset': 0, 'Value': 0}, 'Characteristics': {'FileOffset': 8744, 'Offset': 0, 'Value': 0}, 'TimeDateStamp': {'FileOffset': 8748, 'Offset': 4, 'Value': '0x0        [Thu Jan  1 00:00:00 1970 UTC]'}, 'ForwarderChain': {'FileOffset': 8752, 'Offset': 8, 'Value': 0}, 'Name': {'FileOffset': 8756, 'Offset': 12, 'Value': 32990}, 'FirstThunk': {'FileOffset': 8760, 'Offset': 16, 'Value': 32932}}, {'DLL': b'MSVCRT.dll', 'Name': b'rand', 'Hint': 0}], [{'Structure': 'IMAGE_IMPORT_DESCRIPTOR', 'OriginalFirstThunk': {'FileOffset': 8764, 'Offset': 0, 'Value': 0}, 'Characteristics': {'FileOffset': 8764, 'Offset': 0, 'Value': 0}, 'TimeDateStamp': {'FileOffset': 8768, 'Offset': 4, 'Value': '0x0        [Thu Jan  1 00:00:00 1970 UTC]'}, 'ForwarderChain': {'FileOffset': 8772, 'Offset': 8, 'Value': 0}, 'Name': {'FileOffset': 8776, 'Offset': 12, 'Value': 33001}, 'FirstThunk': {'FileOffset': 8780, 'Offset': 16, 'Value': 32940}}, {'DLL': b'USER32.dll', 'Name': b'wsprintfA', 'Hint': 0}], [{'Structure': 'IMAGE_IMPORT_DESCRIPTOR', 'OriginalFirstThunk': {'FileOffset': 8784, 'Offset': 0, 'Value': 0}, 'Characteristics': {'FileOffset': 8784, 'Offset': 0, 'Value': 0}, 'TimeDateStamp': {'FileOffset': 8788, 'Offset': 4, 'Value': '0x0        [Thu Jan  1 00:00:00 1970 UTC]'}, 'ForwarderChain': {'FileOffset': 8792, 'Offset': 8, 'Value': 0}, 'Name': {'FileOffset': 8796, 'Offset': 12, 'Value': 33012}, 'FirstThunk': {'FileOffset': 8800, 'Offset': 16, 'Value': 32948}}, {'DLL': b'WININET.dll', 'Name': b'InternetOpenA', 'Hint': 0}], [{'Structure': 'IMAGE_IMPORT_DESCRIPTOR', 'OriginalFirstThunk': {'FileOffset': 8804, 'Offset': 0, 'Value': 0}, 'Characteristics': {'FileOffset': 8804, 'Offset': 0, 'Value': 0}, 'TimeDateStamp': {'FileOffset': 8808, 'Offset': 4, 'Value': '0x0        [Thu Jan  1 00:00:00 1970 UTC]'}, 'ForwarderChain': {'FileOffset': 8812, 'Offset': 8, 'Value': 0}, 'Name': {'FileOffset': 8816, 'Offset': 12, 'Value': 33024}, 'FirstThunk': {'FileOffset': 8820, 'Offset': 16, 'Value': 32956}}, {'DLL': b'WS2_32.dll', 'Ordinal': 3}]]\n",
            "[[{'Structure': 'IMAGE_IMPORT_DESCRIPTOR', 'OriginalFirstThunk': {'FileOffset': 8704, 'Offset': 0, 'Value': 0}, 'Characteristics': {'FileOffset': 8704, 'Offset': 0, 'Value': 0}, 'TimeDateStamp': {'FileOffset': 8708, 'Offset': 4, 'Value': '0x0        [Thu Jan  1 00:00:00 1970 UTC]'}, 'ForwarderChain': {'FileOffset': 8712, 'Offset': 8, 'Value': 0}, 'Name': {'FileOffset': 8716, 'Offset': 12, 'Value': 32964}, 'FirstThunk': {'FileOffset': 8720, 'Offset': 16, 'Value': 32908}}, {'DLL': b'KERNEL32.DLL', 'Name': b'LoadLibraryA', 'Hint': 0}, {'DLL': b'KERNEL32.DLL', 'Name': b'GetProcAddress', 'Hint': 0}, {'DLL': b'KERNEL32.DLL', 'Name': b'ExitProcess', 'Hint': 0}], [{'Structure': 'IMAGE_IMPORT_DESCRIPTOR', 'OriginalFirstThunk': {'FileOffset': 8724, 'Offset': 0, 'Value': 0}, 'Characteristics': {'FileOffset': 8724, 'Offset': 0, 'Value': 0}, 'TimeDateStamp': {'FileOffset': 8728, 'Offset': 4, 'Value': '0x0        [Thu Jan  1 00:00:00 1970 UTC]'}, 'ForwarderChain': {'FileOffset': 8732, 'Offset': 8, 'Value': 0}, 'Name': {'FileOffset': 8736, 'Offset': 12, 'Value': 32977}, 'FirstThunk': {'FileOffset': 8740, 'Offset': 16, 'Value': 32924}}, {'DLL': b'ADVAPI32.dll', 'Name': b'RegCloseKey', 'Hint': 0}], [{'Structure': 'IMAGE_IMPORT_DESCRIPTOR', 'OriginalFirstThunk': {'FileOffset': 8744, 'Offset': 0, 'Value': 0}, 'Characteristics': {'FileOffset': 8744, 'Offset': 0, 'Value': 0}, 'TimeDateStamp': {'FileOffset': 8748, 'Offset': 4, 'Value': '0x0        [Thu Jan  1 00:00:00 1970 UTC]'}, 'ForwarderChain': {'FileOffset': 8752, 'Offset': 8, 'Value': 0}, 'Name': {'FileOffset': 8756, 'Offset': 12, 'Value': 32990}, 'FirstThunk': {'FileOffset': 8760, 'Offset': 16, 'Value': 32932}}, {'DLL': b'MSVCRT.dll', 'Name': b'rand', 'Hint': 0}], [{'Structure': 'IMAGE_IMPORT_DESCRIPTOR', 'OriginalFirstThunk': {'FileOffset': 8764, 'Offset': 0, 'Value': 0}, 'Characteristics': {'FileOffset': 8764, 'Offset': 0, 'Value': 0}, 'TimeDateStamp': {'FileOffset': 8768, 'Offset': 4, 'Value': '0x0        [Thu Jan  1 00:00:00 1970 UTC]'}, 'ForwarderChain': {'FileOffset': 8772, 'Offset': 8, 'Value': 0}, 'Name': {'FileOffset': 8776, 'Offset': 12, 'Value': 33001}, 'FirstThunk': {'FileOffset': 8780, 'Offset': 16, 'Value': 32940}}, {'DLL': b'USER32.dll', 'Name': b'wsprintfA', 'Hint': 0}], [{'Structure': 'IMAGE_IMPORT_DESCRIPTOR', 'OriginalFirstThunk': {'FileOffset': 8784, 'Offset': 0, 'Value': 0}, 'Characteristics': {'FileOffset': 8784, 'Offset': 0, 'Value': 0}, 'TimeDateStamp': {'FileOffset': 8788, 'Offset': 4, 'Value': '0x0        [Thu Jan  1 00:00:00 1970 UTC]'}, 'ForwarderChain': {'FileOffset': 8792, 'Offset': 8, 'Value': 0}, 'Name': {'FileOffset': 8796, 'Offset': 12, 'Value': 33012}, 'FirstThunk': {'FileOffset': 8800, 'Offset': 16, 'Value': 32948}}, {'DLL': b'WININET.dll', 'Name': b'InternetOpenA', 'Hint': 0}], [{'Structure': 'IMAGE_IMPORT_DESCRIPTOR', 'OriginalFirstThunk': {'FileOffset': 8804, 'Offset': 0, 'Value': 0}, 'Characteristics': {'FileOffset': 8804, 'Offset': 0, 'Value': 0}, 'TimeDateStamp': {'FileOffset': 8808, 'Offset': 4, 'Value': '0x0        [Thu Jan  1 00:00:00 1970 UTC]'}, 'ForwarderChain': {'FileOffset': 8812, 'Offset': 8, 'Value': 0}, 'Name': {'FileOffset': 8816, 'Offset': 12, 'Value': 33024}, 'FirstThunk': {'FileOffset': 8820, 'Offset': 16, 'Value': 32956}}, {'DLL': b'WS2_32.dll', 'Ordinal': 3}]]\n",
            "[[{'Structure': 'IMAGE_IMPORT_DESCRIPTOR', 'OriginalFirstThunk': {'FileOffset': 8704, 'Offset': 0, 'Value': 0}, 'Characteristics': {'FileOffset': 8704, 'Offset': 0, 'Value': 0}, 'TimeDateStamp': {'FileOffset': 8708, 'Offset': 4, 'Value': '0x0        [Thu Jan  1 00:00:00 1970 UTC]'}, 'ForwarderChain': {'FileOffset': 8712, 'Offset': 8, 'Value': 0}, 'Name': {'FileOffset': 8716, 'Offset': 12, 'Value': 32964}, 'FirstThunk': {'FileOffset': 8720, 'Offset': 16, 'Value': 32908}}, {'DLL': b'KERNEL32.DLL', 'Name': b'LoadLibraryA', 'Hint': 0}, {'DLL': b'KERNEL32.DLL', 'Name': b'GetProcAddress', 'Hint': 0}, {'DLL': b'KERNEL32.DLL', 'Name': b'ExitProcess', 'Hint': 0}], [{'Structure': 'IMAGE_IMPORT_DESCRIPTOR', 'OriginalFirstThunk': {'FileOffset': 8724, 'Offset': 0, 'Value': 0}, 'Characteristics': {'FileOffset': 8724, 'Offset': 0, 'Value': 0}, 'TimeDateStamp': {'FileOffset': 8728, 'Offset': 4, 'Value': '0x0        [Thu Jan  1 00:00:00 1970 UTC]'}, 'ForwarderChain': {'FileOffset': 8732, 'Offset': 8, 'Value': 0}, 'Name': {'FileOffset': 8736, 'Offset': 12, 'Value': 32977}, 'FirstThunk': {'FileOffset': 8740, 'Offset': 16, 'Value': 32924}}, {'DLL': b'ADVAPI32.dll', 'Name': b'RegCloseKey', 'Hint': 0}], [{'Structure': 'IMAGE_IMPORT_DESCRIPTOR', 'OriginalFirstThunk': {'FileOffset': 8744, 'Offset': 0, 'Value': 0}, 'Characteristics': {'FileOffset': 8744, 'Offset': 0, 'Value': 0}, 'TimeDateStamp': {'FileOffset': 8748, 'Offset': 4, 'Value': '0x0        [Thu Jan  1 00:00:00 1970 UTC]'}, 'ForwarderChain': {'FileOffset': 8752, 'Offset': 8, 'Value': 0}, 'Name': {'FileOffset': 8756, 'Offset': 12, 'Value': 32990}, 'FirstThunk': {'FileOffset': 8760, 'Offset': 16, 'Value': 32932}}, {'DLL': b'MSVCRT.dll', 'Name': b'rand', 'Hint': 0}], [{'Structure': 'IMAGE_IMPORT_DESCRIPTOR', 'OriginalFirstThunk': {'FileOffset': 8764, 'Offset': 0, 'Value': 0}, 'Characteristics': {'FileOffset': 8764, 'Offset': 0, 'Value': 0}, 'TimeDateStamp': {'FileOffset': 8768, 'Offset': 4, 'Value': '0x0        [Thu Jan  1 00:00:00 1970 UTC]'}, 'ForwarderChain': {'FileOffset': 8772, 'Offset': 8, 'Value': 0}, 'Name': {'FileOffset': 8776, 'Offset': 12, 'Value': 33001}, 'FirstThunk': {'FileOffset': 8780, 'Offset': 16, 'Value': 32940}}, {'DLL': b'USER32.dll', 'Name': b'wsprintfA', 'Hint': 0}], [{'Structure': 'IMAGE_IMPORT_DESCRIPTOR', 'OriginalFirstThunk': {'FileOffset': 8784, 'Offset': 0, 'Value': 0}, 'Characteristics': {'FileOffset': 8784, 'Offset': 0, 'Value': 0}, 'TimeDateStamp': {'FileOffset': 8788, 'Offset': 4, 'Value': '0x0        [Thu Jan  1 00:00:00 1970 UTC]'}, 'ForwarderChain': {'FileOffset': 8792, 'Offset': 8, 'Value': 0}, 'Name': {'FileOffset': 8796, 'Offset': 12, 'Value': 33012}, 'FirstThunk': {'FileOffset': 8800, 'Offset': 16, 'Value': 32948}}, {'DLL': b'WININET.dll', 'Name': b'InternetOpenA', 'Hint': 0}], [{'Structure': 'IMAGE_IMPORT_DESCRIPTOR', 'OriginalFirstThunk': {'FileOffset': 8804, 'Offset': 0, 'Value': 0}, 'Characteristics': {'FileOffset': 8804, 'Offset': 0, 'Value': 0}, 'TimeDateStamp': {'FileOffset': 8808, 'Offset': 4, 'Value': '0x0        [Thu Jan  1 00:00:00 1970 UTC]'}, 'ForwarderChain': {'FileOffset': 8812, 'Offset': 8, 'Value': 0}, 'Name': {'FileOffset': 8816, 'Offset': 12, 'Value': 33024}, 'FirstThunk': {'FileOffset': 8820, 'Offset': 16, 'Value': 32956}}, {'DLL': b'WS2_32.dll', 'Ordinal': 3}]]\n",
            "[[{'Structure': 'IMAGE_IMPORT_DESCRIPTOR', 'OriginalFirstThunk': {'FileOffset': 8704, 'Offset': 0, 'Value': 0}, 'Characteristics': {'FileOffset': 8704, 'Offset': 0, 'Value': 0}, 'TimeDateStamp': {'FileOffset': 8708, 'Offset': 4, 'Value': '0x0        [Thu Jan  1 00:00:00 1970 UTC]'}, 'ForwarderChain': {'FileOffset': 8712, 'Offset': 8, 'Value': 0}, 'Name': {'FileOffset': 8716, 'Offset': 12, 'Value': 32964}, 'FirstThunk': {'FileOffset': 8720, 'Offset': 16, 'Value': 32908}}, {'DLL': b'KERNEL32.DLL', 'Name': b'LoadLibraryA', 'Hint': 0}, {'DLL': b'KERNEL32.DLL', 'Name': b'GetProcAddress', 'Hint': 0}, {'DLL': b'KERNEL32.DLL', 'Name': b'ExitProcess', 'Hint': 0}], [{'Structure': 'IMAGE_IMPORT_DESCRIPTOR', 'OriginalFirstThunk': {'FileOffset': 8724, 'Offset': 0, 'Value': 0}, 'Characteristics': {'FileOffset': 8724, 'Offset': 0, 'Value': 0}, 'TimeDateStamp': {'FileOffset': 8728, 'Offset': 4, 'Value': '0x0        [Thu Jan  1 00:00:00 1970 UTC]'}, 'ForwarderChain': {'FileOffset': 8732, 'Offset': 8, 'Value': 0}, 'Name': {'FileOffset': 8736, 'Offset': 12, 'Value': 32977}, 'FirstThunk': {'FileOffset': 8740, 'Offset': 16, 'Value': 32924}}, {'DLL': b'ADVAPI32.dll', 'Name': b'RegCloseKey', 'Hint': 0}], [{'Structure': 'IMAGE_IMPORT_DESCRIPTOR', 'OriginalFirstThunk': {'FileOffset': 8744, 'Offset': 0, 'Value': 0}, 'Characteristics': {'FileOffset': 8744, 'Offset': 0, 'Value': 0}, 'TimeDateStamp': {'FileOffset': 8748, 'Offset': 4, 'Value': '0x0        [Thu Jan  1 00:00:00 1970 UTC]'}, 'ForwarderChain': {'FileOffset': 8752, 'Offset': 8, 'Value': 0}, 'Name': {'FileOffset': 8756, 'Offset': 12, 'Value': 32990}, 'FirstThunk': {'FileOffset': 8760, 'Offset': 16, 'Value': 32932}}, {'DLL': b'MSVCRT.dll', 'Name': b'rand', 'Hint': 0}], [{'Structure': 'IMAGE_IMPORT_DESCRIPTOR', 'OriginalFirstThunk': {'FileOffset': 8764, 'Offset': 0, 'Value': 0}, 'Characteristics': {'FileOffset': 8764, 'Offset': 0, 'Value': 0}, 'TimeDateStamp': {'FileOffset': 8768, 'Offset': 4, 'Value': '0x0        [Thu Jan  1 00:00:00 1970 UTC]'}, 'ForwarderChain': {'FileOffset': 8772, 'Offset': 8, 'Value': 0}, 'Name': {'FileOffset': 8776, 'Offset': 12, 'Value': 33001}, 'FirstThunk': {'FileOffset': 8780, 'Offset': 16, 'Value': 32940}}, {'DLL': b'USER32.dll', 'Name': b'wsprintfA', 'Hint': 0}], [{'Structure': 'IMAGE_IMPORT_DESCRIPTOR', 'OriginalFirstThunk': {'FileOffset': 8784, 'Offset': 0, 'Value': 0}, 'Characteristics': {'FileOffset': 8784, 'Offset': 0, 'Value': 0}, 'TimeDateStamp': {'FileOffset': 8788, 'Offset': 4, 'Value': '0x0        [Thu Jan  1 00:00:00 1970 UTC]'}, 'ForwarderChain': {'FileOffset': 8792, 'Offset': 8, 'Value': 0}, 'Name': {'FileOffset': 8796, 'Offset': 12, 'Value': 33012}, 'FirstThunk': {'FileOffset': 8800, 'Offset': 16, 'Value': 32948}}, {'DLL': b'WININET.dll', 'Name': b'InternetOpenA', 'Hint': 0}], [{'Structure': 'IMAGE_IMPORT_DESCRIPTOR', 'OriginalFirstThunk': {'FileOffset': 8804, 'Offset': 0, 'Value': 0}, 'Characteristics': {'FileOffset': 8804, 'Offset': 0, 'Value': 0}, 'TimeDateStamp': {'FileOffset': 8808, 'Offset': 4, 'Value': '0x0        [Thu Jan  1 00:00:00 1970 UTC]'}, 'ForwarderChain': {'FileOffset': 8812, 'Offset': 8, 'Value': 0}, 'Name': {'FileOffset': 8816, 'Offset': 12, 'Value': 33024}, 'FirstThunk': {'FileOffset': 8820, 'Offset': 16, 'Value': 32956}}, {'DLL': b'WS2_32.dll', 'Ordinal': 3}]]\n",
            "[[{'Structure': 'IMAGE_IMPORT_DESCRIPTOR', 'OriginalFirstThunk': {'FileOffset': 8704, 'Offset': 0, 'Value': 0}, 'Characteristics': {'FileOffset': 8704, 'Offset': 0, 'Value': 0}, 'TimeDateStamp': {'FileOffset': 8708, 'Offset': 4, 'Value': '0x0        [Thu Jan  1 00:00:00 1970 UTC]'}, 'ForwarderChain': {'FileOffset': 8712, 'Offset': 8, 'Value': 0}, 'Name': {'FileOffset': 8716, 'Offset': 12, 'Value': 32964}, 'FirstThunk': {'FileOffset': 8720, 'Offset': 16, 'Value': 32908}}, {'DLL': b'KERNEL32.DLL', 'Name': b'LoadLibraryA', 'Hint': 0}, {'DLL': b'KERNEL32.DLL', 'Name': b'GetProcAddress', 'Hint': 0}, {'DLL': b'KERNEL32.DLL', 'Name': b'ExitProcess', 'Hint': 0}], [{'Structure': 'IMAGE_IMPORT_DESCRIPTOR', 'OriginalFirstThunk': {'FileOffset': 8724, 'Offset': 0, 'Value': 0}, 'Characteristics': {'FileOffset': 8724, 'Offset': 0, 'Value': 0}, 'TimeDateStamp': {'FileOffset': 8728, 'Offset': 4, 'Value': '0x0        [Thu Jan  1 00:00:00 1970 UTC]'}, 'ForwarderChain': {'FileOffset': 8732, 'Offset': 8, 'Value': 0}, 'Name': {'FileOffset': 8736, 'Offset': 12, 'Value': 32977}, 'FirstThunk': {'FileOffset': 8740, 'Offset': 16, 'Value': 32924}}, {'DLL': b'ADVAPI32.dll', 'Name': b'RegCloseKey', 'Hint': 0}], [{'Structure': 'IMAGE_IMPORT_DESCRIPTOR', 'OriginalFirstThunk': {'FileOffset': 8744, 'Offset': 0, 'Value': 0}, 'Characteristics': {'FileOffset': 8744, 'Offset': 0, 'Value': 0}, 'TimeDateStamp': {'FileOffset': 8748, 'Offset': 4, 'Value': '0x0        [Thu Jan  1 00:00:00 1970 UTC]'}, 'ForwarderChain': {'FileOffset': 8752, 'Offset': 8, 'Value': 0}, 'Name': {'FileOffset': 8756, 'Offset': 12, 'Value': 32990}, 'FirstThunk': {'FileOffset': 8760, 'Offset': 16, 'Value': 32932}}, {'DLL': b'MSVCRT.dll', 'Name': b'rand', 'Hint': 0}], [{'Structure': 'IMAGE_IMPORT_DESCRIPTOR', 'OriginalFirstThunk': {'FileOffset': 8764, 'Offset': 0, 'Value': 0}, 'Characteristics': {'FileOffset': 8764, 'Offset': 0, 'Value': 0}, 'TimeDateStamp': {'FileOffset': 8768, 'Offset': 4, 'Value': '0x0        [Thu Jan  1 00:00:00 1970 UTC]'}, 'ForwarderChain': {'FileOffset': 8772, 'Offset': 8, 'Value': 0}, 'Name': {'FileOffset': 8776, 'Offset': 12, 'Value': 33001}, 'FirstThunk': {'FileOffset': 8780, 'Offset': 16, 'Value': 32940}}, {'DLL': b'USER32.dll', 'Name': b'wsprintfA', 'Hint': 0}], [{'Structure': 'IMAGE_IMPORT_DESCRIPTOR', 'OriginalFirstThunk': {'FileOffset': 8784, 'Offset': 0, 'Value': 0}, 'Characteristics': {'FileOffset': 8784, 'Offset': 0, 'Value': 0}, 'TimeDateStamp': {'FileOffset': 8788, 'Offset': 4, 'Value': '0x0        [Thu Jan  1 00:00:00 1970 UTC]'}, 'ForwarderChain': {'FileOffset': 8792, 'Offset': 8, 'Value': 0}, 'Name': {'FileOffset': 8796, 'Offset': 12, 'Value': 33012}, 'FirstThunk': {'FileOffset': 8800, 'Offset': 16, 'Value': 32948}}, {'DLL': b'WININET.dll', 'Name': b'InternetOpenA', 'Hint': 0}], [{'Structure': 'IMAGE_IMPORT_DESCRIPTOR', 'OriginalFirstThunk': {'FileOffset': 8804, 'Offset': 0, 'Value': 0}, 'Characteristics': {'FileOffset': 8804, 'Offset': 0, 'Value': 0}, 'TimeDateStamp': {'FileOffset': 8808, 'Offset': 4, 'Value': '0x0        [Thu Jan  1 00:00:00 1970 UTC]'}, 'ForwarderChain': {'FileOffset': 8812, 'Offset': 8, 'Value': 0}, 'Name': {'FileOffset': 8816, 'Offset': 12, 'Value': 33024}, 'FirstThunk': {'FileOffset': 8820, 'Offset': 16, 'Value': 32956}}, {'DLL': b'WS2_32.dll', 'Ordinal': 3}]]\n",
            "[[{'Structure': 'IMAGE_IMPORT_DESCRIPTOR', 'OriginalFirstThunk': {'FileOffset': 8704, 'Offset': 0, 'Value': 0}, 'Characteristics': {'FileOffset': 8704, 'Offset': 0, 'Value': 0}, 'TimeDateStamp': {'FileOffset': 8708, 'Offset': 4, 'Value': '0x0        [Thu Jan  1 00:00:00 1970 UTC]'}, 'ForwarderChain': {'FileOffset': 8712, 'Offset': 8, 'Value': 0}, 'Name': {'FileOffset': 8716, 'Offset': 12, 'Value': 32964}, 'FirstThunk': {'FileOffset': 8720, 'Offset': 16, 'Value': 32908}}, {'DLL': b'KERNEL32.DLL', 'Name': b'LoadLibraryA', 'Hint': 0}, {'DLL': b'KERNEL32.DLL', 'Name': b'GetProcAddress', 'Hint': 0}, {'DLL': b'KERNEL32.DLL', 'Name': b'ExitProcess', 'Hint': 0}], [{'Structure': 'IMAGE_IMPORT_DESCRIPTOR', 'OriginalFirstThunk': {'FileOffset': 8724, 'Offset': 0, 'Value': 0}, 'Characteristics': {'FileOffset': 8724, 'Offset': 0, 'Value': 0}, 'TimeDateStamp': {'FileOffset': 8728, 'Offset': 4, 'Value': '0x0        [Thu Jan  1 00:00:00 1970 UTC]'}, 'ForwarderChain': {'FileOffset': 8732, 'Offset': 8, 'Value': 0}, 'Name': {'FileOffset': 8736, 'Offset': 12, 'Value': 32977}, 'FirstThunk': {'FileOffset': 8740, 'Offset': 16, 'Value': 32924}}, {'DLL': b'ADVAPI32.dll', 'Name': b'RegCloseKey', 'Hint': 0}], [{'Structure': 'IMAGE_IMPORT_DESCRIPTOR', 'OriginalFirstThunk': {'FileOffset': 8744, 'Offset': 0, 'Value': 0}, 'Characteristics': {'FileOffset': 8744, 'Offset': 0, 'Value': 0}, 'TimeDateStamp': {'FileOffset': 8748, 'Offset': 4, 'Value': '0x0        [Thu Jan  1 00:00:00 1970 UTC]'}, 'ForwarderChain': {'FileOffset': 8752, 'Offset': 8, 'Value': 0}, 'Name': {'FileOffset': 8756, 'Offset': 12, 'Value': 32990}, 'FirstThunk': {'FileOffset': 8760, 'Offset': 16, 'Value': 32932}}, {'DLL': b'MSVCRT.dll', 'Name': b'rand', 'Hint': 0}], [{'Structure': 'IMAGE_IMPORT_DESCRIPTOR', 'OriginalFirstThunk': {'FileOffset': 8764, 'Offset': 0, 'Value': 0}, 'Characteristics': {'FileOffset': 8764, 'Offset': 0, 'Value': 0}, 'TimeDateStamp': {'FileOffset': 8768, 'Offset': 4, 'Value': '0x0        [Thu Jan  1 00:00:00 1970 UTC]'}, 'ForwarderChain': {'FileOffset': 8772, 'Offset': 8, 'Value': 0}, 'Name': {'FileOffset': 8776, 'Offset': 12, 'Value': 33001}, 'FirstThunk': {'FileOffset': 8780, 'Offset': 16, 'Value': 32940}}, {'DLL': b'USER32.dll', 'Name': b'wsprintfA', 'Hint': 0}], [{'Structure': 'IMAGE_IMPORT_DESCRIPTOR', 'OriginalFirstThunk': {'FileOffset': 8784, 'Offset': 0, 'Value': 0}, 'Characteristics': {'FileOffset': 8784, 'Offset': 0, 'Value': 0}, 'TimeDateStamp': {'FileOffset': 8788, 'Offset': 4, 'Value': '0x0        [Thu Jan  1 00:00:00 1970 UTC]'}, 'ForwarderChain': {'FileOffset': 8792, 'Offset': 8, 'Value': 0}, 'Name': {'FileOffset': 8796, 'Offset': 12, 'Value': 33012}, 'FirstThunk': {'FileOffset': 8800, 'Offset': 16, 'Value': 32948}}, {'DLL': b'WININET.dll', 'Name': b'InternetOpenA', 'Hint': 0}], [{'Structure': 'IMAGE_IMPORT_DESCRIPTOR', 'OriginalFirstThunk': {'FileOffset': 8804, 'Offset': 0, 'Value': 0}, 'Characteristics': {'FileOffset': 8804, 'Offset': 0, 'Value': 0}, 'TimeDateStamp': {'FileOffset': 8808, 'Offset': 4, 'Value': '0x0        [Thu Jan  1 00:00:00 1970 UTC]'}, 'ForwarderChain': {'FileOffset': 8812, 'Offset': 8, 'Value': 0}, 'Name': {'FileOffset': 8816, 'Offset': 12, 'Value': 33024}, 'FirstThunk': {'FileOffset': 8820, 'Offset': 16, 'Value': 32956}}, {'DLL': b'WS2_32.dll', 'Ordinal': 3}]]\n",
            "[[{'Structure': 'IMAGE_IMPORT_DESCRIPTOR', 'OriginalFirstThunk': {'FileOffset': 8704, 'Offset': 0, 'Value': 0}, 'Characteristics': {'FileOffset': 8704, 'Offset': 0, 'Value': 0}, 'TimeDateStamp': {'FileOffset': 8708, 'Offset': 4, 'Value': '0x0        [Thu Jan  1 00:00:00 1970 UTC]'}, 'ForwarderChain': {'FileOffset': 8712, 'Offset': 8, 'Value': 0}, 'Name': {'FileOffset': 8716, 'Offset': 12, 'Value': 32964}, 'FirstThunk': {'FileOffset': 8720, 'Offset': 16, 'Value': 32908}}, {'DLL': b'KERNEL32.DLL', 'Name': b'LoadLibraryA', 'Hint': 0}, {'DLL': b'KERNEL32.DLL', 'Name': b'GetProcAddress', 'Hint': 0}, {'DLL': b'KERNEL32.DLL', 'Name': b'ExitProcess', 'Hint': 0}], [{'Structure': 'IMAGE_IMPORT_DESCRIPTOR', 'OriginalFirstThunk': {'FileOffset': 8724, 'Offset': 0, 'Value': 0}, 'Characteristics': {'FileOffset': 8724, 'Offset': 0, 'Value': 0}, 'TimeDateStamp': {'FileOffset': 8728, 'Offset': 4, 'Value': '0x0        [Thu Jan  1 00:00:00 1970 UTC]'}, 'ForwarderChain': {'FileOffset': 8732, 'Offset': 8, 'Value': 0}, 'Name': {'FileOffset': 8736, 'Offset': 12, 'Value': 32977}, 'FirstThunk': {'FileOffset': 8740, 'Offset': 16, 'Value': 32924}}, {'DLL': b'ADVAPI32.dll', 'Name': b'RegCloseKey', 'Hint': 0}], [{'Structure': 'IMAGE_IMPORT_DESCRIPTOR', 'OriginalFirstThunk': {'FileOffset': 8744, 'Offset': 0, 'Value': 0}, 'Characteristics': {'FileOffset': 8744, 'Offset': 0, 'Value': 0}, 'TimeDateStamp': {'FileOffset': 8748, 'Offset': 4, 'Value': '0x0        [Thu Jan  1 00:00:00 1970 UTC]'}, 'ForwarderChain': {'FileOffset': 8752, 'Offset': 8, 'Value': 0}, 'Name': {'FileOffset': 8756, 'Offset': 12, 'Value': 32990}, 'FirstThunk': {'FileOffset': 8760, 'Offset': 16, 'Value': 32932}}, {'DLL': b'MSVCRT.dll', 'Name': b'rand', 'Hint': 0}], [{'Structure': 'IMAGE_IMPORT_DESCRIPTOR', 'OriginalFirstThunk': {'FileOffset': 8764, 'Offset': 0, 'Value': 0}, 'Characteristics': {'FileOffset': 8764, 'Offset': 0, 'Value': 0}, 'TimeDateStamp': {'FileOffset': 8768, 'Offset': 4, 'Value': '0x0        [Thu Jan  1 00:00:00 1970 UTC]'}, 'ForwarderChain': {'FileOffset': 8772, 'Offset': 8, 'Value': 0}, 'Name': {'FileOffset': 8776, 'Offset': 12, 'Value': 33001}, 'FirstThunk': {'FileOffset': 8780, 'Offset': 16, 'Value': 32940}}, {'DLL': b'USER32.dll', 'Name': b'wsprintfA', 'Hint': 0}], [{'Structure': 'IMAGE_IMPORT_DESCRIPTOR', 'OriginalFirstThunk': {'FileOffset': 8784, 'Offset': 0, 'Value': 0}, 'Characteristics': {'FileOffset': 8784, 'Offset': 0, 'Value': 0}, 'TimeDateStamp': {'FileOffset': 8788, 'Offset': 4, 'Value': '0x0        [Thu Jan  1 00:00:00 1970 UTC]'}, 'ForwarderChain': {'FileOffset': 8792, 'Offset': 8, 'Value': 0}, 'Name': {'FileOffset': 8796, 'Offset': 12, 'Value': 33012}, 'FirstThunk': {'FileOffset': 8800, 'Offset': 16, 'Value': 32948}}, {'DLL': b'WININET.dll', 'Name': b'InternetOpenA', 'Hint': 0}], [{'Structure': 'IMAGE_IMPORT_DESCRIPTOR', 'OriginalFirstThunk': {'FileOffset': 8804, 'Offset': 0, 'Value': 0}, 'Characteristics': {'FileOffset': 8804, 'Offset': 0, 'Value': 0}, 'TimeDateStamp': {'FileOffset': 8808, 'Offset': 4, 'Value': '0x0        [Thu Jan  1 00:00:00 1970 UTC]'}, 'ForwarderChain': {'FileOffset': 8812, 'Offset': 8, 'Value': 0}, 'Name': {'FileOffset': 8816, 'Offset': 12, 'Value': 33024}, 'FirstThunk': {'FileOffset': 8820, 'Offset': 16, 'Value': 32956}}, {'DLL': b'WS2_32.dll', 'Ordinal': 3}]]\n",
            "[[{'Structure': 'IMAGE_IMPORT_DESCRIPTOR', 'OriginalFirstThunk': {'FileOffset': 8704, 'Offset': 0, 'Value': 0}, 'Characteristics': {'FileOffset': 8704, 'Offset': 0, 'Value': 0}, 'TimeDateStamp': {'FileOffset': 8708, 'Offset': 4, 'Value': '0x0        [Thu Jan  1 00:00:00 1970 UTC]'}, 'ForwarderChain': {'FileOffset': 8712, 'Offset': 8, 'Value': 0}, 'Name': {'FileOffset': 8716, 'Offset': 12, 'Value': 32964}, 'FirstThunk': {'FileOffset': 8720, 'Offset': 16, 'Value': 32908}}, {'DLL': b'KERNEL32.DLL', 'Name': b'LoadLibraryA', 'Hint': 0}, {'DLL': b'KERNEL32.DLL', 'Name': b'GetProcAddress', 'Hint': 0}, {'DLL': b'KERNEL32.DLL', 'Name': b'ExitProcess', 'Hint': 0}], [{'Structure': 'IMAGE_IMPORT_DESCRIPTOR', 'OriginalFirstThunk': {'FileOffset': 8724, 'Offset': 0, 'Value': 0}, 'Characteristics': {'FileOffset': 8724, 'Offset': 0, 'Value': 0}, 'TimeDateStamp': {'FileOffset': 8728, 'Offset': 4, 'Value': '0x0        [Thu Jan  1 00:00:00 1970 UTC]'}, 'ForwarderChain': {'FileOffset': 8732, 'Offset': 8, 'Value': 0}, 'Name': {'FileOffset': 8736, 'Offset': 12, 'Value': 32977}, 'FirstThunk': {'FileOffset': 8740, 'Offset': 16, 'Value': 32924}}, {'DLL': b'ADVAPI32.dll', 'Name': b'RegCloseKey', 'Hint': 0}], [{'Structure': 'IMAGE_IMPORT_DESCRIPTOR', 'OriginalFirstThunk': {'FileOffset': 8744, 'Offset': 0, 'Value': 0}, 'Characteristics': {'FileOffset': 8744, 'Offset': 0, 'Value': 0}, 'TimeDateStamp': {'FileOffset': 8748, 'Offset': 4, 'Value': '0x0        [Thu Jan  1 00:00:00 1970 UTC]'}, 'ForwarderChain': {'FileOffset': 8752, 'Offset': 8, 'Value': 0}, 'Name': {'FileOffset': 8756, 'Offset': 12, 'Value': 32990}, 'FirstThunk': {'FileOffset': 8760, 'Offset': 16, 'Value': 32932}}, {'DLL': b'MSVCRT.dll', 'Name': b'rand', 'Hint': 0}], [{'Structure': 'IMAGE_IMPORT_DESCRIPTOR', 'OriginalFirstThunk': {'FileOffset': 8764, 'Offset': 0, 'Value': 0}, 'Characteristics': {'FileOffset': 8764, 'Offset': 0, 'Value': 0}, 'TimeDateStamp': {'FileOffset': 8768, 'Offset': 4, 'Value': '0x0        [Thu Jan  1 00:00:00 1970 UTC]'}, 'ForwarderChain': {'FileOffset': 8772, 'Offset': 8, 'Value': 0}, 'Name': {'FileOffset': 8776, 'Offset': 12, 'Value': 33001}, 'FirstThunk': {'FileOffset': 8780, 'Offset': 16, 'Value': 32940}}, {'DLL': b'USER32.dll', 'Name': b'wsprintfA', 'Hint': 0}], [{'Structure': 'IMAGE_IMPORT_DESCRIPTOR', 'OriginalFirstThunk': {'FileOffset': 8784, 'Offset': 0, 'Value': 0}, 'Characteristics': {'FileOffset': 8784, 'Offset': 0, 'Value': 0}, 'TimeDateStamp': {'FileOffset': 8788, 'Offset': 4, 'Value': '0x0        [Thu Jan  1 00:00:00 1970 UTC]'}, 'ForwarderChain': {'FileOffset': 8792, 'Offset': 8, 'Value': 0}, 'Name': {'FileOffset': 8796, 'Offset': 12, 'Value': 33012}, 'FirstThunk': {'FileOffset': 8800, 'Offset': 16, 'Value': 32948}}, {'DLL': b'WININET.dll', 'Name': b'InternetOpenA', 'Hint': 0}], [{'Structure': 'IMAGE_IMPORT_DESCRIPTOR', 'OriginalFirstThunk': {'FileOffset': 8804, 'Offset': 0, 'Value': 0}, 'Characteristics': {'FileOffset': 8804, 'Offset': 0, 'Value': 0}, 'TimeDateStamp': {'FileOffset': 8808, 'Offset': 4, 'Value': '0x0        [Thu Jan  1 00:00:00 1970 UTC]'}, 'ForwarderChain': {'FileOffset': 8812, 'Offset': 8, 'Value': 0}, 'Name': {'FileOffset': 8816, 'Offset': 12, 'Value': 33024}, 'FirstThunk': {'FileOffset': 8820, 'Offset': 16, 'Value': 32956}}, {'DLL': b'WS2_32.dll', 'Ordinal': 3}]]\n",
            "[[{'Structure': 'IMAGE_IMPORT_DESCRIPTOR', 'OriginalFirstThunk': {'FileOffset': 8704, 'Offset': 0, 'Value': 0}, 'Characteristics': {'FileOffset': 8704, 'Offset': 0, 'Value': 0}, 'TimeDateStamp': {'FileOffset': 8708, 'Offset': 4, 'Value': '0x0        [Thu Jan  1 00:00:00 1970 UTC]'}, 'ForwarderChain': {'FileOffset': 8712, 'Offset': 8, 'Value': 0}, 'Name': {'FileOffset': 8716, 'Offset': 12, 'Value': 32964}, 'FirstThunk': {'FileOffset': 8720, 'Offset': 16, 'Value': 32908}}, {'DLL': b'KERNEL32.DLL', 'Name': b'LoadLibraryA', 'Hint': 0}, {'DLL': b'KERNEL32.DLL', 'Name': b'GetProcAddress', 'Hint': 0}, {'DLL': b'KERNEL32.DLL', 'Name': b'ExitProcess', 'Hint': 0}], [{'Structure': 'IMAGE_IMPORT_DESCRIPTOR', 'OriginalFirstThunk': {'FileOffset': 8724, 'Offset': 0, 'Value': 0}, 'Characteristics': {'FileOffset': 8724, 'Offset': 0, 'Value': 0}, 'TimeDateStamp': {'FileOffset': 8728, 'Offset': 4, 'Value': '0x0        [Thu Jan  1 00:00:00 1970 UTC]'}, 'ForwarderChain': {'FileOffset': 8732, 'Offset': 8, 'Value': 0}, 'Name': {'FileOffset': 8736, 'Offset': 12, 'Value': 32977}, 'FirstThunk': {'FileOffset': 8740, 'Offset': 16, 'Value': 32924}}, {'DLL': b'ADVAPI32.dll', 'Name': b'RegCloseKey', 'Hint': 0}], [{'Structure': 'IMAGE_IMPORT_DESCRIPTOR', 'OriginalFirstThunk': {'FileOffset': 8744, 'Offset': 0, 'Value': 0}, 'Characteristics': {'FileOffset': 8744, 'Offset': 0, 'Value': 0}, 'TimeDateStamp': {'FileOffset': 8748, 'Offset': 4, 'Value': '0x0        [Thu Jan  1 00:00:00 1970 UTC]'}, 'ForwarderChain': {'FileOffset': 8752, 'Offset': 8, 'Value': 0}, 'Name': {'FileOffset': 8756, 'Offset': 12, 'Value': 32990}, 'FirstThunk': {'FileOffset': 8760, 'Offset': 16, 'Value': 32932}}, {'DLL': b'MSVCRT.dll', 'Name': b'rand', 'Hint': 0}], [{'Structure': 'IMAGE_IMPORT_DESCRIPTOR', 'OriginalFirstThunk': {'FileOffset': 8764, 'Offset': 0, 'Value': 0}, 'Characteristics': {'FileOffset': 8764, 'Offset': 0, 'Value': 0}, 'TimeDateStamp': {'FileOffset': 8768, 'Offset': 4, 'Value': '0x0        [Thu Jan  1 00:00:00 1970 UTC]'}, 'ForwarderChain': {'FileOffset': 8772, 'Offset': 8, 'Value': 0}, 'Name': {'FileOffset': 8776, 'Offset': 12, 'Value': 33001}, 'FirstThunk': {'FileOffset': 8780, 'Offset': 16, 'Value': 32940}}, {'DLL': b'USER32.dll', 'Name': b'wsprintfA', 'Hint': 0}], [{'Structure': 'IMAGE_IMPORT_DESCRIPTOR', 'OriginalFirstThunk': {'FileOffset': 8784, 'Offset': 0, 'Value': 0}, 'Characteristics': {'FileOffset': 8784, 'Offset': 0, 'Value': 0}, 'TimeDateStamp': {'FileOffset': 8788, 'Offset': 4, 'Value': '0x0        [Thu Jan  1 00:00:00 1970 UTC]'}, 'ForwarderChain': {'FileOffset': 8792, 'Offset': 8, 'Value': 0}, 'Name': {'FileOffset': 8796, 'Offset': 12, 'Value': 33012}, 'FirstThunk': {'FileOffset': 8800, 'Offset': 16, 'Value': 32948}}, {'DLL': b'WININET.dll', 'Name': b'InternetOpenA', 'Hint': 0}], [{'Structure': 'IMAGE_IMPORT_DESCRIPTOR', 'OriginalFirstThunk': {'FileOffset': 8804, 'Offset': 0, 'Value': 0}, 'Characteristics': {'FileOffset': 8804, 'Offset': 0, 'Value': 0}, 'TimeDateStamp': {'FileOffset': 8808, 'Offset': 4, 'Value': '0x0        [Thu Jan  1 00:00:00 1970 UTC]'}, 'ForwarderChain': {'FileOffset': 8812, 'Offset': 8, 'Value': 0}, 'Name': {'FileOffset': 8816, 'Offset': 12, 'Value': 33024}, 'FirstThunk': {'FileOffset': 8820, 'Offset': 16, 'Value': 32956}}, {'DLL': b'WS2_32.dll', 'Ordinal': 3}]]\n",
            "[[{'Structure': 'IMAGE_IMPORT_DESCRIPTOR', 'OriginalFirstThunk': {'FileOffset': 8704, 'Offset': 0, 'Value': 0}, 'Characteristics': {'FileOffset': 8704, 'Offset': 0, 'Value': 0}, 'TimeDateStamp': {'FileOffset': 8708, 'Offset': 4, 'Value': '0x0        [Thu Jan  1 00:00:00 1970 UTC]'}, 'ForwarderChain': {'FileOffset': 8712, 'Offset': 8, 'Value': 0}, 'Name': {'FileOffset': 8716, 'Offset': 12, 'Value': 32964}, 'FirstThunk': {'FileOffset': 8720, 'Offset': 16, 'Value': 32908}}, {'DLL': b'KERNEL32.DLL', 'Name': b'LoadLibraryA', 'Hint': 0}, {'DLL': b'KERNEL32.DLL', 'Name': b'GetProcAddress', 'Hint': 0}, {'DLL': b'KERNEL32.DLL', 'Name': b'ExitProcess', 'Hint': 0}], [{'Structure': 'IMAGE_IMPORT_DESCRIPTOR', 'OriginalFirstThunk': {'FileOffset': 8724, 'Offset': 0, 'Value': 0}, 'Characteristics': {'FileOffset': 8724, 'Offset': 0, 'Value': 0}, 'TimeDateStamp': {'FileOffset': 8728, 'Offset': 4, 'Value': '0x0        [Thu Jan  1 00:00:00 1970 UTC]'}, 'ForwarderChain': {'FileOffset': 8732, 'Offset': 8, 'Value': 0}, 'Name': {'FileOffset': 8736, 'Offset': 12, 'Value': 32977}, 'FirstThunk': {'FileOffset': 8740, 'Offset': 16, 'Value': 32924}}, {'DLL': b'ADVAPI32.dll', 'Name': b'RegCloseKey', 'Hint': 0}], [{'Structure': 'IMAGE_IMPORT_DESCRIPTOR', 'OriginalFirstThunk': {'FileOffset': 8744, 'Offset': 0, 'Value': 0}, 'Characteristics': {'FileOffset': 8744, 'Offset': 0, 'Value': 0}, 'TimeDateStamp': {'FileOffset': 8748, 'Offset': 4, 'Value': '0x0        [Thu Jan  1 00:00:00 1970 UTC]'}, 'ForwarderChain': {'FileOffset': 8752, 'Offset': 8, 'Value': 0}, 'Name': {'FileOffset': 8756, 'Offset': 12, 'Value': 32990}, 'FirstThunk': {'FileOffset': 8760, 'Offset': 16, 'Value': 32932}}, {'DLL': b'MSVCRT.dll', 'Name': b'rand', 'Hint': 0}], [{'Structure': 'IMAGE_IMPORT_DESCRIPTOR', 'OriginalFirstThunk': {'FileOffset': 8764, 'Offset': 0, 'Value': 0}, 'Characteristics': {'FileOffset': 8764, 'Offset': 0, 'Value': 0}, 'TimeDateStamp': {'FileOffset': 8768, 'Offset': 4, 'Value': '0x0        [Thu Jan  1 00:00:00 1970 UTC]'}, 'ForwarderChain': {'FileOffset': 8772, 'Offset': 8, 'Value': 0}, 'Name': {'FileOffset': 8776, 'Offset': 12, 'Value': 33001}, 'FirstThunk': {'FileOffset': 8780, 'Offset': 16, 'Value': 32940}}, {'DLL': b'USER32.dll', 'Name': b'wsprintfA', 'Hint': 0}], [{'Structure': 'IMAGE_IMPORT_DESCRIPTOR', 'OriginalFirstThunk': {'FileOffset': 8784, 'Offset': 0, 'Value': 0}, 'Characteristics': {'FileOffset': 8784, 'Offset': 0, 'Value': 0}, 'TimeDateStamp': {'FileOffset': 8788, 'Offset': 4, 'Value': '0x0        [Thu Jan  1 00:00:00 1970 UTC]'}, 'ForwarderChain': {'FileOffset': 8792, 'Offset': 8, 'Value': 0}, 'Name': {'FileOffset': 8796, 'Offset': 12, 'Value': 33012}, 'FirstThunk': {'FileOffset': 8800, 'Offset': 16, 'Value': 32948}}, {'DLL': b'WININET.dll', 'Name': b'InternetOpenA', 'Hint': 0}], [{'Structure': 'IMAGE_IMPORT_DESCRIPTOR', 'OriginalFirstThunk': {'FileOffset': 8804, 'Offset': 0, 'Value': 0}, 'Characteristics': {'FileOffset': 8804, 'Offset': 0, 'Value': 0}, 'TimeDateStamp': {'FileOffset': 8808, 'Offset': 4, 'Value': '0x0        [Thu Jan  1 00:00:00 1970 UTC]'}, 'ForwarderChain': {'FileOffset': 8812, 'Offset': 8, 'Value': 0}, 'Name': {'FileOffset': 8816, 'Offset': 12, 'Value': 33024}, 'FirstThunk': {'FileOffset': 8820, 'Offset': 16, 'Value': 32956}}, {'DLL': b'WS2_32.dll', 'Ordinal': 3}]]\n",
            "[[{'Structure': 'IMAGE_IMPORT_DESCRIPTOR', 'OriginalFirstThunk': {'FileOffset': 8704, 'Offset': 0, 'Value': 0}, 'Characteristics': {'FileOffset': 8704, 'Offset': 0, 'Value': 0}, 'TimeDateStamp': {'FileOffset': 8708, 'Offset': 4, 'Value': '0x0        [Thu Jan  1 00:00:00 1970 UTC]'}, 'ForwarderChain': {'FileOffset': 8712, 'Offset': 8, 'Value': 0}, 'Name': {'FileOffset': 8716, 'Offset': 12, 'Value': 32964}, 'FirstThunk': {'FileOffset': 8720, 'Offset': 16, 'Value': 32908}}, {'DLL': b'KERNEL32.DLL', 'Name': b'LoadLibraryA', 'Hint': 0}, {'DLL': b'KERNEL32.DLL', 'Name': b'GetProcAddress', 'Hint': 0}, {'DLL': b'KERNEL32.DLL', 'Name': b'ExitProcess', 'Hint': 0}], [{'Structure': 'IMAGE_IMPORT_DESCRIPTOR', 'OriginalFirstThunk': {'FileOffset': 8724, 'Offset': 0, 'Value': 0}, 'Characteristics': {'FileOffset': 8724, 'Offset': 0, 'Value': 0}, 'TimeDateStamp': {'FileOffset': 8728, 'Offset': 4, 'Value': '0x0        [Thu Jan  1 00:00:00 1970 UTC]'}, 'ForwarderChain': {'FileOffset': 8732, 'Offset': 8, 'Value': 0}, 'Name': {'FileOffset': 8736, 'Offset': 12, 'Value': 32977}, 'FirstThunk': {'FileOffset': 8740, 'Offset': 16, 'Value': 32924}}, {'DLL': b'ADVAPI32.dll', 'Name': b'RegCloseKey', 'Hint': 0}], [{'Structure': 'IMAGE_IMPORT_DESCRIPTOR', 'OriginalFirstThunk': {'FileOffset': 8744, 'Offset': 0, 'Value': 0}, 'Characteristics': {'FileOffset': 8744, 'Offset': 0, 'Value': 0}, 'TimeDateStamp': {'FileOffset': 8748, 'Offset': 4, 'Value': '0x0        [Thu Jan  1 00:00:00 1970 UTC]'}, 'ForwarderChain': {'FileOffset': 8752, 'Offset': 8, 'Value': 0}, 'Name': {'FileOffset': 8756, 'Offset': 12, 'Value': 32990}, 'FirstThunk': {'FileOffset': 8760, 'Offset': 16, 'Value': 32932}}, {'DLL': b'MSVCRT.dll', 'Name': b'rand', 'Hint': 0}], [{'Structure': 'IMAGE_IMPORT_DESCRIPTOR', 'OriginalFirstThunk': {'FileOffset': 8764, 'Offset': 0, 'Value': 0}, 'Characteristics': {'FileOffset': 8764, 'Offset': 0, 'Value': 0}, 'TimeDateStamp': {'FileOffset': 8768, 'Offset': 4, 'Value': '0x0        [Thu Jan  1 00:00:00 1970 UTC]'}, 'ForwarderChain': {'FileOffset': 8772, 'Offset': 8, 'Value': 0}, 'Name': {'FileOffset': 8776, 'Offset': 12, 'Value': 33001}, 'FirstThunk': {'FileOffset': 8780, 'Offset': 16, 'Value': 32940}}, {'DLL': b'USER32.dll', 'Name': b'wsprintfA', 'Hint': 0}], [{'Structure': 'IMAGE_IMPORT_DESCRIPTOR', 'OriginalFirstThunk': {'FileOffset': 8784, 'Offset': 0, 'Value': 0}, 'Characteristics': {'FileOffset': 8784, 'Offset': 0, 'Value': 0}, 'TimeDateStamp': {'FileOffset': 8788, 'Offset': 4, 'Value': '0x0        [Thu Jan  1 00:00:00 1970 UTC]'}, 'ForwarderChain': {'FileOffset': 8792, 'Offset': 8, 'Value': 0}, 'Name': {'FileOffset': 8796, 'Offset': 12, 'Value': 33012}, 'FirstThunk': {'FileOffset': 8800, 'Offset': 16, 'Value': 32948}}, {'DLL': b'WININET.dll', 'Name': b'InternetOpenA', 'Hint': 0}], [{'Structure': 'IMAGE_IMPORT_DESCRIPTOR', 'OriginalFirstThunk': {'FileOffset': 8804, 'Offset': 0, 'Value': 0}, 'Characteristics': {'FileOffset': 8804, 'Offset': 0, 'Value': 0}, 'TimeDateStamp': {'FileOffset': 8808, 'Offset': 4, 'Value': '0x0        [Thu Jan  1 00:00:00 1970 UTC]'}, 'ForwarderChain': {'FileOffset': 8812, 'Offset': 8, 'Value': 0}, 'Name': {'FileOffset': 8816, 'Offset': 12, 'Value': 33024}, 'FirstThunk': {'FileOffset': 8820, 'Offset': 16, 'Value': 32956}}, {'DLL': b'WS2_32.dll', 'Ordinal': 3}]]\n",
            "[[{'Structure': 'IMAGE_IMPORT_DESCRIPTOR', 'OriginalFirstThunk': {'FileOffset': 8704, 'Offset': 0, 'Value': 0}, 'Characteristics': {'FileOffset': 8704, 'Offset': 0, 'Value': 0}, 'TimeDateStamp': {'FileOffset': 8708, 'Offset': 4, 'Value': '0x0        [Thu Jan  1 00:00:00 1970 UTC]'}, 'ForwarderChain': {'FileOffset': 8712, 'Offset': 8, 'Value': 0}, 'Name': {'FileOffset': 8716, 'Offset': 12, 'Value': 32964}, 'FirstThunk': {'FileOffset': 8720, 'Offset': 16, 'Value': 32908}}, {'DLL': b'KERNEL32.DLL', 'Name': b'LoadLibraryA', 'Hint': 0}, {'DLL': b'KERNEL32.DLL', 'Name': b'GetProcAddress', 'Hint': 0}, {'DLL': b'KERNEL32.DLL', 'Name': b'ExitProcess', 'Hint': 0}], [{'Structure': 'IMAGE_IMPORT_DESCRIPTOR', 'OriginalFirstThunk': {'FileOffset': 8724, 'Offset': 0, 'Value': 0}, 'Characteristics': {'FileOffset': 8724, 'Offset': 0, 'Value': 0}, 'TimeDateStamp': {'FileOffset': 8728, 'Offset': 4, 'Value': '0x0        [Thu Jan  1 00:00:00 1970 UTC]'}, 'ForwarderChain': {'FileOffset': 8732, 'Offset': 8, 'Value': 0}, 'Name': {'FileOffset': 8736, 'Offset': 12, 'Value': 32977}, 'FirstThunk': {'FileOffset': 8740, 'Offset': 16, 'Value': 32924}}, {'DLL': b'ADVAPI32.dll', 'Name': b'RegCloseKey', 'Hint': 0}], [{'Structure': 'IMAGE_IMPORT_DESCRIPTOR', 'OriginalFirstThunk': {'FileOffset': 8744, 'Offset': 0, 'Value': 0}, 'Characteristics': {'FileOffset': 8744, 'Offset': 0, 'Value': 0}, 'TimeDateStamp': {'FileOffset': 8748, 'Offset': 4, 'Value': '0x0        [Thu Jan  1 00:00:00 1970 UTC]'}, 'ForwarderChain': {'FileOffset': 8752, 'Offset': 8, 'Value': 0}, 'Name': {'FileOffset': 8756, 'Offset': 12, 'Value': 32990}, 'FirstThunk': {'FileOffset': 8760, 'Offset': 16, 'Value': 32932}}, {'DLL': b'MSVCRT.dll', 'Name': b'rand', 'Hint': 0}], [{'Structure': 'IMAGE_IMPORT_DESCRIPTOR', 'OriginalFirstThunk': {'FileOffset': 8764, 'Offset': 0, 'Value': 0}, 'Characteristics': {'FileOffset': 8764, 'Offset': 0, 'Value': 0}, 'TimeDateStamp': {'FileOffset': 8768, 'Offset': 4, 'Value': '0x0        [Thu Jan  1 00:00:00 1970 UTC]'}, 'ForwarderChain': {'FileOffset': 8772, 'Offset': 8, 'Value': 0}, 'Name': {'FileOffset': 8776, 'Offset': 12, 'Value': 33001}, 'FirstThunk': {'FileOffset': 8780, 'Offset': 16, 'Value': 32940}}, {'DLL': b'USER32.dll', 'Name': b'wsprintfA', 'Hint': 0}], [{'Structure': 'IMAGE_IMPORT_DESCRIPTOR', 'OriginalFirstThunk': {'FileOffset': 8784, 'Offset': 0, 'Value': 0}, 'Characteristics': {'FileOffset': 8784, 'Offset': 0, 'Value': 0}, 'TimeDateStamp': {'FileOffset': 8788, 'Offset': 4, 'Value': '0x0        [Thu Jan  1 00:00:00 1970 UTC]'}, 'ForwarderChain': {'FileOffset': 8792, 'Offset': 8, 'Value': 0}, 'Name': {'FileOffset': 8796, 'Offset': 12, 'Value': 33012}, 'FirstThunk': {'FileOffset': 8800, 'Offset': 16, 'Value': 32948}}, {'DLL': b'WININET.dll', 'Name': b'InternetOpenA', 'Hint': 0}], [{'Structure': 'IMAGE_IMPORT_DESCRIPTOR', 'OriginalFirstThunk': {'FileOffset': 8804, 'Offset': 0, 'Value': 0}, 'Characteristics': {'FileOffset': 8804, 'Offset': 0, 'Value': 0}, 'TimeDateStamp': {'FileOffset': 8808, 'Offset': 4, 'Value': '0x0        [Thu Jan  1 00:00:00 1970 UTC]'}, 'ForwarderChain': {'FileOffset': 8812, 'Offset': 8, 'Value': 0}, 'Name': {'FileOffset': 8816, 'Offset': 12, 'Value': 33024}, 'FirstThunk': {'FileOffset': 8820, 'Offset': 16, 'Value': 32956}}, {'DLL': b'WS2_32.dll', 'Ordinal': 3}]]\n",
            "[[{'Structure': 'IMAGE_IMPORT_DESCRIPTOR', 'OriginalFirstThunk': {'FileOffset': 8704, 'Offset': 0, 'Value': 0}, 'Characteristics': {'FileOffset': 8704, 'Offset': 0, 'Value': 0}, 'TimeDateStamp': {'FileOffset': 8708, 'Offset': 4, 'Value': '0x0        [Thu Jan  1 00:00:00 1970 UTC]'}, 'ForwarderChain': {'FileOffset': 8712, 'Offset': 8, 'Value': 0}, 'Name': {'FileOffset': 8716, 'Offset': 12, 'Value': 32964}, 'FirstThunk': {'FileOffset': 8720, 'Offset': 16, 'Value': 32908}}, {'DLL': b'KERNEL32.DLL', 'Name': b'LoadLibraryA', 'Hint': 0}, {'DLL': b'KERNEL32.DLL', 'Name': b'GetProcAddress', 'Hint': 0}, {'DLL': b'KERNEL32.DLL', 'Name': b'ExitProcess', 'Hint': 0}], [{'Structure': 'IMAGE_IMPORT_DESCRIPTOR', 'OriginalFirstThunk': {'FileOffset': 8724, 'Offset': 0, 'Value': 0}, 'Characteristics': {'FileOffset': 8724, 'Offset': 0, 'Value': 0}, 'TimeDateStamp': {'FileOffset': 8728, 'Offset': 4, 'Value': '0x0        [Thu Jan  1 00:00:00 1970 UTC]'}, 'ForwarderChain': {'FileOffset': 8732, 'Offset': 8, 'Value': 0}, 'Name': {'FileOffset': 8736, 'Offset': 12, 'Value': 32977}, 'FirstThunk': {'FileOffset': 8740, 'Offset': 16, 'Value': 32924}}, {'DLL': b'ADVAPI32.dll', 'Name': b'RegCloseKey', 'Hint': 0}], [{'Structure': 'IMAGE_IMPORT_DESCRIPTOR', 'OriginalFirstThunk': {'FileOffset': 8744, 'Offset': 0, 'Value': 0}, 'Characteristics': {'FileOffset': 8744, 'Offset': 0, 'Value': 0}, 'TimeDateStamp': {'FileOffset': 8748, 'Offset': 4, 'Value': '0x0        [Thu Jan  1 00:00:00 1970 UTC]'}, 'ForwarderChain': {'FileOffset': 8752, 'Offset': 8, 'Value': 0}, 'Name': {'FileOffset': 8756, 'Offset': 12, 'Value': 32990}, 'FirstThunk': {'FileOffset': 8760, 'Offset': 16, 'Value': 32932}}, {'DLL': b'MSVCRT.dll', 'Name': b'rand', 'Hint': 0}], [{'Structure': 'IMAGE_IMPORT_DESCRIPTOR', 'OriginalFirstThunk': {'FileOffset': 8764, 'Offset': 0, 'Value': 0}, 'Characteristics': {'FileOffset': 8764, 'Offset': 0, 'Value': 0}, 'TimeDateStamp': {'FileOffset': 8768, 'Offset': 4, 'Value': '0x0        [Thu Jan  1 00:00:00 1970 UTC]'}, 'ForwarderChain': {'FileOffset': 8772, 'Offset': 8, 'Value': 0}, 'Name': {'FileOffset': 8776, 'Offset': 12, 'Value': 33001}, 'FirstThunk': {'FileOffset': 8780, 'Offset': 16, 'Value': 32940}}, {'DLL': b'USER32.dll', 'Name': b'wsprintfA', 'Hint': 0}], [{'Structure': 'IMAGE_IMPORT_DESCRIPTOR', 'OriginalFirstThunk': {'FileOffset': 8784, 'Offset': 0, 'Value': 0}, 'Characteristics': {'FileOffset': 8784, 'Offset': 0, 'Value': 0}, 'TimeDateStamp': {'FileOffset': 8788, 'Offset': 4, 'Value': '0x0        [Thu Jan  1 00:00:00 1970 UTC]'}, 'ForwarderChain': {'FileOffset': 8792, 'Offset': 8, 'Value': 0}, 'Name': {'FileOffset': 8796, 'Offset': 12, 'Value': 33012}, 'FirstThunk': {'FileOffset': 8800, 'Offset': 16, 'Value': 32948}}, {'DLL': b'WININET.dll', 'Name': b'InternetOpenA', 'Hint': 0}], [{'Structure': 'IMAGE_IMPORT_DESCRIPTOR', 'OriginalFirstThunk': {'FileOffset': 8804, 'Offset': 0, 'Value': 0}, 'Characteristics': {'FileOffset': 8804, 'Offset': 0, 'Value': 0}, 'TimeDateStamp': {'FileOffset': 8808, 'Offset': 4, 'Value': '0x0        [Thu Jan  1 00:00:00 1970 UTC]'}, 'ForwarderChain': {'FileOffset': 8812, 'Offset': 8, 'Value': 0}, 'Name': {'FileOffset': 8816, 'Offset': 12, 'Value': 33024}, 'FirstThunk': {'FileOffset': 8820, 'Offset': 16, 'Value': 32956}}, {'DLL': b'WS2_32.dll', 'Ordinal': 3}]]\n",
            "[[{'Structure': 'IMAGE_IMPORT_DESCRIPTOR', 'OriginalFirstThunk': {'FileOffset': 8704, 'Offset': 0, 'Value': 0}, 'Characteristics': {'FileOffset': 8704, 'Offset': 0, 'Value': 0}, 'TimeDateStamp': {'FileOffset': 8708, 'Offset': 4, 'Value': '0x0        [Thu Jan  1 00:00:00 1970 UTC]'}, 'ForwarderChain': {'FileOffset': 8712, 'Offset': 8, 'Value': 0}, 'Name': {'FileOffset': 8716, 'Offset': 12, 'Value': 32964}, 'FirstThunk': {'FileOffset': 8720, 'Offset': 16, 'Value': 32908}}, {'DLL': b'KERNEL32.DLL', 'Name': b'LoadLibraryA', 'Hint': 0}, {'DLL': b'KERNEL32.DLL', 'Name': b'GetProcAddress', 'Hint': 0}, {'DLL': b'KERNEL32.DLL', 'Name': b'ExitProcess', 'Hint': 0}], [{'Structure': 'IMAGE_IMPORT_DESCRIPTOR', 'OriginalFirstThunk': {'FileOffset': 8724, 'Offset': 0, 'Value': 0}, 'Characteristics': {'FileOffset': 8724, 'Offset': 0, 'Value': 0}, 'TimeDateStamp': {'FileOffset': 8728, 'Offset': 4, 'Value': '0x0        [Thu Jan  1 00:00:00 1970 UTC]'}, 'ForwarderChain': {'FileOffset': 8732, 'Offset': 8, 'Value': 0}, 'Name': {'FileOffset': 8736, 'Offset': 12, 'Value': 32977}, 'FirstThunk': {'FileOffset': 8740, 'Offset': 16, 'Value': 32924}}, {'DLL': b'ADVAPI32.dll', 'Name': b'RegCloseKey', 'Hint': 0}], [{'Structure': 'IMAGE_IMPORT_DESCRIPTOR', 'OriginalFirstThunk': {'FileOffset': 8744, 'Offset': 0, 'Value': 0}, 'Characteristics': {'FileOffset': 8744, 'Offset': 0, 'Value': 0}, 'TimeDateStamp': {'FileOffset': 8748, 'Offset': 4, 'Value': '0x0        [Thu Jan  1 00:00:00 1970 UTC]'}, 'ForwarderChain': {'FileOffset': 8752, 'Offset': 8, 'Value': 0}, 'Name': {'FileOffset': 8756, 'Offset': 12, 'Value': 32990}, 'FirstThunk': {'FileOffset': 8760, 'Offset': 16, 'Value': 32932}}, {'DLL': b'MSVCRT.dll', 'Name': b'rand', 'Hint': 0}], [{'Structure': 'IMAGE_IMPORT_DESCRIPTOR', 'OriginalFirstThunk': {'FileOffset': 8764, 'Offset': 0, 'Value': 0}, 'Characteristics': {'FileOffset': 8764, 'Offset': 0, 'Value': 0}, 'TimeDateStamp': {'FileOffset': 8768, 'Offset': 4, 'Value': '0x0        [Thu Jan  1 00:00:00 1970 UTC]'}, 'ForwarderChain': {'FileOffset': 8772, 'Offset': 8, 'Value': 0}, 'Name': {'FileOffset': 8776, 'Offset': 12, 'Value': 33001}, 'FirstThunk': {'FileOffset': 8780, 'Offset': 16, 'Value': 32940}}, {'DLL': b'USER32.dll', 'Name': b'wsprintfA', 'Hint': 0}], [{'Structure': 'IMAGE_IMPORT_DESCRIPTOR', 'OriginalFirstThunk': {'FileOffset': 8784, 'Offset': 0, 'Value': 0}, 'Characteristics': {'FileOffset': 8784, 'Offset': 0, 'Value': 0}, 'TimeDateStamp': {'FileOffset': 8788, 'Offset': 4, 'Value': '0x0        [Thu Jan  1 00:00:00 1970 UTC]'}, 'ForwarderChain': {'FileOffset': 8792, 'Offset': 8, 'Value': 0}, 'Name': {'FileOffset': 8796, 'Offset': 12, 'Value': 33012}, 'FirstThunk': {'FileOffset': 8800, 'Offset': 16, 'Value': 32948}}, {'DLL': b'WININET.dll', 'Name': b'InternetOpenA', 'Hint': 0}], [{'Structure': 'IMAGE_IMPORT_DESCRIPTOR', 'OriginalFirstThunk': {'FileOffset': 8804, 'Offset': 0, 'Value': 0}, 'Characteristics': {'FileOffset': 8804, 'Offset': 0, 'Value': 0}, 'TimeDateStamp': {'FileOffset': 8808, 'Offset': 4, 'Value': '0x0        [Thu Jan  1 00:00:00 1970 UTC]'}, 'ForwarderChain': {'FileOffset': 8812, 'Offset': 8, 'Value': 0}, 'Name': {'FileOffset': 8816, 'Offset': 12, 'Value': 33024}, 'FirstThunk': {'FileOffset': 8820, 'Offset': 16, 'Value': 32956}}, {'DLL': b'WS2_32.dll', 'Ordinal': 3}]]\n",
            "[[{'Structure': 'IMAGE_IMPORT_DESCRIPTOR', 'OriginalFirstThunk': {'FileOffset': 8704, 'Offset': 0, 'Value': 0}, 'Characteristics': {'FileOffset': 8704, 'Offset': 0, 'Value': 0}, 'TimeDateStamp': {'FileOffset': 8708, 'Offset': 4, 'Value': '0x0        [Thu Jan  1 00:00:00 1970 UTC]'}, 'ForwarderChain': {'FileOffset': 8712, 'Offset': 8, 'Value': 0}, 'Name': {'FileOffset': 8716, 'Offset': 12, 'Value': 32964}, 'FirstThunk': {'FileOffset': 8720, 'Offset': 16, 'Value': 32908}}, {'DLL': b'KERNEL32.DLL', 'Name': b'LoadLibraryA', 'Hint': 0}, {'DLL': b'KERNEL32.DLL', 'Name': b'GetProcAddress', 'Hint': 0}, {'DLL': b'KERNEL32.DLL', 'Name': b'ExitProcess', 'Hint': 0}], [{'Structure': 'IMAGE_IMPORT_DESCRIPTOR', 'OriginalFirstThunk': {'FileOffset': 8724, 'Offset': 0, 'Value': 0}, 'Characteristics': {'FileOffset': 8724, 'Offset': 0, 'Value': 0}, 'TimeDateStamp': {'FileOffset': 8728, 'Offset': 4, 'Value': '0x0        [Thu Jan  1 00:00:00 1970 UTC]'}, 'ForwarderChain': {'FileOffset': 8732, 'Offset': 8, 'Value': 0}, 'Name': {'FileOffset': 8736, 'Offset': 12, 'Value': 32977}, 'FirstThunk': {'FileOffset': 8740, 'Offset': 16, 'Value': 32924}}, {'DLL': b'ADVAPI32.dll', 'Name': b'RegCloseKey', 'Hint': 0}], [{'Structure': 'IMAGE_IMPORT_DESCRIPTOR', 'OriginalFirstThunk': {'FileOffset': 8744, 'Offset': 0, 'Value': 0}, 'Characteristics': {'FileOffset': 8744, 'Offset': 0, 'Value': 0}, 'TimeDateStamp': {'FileOffset': 8748, 'Offset': 4, 'Value': '0x0        [Thu Jan  1 00:00:00 1970 UTC]'}, 'ForwarderChain': {'FileOffset': 8752, 'Offset': 8, 'Value': 0}, 'Name': {'FileOffset': 8756, 'Offset': 12, 'Value': 32990}, 'FirstThunk': {'FileOffset': 8760, 'Offset': 16, 'Value': 32932}}, {'DLL': b'MSVCRT.dll', 'Name': b'rand', 'Hint': 0}], [{'Structure': 'IMAGE_IMPORT_DESCRIPTOR', 'OriginalFirstThunk': {'FileOffset': 8764, 'Offset': 0, 'Value': 0}, 'Characteristics': {'FileOffset': 8764, 'Offset': 0, 'Value': 0}, 'TimeDateStamp': {'FileOffset': 8768, 'Offset': 4, 'Value': '0x0        [Thu Jan  1 00:00:00 1970 UTC]'}, 'ForwarderChain': {'FileOffset': 8772, 'Offset': 8, 'Value': 0}, 'Name': {'FileOffset': 8776, 'Offset': 12, 'Value': 33001}, 'FirstThunk': {'FileOffset': 8780, 'Offset': 16, 'Value': 32940}}, {'DLL': b'USER32.dll', 'Name': b'wsprintfA', 'Hint': 0}], [{'Structure': 'IMAGE_IMPORT_DESCRIPTOR', 'OriginalFirstThunk': {'FileOffset': 8784, 'Offset': 0, 'Value': 0}, 'Characteristics': {'FileOffset': 8784, 'Offset': 0, 'Value': 0}, 'TimeDateStamp': {'FileOffset': 8788, 'Offset': 4, 'Value': '0x0        [Thu Jan  1 00:00:00 1970 UTC]'}, 'ForwarderChain': {'FileOffset': 8792, 'Offset': 8, 'Value': 0}, 'Name': {'FileOffset': 8796, 'Offset': 12, 'Value': 33012}, 'FirstThunk': {'FileOffset': 8800, 'Offset': 16, 'Value': 32948}}, {'DLL': b'WININET.dll', 'Name': b'InternetOpenA', 'Hint': 0}], [{'Structure': 'IMAGE_IMPORT_DESCRIPTOR', 'OriginalFirstThunk': {'FileOffset': 8804, 'Offset': 0, 'Value': 0}, 'Characteristics': {'FileOffset': 8804, 'Offset': 0, 'Value': 0}, 'TimeDateStamp': {'FileOffset': 8808, 'Offset': 4, 'Value': '0x0        [Thu Jan  1 00:00:00 1970 UTC]'}, 'ForwarderChain': {'FileOffset': 8812, 'Offset': 8, 'Value': 0}, 'Name': {'FileOffset': 8816, 'Offset': 12, 'Value': 33024}, 'FirstThunk': {'FileOffset': 8820, 'Offset': 16, 'Value': 32956}}, {'DLL': b'WS2_32.dll', 'Ordinal': 3}]]\n",
            "[[{'Structure': 'IMAGE_IMPORT_DESCRIPTOR', 'OriginalFirstThunk': {'FileOffset': 8704, 'Offset': 0, 'Value': 0}, 'Characteristics': {'FileOffset': 8704, 'Offset': 0, 'Value': 0}, 'TimeDateStamp': {'FileOffset': 8708, 'Offset': 4, 'Value': '0x0        [Thu Jan  1 00:00:00 1970 UTC]'}, 'ForwarderChain': {'FileOffset': 8712, 'Offset': 8, 'Value': 0}, 'Name': {'FileOffset': 8716, 'Offset': 12, 'Value': 32964}, 'FirstThunk': {'FileOffset': 8720, 'Offset': 16, 'Value': 32908}}, {'DLL': b'KERNEL32.DLL', 'Name': b'LoadLibraryA', 'Hint': 0}, {'DLL': b'KERNEL32.DLL', 'Name': b'GetProcAddress', 'Hint': 0}, {'DLL': b'KERNEL32.DLL', 'Name': b'ExitProcess', 'Hint': 0}], [{'Structure': 'IMAGE_IMPORT_DESCRIPTOR', 'OriginalFirstThunk': {'FileOffset': 8724, 'Offset': 0, 'Value': 0}, 'Characteristics': {'FileOffset': 8724, 'Offset': 0, 'Value': 0}, 'TimeDateStamp': {'FileOffset': 8728, 'Offset': 4, 'Value': '0x0        [Thu Jan  1 00:00:00 1970 UTC]'}, 'ForwarderChain': {'FileOffset': 8732, 'Offset': 8, 'Value': 0}, 'Name': {'FileOffset': 8736, 'Offset': 12, 'Value': 32977}, 'FirstThunk': {'FileOffset': 8740, 'Offset': 16, 'Value': 32924}}, {'DLL': b'ADVAPI32.dll', 'Name': b'RegCloseKey', 'Hint': 0}], [{'Structure': 'IMAGE_IMPORT_DESCRIPTOR', 'OriginalFirstThunk': {'FileOffset': 8744, 'Offset': 0, 'Value': 0}, 'Characteristics': {'FileOffset': 8744, 'Offset': 0, 'Value': 0}, 'TimeDateStamp': {'FileOffset': 8748, 'Offset': 4, 'Value': '0x0        [Thu Jan  1 00:00:00 1970 UTC]'}, 'ForwarderChain': {'FileOffset': 8752, 'Offset': 8, 'Value': 0}, 'Name': {'FileOffset': 8756, 'Offset': 12, 'Value': 32990}, 'FirstThunk': {'FileOffset': 8760, 'Offset': 16, 'Value': 32932}}, {'DLL': b'MSVCRT.dll', 'Name': b'rand', 'Hint': 0}], [{'Structure': 'IMAGE_IMPORT_DESCRIPTOR', 'OriginalFirstThunk': {'FileOffset': 8764, 'Offset': 0, 'Value': 0}, 'Characteristics': {'FileOffset': 8764, 'Offset': 0, 'Value': 0}, 'TimeDateStamp': {'FileOffset': 8768, 'Offset': 4, 'Value': '0x0        [Thu Jan  1 00:00:00 1970 UTC]'}, 'ForwarderChain': {'FileOffset': 8772, 'Offset': 8, 'Value': 0}, 'Name': {'FileOffset': 8776, 'Offset': 12, 'Value': 33001}, 'FirstThunk': {'FileOffset': 8780, 'Offset': 16, 'Value': 32940}}, {'DLL': b'USER32.dll', 'Name': b'wsprintfA', 'Hint': 0}], [{'Structure': 'IMAGE_IMPORT_DESCRIPTOR', 'OriginalFirstThunk': {'FileOffset': 8784, 'Offset': 0, 'Value': 0}, 'Characteristics': {'FileOffset': 8784, 'Offset': 0, 'Value': 0}, 'TimeDateStamp': {'FileOffset': 8788, 'Offset': 4, 'Value': '0x0        [Thu Jan  1 00:00:00 1970 UTC]'}, 'ForwarderChain': {'FileOffset': 8792, 'Offset': 8, 'Value': 0}, 'Name': {'FileOffset': 8796, 'Offset': 12, 'Value': 33012}, 'FirstThunk': {'FileOffset': 8800, 'Offset': 16, 'Value': 32948}}, {'DLL': b'WININET.dll', 'Name': b'InternetOpenA', 'Hint': 0}], [{'Structure': 'IMAGE_IMPORT_DESCRIPTOR', 'OriginalFirstThunk': {'FileOffset': 8804, 'Offset': 0, 'Value': 0}, 'Characteristics': {'FileOffset': 8804, 'Offset': 0, 'Value': 0}, 'TimeDateStamp': {'FileOffset': 8808, 'Offset': 4, 'Value': '0x0        [Thu Jan  1 00:00:00 1970 UTC]'}, 'ForwarderChain': {'FileOffset': 8812, 'Offset': 8, 'Value': 0}, 'Name': {'FileOffset': 8816, 'Offset': 12, 'Value': 33024}, 'FirstThunk': {'FileOffset': 8820, 'Offset': 16, 'Value': 32956}}, {'DLL': b'WS2_32.dll', 'Ordinal': 3}]]\n",
            "[[{'Structure': 'IMAGE_IMPORT_DESCRIPTOR', 'OriginalFirstThunk': {'FileOffset': 8704, 'Offset': 0, 'Value': 0}, 'Characteristics': {'FileOffset': 8704, 'Offset': 0, 'Value': 0}, 'TimeDateStamp': {'FileOffset': 8708, 'Offset': 4, 'Value': '0x0        [Thu Jan  1 00:00:00 1970 UTC]'}, 'ForwarderChain': {'FileOffset': 8712, 'Offset': 8, 'Value': 0}, 'Name': {'FileOffset': 8716, 'Offset': 12, 'Value': 32964}, 'FirstThunk': {'FileOffset': 8720, 'Offset': 16, 'Value': 32908}}, {'DLL': b'KERNEL32.DLL', 'Name': b'LoadLibraryA', 'Hint': 0}, {'DLL': b'KERNEL32.DLL', 'Name': b'GetProcAddress', 'Hint': 0}, {'DLL': b'KERNEL32.DLL', 'Name': b'ExitProcess', 'Hint': 0}], [{'Structure': 'IMAGE_IMPORT_DESCRIPTOR', 'OriginalFirstThunk': {'FileOffset': 8724, 'Offset': 0, 'Value': 0}, 'Characteristics': {'FileOffset': 8724, 'Offset': 0, 'Value': 0}, 'TimeDateStamp': {'FileOffset': 8728, 'Offset': 4, 'Value': '0x0        [Thu Jan  1 00:00:00 1970 UTC]'}, 'ForwarderChain': {'FileOffset': 8732, 'Offset': 8, 'Value': 0}, 'Name': {'FileOffset': 8736, 'Offset': 12, 'Value': 32977}, 'FirstThunk': {'FileOffset': 8740, 'Offset': 16, 'Value': 32924}}, {'DLL': b'ADVAPI32.dll', 'Name': b'RegCloseKey', 'Hint': 0}], [{'Structure': 'IMAGE_IMPORT_DESCRIPTOR', 'OriginalFirstThunk': {'FileOffset': 8744, 'Offset': 0, 'Value': 0}, 'Characteristics': {'FileOffset': 8744, 'Offset': 0, 'Value': 0}, 'TimeDateStamp': {'FileOffset': 8748, 'Offset': 4, 'Value': '0x0        [Thu Jan  1 00:00:00 1970 UTC]'}, 'ForwarderChain': {'FileOffset': 8752, 'Offset': 8, 'Value': 0}, 'Name': {'FileOffset': 8756, 'Offset': 12, 'Value': 32990}, 'FirstThunk': {'FileOffset': 8760, 'Offset': 16, 'Value': 32932}}, {'DLL': b'MSVCRT.dll', 'Name': b'rand', 'Hint': 0}], [{'Structure': 'IMAGE_IMPORT_DESCRIPTOR', 'OriginalFirstThunk': {'FileOffset': 8764, 'Offset': 0, 'Value': 0}, 'Characteristics': {'FileOffset': 8764, 'Offset': 0, 'Value': 0}, 'TimeDateStamp': {'FileOffset': 8768, 'Offset': 4, 'Value': '0x0        [Thu Jan  1 00:00:00 1970 UTC]'}, 'ForwarderChain': {'FileOffset': 8772, 'Offset': 8, 'Value': 0}, 'Name': {'FileOffset': 8776, 'Offset': 12, 'Value': 33001}, 'FirstThunk': {'FileOffset': 8780, 'Offset': 16, 'Value': 32940}}, {'DLL': b'USER32.dll', 'Name': b'wsprintfA', 'Hint': 0}], [{'Structure': 'IMAGE_IMPORT_DESCRIPTOR', 'OriginalFirstThunk': {'FileOffset': 8784, 'Offset': 0, 'Value': 0}, 'Characteristics': {'FileOffset': 8784, 'Offset': 0, 'Value': 0}, 'TimeDateStamp': {'FileOffset': 8788, 'Offset': 4, 'Value': '0x0        [Thu Jan  1 00:00:00 1970 UTC]'}, 'ForwarderChain': {'FileOffset': 8792, 'Offset': 8, 'Value': 0}, 'Name': {'FileOffset': 8796, 'Offset': 12, 'Value': 33012}, 'FirstThunk': {'FileOffset': 8800, 'Offset': 16, 'Value': 32948}}, {'DLL': b'WININET.dll', 'Name': b'InternetOpenA', 'Hint': 0}], [{'Structure': 'IMAGE_IMPORT_DESCRIPTOR', 'OriginalFirstThunk': {'FileOffset': 8804, 'Offset': 0, 'Value': 0}, 'Characteristics': {'FileOffset': 8804, 'Offset': 0, 'Value': 0}, 'TimeDateStamp': {'FileOffset': 8808, 'Offset': 4, 'Value': '0x0        [Thu Jan  1 00:00:00 1970 UTC]'}, 'ForwarderChain': {'FileOffset': 8812, 'Offset': 8, 'Value': 0}, 'Name': {'FileOffset': 8816, 'Offset': 12, 'Value': 33024}, 'FirstThunk': {'FileOffset': 8820, 'Offset': 16, 'Value': 32956}}, {'DLL': b'WS2_32.dll', 'Ordinal': 3}]]\n",
            "[[{'Structure': 'IMAGE_IMPORT_DESCRIPTOR', 'OriginalFirstThunk': {'FileOffset': 8704, 'Offset': 0, 'Value': 0}, 'Characteristics': {'FileOffset': 8704, 'Offset': 0, 'Value': 0}, 'TimeDateStamp': {'FileOffset': 8708, 'Offset': 4, 'Value': '0x0        [Thu Jan  1 00:00:00 1970 UTC]'}, 'ForwarderChain': {'FileOffset': 8712, 'Offset': 8, 'Value': 0}, 'Name': {'FileOffset': 8716, 'Offset': 12, 'Value': 32964}, 'FirstThunk': {'FileOffset': 8720, 'Offset': 16, 'Value': 32908}}, {'DLL': b'KERNEL32.DLL', 'Name': b'LoadLibraryA', 'Hint': 0}, {'DLL': b'KERNEL32.DLL', 'Name': b'GetProcAddress', 'Hint': 0}, {'DLL': b'KERNEL32.DLL', 'Name': b'ExitProcess', 'Hint': 0}], [{'Structure': 'IMAGE_IMPORT_DESCRIPTOR', 'OriginalFirstThunk': {'FileOffset': 8724, 'Offset': 0, 'Value': 0}, 'Characteristics': {'FileOffset': 8724, 'Offset': 0, 'Value': 0}, 'TimeDateStamp': {'FileOffset': 8728, 'Offset': 4, 'Value': '0x0        [Thu Jan  1 00:00:00 1970 UTC]'}, 'ForwarderChain': {'FileOffset': 8732, 'Offset': 8, 'Value': 0}, 'Name': {'FileOffset': 8736, 'Offset': 12, 'Value': 32977}, 'FirstThunk': {'FileOffset': 8740, 'Offset': 16, 'Value': 32924}}, {'DLL': b'ADVAPI32.dll', 'Name': b'RegCloseKey', 'Hint': 0}], [{'Structure': 'IMAGE_IMPORT_DESCRIPTOR', 'OriginalFirstThunk': {'FileOffset': 8744, 'Offset': 0, 'Value': 0}, 'Characteristics': {'FileOffset': 8744, 'Offset': 0, 'Value': 0}, 'TimeDateStamp': {'FileOffset': 8748, 'Offset': 4, 'Value': '0x0        [Thu Jan  1 00:00:00 1970 UTC]'}, 'ForwarderChain': {'FileOffset': 8752, 'Offset': 8, 'Value': 0}, 'Name': {'FileOffset': 8756, 'Offset': 12, 'Value': 32990}, 'FirstThunk': {'FileOffset': 8760, 'Offset': 16, 'Value': 32932}}, {'DLL': b'MSVCRT.dll', 'Name': b'rand', 'Hint': 0}], [{'Structure': 'IMAGE_IMPORT_DESCRIPTOR', 'OriginalFirstThunk': {'FileOffset': 8764, 'Offset': 0, 'Value': 0}, 'Characteristics': {'FileOffset': 8764, 'Offset': 0, 'Value': 0}, 'TimeDateStamp': {'FileOffset': 8768, 'Offset': 4, 'Value': '0x0        [Thu Jan  1 00:00:00 1970 UTC]'}, 'ForwarderChain': {'FileOffset': 8772, 'Offset': 8, 'Value': 0}, 'Name': {'FileOffset': 8776, 'Offset': 12, 'Value': 33001}, 'FirstThunk': {'FileOffset': 8780, 'Offset': 16, 'Value': 32940}}, {'DLL': b'USER32.dll', 'Name': b'wsprintfA', 'Hint': 0}], [{'Structure': 'IMAGE_IMPORT_DESCRIPTOR', 'OriginalFirstThunk': {'FileOffset': 8784, 'Offset': 0, 'Value': 0}, 'Characteristics': {'FileOffset': 8784, 'Offset': 0, 'Value': 0}, 'TimeDateStamp': {'FileOffset': 8788, 'Offset': 4, 'Value': '0x0        [Thu Jan  1 00:00:00 1970 UTC]'}, 'ForwarderChain': {'FileOffset': 8792, 'Offset': 8, 'Value': 0}, 'Name': {'FileOffset': 8796, 'Offset': 12, 'Value': 33012}, 'FirstThunk': {'FileOffset': 8800, 'Offset': 16, 'Value': 32948}}, {'DLL': b'WININET.dll', 'Name': b'InternetOpenA', 'Hint': 0}], [{'Structure': 'IMAGE_IMPORT_DESCRIPTOR', 'OriginalFirstThunk': {'FileOffset': 8804, 'Offset': 0, 'Value': 0}, 'Characteristics': {'FileOffset': 8804, 'Offset': 0, 'Value': 0}, 'TimeDateStamp': {'FileOffset': 8808, 'Offset': 4, 'Value': '0x0        [Thu Jan  1 00:00:00 1970 UTC]'}, 'ForwarderChain': {'FileOffset': 8812, 'Offset': 8, 'Value': 0}, 'Name': {'FileOffset': 8816, 'Offset': 12, 'Value': 33024}, 'FirstThunk': {'FileOffset': 8820, 'Offset': 16, 'Value': 32956}}, {'DLL': b'WS2_32.dll', 'Ordinal': 3}]]\n",
            "[[{'Structure': 'IMAGE_IMPORT_DESCRIPTOR', 'OriginalFirstThunk': {'FileOffset': 8704, 'Offset': 0, 'Value': 0}, 'Characteristics': {'FileOffset': 8704, 'Offset': 0, 'Value': 0}, 'TimeDateStamp': {'FileOffset': 8708, 'Offset': 4, 'Value': '0x0        [Thu Jan  1 00:00:00 1970 UTC]'}, 'ForwarderChain': {'FileOffset': 8712, 'Offset': 8, 'Value': 0}, 'Name': {'FileOffset': 8716, 'Offset': 12, 'Value': 32964}, 'FirstThunk': {'FileOffset': 8720, 'Offset': 16, 'Value': 32908}}, {'DLL': b'KERNEL32.DLL', 'Name': b'LoadLibraryA', 'Hint': 0}, {'DLL': b'KERNEL32.DLL', 'Name': b'GetProcAddress', 'Hint': 0}, {'DLL': b'KERNEL32.DLL', 'Name': b'ExitProcess', 'Hint': 0}], [{'Structure': 'IMAGE_IMPORT_DESCRIPTOR', 'OriginalFirstThunk': {'FileOffset': 8724, 'Offset': 0, 'Value': 0}, 'Characteristics': {'FileOffset': 8724, 'Offset': 0, 'Value': 0}, 'TimeDateStamp': {'FileOffset': 8728, 'Offset': 4, 'Value': '0x0        [Thu Jan  1 00:00:00 1970 UTC]'}, 'ForwarderChain': {'FileOffset': 8732, 'Offset': 8, 'Value': 0}, 'Name': {'FileOffset': 8736, 'Offset': 12, 'Value': 32977}, 'FirstThunk': {'FileOffset': 8740, 'Offset': 16, 'Value': 32924}}, {'DLL': b'ADVAPI32.dll', 'Name': b'RegCloseKey', 'Hint': 0}], [{'Structure': 'IMAGE_IMPORT_DESCRIPTOR', 'OriginalFirstThunk': {'FileOffset': 8744, 'Offset': 0, 'Value': 0}, 'Characteristics': {'FileOffset': 8744, 'Offset': 0, 'Value': 0}, 'TimeDateStamp': {'FileOffset': 8748, 'Offset': 4, 'Value': '0x0        [Thu Jan  1 00:00:00 1970 UTC]'}, 'ForwarderChain': {'FileOffset': 8752, 'Offset': 8, 'Value': 0}, 'Name': {'FileOffset': 8756, 'Offset': 12, 'Value': 32990}, 'FirstThunk': {'FileOffset': 8760, 'Offset': 16, 'Value': 32932}}, {'DLL': b'MSVCRT.dll', 'Name': b'rand', 'Hint': 0}], [{'Structure': 'IMAGE_IMPORT_DESCRIPTOR', 'OriginalFirstThunk': {'FileOffset': 8764, 'Offset': 0, 'Value': 0}, 'Characteristics': {'FileOffset': 8764, 'Offset': 0, 'Value': 0}, 'TimeDateStamp': {'FileOffset': 8768, 'Offset': 4, 'Value': '0x0        [Thu Jan  1 00:00:00 1970 UTC]'}, 'ForwarderChain': {'FileOffset': 8772, 'Offset': 8, 'Value': 0}, 'Name': {'FileOffset': 8776, 'Offset': 12, 'Value': 33001}, 'FirstThunk': {'FileOffset': 8780, 'Offset': 16, 'Value': 32940}}, {'DLL': b'USER32.dll', 'Name': b'wsprintfA', 'Hint': 0}], [{'Structure': 'IMAGE_IMPORT_DESCRIPTOR', 'OriginalFirstThunk': {'FileOffset': 8784, 'Offset': 0, 'Value': 0}, 'Characteristics': {'FileOffset': 8784, 'Offset': 0, 'Value': 0}, 'TimeDateStamp': {'FileOffset': 8788, 'Offset': 4, 'Value': '0x0        [Thu Jan  1 00:00:00 1970 UTC]'}, 'ForwarderChain': {'FileOffset': 8792, 'Offset': 8, 'Value': 0}, 'Name': {'FileOffset': 8796, 'Offset': 12, 'Value': 33012}, 'FirstThunk': {'FileOffset': 8800, 'Offset': 16, 'Value': 32948}}, {'DLL': b'WININET.dll', 'Name': b'InternetOpenA', 'Hint': 0}], [{'Structure': 'IMAGE_IMPORT_DESCRIPTOR', 'OriginalFirstThunk': {'FileOffset': 8804, 'Offset': 0, 'Value': 0}, 'Characteristics': {'FileOffset': 8804, 'Offset': 0, 'Value': 0}, 'TimeDateStamp': {'FileOffset': 8808, 'Offset': 4, 'Value': '0x0        [Thu Jan  1 00:00:00 1970 UTC]'}, 'ForwarderChain': {'FileOffset': 8812, 'Offset': 8, 'Value': 0}, 'Name': {'FileOffset': 8816, 'Offset': 12, 'Value': 33024}, 'FirstThunk': {'FileOffset': 8820, 'Offset': 16, 'Value': 32956}}, {'DLL': b'WS2_32.dll', 'Ordinal': 3}]]\n",
            "[[{'Structure': 'IMAGE_IMPORT_DESCRIPTOR', 'OriginalFirstThunk': {'FileOffset': 8704, 'Offset': 0, 'Value': 0}, 'Characteristics': {'FileOffset': 8704, 'Offset': 0, 'Value': 0}, 'TimeDateStamp': {'FileOffset': 8708, 'Offset': 4, 'Value': '0x0        [Thu Jan  1 00:00:00 1970 UTC]'}, 'ForwarderChain': {'FileOffset': 8712, 'Offset': 8, 'Value': 0}, 'Name': {'FileOffset': 8716, 'Offset': 12, 'Value': 32964}, 'FirstThunk': {'FileOffset': 8720, 'Offset': 16, 'Value': 32908}}, {'DLL': b'KERNEL32.DLL', 'Name': b'LoadLibraryA', 'Hint': 0}, {'DLL': b'KERNEL32.DLL', 'Name': b'GetProcAddress', 'Hint': 0}, {'DLL': b'KERNEL32.DLL', 'Name': b'ExitProcess', 'Hint': 0}], [{'Structure': 'IMAGE_IMPORT_DESCRIPTOR', 'OriginalFirstThunk': {'FileOffset': 8724, 'Offset': 0, 'Value': 0}, 'Characteristics': {'FileOffset': 8724, 'Offset': 0, 'Value': 0}, 'TimeDateStamp': {'FileOffset': 8728, 'Offset': 4, 'Value': '0x0        [Thu Jan  1 00:00:00 1970 UTC]'}, 'ForwarderChain': {'FileOffset': 8732, 'Offset': 8, 'Value': 0}, 'Name': {'FileOffset': 8736, 'Offset': 12, 'Value': 32977}, 'FirstThunk': {'FileOffset': 8740, 'Offset': 16, 'Value': 32924}}, {'DLL': b'ADVAPI32.dll', 'Name': b'RegCloseKey', 'Hint': 0}], [{'Structure': 'IMAGE_IMPORT_DESCRIPTOR', 'OriginalFirstThunk': {'FileOffset': 8744, 'Offset': 0, 'Value': 0}, 'Characteristics': {'FileOffset': 8744, 'Offset': 0, 'Value': 0}, 'TimeDateStamp': {'FileOffset': 8748, 'Offset': 4, 'Value': '0x0        [Thu Jan  1 00:00:00 1970 UTC]'}, 'ForwarderChain': {'FileOffset': 8752, 'Offset': 8, 'Value': 0}, 'Name': {'FileOffset': 8756, 'Offset': 12, 'Value': 32990}, 'FirstThunk': {'FileOffset': 8760, 'Offset': 16, 'Value': 32932}}, {'DLL': b'MSVCRT.dll', 'Name': b'rand', 'Hint': 0}], [{'Structure': 'IMAGE_IMPORT_DESCRIPTOR', 'OriginalFirstThunk': {'FileOffset': 8764, 'Offset': 0, 'Value': 0}, 'Characteristics': {'FileOffset': 8764, 'Offset': 0, 'Value': 0}, 'TimeDateStamp': {'FileOffset': 8768, 'Offset': 4, 'Value': '0x0        [Thu Jan  1 00:00:00 1970 UTC]'}, 'ForwarderChain': {'FileOffset': 8772, 'Offset': 8, 'Value': 0}, 'Name': {'FileOffset': 8776, 'Offset': 12, 'Value': 33001}, 'FirstThunk': {'FileOffset': 8780, 'Offset': 16, 'Value': 32940}}, {'DLL': b'USER32.dll', 'Name': b'wsprintfA', 'Hint': 0}], [{'Structure': 'IMAGE_IMPORT_DESCRIPTOR', 'OriginalFirstThunk': {'FileOffset': 8784, 'Offset': 0, 'Value': 0}, 'Characteristics': {'FileOffset': 8784, 'Offset': 0, 'Value': 0}, 'TimeDateStamp': {'FileOffset': 8788, 'Offset': 4, 'Value': '0x0        [Thu Jan  1 00:00:00 1970 UTC]'}, 'ForwarderChain': {'FileOffset': 8792, 'Offset': 8, 'Value': 0}, 'Name': {'FileOffset': 8796, 'Offset': 12, 'Value': 33012}, 'FirstThunk': {'FileOffset': 8800, 'Offset': 16, 'Value': 32948}}, {'DLL': b'WININET.dll', 'Name': b'InternetOpenA', 'Hint': 0}], [{'Structure': 'IMAGE_IMPORT_DESCRIPTOR', 'OriginalFirstThunk': {'FileOffset': 8804, 'Offset': 0, 'Value': 0}, 'Characteristics': {'FileOffset': 8804, 'Offset': 0, 'Value': 0}, 'TimeDateStamp': {'FileOffset': 8808, 'Offset': 4, 'Value': '0x0        [Thu Jan  1 00:00:00 1970 UTC]'}, 'ForwarderChain': {'FileOffset': 8812, 'Offset': 8, 'Value': 0}, 'Name': {'FileOffset': 8816, 'Offset': 12, 'Value': 33024}, 'FirstThunk': {'FileOffset': 8820, 'Offset': 16, 'Value': 32956}}, {'DLL': b'WS2_32.dll', 'Ordinal': 3}]]\n",
            "[[{'Structure': 'IMAGE_IMPORT_DESCRIPTOR', 'OriginalFirstThunk': {'FileOffset': 8704, 'Offset': 0, 'Value': 0}, 'Characteristics': {'FileOffset': 8704, 'Offset': 0, 'Value': 0}, 'TimeDateStamp': {'FileOffset': 8708, 'Offset': 4, 'Value': '0x0        [Thu Jan  1 00:00:00 1970 UTC]'}, 'ForwarderChain': {'FileOffset': 8712, 'Offset': 8, 'Value': 0}, 'Name': {'FileOffset': 8716, 'Offset': 12, 'Value': 32964}, 'FirstThunk': {'FileOffset': 8720, 'Offset': 16, 'Value': 32908}}, {'DLL': b'KERNEL32.DLL', 'Name': b'LoadLibraryA', 'Hint': 0}, {'DLL': b'KERNEL32.DLL', 'Name': b'GetProcAddress', 'Hint': 0}, {'DLL': b'KERNEL32.DLL', 'Name': b'ExitProcess', 'Hint': 0}], [{'Structure': 'IMAGE_IMPORT_DESCRIPTOR', 'OriginalFirstThunk': {'FileOffset': 8724, 'Offset': 0, 'Value': 0}, 'Characteristics': {'FileOffset': 8724, 'Offset': 0, 'Value': 0}, 'TimeDateStamp': {'FileOffset': 8728, 'Offset': 4, 'Value': '0x0        [Thu Jan  1 00:00:00 1970 UTC]'}, 'ForwarderChain': {'FileOffset': 8732, 'Offset': 8, 'Value': 0}, 'Name': {'FileOffset': 8736, 'Offset': 12, 'Value': 32977}, 'FirstThunk': {'FileOffset': 8740, 'Offset': 16, 'Value': 32924}}, {'DLL': b'ADVAPI32.dll', 'Name': b'RegCloseKey', 'Hint': 0}], [{'Structure': 'IMAGE_IMPORT_DESCRIPTOR', 'OriginalFirstThunk': {'FileOffset': 8744, 'Offset': 0, 'Value': 0}, 'Characteristics': {'FileOffset': 8744, 'Offset': 0, 'Value': 0}, 'TimeDateStamp': {'FileOffset': 8748, 'Offset': 4, 'Value': '0x0        [Thu Jan  1 00:00:00 1970 UTC]'}, 'ForwarderChain': {'FileOffset': 8752, 'Offset': 8, 'Value': 0}, 'Name': {'FileOffset': 8756, 'Offset': 12, 'Value': 32990}, 'FirstThunk': {'FileOffset': 8760, 'Offset': 16, 'Value': 32932}}, {'DLL': b'MSVCRT.dll', 'Name': b'rand', 'Hint': 0}], [{'Structure': 'IMAGE_IMPORT_DESCRIPTOR', 'OriginalFirstThunk': {'FileOffset': 8764, 'Offset': 0, 'Value': 0}, 'Characteristics': {'FileOffset': 8764, 'Offset': 0, 'Value': 0}, 'TimeDateStamp': {'FileOffset': 8768, 'Offset': 4, 'Value': '0x0        [Thu Jan  1 00:00:00 1970 UTC]'}, 'ForwarderChain': {'FileOffset': 8772, 'Offset': 8, 'Value': 0}, 'Name': {'FileOffset': 8776, 'Offset': 12, 'Value': 33001}, 'FirstThunk': {'FileOffset': 8780, 'Offset': 16, 'Value': 32940}}, {'DLL': b'USER32.dll', 'Name': b'wsprintfA', 'Hint': 0}], [{'Structure': 'IMAGE_IMPORT_DESCRIPTOR', 'OriginalFirstThunk': {'FileOffset': 8784, 'Offset': 0, 'Value': 0}, 'Characteristics': {'FileOffset': 8784, 'Offset': 0, 'Value': 0}, 'TimeDateStamp': {'FileOffset': 8788, 'Offset': 4, 'Value': '0x0        [Thu Jan  1 00:00:00 1970 UTC]'}, 'ForwarderChain': {'FileOffset': 8792, 'Offset': 8, 'Value': 0}, 'Name': {'FileOffset': 8796, 'Offset': 12, 'Value': 33012}, 'FirstThunk': {'FileOffset': 8800, 'Offset': 16, 'Value': 32948}}, {'DLL': b'WININET.dll', 'Name': b'InternetOpenA', 'Hint': 0}], [{'Structure': 'IMAGE_IMPORT_DESCRIPTOR', 'OriginalFirstThunk': {'FileOffset': 8804, 'Offset': 0, 'Value': 0}, 'Characteristics': {'FileOffset': 8804, 'Offset': 0, 'Value': 0}, 'TimeDateStamp': {'FileOffset': 8808, 'Offset': 4, 'Value': '0x0        [Thu Jan  1 00:00:00 1970 UTC]'}, 'ForwarderChain': {'FileOffset': 8812, 'Offset': 8, 'Value': 0}, 'Name': {'FileOffset': 8816, 'Offset': 12, 'Value': 33024}, 'FirstThunk': {'FileOffset': 8820, 'Offset': 16, 'Value': 32956}}, {'DLL': b'WS2_32.dll', 'Ordinal': 3}]]\n",
            "[[{'Structure': 'IMAGE_IMPORT_DESCRIPTOR', 'OriginalFirstThunk': {'FileOffset': 8704, 'Offset': 0, 'Value': 0}, 'Characteristics': {'FileOffset': 8704, 'Offset': 0, 'Value': 0}, 'TimeDateStamp': {'FileOffset': 8708, 'Offset': 4, 'Value': '0x0        [Thu Jan  1 00:00:00 1970 UTC]'}, 'ForwarderChain': {'FileOffset': 8712, 'Offset': 8, 'Value': 0}, 'Name': {'FileOffset': 8716, 'Offset': 12, 'Value': 32964}, 'FirstThunk': {'FileOffset': 8720, 'Offset': 16, 'Value': 32908}}, {'DLL': b'KERNEL32.DLL', 'Name': b'LoadLibraryA', 'Hint': 0}, {'DLL': b'KERNEL32.DLL', 'Name': b'GetProcAddress', 'Hint': 0}, {'DLL': b'KERNEL32.DLL', 'Name': b'ExitProcess', 'Hint': 0}], [{'Structure': 'IMAGE_IMPORT_DESCRIPTOR', 'OriginalFirstThunk': {'FileOffset': 8724, 'Offset': 0, 'Value': 0}, 'Characteristics': {'FileOffset': 8724, 'Offset': 0, 'Value': 0}, 'TimeDateStamp': {'FileOffset': 8728, 'Offset': 4, 'Value': '0x0        [Thu Jan  1 00:00:00 1970 UTC]'}, 'ForwarderChain': {'FileOffset': 8732, 'Offset': 8, 'Value': 0}, 'Name': {'FileOffset': 8736, 'Offset': 12, 'Value': 32977}, 'FirstThunk': {'FileOffset': 8740, 'Offset': 16, 'Value': 32924}}, {'DLL': b'ADVAPI32.dll', 'Name': b'RegCloseKey', 'Hint': 0}], [{'Structure': 'IMAGE_IMPORT_DESCRIPTOR', 'OriginalFirstThunk': {'FileOffset': 8744, 'Offset': 0, 'Value': 0}, 'Characteristics': {'FileOffset': 8744, 'Offset': 0, 'Value': 0}, 'TimeDateStamp': {'FileOffset': 8748, 'Offset': 4, 'Value': '0x0        [Thu Jan  1 00:00:00 1970 UTC]'}, 'ForwarderChain': {'FileOffset': 8752, 'Offset': 8, 'Value': 0}, 'Name': {'FileOffset': 8756, 'Offset': 12, 'Value': 32990}, 'FirstThunk': {'FileOffset': 8760, 'Offset': 16, 'Value': 32932}}, {'DLL': b'MSVCRT.dll', 'Name': b'rand', 'Hint': 0}], [{'Structure': 'IMAGE_IMPORT_DESCRIPTOR', 'OriginalFirstThunk': {'FileOffset': 8764, 'Offset': 0, 'Value': 0}, 'Characteristics': {'FileOffset': 8764, 'Offset': 0, 'Value': 0}, 'TimeDateStamp': {'FileOffset': 8768, 'Offset': 4, 'Value': '0x0        [Thu Jan  1 00:00:00 1970 UTC]'}, 'ForwarderChain': {'FileOffset': 8772, 'Offset': 8, 'Value': 0}, 'Name': {'FileOffset': 8776, 'Offset': 12, 'Value': 33001}, 'FirstThunk': {'FileOffset': 8780, 'Offset': 16, 'Value': 32940}}, {'DLL': b'USER32.dll', 'Name': b'wsprintfA', 'Hint': 0}], [{'Structure': 'IMAGE_IMPORT_DESCRIPTOR', 'OriginalFirstThunk': {'FileOffset': 8784, 'Offset': 0, 'Value': 0}, 'Characteristics': {'FileOffset': 8784, 'Offset': 0, 'Value': 0}, 'TimeDateStamp': {'FileOffset': 8788, 'Offset': 4, 'Value': '0x0        [Thu Jan  1 00:00:00 1970 UTC]'}, 'ForwarderChain': {'FileOffset': 8792, 'Offset': 8, 'Value': 0}, 'Name': {'FileOffset': 8796, 'Offset': 12, 'Value': 33012}, 'FirstThunk': {'FileOffset': 8800, 'Offset': 16, 'Value': 32948}}, {'DLL': b'WININET.dll', 'Name': b'InternetOpenA', 'Hint': 0}], [{'Structure': 'IMAGE_IMPORT_DESCRIPTOR', 'OriginalFirstThunk': {'FileOffset': 8804, 'Offset': 0, 'Value': 0}, 'Characteristics': {'FileOffset': 8804, 'Offset': 0, 'Value': 0}, 'TimeDateStamp': {'FileOffset': 8808, 'Offset': 4, 'Value': '0x0        [Thu Jan  1 00:00:00 1970 UTC]'}, 'ForwarderChain': {'FileOffset': 8812, 'Offset': 8, 'Value': 0}, 'Name': {'FileOffset': 8816, 'Offset': 12, 'Value': 33024}, 'FirstThunk': {'FileOffset': 8820, 'Offset': 16, 'Value': 32956}}, {'DLL': b'WS2_32.dll', 'Ordinal': 3}]]\n",
            "[[{'Structure': 'IMAGE_IMPORT_DESCRIPTOR', 'OriginalFirstThunk': {'FileOffset': 8704, 'Offset': 0, 'Value': 0}, 'Characteristics': {'FileOffset': 8704, 'Offset': 0, 'Value': 0}, 'TimeDateStamp': {'FileOffset': 8708, 'Offset': 4, 'Value': '0x0        [Thu Jan  1 00:00:00 1970 UTC]'}, 'ForwarderChain': {'FileOffset': 8712, 'Offset': 8, 'Value': 0}, 'Name': {'FileOffset': 8716, 'Offset': 12, 'Value': 32964}, 'FirstThunk': {'FileOffset': 8720, 'Offset': 16, 'Value': 32908}}, {'DLL': b'KERNEL32.DLL', 'Name': b'LoadLibraryA', 'Hint': 0}, {'DLL': b'KERNEL32.DLL', 'Name': b'GetProcAddress', 'Hint': 0}, {'DLL': b'KERNEL32.DLL', 'Name': b'ExitProcess', 'Hint': 0}], [{'Structure': 'IMAGE_IMPORT_DESCRIPTOR', 'OriginalFirstThunk': {'FileOffset': 8724, 'Offset': 0, 'Value': 0}, 'Characteristics': {'FileOffset': 8724, 'Offset': 0, 'Value': 0}, 'TimeDateStamp': {'FileOffset': 8728, 'Offset': 4, 'Value': '0x0        [Thu Jan  1 00:00:00 1970 UTC]'}, 'ForwarderChain': {'FileOffset': 8732, 'Offset': 8, 'Value': 0}, 'Name': {'FileOffset': 8736, 'Offset': 12, 'Value': 32977}, 'FirstThunk': {'FileOffset': 8740, 'Offset': 16, 'Value': 32924}}, {'DLL': b'ADVAPI32.dll', 'Name': b'RegCloseKey', 'Hint': 0}], [{'Structure': 'IMAGE_IMPORT_DESCRIPTOR', 'OriginalFirstThunk': {'FileOffset': 8744, 'Offset': 0, 'Value': 0}, 'Characteristics': {'FileOffset': 8744, 'Offset': 0, 'Value': 0}, 'TimeDateStamp': {'FileOffset': 8748, 'Offset': 4, 'Value': '0x0        [Thu Jan  1 00:00:00 1970 UTC]'}, 'ForwarderChain': {'FileOffset': 8752, 'Offset': 8, 'Value': 0}, 'Name': {'FileOffset': 8756, 'Offset': 12, 'Value': 32990}, 'FirstThunk': {'FileOffset': 8760, 'Offset': 16, 'Value': 32932}}, {'DLL': b'MSVCRT.dll', 'Name': b'rand', 'Hint': 0}], [{'Structure': 'IMAGE_IMPORT_DESCRIPTOR', 'OriginalFirstThunk': {'FileOffset': 8764, 'Offset': 0, 'Value': 0}, 'Characteristics': {'FileOffset': 8764, 'Offset': 0, 'Value': 0}, 'TimeDateStamp': {'FileOffset': 8768, 'Offset': 4, 'Value': '0x0        [Thu Jan  1 00:00:00 1970 UTC]'}, 'ForwarderChain': {'FileOffset': 8772, 'Offset': 8, 'Value': 0}, 'Name': {'FileOffset': 8776, 'Offset': 12, 'Value': 33001}, 'FirstThunk': {'FileOffset': 8780, 'Offset': 16, 'Value': 32940}}, {'DLL': b'USER32.dll', 'Name': b'wsprintfA', 'Hint': 0}], [{'Structure': 'IMAGE_IMPORT_DESCRIPTOR', 'OriginalFirstThunk': {'FileOffset': 8784, 'Offset': 0, 'Value': 0}, 'Characteristics': {'FileOffset': 8784, 'Offset': 0, 'Value': 0}, 'TimeDateStamp': {'FileOffset': 8788, 'Offset': 4, 'Value': '0x0        [Thu Jan  1 00:00:00 1970 UTC]'}, 'ForwarderChain': {'FileOffset': 8792, 'Offset': 8, 'Value': 0}, 'Name': {'FileOffset': 8796, 'Offset': 12, 'Value': 33012}, 'FirstThunk': {'FileOffset': 8800, 'Offset': 16, 'Value': 32948}}, {'DLL': b'WININET.dll', 'Name': b'InternetOpenA', 'Hint': 0}], [{'Structure': 'IMAGE_IMPORT_DESCRIPTOR', 'OriginalFirstThunk': {'FileOffset': 8804, 'Offset': 0, 'Value': 0}, 'Characteristics': {'FileOffset': 8804, 'Offset': 0, 'Value': 0}, 'TimeDateStamp': {'FileOffset': 8808, 'Offset': 4, 'Value': '0x0        [Thu Jan  1 00:00:00 1970 UTC]'}, 'ForwarderChain': {'FileOffset': 8812, 'Offset': 8, 'Value': 0}, 'Name': {'FileOffset': 8816, 'Offset': 12, 'Value': 33024}, 'FirstThunk': {'FileOffset': 8820, 'Offset': 16, 'Value': 32956}}, {'DLL': b'WS2_32.dll', 'Ordinal': 3}]]\n",
            "[[{'Structure': 'IMAGE_IMPORT_DESCRIPTOR', 'OriginalFirstThunk': {'FileOffset': 8704, 'Offset': 0, 'Value': 0}, 'Characteristics': {'FileOffset': 8704, 'Offset': 0, 'Value': 0}, 'TimeDateStamp': {'FileOffset': 8708, 'Offset': 4, 'Value': '0x0        [Thu Jan  1 00:00:00 1970 UTC]'}, 'ForwarderChain': {'FileOffset': 8712, 'Offset': 8, 'Value': 0}, 'Name': {'FileOffset': 8716, 'Offset': 12, 'Value': 32964}, 'FirstThunk': {'FileOffset': 8720, 'Offset': 16, 'Value': 32908}}, {'DLL': b'KERNEL32.DLL', 'Name': b'LoadLibraryA', 'Hint': 0}, {'DLL': b'KERNEL32.DLL', 'Name': b'GetProcAddress', 'Hint': 0}, {'DLL': b'KERNEL32.DLL', 'Name': b'ExitProcess', 'Hint': 0}], [{'Structure': 'IMAGE_IMPORT_DESCRIPTOR', 'OriginalFirstThunk': {'FileOffset': 8724, 'Offset': 0, 'Value': 0}, 'Characteristics': {'FileOffset': 8724, 'Offset': 0, 'Value': 0}, 'TimeDateStamp': {'FileOffset': 8728, 'Offset': 4, 'Value': '0x0        [Thu Jan  1 00:00:00 1970 UTC]'}, 'ForwarderChain': {'FileOffset': 8732, 'Offset': 8, 'Value': 0}, 'Name': {'FileOffset': 8736, 'Offset': 12, 'Value': 32977}, 'FirstThunk': {'FileOffset': 8740, 'Offset': 16, 'Value': 32924}}, {'DLL': b'ADVAPI32.dll', 'Name': b'RegCloseKey', 'Hint': 0}], [{'Structure': 'IMAGE_IMPORT_DESCRIPTOR', 'OriginalFirstThunk': {'FileOffset': 8744, 'Offset': 0, 'Value': 0}, 'Characteristics': {'FileOffset': 8744, 'Offset': 0, 'Value': 0}, 'TimeDateStamp': {'FileOffset': 8748, 'Offset': 4, 'Value': '0x0        [Thu Jan  1 00:00:00 1970 UTC]'}, 'ForwarderChain': {'FileOffset': 8752, 'Offset': 8, 'Value': 0}, 'Name': {'FileOffset': 8756, 'Offset': 12, 'Value': 32990}, 'FirstThunk': {'FileOffset': 8760, 'Offset': 16, 'Value': 32932}}, {'DLL': b'MSVCRT.dll', 'Name': b'rand', 'Hint': 0}], [{'Structure': 'IMAGE_IMPORT_DESCRIPTOR', 'OriginalFirstThunk': {'FileOffset': 8764, 'Offset': 0, 'Value': 0}, 'Characteristics': {'FileOffset': 8764, 'Offset': 0, 'Value': 0}, 'TimeDateStamp': {'FileOffset': 8768, 'Offset': 4, 'Value': '0x0        [Thu Jan  1 00:00:00 1970 UTC]'}, 'ForwarderChain': {'FileOffset': 8772, 'Offset': 8, 'Value': 0}, 'Name': {'FileOffset': 8776, 'Offset': 12, 'Value': 33001}, 'FirstThunk': {'FileOffset': 8780, 'Offset': 16, 'Value': 32940}}, {'DLL': b'USER32.dll', 'Name': b'wsprintfA', 'Hint': 0}], [{'Structure': 'IMAGE_IMPORT_DESCRIPTOR', 'OriginalFirstThunk': {'FileOffset': 8784, 'Offset': 0, 'Value': 0}, 'Characteristics': {'FileOffset': 8784, 'Offset': 0, 'Value': 0}, 'TimeDateStamp': {'FileOffset': 8788, 'Offset': 4, 'Value': '0x0        [Thu Jan  1 00:00:00 1970 UTC]'}, 'ForwarderChain': {'FileOffset': 8792, 'Offset': 8, 'Value': 0}, 'Name': {'FileOffset': 8796, 'Offset': 12, 'Value': 33012}, 'FirstThunk': {'FileOffset': 8800, 'Offset': 16, 'Value': 32948}}, {'DLL': b'WININET.dll', 'Name': b'InternetOpenA', 'Hint': 0}], [{'Structure': 'IMAGE_IMPORT_DESCRIPTOR', 'OriginalFirstThunk': {'FileOffset': 8804, 'Offset': 0, 'Value': 0}, 'Characteristics': {'FileOffset': 8804, 'Offset': 0, 'Value': 0}, 'TimeDateStamp': {'FileOffset': 8808, 'Offset': 4, 'Value': '0x0        [Thu Jan  1 00:00:00 1970 UTC]'}, 'ForwarderChain': {'FileOffset': 8812, 'Offset': 8, 'Value': 0}, 'Name': {'FileOffset': 8816, 'Offset': 12, 'Value': 33024}, 'FirstThunk': {'FileOffset': 8820, 'Offset': 16, 'Value': 32956}}, {'DLL': b'WS2_32.dll', 'Ordinal': 3}]]\n",
            "[[{'Structure': 'IMAGE_IMPORT_DESCRIPTOR', 'OriginalFirstThunk': {'FileOffset': 8704, 'Offset': 0, 'Value': 0}, 'Characteristics': {'FileOffset': 8704, 'Offset': 0, 'Value': 0}, 'TimeDateStamp': {'FileOffset': 8708, 'Offset': 4, 'Value': '0x0        [Thu Jan  1 00:00:00 1970 UTC]'}, 'ForwarderChain': {'FileOffset': 8712, 'Offset': 8, 'Value': 0}, 'Name': {'FileOffset': 8716, 'Offset': 12, 'Value': 32964}, 'FirstThunk': {'FileOffset': 8720, 'Offset': 16, 'Value': 32908}}, {'DLL': b'KERNEL32.DLL', 'Name': b'LoadLibraryA', 'Hint': 0}, {'DLL': b'KERNEL32.DLL', 'Name': b'GetProcAddress', 'Hint': 0}, {'DLL': b'KERNEL32.DLL', 'Name': b'ExitProcess', 'Hint': 0}], [{'Structure': 'IMAGE_IMPORT_DESCRIPTOR', 'OriginalFirstThunk': {'FileOffset': 8724, 'Offset': 0, 'Value': 0}, 'Characteristics': {'FileOffset': 8724, 'Offset': 0, 'Value': 0}, 'TimeDateStamp': {'FileOffset': 8728, 'Offset': 4, 'Value': '0x0        [Thu Jan  1 00:00:00 1970 UTC]'}, 'ForwarderChain': {'FileOffset': 8732, 'Offset': 8, 'Value': 0}, 'Name': {'FileOffset': 8736, 'Offset': 12, 'Value': 32977}, 'FirstThunk': {'FileOffset': 8740, 'Offset': 16, 'Value': 32924}}, {'DLL': b'ADVAPI32.dll', 'Name': b'RegCloseKey', 'Hint': 0}], [{'Structure': 'IMAGE_IMPORT_DESCRIPTOR', 'OriginalFirstThunk': {'FileOffset': 8744, 'Offset': 0, 'Value': 0}, 'Characteristics': {'FileOffset': 8744, 'Offset': 0, 'Value': 0}, 'TimeDateStamp': {'FileOffset': 8748, 'Offset': 4, 'Value': '0x0        [Thu Jan  1 00:00:00 1970 UTC]'}, 'ForwarderChain': {'FileOffset': 8752, 'Offset': 8, 'Value': 0}, 'Name': {'FileOffset': 8756, 'Offset': 12, 'Value': 32990}, 'FirstThunk': {'FileOffset': 8760, 'Offset': 16, 'Value': 32932}}, {'DLL': b'MSVCRT.dll', 'Name': b'rand', 'Hint': 0}], [{'Structure': 'IMAGE_IMPORT_DESCRIPTOR', 'OriginalFirstThunk': {'FileOffset': 8764, 'Offset': 0, 'Value': 0}, 'Characteristics': {'FileOffset': 8764, 'Offset': 0, 'Value': 0}, 'TimeDateStamp': {'FileOffset': 8768, 'Offset': 4, 'Value': '0x0        [Thu Jan  1 00:00:00 1970 UTC]'}, 'ForwarderChain': {'FileOffset': 8772, 'Offset': 8, 'Value': 0}, 'Name': {'FileOffset': 8776, 'Offset': 12, 'Value': 33001}, 'FirstThunk': {'FileOffset': 8780, 'Offset': 16, 'Value': 32940}}, {'DLL': b'USER32.dll', 'Name': b'wsprintfA', 'Hint': 0}], [{'Structure': 'IMAGE_IMPORT_DESCRIPTOR', 'OriginalFirstThunk': {'FileOffset': 8784, 'Offset': 0, 'Value': 0}, 'Characteristics': {'FileOffset': 8784, 'Offset': 0, 'Value': 0}, 'TimeDateStamp': {'FileOffset': 8788, 'Offset': 4, 'Value': '0x0        [Thu Jan  1 00:00:00 1970 UTC]'}, 'ForwarderChain': {'FileOffset': 8792, 'Offset': 8, 'Value': 0}, 'Name': {'FileOffset': 8796, 'Offset': 12, 'Value': 33012}, 'FirstThunk': {'FileOffset': 8800, 'Offset': 16, 'Value': 32948}}, {'DLL': b'WININET.dll', 'Name': b'InternetOpenA', 'Hint': 0}], [{'Structure': 'IMAGE_IMPORT_DESCRIPTOR', 'OriginalFirstThunk': {'FileOffset': 8804, 'Offset': 0, 'Value': 0}, 'Characteristics': {'FileOffset': 8804, 'Offset': 0, 'Value': 0}, 'TimeDateStamp': {'FileOffset': 8808, 'Offset': 4, 'Value': '0x0        [Thu Jan  1 00:00:00 1970 UTC]'}, 'ForwarderChain': {'FileOffset': 8812, 'Offset': 8, 'Value': 0}, 'Name': {'FileOffset': 8816, 'Offset': 12, 'Value': 33024}, 'FirstThunk': {'FileOffset': 8820, 'Offset': 16, 'Value': 32956}}, {'DLL': b'WS2_32.dll', 'Ordinal': 3}]]\n",
            "[[{'Structure': 'IMAGE_IMPORT_DESCRIPTOR', 'OriginalFirstThunk': {'FileOffset': 8704, 'Offset': 0, 'Value': 0}, 'Characteristics': {'FileOffset': 8704, 'Offset': 0, 'Value': 0}, 'TimeDateStamp': {'FileOffset': 8708, 'Offset': 4, 'Value': '0x0        [Thu Jan  1 00:00:00 1970 UTC]'}, 'ForwarderChain': {'FileOffset': 8712, 'Offset': 8, 'Value': 0}, 'Name': {'FileOffset': 8716, 'Offset': 12, 'Value': 32964}, 'FirstThunk': {'FileOffset': 8720, 'Offset': 16, 'Value': 32908}}, {'DLL': b'KERNEL32.DLL', 'Name': b'LoadLibraryA', 'Hint': 0}, {'DLL': b'KERNEL32.DLL', 'Name': b'GetProcAddress', 'Hint': 0}, {'DLL': b'KERNEL32.DLL', 'Name': b'ExitProcess', 'Hint': 0}], [{'Structure': 'IMAGE_IMPORT_DESCRIPTOR', 'OriginalFirstThunk': {'FileOffset': 8724, 'Offset': 0, 'Value': 0}, 'Characteristics': {'FileOffset': 8724, 'Offset': 0, 'Value': 0}, 'TimeDateStamp': {'FileOffset': 8728, 'Offset': 4, 'Value': '0x0        [Thu Jan  1 00:00:00 1970 UTC]'}, 'ForwarderChain': {'FileOffset': 8732, 'Offset': 8, 'Value': 0}, 'Name': {'FileOffset': 8736, 'Offset': 12, 'Value': 32977}, 'FirstThunk': {'FileOffset': 8740, 'Offset': 16, 'Value': 32924}}, {'DLL': b'ADVAPI32.dll', 'Name': b'RegCloseKey', 'Hint': 0}], [{'Structure': 'IMAGE_IMPORT_DESCRIPTOR', 'OriginalFirstThunk': {'FileOffset': 8744, 'Offset': 0, 'Value': 0}, 'Characteristics': {'FileOffset': 8744, 'Offset': 0, 'Value': 0}, 'TimeDateStamp': {'FileOffset': 8748, 'Offset': 4, 'Value': '0x0        [Thu Jan  1 00:00:00 1970 UTC]'}, 'ForwarderChain': {'FileOffset': 8752, 'Offset': 8, 'Value': 0}, 'Name': {'FileOffset': 8756, 'Offset': 12, 'Value': 32990}, 'FirstThunk': {'FileOffset': 8760, 'Offset': 16, 'Value': 32932}}, {'DLL': b'MSVCRT.dll', 'Name': b'rand', 'Hint': 0}], [{'Structure': 'IMAGE_IMPORT_DESCRIPTOR', 'OriginalFirstThunk': {'FileOffset': 8764, 'Offset': 0, 'Value': 0}, 'Characteristics': {'FileOffset': 8764, 'Offset': 0, 'Value': 0}, 'TimeDateStamp': {'FileOffset': 8768, 'Offset': 4, 'Value': '0x0        [Thu Jan  1 00:00:00 1970 UTC]'}, 'ForwarderChain': {'FileOffset': 8772, 'Offset': 8, 'Value': 0}, 'Name': {'FileOffset': 8776, 'Offset': 12, 'Value': 33001}, 'FirstThunk': {'FileOffset': 8780, 'Offset': 16, 'Value': 32940}}, {'DLL': b'USER32.dll', 'Name': b'wsprintfA', 'Hint': 0}], [{'Structure': 'IMAGE_IMPORT_DESCRIPTOR', 'OriginalFirstThunk': {'FileOffset': 8784, 'Offset': 0, 'Value': 0}, 'Characteristics': {'FileOffset': 8784, 'Offset': 0, 'Value': 0}, 'TimeDateStamp': {'FileOffset': 8788, 'Offset': 4, 'Value': '0x0        [Thu Jan  1 00:00:00 1970 UTC]'}, 'ForwarderChain': {'FileOffset': 8792, 'Offset': 8, 'Value': 0}, 'Name': {'FileOffset': 8796, 'Offset': 12, 'Value': 33012}, 'FirstThunk': {'FileOffset': 8800, 'Offset': 16, 'Value': 32948}}, {'DLL': b'WININET.dll', 'Name': b'InternetOpenA', 'Hint': 0}], [{'Structure': 'IMAGE_IMPORT_DESCRIPTOR', 'OriginalFirstThunk': {'FileOffset': 8804, 'Offset': 0, 'Value': 0}, 'Characteristics': {'FileOffset': 8804, 'Offset': 0, 'Value': 0}, 'TimeDateStamp': {'FileOffset': 8808, 'Offset': 4, 'Value': '0x0        [Thu Jan  1 00:00:00 1970 UTC]'}, 'ForwarderChain': {'FileOffset': 8812, 'Offset': 8, 'Value': 0}, 'Name': {'FileOffset': 8816, 'Offset': 12, 'Value': 33024}, 'FirstThunk': {'FileOffset': 8820, 'Offset': 16, 'Value': 32956}}, {'DLL': b'WS2_32.dll', 'Ordinal': 3}]]\n",
            "[[{'Structure': 'IMAGE_IMPORT_DESCRIPTOR', 'OriginalFirstThunk': {'FileOffset': 8704, 'Offset': 0, 'Value': 0}, 'Characteristics': {'FileOffset': 8704, 'Offset': 0, 'Value': 0}, 'TimeDateStamp': {'FileOffset': 8708, 'Offset': 4, 'Value': '0x0        [Thu Jan  1 00:00:00 1970 UTC]'}, 'ForwarderChain': {'FileOffset': 8712, 'Offset': 8, 'Value': 0}, 'Name': {'FileOffset': 8716, 'Offset': 12, 'Value': 32964}, 'FirstThunk': {'FileOffset': 8720, 'Offset': 16, 'Value': 32908}}, {'DLL': b'KERNEL32.DLL', 'Name': b'LoadLibraryA', 'Hint': 0}, {'DLL': b'KERNEL32.DLL', 'Name': b'GetProcAddress', 'Hint': 0}, {'DLL': b'KERNEL32.DLL', 'Name': b'ExitProcess', 'Hint': 0}], [{'Structure': 'IMAGE_IMPORT_DESCRIPTOR', 'OriginalFirstThunk': {'FileOffset': 8724, 'Offset': 0, 'Value': 0}, 'Characteristics': {'FileOffset': 8724, 'Offset': 0, 'Value': 0}, 'TimeDateStamp': {'FileOffset': 8728, 'Offset': 4, 'Value': '0x0        [Thu Jan  1 00:00:00 1970 UTC]'}, 'ForwarderChain': {'FileOffset': 8732, 'Offset': 8, 'Value': 0}, 'Name': {'FileOffset': 8736, 'Offset': 12, 'Value': 32977}, 'FirstThunk': {'FileOffset': 8740, 'Offset': 16, 'Value': 32924}}, {'DLL': b'ADVAPI32.dll', 'Name': b'RegCloseKey', 'Hint': 0}], [{'Structure': 'IMAGE_IMPORT_DESCRIPTOR', 'OriginalFirstThunk': {'FileOffset': 8744, 'Offset': 0, 'Value': 0}, 'Characteristics': {'FileOffset': 8744, 'Offset': 0, 'Value': 0}, 'TimeDateStamp': {'FileOffset': 8748, 'Offset': 4, 'Value': '0x0        [Thu Jan  1 00:00:00 1970 UTC]'}, 'ForwarderChain': {'FileOffset': 8752, 'Offset': 8, 'Value': 0}, 'Name': {'FileOffset': 8756, 'Offset': 12, 'Value': 32990}, 'FirstThunk': {'FileOffset': 8760, 'Offset': 16, 'Value': 32932}}, {'DLL': b'MSVCRT.dll', 'Name': b'rand', 'Hint': 0}], [{'Structure': 'IMAGE_IMPORT_DESCRIPTOR', 'OriginalFirstThunk': {'FileOffset': 8764, 'Offset': 0, 'Value': 0}, 'Characteristics': {'FileOffset': 8764, 'Offset': 0, 'Value': 0}, 'TimeDateStamp': {'FileOffset': 8768, 'Offset': 4, 'Value': '0x0        [Thu Jan  1 00:00:00 1970 UTC]'}, 'ForwarderChain': {'FileOffset': 8772, 'Offset': 8, 'Value': 0}, 'Name': {'FileOffset': 8776, 'Offset': 12, 'Value': 33001}, 'FirstThunk': {'FileOffset': 8780, 'Offset': 16, 'Value': 32940}}, {'DLL': b'USER32.dll', 'Name': b'wsprintfA', 'Hint': 0}], [{'Structure': 'IMAGE_IMPORT_DESCRIPTOR', 'OriginalFirstThunk': {'FileOffset': 8784, 'Offset': 0, 'Value': 0}, 'Characteristics': {'FileOffset': 8784, 'Offset': 0, 'Value': 0}, 'TimeDateStamp': {'FileOffset': 8788, 'Offset': 4, 'Value': '0x0        [Thu Jan  1 00:00:00 1970 UTC]'}, 'ForwarderChain': {'FileOffset': 8792, 'Offset': 8, 'Value': 0}, 'Name': {'FileOffset': 8796, 'Offset': 12, 'Value': 33012}, 'FirstThunk': {'FileOffset': 8800, 'Offset': 16, 'Value': 32948}}, {'DLL': b'WININET.dll', 'Name': b'InternetOpenA', 'Hint': 0}], [{'Structure': 'IMAGE_IMPORT_DESCRIPTOR', 'OriginalFirstThunk': {'FileOffset': 8804, 'Offset': 0, 'Value': 0}, 'Characteristics': {'FileOffset': 8804, 'Offset': 0, 'Value': 0}, 'TimeDateStamp': {'FileOffset': 8808, 'Offset': 4, 'Value': '0x0        [Thu Jan  1 00:00:00 1970 UTC]'}, 'ForwarderChain': {'FileOffset': 8812, 'Offset': 8, 'Value': 0}, 'Name': {'FileOffset': 8816, 'Offset': 12, 'Value': 33024}, 'FirstThunk': {'FileOffset': 8820, 'Offset': 16, 'Value': 32956}}, {'DLL': b'WS2_32.dll', 'Ordinal': 3}]]\n",
            "[[{'Structure': 'IMAGE_IMPORT_DESCRIPTOR', 'OriginalFirstThunk': {'FileOffset': 8704, 'Offset': 0, 'Value': 0}, 'Characteristics': {'FileOffset': 8704, 'Offset': 0, 'Value': 0}, 'TimeDateStamp': {'FileOffset': 8708, 'Offset': 4, 'Value': '0x0        [Thu Jan  1 00:00:00 1970 UTC]'}, 'ForwarderChain': {'FileOffset': 8712, 'Offset': 8, 'Value': 0}, 'Name': {'FileOffset': 8716, 'Offset': 12, 'Value': 32964}, 'FirstThunk': {'FileOffset': 8720, 'Offset': 16, 'Value': 32908}}, {'DLL': b'KERNEL32.DLL', 'Name': b'LoadLibraryA', 'Hint': 0}, {'DLL': b'KERNEL32.DLL', 'Name': b'GetProcAddress', 'Hint': 0}, {'DLL': b'KERNEL32.DLL', 'Name': b'ExitProcess', 'Hint': 0}], [{'Structure': 'IMAGE_IMPORT_DESCRIPTOR', 'OriginalFirstThunk': {'FileOffset': 8724, 'Offset': 0, 'Value': 0}, 'Characteristics': {'FileOffset': 8724, 'Offset': 0, 'Value': 0}, 'TimeDateStamp': {'FileOffset': 8728, 'Offset': 4, 'Value': '0x0        [Thu Jan  1 00:00:00 1970 UTC]'}, 'ForwarderChain': {'FileOffset': 8732, 'Offset': 8, 'Value': 0}, 'Name': {'FileOffset': 8736, 'Offset': 12, 'Value': 32977}, 'FirstThunk': {'FileOffset': 8740, 'Offset': 16, 'Value': 32924}}, {'DLL': b'ADVAPI32.dll', 'Name': b'RegCloseKey', 'Hint': 0}], [{'Structure': 'IMAGE_IMPORT_DESCRIPTOR', 'OriginalFirstThunk': {'FileOffset': 8744, 'Offset': 0, 'Value': 0}, 'Characteristics': {'FileOffset': 8744, 'Offset': 0, 'Value': 0}, 'TimeDateStamp': {'FileOffset': 8748, 'Offset': 4, 'Value': '0x0        [Thu Jan  1 00:00:00 1970 UTC]'}, 'ForwarderChain': {'FileOffset': 8752, 'Offset': 8, 'Value': 0}, 'Name': {'FileOffset': 8756, 'Offset': 12, 'Value': 32990}, 'FirstThunk': {'FileOffset': 8760, 'Offset': 16, 'Value': 32932}}, {'DLL': b'MSVCRT.dll', 'Name': b'rand', 'Hint': 0}], [{'Structure': 'IMAGE_IMPORT_DESCRIPTOR', 'OriginalFirstThunk': {'FileOffset': 8764, 'Offset': 0, 'Value': 0}, 'Characteristics': {'FileOffset': 8764, 'Offset': 0, 'Value': 0}, 'TimeDateStamp': {'FileOffset': 8768, 'Offset': 4, 'Value': '0x0        [Thu Jan  1 00:00:00 1970 UTC]'}, 'ForwarderChain': {'FileOffset': 8772, 'Offset': 8, 'Value': 0}, 'Name': {'FileOffset': 8776, 'Offset': 12, 'Value': 33001}, 'FirstThunk': {'FileOffset': 8780, 'Offset': 16, 'Value': 32940}}, {'DLL': b'USER32.dll', 'Name': b'wsprintfA', 'Hint': 0}], [{'Structure': 'IMAGE_IMPORT_DESCRIPTOR', 'OriginalFirstThunk': {'FileOffset': 8784, 'Offset': 0, 'Value': 0}, 'Characteristics': {'FileOffset': 8784, 'Offset': 0, 'Value': 0}, 'TimeDateStamp': {'FileOffset': 8788, 'Offset': 4, 'Value': '0x0        [Thu Jan  1 00:00:00 1970 UTC]'}, 'ForwarderChain': {'FileOffset': 8792, 'Offset': 8, 'Value': 0}, 'Name': {'FileOffset': 8796, 'Offset': 12, 'Value': 33012}, 'FirstThunk': {'FileOffset': 8800, 'Offset': 16, 'Value': 32948}}, {'DLL': b'WININET.dll', 'Name': b'InternetOpenA', 'Hint': 0}], [{'Structure': 'IMAGE_IMPORT_DESCRIPTOR', 'OriginalFirstThunk': {'FileOffset': 8804, 'Offset': 0, 'Value': 0}, 'Characteristics': {'FileOffset': 8804, 'Offset': 0, 'Value': 0}, 'TimeDateStamp': {'FileOffset': 8808, 'Offset': 4, 'Value': '0x0        [Thu Jan  1 00:00:00 1970 UTC]'}, 'ForwarderChain': {'FileOffset': 8812, 'Offset': 8, 'Value': 0}, 'Name': {'FileOffset': 8816, 'Offset': 12, 'Value': 33024}, 'FirstThunk': {'FileOffset': 8820, 'Offset': 16, 'Value': 32956}}, {'DLL': b'WS2_32.dll', 'Ordinal': 3}]]\n",
            "[[{'Structure': 'IMAGE_IMPORT_DESCRIPTOR', 'OriginalFirstThunk': {'FileOffset': 8704, 'Offset': 0, 'Value': 0}, 'Characteristics': {'FileOffset': 8704, 'Offset': 0, 'Value': 0}, 'TimeDateStamp': {'FileOffset': 8708, 'Offset': 4, 'Value': '0x0        [Thu Jan  1 00:00:00 1970 UTC]'}, 'ForwarderChain': {'FileOffset': 8712, 'Offset': 8, 'Value': 0}, 'Name': {'FileOffset': 8716, 'Offset': 12, 'Value': 32964}, 'FirstThunk': {'FileOffset': 8720, 'Offset': 16, 'Value': 32908}}, {'DLL': b'KERNEL32.DLL', 'Name': b'LoadLibraryA', 'Hint': 0}, {'DLL': b'KERNEL32.DLL', 'Name': b'GetProcAddress', 'Hint': 0}, {'DLL': b'KERNEL32.DLL', 'Name': b'ExitProcess', 'Hint': 0}], [{'Structure': 'IMAGE_IMPORT_DESCRIPTOR', 'OriginalFirstThunk': {'FileOffset': 8724, 'Offset': 0, 'Value': 0}, 'Characteristics': {'FileOffset': 8724, 'Offset': 0, 'Value': 0}, 'TimeDateStamp': {'FileOffset': 8728, 'Offset': 4, 'Value': '0x0        [Thu Jan  1 00:00:00 1970 UTC]'}, 'ForwarderChain': {'FileOffset': 8732, 'Offset': 8, 'Value': 0}, 'Name': {'FileOffset': 8736, 'Offset': 12, 'Value': 32977}, 'FirstThunk': {'FileOffset': 8740, 'Offset': 16, 'Value': 32924}}, {'DLL': b'ADVAPI32.dll', 'Name': b'RegCloseKey', 'Hint': 0}], [{'Structure': 'IMAGE_IMPORT_DESCRIPTOR', 'OriginalFirstThunk': {'FileOffset': 8744, 'Offset': 0, 'Value': 0}, 'Characteristics': {'FileOffset': 8744, 'Offset': 0, 'Value': 0}, 'TimeDateStamp': {'FileOffset': 8748, 'Offset': 4, 'Value': '0x0        [Thu Jan  1 00:00:00 1970 UTC]'}, 'ForwarderChain': {'FileOffset': 8752, 'Offset': 8, 'Value': 0}, 'Name': {'FileOffset': 8756, 'Offset': 12, 'Value': 32990}, 'FirstThunk': {'FileOffset': 8760, 'Offset': 16, 'Value': 32932}}, {'DLL': b'MSVCRT.dll', 'Name': b'rand', 'Hint': 0}], [{'Structure': 'IMAGE_IMPORT_DESCRIPTOR', 'OriginalFirstThunk': {'FileOffset': 8764, 'Offset': 0, 'Value': 0}, 'Characteristics': {'FileOffset': 8764, 'Offset': 0, 'Value': 0}, 'TimeDateStamp': {'FileOffset': 8768, 'Offset': 4, 'Value': '0x0        [Thu Jan  1 00:00:00 1970 UTC]'}, 'ForwarderChain': {'FileOffset': 8772, 'Offset': 8, 'Value': 0}, 'Name': {'FileOffset': 8776, 'Offset': 12, 'Value': 33001}, 'FirstThunk': {'FileOffset': 8780, 'Offset': 16, 'Value': 32940}}, {'DLL': b'USER32.dll', 'Name': b'wsprintfA', 'Hint': 0}], [{'Structure': 'IMAGE_IMPORT_DESCRIPTOR', 'OriginalFirstThunk': {'FileOffset': 8784, 'Offset': 0, 'Value': 0}, 'Characteristics': {'FileOffset': 8784, 'Offset': 0, 'Value': 0}, 'TimeDateStamp': {'FileOffset': 8788, 'Offset': 4, 'Value': '0x0        [Thu Jan  1 00:00:00 1970 UTC]'}, 'ForwarderChain': {'FileOffset': 8792, 'Offset': 8, 'Value': 0}, 'Name': {'FileOffset': 8796, 'Offset': 12, 'Value': 33012}, 'FirstThunk': {'FileOffset': 8800, 'Offset': 16, 'Value': 32948}}, {'DLL': b'WININET.dll', 'Name': b'InternetOpenA', 'Hint': 0}], [{'Structure': 'IMAGE_IMPORT_DESCRIPTOR', 'OriginalFirstThunk': {'FileOffset': 8804, 'Offset': 0, 'Value': 0}, 'Characteristics': {'FileOffset': 8804, 'Offset': 0, 'Value': 0}, 'TimeDateStamp': {'FileOffset': 8808, 'Offset': 4, 'Value': '0x0        [Thu Jan  1 00:00:00 1970 UTC]'}, 'ForwarderChain': {'FileOffset': 8812, 'Offset': 8, 'Value': 0}, 'Name': {'FileOffset': 8816, 'Offset': 12, 'Value': 33024}, 'FirstThunk': {'FileOffset': 8820, 'Offset': 16, 'Value': 32956}}, {'DLL': b'WS2_32.dll', 'Ordinal': 3}]]\n",
            "[[{'Structure': 'IMAGE_IMPORT_DESCRIPTOR', 'OriginalFirstThunk': {'FileOffset': 8704, 'Offset': 0, 'Value': 0}, 'Characteristics': {'FileOffset': 8704, 'Offset': 0, 'Value': 0}, 'TimeDateStamp': {'FileOffset': 8708, 'Offset': 4, 'Value': '0x0        [Thu Jan  1 00:00:00 1970 UTC]'}, 'ForwarderChain': {'FileOffset': 8712, 'Offset': 8, 'Value': 0}, 'Name': {'FileOffset': 8716, 'Offset': 12, 'Value': 32964}, 'FirstThunk': {'FileOffset': 8720, 'Offset': 16, 'Value': 32908}}, {'DLL': b'KERNEL32.DLL', 'Name': b'LoadLibraryA', 'Hint': 0}, {'DLL': b'KERNEL32.DLL', 'Name': b'GetProcAddress', 'Hint': 0}, {'DLL': b'KERNEL32.DLL', 'Name': b'ExitProcess', 'Hint': 0}], [{'Structure': 'IMAGE_IMPORT_DESCRIPTOR', 'OriginalFirstThunk': {'FileOffset': 8724, 'Offset': 0, 'Value': 0}, 'Characteristics': {'FileOffset': 8724, 'Offset': 0, 'Value': 0}, 'TimeDateStamp': {'FileOffset': 8728, 'Offset': 4, 'Value': '0x0        [Thu Jan  1 00:00:00 1970 UTC]'}, 'ForwarderChain': {'FileOffset': 8732, 'Offset': 8, 'Value': 0}, 'Name': {'FileOffset': 8736, 'Offset': 12, 'Value': 32977}, 'FirstThunk': {'FileOffset': 8740, 'Offset': 16, 'Value': 32924}}, {'DLL': b'ADVAPI32.dll', 'Name': b'RegCloseKey', 'Hint': 0}], [{'Structure': 'IMAGE_IMPORT_DESCRIPTOR', 'OriginalFirstThunk': {'FileOffset': 8744, 'Offset': 0, 'Value': 0}, 'Characteristics': {'FileOffset': 8744, 'Offset': 0, 'Value': 0}, 'TimeDateStamp': {'FileOffset': 8748, 'Offset': 4, 'Value': '0x0        [Thu Jan  1 00:00:00 1970 UTC]'}, 'ForwarderChain': {'FileOffset': 8752, 'Offset': 8, 'Value': 0}, 'Name': {'FileOffset': 8756, 'Offset': 12, 'Value': 32990}, 'FirstThunk': {'FileOffset': 8760, 'Offset': 16, 'Value': 32932}}, {'DLL': b'MSVCRT.dll', 'Name': b'rand', 'Hint': 0}], [{'Structure': 'IMAGE_IMPORT_DESCRIPTOR', 'OriginalFirstThunk': {'FileOffset': 8764, 'Offset': 0, 'Value': 0}, 'Characteristics': {'FileOffset': 8764, 'Offset': 0, 'Value': 0}, 'TimeDateStamp': {'FileOffset': 8768, 'Offset': 4, 'Value': '0x0        [Thu Jan  1 00:00:00 1970 UTC]'}, 'ForwarderChain': {'FileOffset': 8772, 'Offset': 8, 'Value': 0}, 'Name': {'FileOffset': 8776, 'Offset': 12, 'Value': 33001}, 'FirstThunk': {'FileOffset': 8780, 'Offset': 16, 'Value': 32940}}, {'DLL': b'USER32.dll', 'Name': b'wsprintfA', 'Hint': 0}], [{'Structure': 'IMAGE_IMPORT_DESCRIPTOR', 'OriginalFirstThunk': {'FileOffset': 8784, 'Offset': 0, 'Value': 0}, 'Characteristics': {'FileOffset': 8784, 'Offset': 0, 'Value': 0}, 'TimeDateStamp': {'FileOffset': 8788, 'Offset': 4, 'Value': '0x0        [Thu Jan  1 00:00:00 1970 UTC]'}, 'ForwarderChain': {'FileOffset': 8792, 'Offset': 8, 'Value': 0}, 'Name': {'FileOffset': 8796, 'Offset': 12, 'Value': 33012}, 'FirstThunk': {'FileOffset': 8800, 'Offset': 16, 'Value': 32948}}, {'DLL': b'WININET.dll', 'Name': b'InternetOpenA', 'Hint': 0}], [{'Structure': 'IMAGE_IMPORT_DESCRIPTOR', 'OriginalFirstThunk': {'FileOffset': 8804, 'Offset': 0, 'Value': 0}, 'Characteristics': {'FileOffset': 8804, 'Offset': 0, 'Value': 0}, 'TimeDateStamp': {'FileOffset': 8808, 'Offset': 4, 'Value': '0x0        [Thu Jan  1 00:00:00 1970 UTC]'}, 'ForwarderChain': {'FileOffset': 8812, 'Offset': 8, 'Value': 0}, 'Name': {'FileOffset': 8816, 'Offset': 12, 'Value': 33024}, 'FirstThunk': {'FileOffset': 8820, 'Offset': 16, 'Value': 32956}}, {'DLL': b'WS2_32.dll', 'Ordinal': 3}]]\n",
            "[[{'Structure': 'IMAGE_IMPORT_DESCRIPTOR', 'OriginalFirstThunk': {'FileOffset': 8704, 'Offset': 0, 'Value': 0}, 'Characteristics': {'FileOffset': 8704, 'Offset': 0, 'Value': 0}, 'TimeDateStamp': {'FileOffset': 8708, 'Offset': 4, 'Value': '0x0        [Thu Jan  1 00:00:00 1970 UTC]'}, 'ForwarderChain': {'FileOffset': 8712, 'Offset': 8, 'Value': 0}, 'Name': {'FileOffset': 8716, 'Offset': 12, 'Value': 32964}, 'FirstThunk': {'FileOffset': 8720, 'Offset': 16, 'Value': 32908}}, {'DLL': b'KERNEL32.DLL', 'Name': b'LoadLibraryA', 'Hint': 0}, {'DLL': b'KERNEL32.DLL', 'Name': b'GetProcAddress', 'Hint': 0}, {'DLL': b'KERNEL32.DLL', 'Name': b'ExitProcess', 'Hint': 0}], [{'Structure': 'IMAGE_IMPORT_DESCRIPTOR', 'OriginalFirstThunk': {'FileOffset': 8724, 'Offset': 0, 'Value': 0}, 'Characteristics': {'FileOffset': 8724, 'Offset': 0, 'Value': 0}, 'TimeDateStamp': {'FileOffset': 8728, 'Offset': 4, 'Value': '0x0        [Thu Jan  1 00:00:00 1970 UTC]'}, 'ForwarderChain': {'FileOffset': 8732, 'Offset': 8, 'Value': 0}, 'Name': {'FileOffset': 8736, 'Offset': 12, 'Value': 32977}, 'FirstThunk': {'FileOffset': 8740, 'Offset': 16, 'Value': 32924}}, {'DLL': b'ADVAPI32.dll', 'Name': b'RegCloseKey', 'Hint': 0}], [{'Structure': 'IMAGE_IMPORT_DESCRIPTOR', 'OriginalFirstThunk': {'FileOffset': 8744, 'Offset': 0, 'Value': 0}, 'Characteristics': {'FileOffset': 8744, 'Offset': 0, 'Value': 0}, 'TimeDateStamp': {'FileOffset': 8748, 'Offset': 4, 'Value': '0x0        [Thu Jan  1 00:00:00 1970 UTC]'}, 'ForwarderChain': {'FileOffset': 8752, 'Offset': 8, 'Value': 0}, 'Name': {'FileOffset': 8756, 'Offset': 12, 'Value': 32990}, 'FirstThunk': {'FileOffset': 8760, 'Offset': 16, 'Value': 32932}}, {'DLL': b'MSVCRT.dll', 'Name': b'rand', 'Hint': 0}], [{'Structure': 'IMAGE_IMPORT_DESCRIPTOR', 'OriginalFirstThunk': {'FileOffset': 8764, 'Offset': 0, 'Value': 0}, 'Characteristics': {'FileOffset': 8764, 'Offset': 0, 'Value': 0}, 'TimeDateStamp': {'FileOffset': 8768, 'Offset': 4, 'Value': '0x0        [Thu Jan  1 00:00:00 1970 UTC]'}, 'ForwarderChain': {'FileOffset': 8772, 'Offset': 8, 'Value': 0}, 'Name': {'FileOffset': 8776, 'Offset': 12, 'Value': 33001}, 'FirstThunk': {'FileOffset': 8780, 'Offset': 16, 'Value': 32940}}, {'DLL': b'USER32.dll', 'Name': b'wsprintfA', 'Hint': 0}], [{'Structure': 'IMAGE_IMPORT_DESCRIPTOR', 'OriginalFirstThunk': {'FileOffset': 8784, 'Offset': 0, 'Value': 0}, 'Characteristics': {'FileOffset': 8784, 'Offset': 0, 'Value': 0}, 'TimeDateStamp': {'FileOffset': 8788, 'Offset': 4, 'Value': '0x0        [Thu Jan  1 00:00:00 1970 UTC]'}, 'ForwarderChain': {'FileOffset': 8792, 'Offset': 8, 'Value': 0}, 'Name': {'FileOffset': 8796, 'Offset': 12, 'Value': 33012}, 'FirstThunk': {'FileOffset': 8800, 'Offset': 16, 'Value': 32948}}, {'DLL': b'WININET.dll', 'Name': b'InternetOpenA', 'Hint': 0}], [{'Structure': 'IMAGE_IMPORT_DESCRIPTOR', 'OriginalFirstThunk': {'FileOffset': 8804, 'Offset': 0, 'Value': 0}, 'Characteristics': {'FileOffset': 8804, 'Offset': 0, 'Value': 0}, 'TimeDateStamp': {'FileOffset': 8808, 'Offset': 4, 'Value': '0x0        [Thu Jan  1 00:00:00 1970 UTC]'}, 'ForwarderChain': {'FileOffset': 8812, 'Offset': 8, 'Value': 0}, 'Name': {'FileOffset': 8816, 'Offset': 12, 'Value': 33024}, 'FirstThunk': {'FileOffset': 8820, 'Offset': 16, 'Value': 32956}}, {'DLL': b'WS2_32.dll', 'Ordinal': 3}]]\n",
            "[[{'Structure': 'IMAGE_IMPORT_DESCRIPTOR', 'OriginalFirstThunk': {'FileOffset': 8704, 'Offset': 0, 'Value': 0}, 'Characteristics': {'FileOffset': 8704, 'Offset': 0, 'Value': 0}, 'TimeDateStamp': {'FileOffset': 8708, 'Offset': 4, 'Value': '0x0        [Thu Jan  1 00:00:00 1970 UTC]'}, 'ForwarderChain': {'FileOffset': 8712, 'Offset': 8, 'Value': 0}, 'Name': {'FileOffset': 8716, 'Offset': 12, 'Value': 32964}, 'FirstThunk': {'FileOffset': 8720, 'Offset': 16, 'Value': 32908}}, {'DLL': b'KERNEL32.DLL', 'Name': b'LoadLibraryA', 'Hint': 0}, {'DLL': b'KERNEL32.DLL', 'Name': b'GetProcAddress', 'Hint': 0}, {'DLL': b'KERNEL32.DLL', 'Name': b'ExitProcess', 'Hint': 0}], [{'Structure': 'IMAGE_IMPORT_DESCRIPTOR', 'OriginalFirstThunk': {'FileOffset': 8724, 'Offset': 0, 'Value': 0}, 'Characteristics': {'FileOffset': 8724, 'Offset': 0, 'Value': 0}, 'TimeDateStamp': {'FileOffset': 8728, 'Offset': 4, 'Value': '0x0        [Thu Jan  1 00:00:00 1970 UTC]'}, 'ForwarderChain': {'FileOffset': 8732, 'Offset': 8, 'Value': 0}, 'Name': {'FileOffset': 8736, 'Offset': 12, 'Value': 32977}, 'FirstThunk': {'FileOffset': 8740, 'Offset': 16, 'Value': 32924}}, {'DLL': b'ADVAPI32.dll', 'Name': b'RegCloseKey', 'Hint': 0}], [{'Structure': 'IMAGE_IMPORT_DESCRIPTOR', 'OriginalFirstThunk': {'FileOffset': 8744, 'Offset': 0, 'Value': 0}, 'Characteristics': {'FileOffset': 8744, 'Offset': 0, 'Value': 0}, 'TimeDateStamp': {'FileOffset': 8748, 'Offset': 4, 'Value': '0x0        [Thu Jan  1 00:00:00 1970 UTC]'}, 'ForwarderChain': {'FileOffset': 8752, 'Offset': 8, 'Value': 0}, 'Name': {'FileOffset': 8756, 'Offset': 12, 'Value': 32990}, 'FirstThunk': {'FileOffset': 8760, 'Offset': 16, 'Value': 32932}}, {'DLL': b'MSVCRT.dll', 'Name': b'rand', 'Hint': 0}], [{'Structure': 'IMAGE_IMPORT_DESCRIPTOR', 'OriginalFirstThunk': {'FileOffset': 8764, 'Offset': 0, 'Value': 0}, 'Characteristics': {'FileOffset': 8764, 'Offset': 0, 'Value': 0}, 'TimeDateStamp': {'FileOffset': 8768, 'Offset': 4, 'Value': '0x0        [Thu Jan  1 00:00:00 1970 UTC]'}, 'ForwarderChain': {'FileOffset': 8772, 'Offset': 8, 'Value': 0}, 'Name': {'FileOffset': 8776, 'Offset': 12, 'Value': 33001}, 'FirstThunk': {'FileOffset': 8780, 'Offset': 16, 'Value': 32940}}, {'DLL': b'USER32.dll', 'Name': b'wsprintfA', 'Hint': 0}], [{'Structure': 'IMAGE_IMPORT_DESCRIPTOR', 'OriginalFirstThunk': {'FileOffset': 8784, 'Offset': 0, 'Value': 0}, 'Characteristics': {'FileOffset': 8784, 'Offset': 0, 'Value': 0}, 'TimeDateStamp': {'FileOffset': 8788, 'Offset': 4, 'Value': '0x0        [Thu Jan  1 00:00:00 1970 UTC]'}, 'ForwarderChain': {'FileOffset': 8792, 'Offset': 8, 'Value': 0}, 'Name': {'FileOffset': 8796, 'Offset': 12, 'Value': 33012}, 'FirstThunk': {'FileOffset': 8800, 'Offset': 16, 'Value': 32948}}, {'DLL': b'WININET.dll', 'Name': b'InternetOpenA', 'Hint': 0}], [{'Structure': 'IMAGE_IMPORT_DESCRIPTOR', 'OriginalFirstThunk': {'FileOffset': 8804, 'Offset': 0, 'Value': 0}, 'Characteristics': {'FileOffset': 8804, 'Offset': 0, 'Value': 0}, 'TimeDateStamp': {'FileOffset': 8808, 'Offset': 4, 'Value': '0x0        [Thu Jan  1 00:00:00 1970 UTC]'}, 'ForwarderChain': {'FileOffset': 8812, 'Offset': 8, 'Value': 0}, 'Name': {'FileOffset': 8816, 'Offset': 12, 'Value': 33024}, 'FirstThunk': {'FileOffset': 8820, 'Offset': 16, 'Value': 32956}}, {'DLL': b'WS2_32.dll', 'Ordinal': 3}]]\n",
            "[[{'Structure': 'IMAGE_IMPORT_DESCRIPTOR', 'OriginalFirstThunk': {'FileOffset': 8704, 'Offset': 0, 'Value': 0}, 'Characteristics': {'FileOffset': 8704, 'Offset': 0, 'Value': 0}, 'TimeDateStamp': {'FileOffset': 8708, 'Offset': 4, 'Value': '0x0        [Thu Jan  1 00:00:00 1970 UTC]'}, 'ForwarderChain': {'FileOffset': 8712, 'Offset': 8, 'Value': 0}, 'Name': {'FileOffset': 8716, 'Offset': 12, 'Value': 32964}, 'FirstThunk': {'FileOffset': 8720, 'Offset': 16, 'Value': 32908}}, {'DLL': b'KERNEL32.DLL', 'Name': b'LoadLibraryA', 'Hint': 0}, {'DLL': b'KERNEL32.DLL', 'Name': b'GetProcAddress', 'Hint': 0}, {'DLL': b'KERNEL32.DLL', 'Name': b'ExitProcess', 'Hint': 0}], [{'Structure': 'IMAGE_IMPORT_DESCRIPTOR', 'OriginalFirstThunk': {'FileOffset': 8724, 'Offset': 0, 'Value': 0}, 'Characteristics': {'FileOffset': 8724, 'Offset': 0, 'Value': 0}, 'TimeDateStamp': {'FileOffset': 8728, 'Offset': 4, 'Value': '0x0        [Thu Jan  1 00:00:00 1970 UTC]'}, 'ForwarderChain': {'FileOffset': 8732, 'Offset': 8, 'Value': 0}, 'Name': {'FileOffset': 8736, 'Offset': 12, 'Value': 32977}, 'FirstThunk': {'FileOffset': 8740, 'Offset': 16, 'Value': 32924}}, {'DLL': b'ADVAPI32.dll', 'Name': b'RegCloseKey', 'Hint': 0}], [{'Structure': 'IMAGE_IMPORT_DESCRIPTOR', 'OriginalFirstThunk': {'FileOffset': 8744, 'Offset': 0, 'Value': 0}, 'Characteristics': {'FileOffset': 8744, 'Offset': 0, 'Value': 0}, 'TimeDateStamp': {'FileOffset': 8748, 'Offset': 4, 'Value': '0x0        [Thu Jan  1 00:00:00 1970 UTC]'}, 'ForwarderChain': {'FileOffset': 8752, 'Offset': 8, 'Value': 0}, 'Name': {'FileOffset': 8756, 'Offset': 12, 'Value': 32990}, 'FirstThunk': {'FileOffset': 8760, 'Offset': 16, 'Value': 32932}}, {'DLL': b'MSVCRT.dll', 'Name': b'rand', 'Hint': 0}], [{'Structure': 'IMAGE_IMPORT_DESCRIPTOR', 'OriginalFirstThunk': {'FileOffset': 8764, 'Offset': 0, 'Value': 0}, 'Characteristics': {'FileOffset': 8764, 'Offset': 0, 'Value': 0}, 'TimeDateStamp': {'FileOffset': 8768, 'Offset': 4, 'Value': '0x0        [Thu Jan  1 00:00:00 1970 UTC]'}, 'ForwarderChain': {'FileOffset': 8772, 'Offset': 8, 'Value': 0}, 'Name': {'FileOffset': 8776, 'Offset': 12, 'Value': 33001}, 'FirstThunk': {'FileOffset': 8780, 'Offset': 16, 'Value': 32940}}, {'DLL': b'USER32.dll', 'Name': b'wsprintfA', 'Hint': 0}], [{'Structure': 'IMAGE_IMPORT_DESCRIPTOR', 'OriginalFirstThunk': {'FileOffset': 8784, 'Offset': 0, 'Value': 0}, 'Characteristics': {'FileOffset': 8784, 'Offset': 0, 'Value': 0}, 'TimeDateStamp': {'FileOffset': 8788, 'Offset': 4, 'Value': '0x0        [Thu Jan  1 00:00:00 1970 UTC]'}, 'ForwarderChain': {'FileOffset': 8792, 'Offset': 8, 'Value': 0}, 'Name': {'FileOffset': 8796, 'Offset': 12, 'Value': 33012}, 'FirstThunk': {'FileOffset': 8800, 'Offset': 16, 'Value': 32948}}, {'DLL': b'WININET.dll', 'Name': b'InternetOpenA', 'Hint': 0}], [{'Structure': 'IMAGE_IMPORT_DESCRIPTOR', 'OriginalFirstThunk': {'FileOffset': 8804, 'Offset': 0, 'Value': 0}, 'Characteristics': {'FileOffset': 8804, 'Offset': 0, 'Value': 0}, 'TimeDateStamp': {'FileOffset': 8808, 'Offset': 4, 'Value': '0x0        [Thu Jan  1 00:00:00 1970 UTC]'}, 'ForwarderChain': {'FileOffset': 8812, 'Offset': 8, 'Value': 0}, 'Name': {'FileOffset': 8816, 'Offset': 12, 'Value': 33024}, 'FirstThunk': {'FileOffset': 8820, 'Offset': 16, 'Value': 32956}}, {'DLL': b'WS2_32.dll', 'Ordinal': 3}]]\n"
          ],
          "name": "stdout"
        }
      ]
    },
    {
      "cell_type": "code",
      "metadata": {
        "id": "YHJ3cP6LRqZF",
        "colab_type": "code",
        "colab": {}
      },
      "source": [
        "import numpy as np"
      ],
      "execution_count": 0,
      "outputs": []
    },
    {
      "cell_type": "code",
      "metadata": {
        "id": "io6TcQdLy9Na",
        "colab_type": "code",
        "colab": {
          "base_uri": "https://localhost:8080/",
          "height": 34
        },
        "outputId": "5251a670-3b43-4a61-c38e-ce8dae12fc1e"
      },
      "source": [
        "unique, counts = np.unique(dataCopy['DOS_HEADER_e_res_value'].values, return_counts=True)\n",
        "dict(zip(unique, counts))"
      ],
      "execution_count": 60,
      "outputs": [
        {
          "output_type": "execute_result",
          "data": {
            "text/plain": [
              "{0: 11, 1: 29}"
            ]
          },
          "metadata": {
            "tags": []
          },
          "execution_count": 60
        }
      ]
    },
    {
      "cell_type": "code",
      "metadata": {
        "id": "BuUqbvOvR2AQ",
        "colab_type": "code",
        "colab": {}
      },
      "source": [
        "dataCopy.loc[ dataCopy['DOS_HEADER_e_res_value'] == '\\\\x00\\\\x00\\\\x00\\\\x00    ', 'DOS_HEADER_e_res_value'] = 0\n",
        "dataCopy.loc[ dataCopy['DOS_HEADER_e_res_value'] == '\\\\x00\\\\x00\\\\x00\\\\x00\\\\x00\\\\x00\\\\x00\\\\x00', 'DOS_HEADER_e_res_value'] = 1"
      ],
      "execution_count": 0,
      "outputs": []
    },
    {
      "cell_type": "code",
      "metadata": {
        "id": "ltRzu56cfEKd",
        "colab_type": "code",
        "colab": {
          "base_uri": "https://localhost:8080/",
          "height": 476
        },
        "outputId": "fbbd975f-d21f-41c6-a379-3970a4b03a82"
      },
      "source": [
        "unique, counts = np.unique(dataCopy['PE Sections_MD5'].values, return_counts=True)\n",
        "dict(zip(unique, counts))"
      ],
      "execution_count": 61,
      "outputs": [
        {
          "output_type": "execute_result",
          "data": {
            "text/plain": [
              "{'0cbe1138f7029205753aa3bff6338515': 3,\n",
              " '1002909457f91f0349f4ec9f5dd989c7': 1,\n",
              " '1139f90a792caa1154e9908f13fe19ef': 10,\n",
              " '13d12caf285029cb25938fcc30b51744': 1,\n",
              " '1adb4782b5bda7addee81013bfff2898': 1,\n",
              " '1f059252260cd5fc05072c612a3cf3bf': 1,\n",
              " '2307afa9416b6a13c30e83e6c8fff966': 1,\n",
              " '3267f156fc7d22a965a7681d750d7b43': 1,\n",
              " '349c84c4ce44750ad4f93d357cd26a39': 1,\n",
              " '3b2d05e4f69cf7df3394f7f6d7dd4290': 1,\n",
              " '585ef864b2e83306723304c4eeef13be': 1,\n",
              " '6159e7df69f931932e6d5dc53c57b900': 1,\n",
              " '6912c4d710930a80d4af1b3dfb44b41c': 1,\n",
              " '75608158522a2e45d239e172a8df32be': 1,\n",
              " '80fc3af5166211a28acb96f023d3a658': 1,\n",
              " '8f0c66d3aef72a24c5ed855a948456b3': 2,\n",
              " '8f38d125c423d4fbbf8a06ab56374934': 1,\n",
              " 'a403df8a18eef2d076ca6aa73ce88462': 1,\n",
              " 'a89fbda49a6310ba01124f48dffaad13': 1,\n",
              " 'b00207e4f8915f12d3deff8477c38ed9': 1,\n",
              " 'b42906f649f83be261a7a70d0632ee3b': 2,\n",
              " 'ba6b6cee3fed2240d2906751b0f0d8b1': 1,\n",
              " 'c6c8b5d1cf0d1754a4de0e73846329d2': 1,\n",
              " 'efb963971b97d5db8497994d640ab89d': 1,\n",
              " 'f3fb06a0979dcb7b97dfa7d506d08d6e': 1,\n",
              " 'f7abb48fe7e8b65140bb76d28799d08f': 1,\n",
              " 'fbf68d6332c1291baa1be58c6c5b6c6b': 1}"
            ]
          },
          "metadata": {
            "tags": []
          },
          "execution_count": 61
        }
      ]
    },
    {
      "cell_type": "code",
      "metadata": {
        "id": "hQLacRDzTQL7",
        "colab_type": "code",
        "colab": {}
      },
      "source": [
        "dataCopy.loc[ dataCopy['PE Sections_MD5'] == '1139f90a792caa1154e9908f13fe19ef', 'PE Sections_MD5'] = 0\n",
        "dataCopy.loc[ dataCopy['PE Sections_MD5'] != 0, 'PE Sections_MD5'] = 1"
      ],
      "execution_count": 0,
      "outputs": []
    },
    {
      "cell_type": "code",
      "metadata": {
        "id": "RzLWnHR2ajdg",
        "colab_type": "code",
        "colab": {
          "base_uri": "https://localhost:8080/",
          "height": 476
        },
        "outputId": "d19448c8-6c44-4b53-cf22-bdda4f8ef052"
      },
      "source": [
        "unique, counts = np.unique(dataCopy['PE Sections_SHA1'].values, return_counts=True)\n",
        "dict(zip(unique, counts))"
      ],
      "execution_count": 63,
      "outputs": [
        {
          "output_type": "execute_result",
          "data": {
            "text/plain": [
              "{'177097c5592ab09e572a61e30545890cebbda28b': 2,\n",
              " '1bbb85416726f49eeeabeb5c59d94cf90c9ffec9': 1,\n",
              " '2a1f6addb19fca56bdc86982e4486634ebd4f65c': 1,\n",
              " '2dcb21c24c53cfa3e8be9c58bd1a0782305771bc': 1,\n",
              " '3c6851d96e509f7f3230e6110b2fe65a4ebe6f01': 1,\n",
              " '489cc43a360fb8c17b5d40d69110c7de286f3ec0': 2,\n",
              " '494983fe50ae27c98f7edfda300e73833e2f9fc6': 10,\n",
              " '4b72ced452bc947d6e1c68908faea80d001961ec': 1,\n",
              " '56e45d838b110b97973933e8c1418d4e74d4e8ec': 1,\n",
              " '5c577223274927706435b1174e05ed855e80e277': 1,\n",
              " '7774ab9d11bcaa47cbd186f013ad1a93f08b0052': 1,\n",
              " '8249ca52e672f0bfba4b0f142ecb907738425d0f': 1,\n",
              " '8a59e3557c53e85ca84395b33857f70b0c493e3e': 1,\n",
              " '8baaf5eafe8fa8201d5a53f512acab7b9c69138b': 1,\n",
              " '9605681b9624324ff108f3a888aa4543053b225b': 1,\n",
              " '9969b2747c788555efe3eb4cc06b4669edc0c9ee': 1,\n",
              " 'a7c7b8abd3e9d304dd9d8d5be36b8ab265c733be': 3,\n",
              " 'afb2ba859461c9b43c96371bbdcdc438a257fb64': 1,\n",
              " 'be287adc99762effb785245c6c7f1121f9c3b3f1': 1,\n",
              " 'c171041ff6f035ad3ea91e381c05ce4f44f00a5b': 1,\n",
              " 'c1e01a563840f89923bf4100875a4caf6b6b0ad1': 1,\n",
              " 'caff48e1f86f195ddf0613b0de5f1f787595b82b': 1,\n",
              " 'daf11fe68c952ba2f3ba2ef80d5179895e02cf6a': 1,\n",
              " 'e3cdaec3848fadba602acc6f804c16ce18f1eac6': 1,\n",
              " 'e70f7fc699766c24b9d5ada960cfc35b2238c512': 1,\n",
              " 'fa2d9dafd5738a99101d39bceb2fbb9ae97cf27a': 1,\n",
              " 'fb46dab7cd5122c9944acd254d2e823859f8b7ae': 1}"
            ]
          },
          "metadata": {
            "tags": []
          },
          "execution_count": 63
        }
      ]
    },
    {
      "cell_type": "code",
      "metadata": {
        "id": "l_jwJb7gbfAL",
        "colab_type": "code",
        "colab": {}
      },
      "source": [
        "dataCopy.loc[ dataCopy['PE Sections_SHA1'] == '494983fe50ae27c98f7edfda300e73833e2f9fc6', 'PE Sections_SHA1'] = 0\n",
        "dataCopy.loc[ dataCopy['PE Sections_SHA1'] != 0, 'PE Sections_SHA1'] = 1"
      ],
      "execution_count": 0,
      "outputs": []
    },
    {
      "cell_type": "code",
      "metadata": {
        "id": "3ofht3tIas1t",
        "colab_type": "code",
        "colab": {
          "base_uri": "https://localhost:8080/",
          "height": 476
        },
        "outputId": "5de911c7-eeef-443e-bba4-9e4fc6038ad9"
      },
      "source": [
        "unique, counts = np.unique(dataCopy['PE Sections_SHA256'].values, return_counts=True)\n",
        "dict(zip(unique, counts))"
      ],
      "execution_count": 65,
      "outputs": [
        {
          "output_type": "execute_result",
          "data": {
            "text/plain": [
              "{'062cfbc8b7ce140090e0972742df5ee2e53e3aa242c85ad1b53ea0495dcbdb8f': 1,\n",
              " '11cc4ef542611be3e1c051a176ca35f09398982d176dc6336ba4f8c0605c3675': 1,\n",
              " '132782397e571aa500143cd152e28c7b4927ac23545f5cfc15f2b864fd7850c0': 10,\n",
              " '1ee00d178fb97686387b38985d6eeb979286c67255db827dca4b4bc229b2eb0c': 2,\n",
              " '1ff43a328e10c3c7f20bacf810206bfa38924033f481d07fa6d4b94e347fb542': 1,\n",
              " '21b7f4faff61518e3bf5f98bee6f7e6b121a999ed0ab8aa34fcf437afc6c2420': 1,\n",
              " '2e99db9b5362fcb427ce9a80504aa2cd2b9cf2488b00a7acb091bf4cabba8c69': 1,\n",
              " '38c61fc3d40bf68ad863a88a61d488ab192bbea0403b0c28b7fd3a178e551fe2': 1,\n",
              " '4063c9b8395dfa28458ff5a0f044f6b03fcefee4c54c6720d1f1c8bd1bd58ac9': 1,\n",
              " '4a74e4651b4002538f02cc1867a2c239009604ec1021a48060dd06ee49c6e0ef': 1,\n",
              " '5579150c6481faed5627cdf33168261f3aba4ee2009830d5e5221b04d92453c8': 1,\n",
              " '632165f3e51367ce33e1a9024784cb8d4a246eba83e5b7f7ed336f8dc27a5f29': 1,\n",
              " '639e97c3abad0f662ee4daa9ab1e7579bf17f255f2263deb7f8aac96132ffef9': 2,\n",
              " '654c68494384ecd3fbd59808033a2180274075156e85cdfa164667a936b97615': 1,\n",
              " '766d636e02e8eb00141b1855d3be3d7d5882f1f958243e3778053ae5f2137989': 1,\n",
              " '77d496161fae6463c1c413bca653401353ead25d5e2c8f7ed0d859dd120ac608': 1,\n",
              " '862e57b2a851238f69a98ae753cabcfbee5d0c280d65f3e32ce12d6d6ce5123e': 1,\n",
              " '8744f702132fb9a3cbad8b0fb2e77b1ded9d235fc56442f2dccc9af394455dc0': 1,\n",
              " '8e0b40736d46339d6b4e59a82464930bad6a9e6b4018af227bd263f54db1033d': 1,\n",
              " 'a3f3e15a48597af009099e709408a6b84065ca6616a9a22552672dd8e02d8f65': 1,\n",
              " 'abeb0a70f4354829721249587bf8860e9300dea3002e29750c6a44b389f5c6e0': 1,\n",
              " 'b5d100b99964bb47a909306991571d3bb95663ebf5946aacfe1263368ce5dfc3': 3,\n",
              " 'b5d7d63edd173b8c0fcf37514656b44ae657a02f8531d7ac514ad0d60e01b91d': 1,\n",
              " 'c4e05340d89f9b77c3254d7ef657b7519516e7975085e438a56f365ab188f86f': 1,\n",
              " 'e6ff6bf0b6acecaaf6239cd082f58efc13f5f2c02cda4005e39086d568d6ba9e': 1,\n",
              " 'ecd7e6d1059baeeb2b5f20fbb35879b19702884af95dfc2fa4456e261ee269f6': 1,\n",
              " 'f0c2740f7ec1e89a00b94cc0cdb633c5a0acc6d82f66f717ea13e84d4118492e': 1}"
            ]
          },
          "metadata": {
            "tags": []
          },
          "execution_count": 65
        }
      ]
    },
    {
      "cell_type": "code",
      "metadata": {
        "id": "HD185wP1bpDm",
        "colab_type": "code",
        "colab": {}
      },
      "source": [
        "dataCopy.loc[ dataCopy['PE Sections_SHA256'] == '132782397e571aa500143cd152e28c7b4927ac23545f5cfc15f2b864fd7850c0', 'PE Sections_SHA256'] = 0\n",
        "dataCopy.loc[ dataCopy['PE Sections_SHA256'] != 0, 'PE Sections_SHA256'] = 1"
      ],
      "execution_count": 0,
      "outputs": []
    },
    {
      "cell_type": "code",
      "metadata": {
        "id": "svT84f7da2Ad",
        "colab_type": "code",
        "colab": {
          "base_uri": "https://localhost:8080/",
          "height": 476
        },
        "outputId": "23382229-4f42-41b4-e372-3b00059618d9"
      },
      "source": [
        "unique, counts = np.unique(dataCopy['PE Sections_SHA512'].values, return_counts=True)\n",
        "dict(zip(unique, counts))"
      ],
      "execution_count": 67,
      "outputs": [
        {
          "output_type": "execute_result",
          "data": {
            "text/plain": [
              "{'0cf051a2e0f1b521dcccf3f76788811c152ee1e388033e636659fecab12f897f1c925a6045f467320331ea7031ec15d121229a025c01f293b4f621ac6e2b158b': 2,\n",
              " '28c524834ee6b1de70067ba4664768834174694107646df40bd9283b5fbd742e127908d4434bd9a80886030f687efad19fd4963165b3b04b47e265cbdbfa3b3a': 10,\n",
              " '2cda25375339737a588da469641f2d41e22a38d1262640f140fe46c897f4ee6ddaa78b51c294f89b189758277262b99183bb66ffd534e8c167f294bd84ec27b4': 1,\n",
              " '37e71dc94a226adc7048f1ce1f5199f6496e142b7db238ed6836ca2ebbc1198485198c6f9cad82ed7bd6af65e7877c93969fe4a1309452b2797ff11bea29e685': 1,\n",
              " '580a1bdbdfeae6b150a996566579191d8cb74854dfc611cb00b973be54e0d8f9c584bc99d1fcd77542cc494e83f858268859ce3f74f08ff764122f80c8b23743': 1,\n",
              " '603e5a2c4854ccc60cb019d16347ca78e68440ca1cf6d4990582849fee1c8914d67b3ff245545fc878d00991c42b5932099d49bd0a60dd4542c78bc28a2a430f': 1,\n",
              " '607905fa58e2232d90243de5523f1fd3f612f33e748c5acd975492c27524325d804ff7a1caf30b4a9469fa80c6971df0980d9846757b784a5c27ad3738fdb5c7': 1,\n",
              " '62c936552db42bbcc74dddecec3f22c6029c440f334c60f6b79258980df5100227bfcb90f77e8383d88610dd6dae40acc17f6ec8b0c86195625a1971ac2509a4': 1,\n",
              " '66fcdfc42f701b8dc3be89f106f1e9bd53e1df3acfc61eb4ffbb306e00e5da1e088b2253788f1a3cd5e3c7f37b5c3f87177789990511cda95750f82665721081': 1,\n",
              " '6af5bad56aa3c48c22ba107121cbdf9df94f8b05ef35bc23df8b06360d62ad61d50d448daf01c0099f38bc899ffe710f93ffaa504a9dc91caa37f318872ce492': 3,\n",
              " '7852997847a415b5ba82fa715e273709679095147f388e5db445bcd626878ca978b6772ed8f239e5b3e8b5b9c57e9a174d65060ab59e205c9416db7f4fa0fae6': 1,\n",
              " '7e62fefe3c7d057fa2219e2e9aaadb5c2e455a05e9e1c9fb8aebfb6bb0d422265ac84bf4451c55529f7f4f9108bac0443938c02089debfacf57297cadf2679a7': 1,\n",
              " '7f0354a4ca76fe9c26fe4506a1383d41251bbf35a41f82ef2c0c8c03a7786bf7a2655e87b5ddb6757c2f312b1eb54ace866c8417f878e6054c0d8c8bef31e83b': 1,\n",
              " '834ce6d455afb21ca0ecc77c14b93b4cf9c11c517a8453b394e171e01e2fed7855d2a6144ac791c179b4c080ad7200459d1eda2c7596b91c551cc6ba07333c57': 1,\n",
              " '98dfa9e94076cd411f8a426b10865d6999cbd18ff764eb43363e5ea0d68d9f89ffc62f935f989fac3505754e349f218f613e124aa1a5aa760a5ee6e7fc03ae87': 2,\n",
              " 'a127a11ede6f9010052b54f63596f4523e063b773048e1625a042450944bd971e1c1bf7dc5ef6d09c294ebfdf31cf7c4ec76f807848566935c564a86b80a8085': 1,\n",
              " 'c332283f0a7fc25424cb5a79deb10850c2d56043f7f3b66d30bf448f7e71b1ff7c5393ed7c135ff1a454e2954aeabf076fbe2a8b81db1e02889286d720375873': 1,\n",
              " 'c3ddb728e8c76c2fc479fee180a5c9e72977491b9a6379d0d4faefdbb92cb11e4e66249de4a0e3b21ff100ccbcb5e643ecc0fd642cb2cf522707470cfb02f233': 1,\n",
              " 'd9714711da3bcdfdfde2ac1e4d4ad56172ac73f87919632dac29b4620735562157bff5ee89ae43a11df159ef0ebbfeeb45d7a60db1984e09c1761255279bcee9': 1,\n",
              " 'da23e6e8a5eec603df61842058e851212e77aea94cea56ca726eaf837279a14116879c134b58cb43ca1d67591d131654be431d51588c50c53c35d3ebfbb5a9f8': 1,\n",
              " 'db95e207be9fc8c17e95a6e77c8fdd580987cc2443b54b17d64255a45cebd15e5c30940589d70da4d5d700105bcf1b9541adb67e811d60da2212994e27ae8817': 1,\n",
              " 'e03a4e3682ff7b620b0647c53b398e67e6928e9c97a172d5f08c954f308a4d9ddc1b66ad72760d60c3ec1000284fa0715d610a64947b59d65fb463da85b0345e': 1,\n",
              " 'e84d15964eafb2b3c45258f6de1b8e73d22298a47455d6c9b8f0732538b0ddfdfc415bd67c6e4e3eb691e7bca5b622bce82fa6ae7967d210184a2dddd74ed1b6': 1,\n",
              " 'e85d2f9d2300f777caea8c584df0c48a2342ae57b2c91526408663a4a4b40e7b07ecaaec4bda4c37ec60ffd4cfc985e3713b3a241dd1e2c0395d4dbd3f107661': 1,\n",
              " 'e868202708a992fc57ec263ce0600caac33b964ec03d34d1ad2330ea54d7adb34dd7bf1e2918ce66807f9879b9bd849a137bf5a17b324201007548b171badfa0': 1,\n",
              " 'f0a259b6d4cd11ca38908dd7b4ecbe9a6d5b9e7333a41fc9d57c312b8c9c8adf903b628ecd81abb6eed946ffd3819d7f87e7748325381a9d1440778c8f80d78f': 1,\n",
              " 'f3aff24ccc7e3da3df23cc86858f69c35af05992c04f2ba362bac779dbd659d6f1f9feea7270d80fc5a9e0e202614c780c91bc52bfd175db6618e439aca05d64': 1}"
            ]
          },
          "metadata": {
            "tags": []
          },
          "execution_count": 67
        }
      ]
    },
    {
      "cell_type": "code",
      "metadata": {
        "id": "wgYNlZ9ba7KG",
        "colab_type": "code",
        "colab": {}
      },
      "source": [
        "dataCopy.loc[ dataCopy['PE Sections_SHA512'] == '28c524834ee6b1de70067ba4664768834174694107646df40bd9283b5fbd742e127908d4434bd9a80886030f687efad19fd4963165b3b04b47e265cbdbfa3b3a', 'PE Sections_SHA512'] = 0\n",
        "dataCopy.loc[ dataCopy['PE Sections_SHA512'] != 0, 'PE Sections_SHA512'] = 1"
      ],
      "execution_count": 0,
      "outputs": []
    },
    {
      "cell_type": "code",
      "metadata": {
        "id": "uE15KdE6g7m6",
        "colab_type": "code",
        "colab": {
          "base_uri": "https://localhost:8080/",
          "height": 802
        },
        "outputId": "74556d23-fc56-4fdd-dff8-431540cdbfed"
      },
      "source": [
        "df_corr = dataCopy.corr()\n",
        "plt.figure(figsize=(15,8))\n",
        "sns.heatmap(df_corr, center=0, annot=True)\n",
        "plt.xticks(fontsize=13)\n",
        "plt.yticks(fontsize=13)\n",
        "plt.title('Variables correlation', fontsize=18)\n",
        "plt.show()"
      ],
      "execution_count": 69,
      "outputs": [
        {
          "output_type": "display_data",
          "data": {
            "image/png": "[encoded data removed]",
            "text/plain": [
              "<Figure size 1080x576 with 2 Axes>"
            ]
          },
          "metadata": {
            "tags": [],
            "needs_background": "light"
          }
        }
      ]
    },
    {
      "cell_type": "code",
      "metadata": {
        "id": "lmgCusQ_iz5Z",
        "colab_type": "code",
        "colab": {
          "base_uri": "https://localhost:8080/",
          "height": 516
        },
        "outputId": "cbd2760c-4e71-4bc0-c3bb-c0532e21aa82"
      },
      "source": [
        "from mpl_toolkits.mplot3d import Axes3D\n",
        "\n",
        "\n",
        "fig = plt.figure(figsize=(20,8))\n",
        "ax = fig.add_subplot(1, 2, 1, projection='3d')\n",
        "ax.scatter(dataCopy.loc[:,'PE Sections_SizeOfRawData'], dataCopy.loc[:,'OPTIONAL_HEADER_SizeOfImage_value'], dataCopy.loc[:,'PE Sections_Misc'], s=70,c='coral')\n",
        "ax.set_title(\"Features in 3D\")\n",
        "ax.set_xlabel('OPTIONAL_HEADER_SizeOfImage_value')\n",
        "ax.set_ylabel('OPTIONAL_HEADER_SizeOfImage_value')\n",
        "ax.set_zlabel('PE Sections_Misc')\n",
        "\n",
        "\n",
        "\n",
        "ax = fig.add_subplot(1, 2, 2)\n",
        "ax.scatter(dataCopy.loc[:,'PE Sections_SizeOfRawData'], dataCopy.loc[:,'OPTIONAL_HEADER_SizeOfImage_value'], s=70,c='coral')\n",
        "ax.set_title(\"Features in 2D\")\n",
        "\n"
      ],
      "execution_count": 70,
      "outputs": [
        {
          "output_type": "execute_result",
          "data": {
            "text/plain": [
              "Text(0.5, 1.0, 'Features in 2D')"
            ]
          },
          "metadata": {
            "tags": []
          },
          "execution_count": 70
        },
        {
          "output_type": "display_data",
          "data": {
            "image/png": "[encoded data removed]",
            "text/plain": [
              "<Figure size 1440x576 with 2 Axes>"
            ]
          },
          "metadata": {
            "tags": [],
            "needs_background": "light"
          }
        }
      ]
    },
    {
      "cell_type": "code",
      "metadata": {
        "id": "ARcE9q2qldeE",
        "colab_type": "code",
        "colab": {}
      },
      "source": [
        "from sklearn.cluster import DBSCAN\n",
        "from sklearn import metrics\n",
        "from sklearn.cluster import AgglomerativeClustering\n",
        "import matplotlib.pyplot as plt"
      ],
      "execution_count": 0,
      "outputs": []
    },
    {
      "cell_type": "code",
      "metadata": {
        "id": "DnwMqeYYqYRT",
        "colab_type": "code",
        "colab": {}
      },
      "source": [
        "# clustering = DBSCAN(eps=4, min_samples=2).fit(dataCopy)\n",
        "# labels = clustering.labels_\n",
        "# print(labels)\n",
        "# print('Estimated number of clusters: %d' % n_clusters_)"
      ],
      "execution_count": 0,
      "outputs": []
    },
    {
      "cell_type": "code",
      "metadata": {
        "id": "oeb3ggDXt3tF",
        "colab_type": "code",
        "colab": {
          "base_uri": "https://localhost:8080/",
          "height": 398
        },
        "outputId": "60a2675a-2418-4ec6-ba11-0e07db591239"
      },
      "source": [
        "clustering = AgglomerativeClustering(linkage='ward', n_clusters=4)\n",
        "\n",
        "res = clustering.fit(dataCopy.values)\n",
        "\n",
        "print (\"各個簇的樣本數目：\")\n",
        "print (pd.Series(clustering.labels_).value_counts())\n",
        "\n",
        "\n",
        "plt.figure()\n",
        "d0 = dataCopy[clustering.labels_ == 0]\n",
        "plt.plot(d0.loc[:,'PE Sections_SizeOfRawData'], d0.loc[:,'OPTIONAL_HEADER_SizeOfImage_value'], 'r.')\n",
        "d1 = dataCopy[clustering.labels_ == 1]\n",
        "plt.plot(d1.loc[:, 'PE Sections_SizeOfRawData'], d1.loc[:, 'OPTIONAL_HEADER_SizeOfImage_value'], 'go')\n",
        "d2 = dataCopy[clustering.labels_ == 2]\n",
        "plt.plot(d2.loc[:, 'PE Sections_SizeOfRawData'], d2.loc[:, 'OPTIONAL_HEADER_SizeOfImage_value'], 'b*')\n",
        "d3 = dataCopy[clustering.labels_ == 3]\n",
        "plt.plot(d3.loc[:, 'PE Sections_SizeOfRawData'], d3.loc[:, 'OPTIONAL_HEADER_SizeOfImage_value'], '+')\n",
        "\n",
        "\n",
        "plt.xlabel(\"PE Sections_SizeOfRawData\")\n",
        "plt.ylabel(\"OPTIONAL_HEADER_SizeOfImage_value\")\n",
        "plt.title(\"AGNES Clustering\")\n",
        "plt.show()"
      ],
      "execution_count": 73,
      "outputs": [
        {
          "output_type": "stream",
          "text": [
            "各個簇的樣本數目：\n",
            "0    12\n",
            "3    10\n",
            "2     9\n",
            "1     9\n",
            "dtype: int64\n"
          ],
          "name": "stdout"
        },
        {
          "output_type": "display_data",
          "data": {
            "image/png": "[encoded data removed]",
            "text/plain": [
              "<Figure size 432x288 with 1 Axes>"
            ]
          },
          "metadata": {
            "tags": [],
            "needs_background": "light"
          }
        }
      ]
    },
    {
      "cell_type": "code",
      "metadata": {
        "id": "1Bm0sd6i0N5x",
        "colab_type": "code",
        "colab": {
          "base_uri": "https://localhost:8080/",
          "height": 296
        },
        "outputId": "677c4e73-f32b-427b-e153-46331ada82a6"
      },
      "source": [
        "import matplotlib.pyplot as plt  \n",
        "import numpy as np  \n",
        "from sklearn.cluster import KMeans\n",
        "from sklearn import datasets \n",
        "\n",
        "\n",
        "\n",
        "\n",
        "\n",
        "estimator = KMeans(n_clusters=4)  # 構造聚類器\n",
        "estimator.fit(dataCopy.values)  # 聚類\n",
        "label_pred = estimator.labels_  # 獲取聚類標籤\n",
        "# 繪製k-means結果\n",
        "x0 = dataCopy[label_pred == 0]\n",
        "x1 = dataCopy[label_pred == 1]\n",
        "x2 = dataCopy[label_pred == 2]\n",
        "x3 = dataCopy[label_pred == 3]\n",
        "plt.scatter(x0.loc[:, 'PE Sections_SizeOfRawData'], x0.loc[:, 'OPTIONAL_HEADER_SizeOfImage_value'], c=\"red\", marker='o', label='label0')  \n",
        "plt.scatter(x1.loc[:, 'PE Sections_SizeOfRawData'], x1.loc[:, 'OPTIONAL_HEADER_SizeOfImage_value'], c=\"green\", marker='*', label='label1')  \n",
        "plt.scatter(x2.loc[:, 'PE Sections_SizeOfRawData'], x2.loc[:, 'OPTIONAL_HEADER_SizeOfImage_value'], c=\"blue\", marker='+', label='label2')  \n",
        "plt.scatter(x3.loc[:, 'PE Sections_SizeOfRawData'], x3.loc[:, 'OPTIONAL_HEADER_SizeOfImage_value'], c=\"brown\", marker='^', label='label3')  \n",
        "\n",
        "plt.xlabel(\"PE Sections_SizeOfRawData\")\n",
        "plt.ylabel(\"OPTIONAL_HEADER_SizeOfImage_value\")\n",
        "plt.legend(loc=2)  \n",
        "plt.title(\"k-means Clustering\")\n",
        "plt.show()  "
      ],
      "execution_count": 74,
      "outputs": [
        {
          "output_type": "display_data",
          "data": {
            "image/png": "[encoded data removed]",
            "text/plain": [
              "<Figure size 432x288 with 1 Axes>"
            ]
          },
          "metadata": {
            "tags": [],
            "needs_background": "light"
          }
        }
      ]
    }
  ]
}